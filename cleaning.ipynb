{
 "cells": [
  {
   "cell_type": "markdown",
   "metadata": {},
   "source": [
    "# Data Collection and Formatting"
   ]
  },
  {
   "cell_type": "code",
   "execution_count": 41,
   "metadata": {},
   "outputs": [],
   "source": [
    "import pandas as pd\n",
    "import tarfile\n",
    "from bs4 import BeautifulSoup\n",
    "import requests\n",
    "import re\n",
    "import matplotlib.pyplot as plt\n",
    "import seaborn as sns\n",
    "\n",
    "%run -i \"functions/unzip.py\"\n",
    "%run -i \"functions/scrape_platforms.py\"\n",
    "%run -i \"functions/scrape_SotU.py\"\n",
    "%run -i \"functions/create_ts.py\""
   ]
  },
  {
   "cell_type": "markdown",
   "metadata": {},
   "source": [
    "# Text Data\n",
    "### Political Platforms"
   ]
  },
  {
   "cell_type": "code",
   "execution_count": null,
   "metadata": {},
   "outputs": [],
   "source": [
    "years = ['1972', '1976', '1980', '1984', '1988', '1992', '1996', \n",
    "         '2000', '2008', '2012', '2016']\n",
    "platforms = scrape_platforms(years)\n",
    "platforms.head()"
   ]
  },
  {
   "cell_type": "markdown",
   "metadata": {},
   "source": [
    "### State of the Union Addresses"
   ]
  },
  {
   "cell_type": "code",
   "execution_count": null,
   "metadata": {
    "scrolled": true
   },
   "outputs": [],
   "source": [
    "speeches = scrape_SotU()"
   ]
  },
  {
   "cell_type": "markdown",
   "metadata": {},
   "source": [
    "### Debates"
   ]
  },
  {
   "cell_type": "code",
   "execution_count": null,
   "metadata": {},
   "outputs": [],
   "source": [
    "url = 'https://www.presidency.ucsb.edu/documents/presidential-debate-the-university-nevada-las-vegas'\n",
    "response = requests.get(url)\n",
    "soup = BeautifulSoup(response.text, 'lxml')\n",
    "debate = soup.find_all('p')\n",
    "for deb in debate:\n",
    "    print(deb.text)"
   ]
  },
  {
   "cell_type": "markdown",
   "metadata": {},
   "source": [
    "# Survey Data\n",
    "### Convert Data to Dataframes\n",
    "###### Weights\n",
    "Based on the sample weights provided by the General Social Survey, it appears that some samples were significantly over and underrepresented. In order to account for this weights will be applied to this analysis. In order to maintain a reasonable size of the data rather than achieving the right proportions by using the complete weights, I will use the rounded values to the nearest tenth.  "
   ]
  },
  {
   "cell_type": "code",
   "execution_count": 2,
   "metadata": {},
   "outputs": [],
   "source": [
    "weights = unzip('Weights')"
   ]
  },
  {
   "cell_type": "code",
   "execution_count": 3,
   "metadata": {},
   "outputs": [
    {
     "data": {
      "text/html": [
       "<div>\n",
       "<style scoped>\n",
       "    .dataframe tbody tr th:only-of-type {\n",
       "        vertical-align: middle;\n",
       "    }\n",
       "\n",
       "    .dataframe tbody tr th {\n",
       "        vertical-align: top;\n",
       "    }\n",
       "\n",
       "    .dataframe thead th {\n",
       "        text-align: right;\n",
       "    }\n",
       "</style>\n",
       "<table border=\"1\" class=\"dataframe\">\n",
       "  <thead>\n",
       "    <tr style=\"text-align: right;\">\n",
       "      <th></th>\n",
       "      <th>year</th>\n",
       "      <th>id</th>\n",
       "      <th>Weight variable</th>\n",
       "    </tr>\n",
       "  </thead>\n",
       "  <tbody>\n",
       "    <tr>\n",
       "      <td>0</td>\n",
       "      <td>1972</td>\n",
       "      <td>0</td>\n",
       "      <td>0.4446</td>\n",
       "    </tr>\n",
       "    <tr>\n",
       "      <td>1</td>\n",
       "      <td>1972</td>\n",
       "      <td>1</td>\n",
       "      <td>0.8893</td>\n",
       "    </tr>\n",
       "    <tr>\n",
       "      <td>2</td>\n",
       "      <td>1972</td>\n",
       "      <td>2</td>\n",
       "      <td>0.8893</td>\n",
       "    </tr>\n",
       "    <tr>\n",
       "      <td>3</td>\n",
       "      <td>1972</td>\n",
       "      <td>3</td>\n",
       "      <td>0.8893</td>\n",
       "    </tr>\n",
       "    <tr>\n",
       "      <td>4</td>\n",
       "      <td>1972</td>\n",
       "      <td>4</td>\n",
       "      <td>0.8893</td>\n",
       "    </tr>\n",
       "  </tbody>\n",
       "</table>\n",
       "</div>"
      ],
      "text/plain": [
       "   year  id  Weight variable\n",
       "0  1972   0           0.4446\n",
       "1  1972   1           0.8893\n",
       "2  1972   2           0.8893\n",
       "3  1972   3           0.8893\n",
       "4  1972   4           0.8893"
      ]
     },
     "execution_count": 3,
     "metadata": {},
     "output_type": "execute_result"
    }
   ],
   "source": [
    "weights.head()"
   ]
  },
  {
   "cell_type": "code",
   "execution_count": 4,
   "metadata": {
    "scrolled": false
   },
   "outputs": [
    {
     "data": {
      "text/plain": [
       "count    64814.000000\n",
       "mean         1.000015\n",
       "std          0.468172\n",
       "min          0.391825\n",
       "25%          0.550100\n",
       "50%          0.970900\n",
       "75%          1.098500\n",
       "max          8.739876\n",
       "Name: Weight variable, dtype: float64"
      ]
     },
     "execution_count": 4,
     "metadata": {},
     "output_type": "execute_result"
    }
   ],
   "source": [
    "weights['Weight variable'].describe()"
   ]
  },
  {
   "cell_type": "code",
   "execution_count": 5,
   "metadata": {},
   "outputs": [],
   "source": [
    "def weight(df):\n",
    "    return df.loc[df.index.repeat(round(weights['Weight variable']*10, 0))].reset_index()"
   ]
  },
  {
   "cell_type": "markdown",
   "metadata": {},
   "source": [
    "###### Voter Identity"
   ]
  },
  {
   "cell_type": "code",
   "execution_count": 23,
   "metadata": {},
   "outputs": [],
   "source": [
    "party = unzip('Voter_Identity')\n",
    "party = party[['year', 'Political party affiliation']]\n",
    "party = weight(party)\n",
    "party.drop('index', axis = 1, inplace= True)"
   ]
  },
  {
   "cell_type": "code",
   "execution_count": 24,
   "metadata": {},
   "outputs": [
    {
     "data": {
      "text/html": [
       "<div>\n",
       "<style scoped>\n",
       "    .dataframe tbody tr th:only-of-type {\n",
       "        vertical-align: middle;\n",
       "    }\n",
       "\n",
       "    .dataframe tbody tr th {\n",
       "        vertical-align: top;\n",
       "    }\n",
       "\n",
       "    .dataframe thead th {\n",
       "        text-align: right;\n",
       "    }\n",
       "</style>\n",
       "<table border=\"1\" class=\"dataframe\">\n",
       "  <thead>\n",
       "    <tr style=\"text-align: right;\">\n",
       "      <th></th>\n",
       "      <th>year</th>\n",
       "      <th>Political party affiliation</th>\n",
       "    </tr>\n",
       "  </thead>\n",
       "  <tbody>\n",
       "    <tr>\n",
       "      <td>0</td>\n",
       "      <td>1972</td>\n",
       "      <td>Ind,near dem</td>\n",
       "    </tr>\n",
       "    <tr>\n",
       "      <td>1</td>\n",
       "      <td>1972</td>\n",
       "      <td>Ind,near dem</td>\n",
       "    </tr>\n",
       "    <tr>\n",
       "      <td>2</td>\n",
       "      <td>1972</td>\n",
       "      <td>Ind,near dem</td>\n",
       "    </tr>\n",
       "    <tr>\n",
       "      <td>3</td>\n",
       "      <td>1972</td>\n",
       "      <td>Ind,near dem</td>\n",
       "    </tr>\n",
       "    <tr>\n",
       "      <td>4</td>\n",
       "      <td>1972</td>\n",
       "      <td>Not str democrat</td>\n",
       "    </tr>\n",
       "  </tbody>\n",
       "</table>\n",
       "</div>"
      ],
      "text/plain": [
       "   year Political party affiliation\n",
       "0  1972                Ind,near dem\n",
       "1  1972                Ind,near dem\n",
       "2  1972                Ind,near dem\n",
       "3  1972                Ind,near dem\n",
       "4  1972            Not str democrat"
      ]
     },
     "execution_count": 24,
     "metadata": {},
     "output_type": "execute_result"
    }
   ],
   "source": [
    "party.head()"
   ]
  },
  {
   "cell_type": "code",
   "execution_count": 25,
   "metadata": {},
   "outputs": [],
   "source": [
    "party.rename(columns = {'Political party affiliation':'party'}, inplace=True)"
   ]
  },
  {
   "cell_type": "code",
   "execution_count": 26,
   "metadata": {},
   "outputs": [
    {
     "data": {
      "text/plain": [
       "Not str democrat      131833\n",
       "Not str republican    101264\n",
       "Independent           100052\n",
       "Strong democrat        99652\n",
       "Ind,near dem           76687\n",
       "Strong republican      63506\n",
       "Ind,near rep           58747\n",
       "Other party            10708\n",
       "No answer               4099\n",
       "Don't know               143\n",
       "Name: party, dtype: int64"
      ]
     },
     "execution_count": 26,
     "metadata": {},
     "output_type": "execute_result"
    }
   ],
   "source": [
    "party['party'].value_counts()"
   ]
  },
  {
   "cell_type": "code",
   "execution_count": 27,
   "metadata": {},
   "outputs": [],
   "source": [
    "party.loc[party['party']=='Not str democrat', 'party']= 'Democrat'\n",
    "party.loc[party['party']=='Not str republican', 'party']= 'Republican'\n",
    "party.loc[party['party']=='Strong democrat', 'party']= 'Strong Democrat'\n",
    "party.loc[party['party']=='Ind,near dem', 'party']= 'Lean Democrat'\n",
    "party.loc[party['party']=='Strong republican', 'party']= 'Strong Republican'\n",
    "party.loc[party['party']=='Ind,near rep', 'party']= 'Lean Republican'\n",
    "party.loc[party['party']=='Other party', 'party']= 'Other'"
   ]
  },
  {
   "cell_type": "code",
   "execution_count": 11,
   "metadata": {},
   "outputs": [],
   "source": [
    "party_dum = pd.get_dummies(party, prefix= '', prefix_sep= '')"
   ]
  },
  {
   "cell_type": "code",
   "execution_count": 12,
   "metadata": {
    "scrolled": false
   },
   "outputs": [],
   "source": [
    "grouped = party_dum.groupby('year').sum().reset_index()"
   ]
  },
  {
   "cell_type": "code",
   "execution_count": 13,
   "metadata": {},
   "outputs": [
    {
     "data": {
      "text/html": [
       "<div>\n",
       "<style scoped>\n",
       "    .dataframe tbody tr th:only-of-type {\n",
       "        vertical-align: middle;\n",
       "    }\n",
       "\n",
       "    .dataframe tbody tr th {\n",
       "        vertical-align: top;\n",
       "    }\n",
       "\n",
       "    .dataframe thead th {\n",
       "        text-align: right;\n",
       "    }\n",
       "</style>\n",
       "<table border=\"1\" class=\"dataframe\">\n",
       "  <thead>\n",
       "    <tr style=\"text-align: right;\">\n",
       "      <th></th>\n",
       "      <th>year</th>\n",
       "      <th>Democrat</th>\n",
       "      <th>Don't know</th>\n",
       "      <th>Independent</th>\n",
       "      <th>Lean Democrat</th>\n",
       "      <th>Lean Republican</th>\n",
       "      <th>No answer</th>\n",
       "      <th>Other</th>\n",
       "      <th>Republican</th>\n",
       "      <th>Strong Democrat</th>\n",
       "      <th>Strong Republican</th>\n",
       "    </tr>\n",
       "  </thead>\n",
       "  <tbody>\n",
       "    <tr>\n",
       "      <td>0</td>\n",
       "      <td>1972</td>\n",
       "      <td>4304.0</td>\n",
       "      <td>0.0</td>\n",
       "      <td>1623.0</td>\n",
       "      <td>1708.0</td>\n",
       "      <td>973.0</td>\n",
       "      <td>48.0</td>\n",
       "      <td>693.0</td>\n",
       "      <td>2250.0</td>\n",
       "      <td>3322.0</td>\n",
       "      <td>1151.0</td>\n",
       "    </tr>\n",
       "    <tr>\n",
       "      <td>1</td>\n",
       "      <td>1973</td>\n",
       "      <td>3787.0</td>\n",
       "      <td>0.0</td>\n",
       "      <td>1442.0</td>\n",
       "      <td>1888.0</td>\n",
       "      <td>1397.0</td>\n",
       "      <td>132.0</td>\n",
       "      <td>669.0</td>\n",
       "      <td>2206.0</td>\n",
       "      <td>2264.0</td>\n",
       "      <td>1236.0</td>\n",
       "    </tr>\n",
       "    <tr>\n",
       "      <td>2</td>\n",
       "      <td>1974</td>\n",
       "      <td>3708.0</td>\n",
       "      <td>130.0</td>\n",
       "      <td>1454.0</td>\n",
       "      <td>1992.0</td>\n",
       "      <td>1058.0</td>\n",
       "      <td>123.0</td>\n",
       "      <td>596.0</td>\n",
       "      <td>2114.0</td>\n",
       "      <td>2440.0</td>\n",
       "      <td>1013.0</td>\n",
       "    </tr>\n",
       "    <tr>\n",
       "      <td>3</td>\n",
       "      <td>1975</td>\n",
       "      <td>3494.0</td>\n",
       "      <td>0.0</td>\n",
       "      <td>1993.0</td>\n",
       "      <td>2049.0</td>\n",
       "      <td>1240.0</td>\n",
       "      <td>50.0</td>\n",
       "      <td>123.0</td>\n",
       "      <td>2339.0</td>\n",
       "      <td>2527.0</td>\n",
       "      <td>909.0</td>\n",
       "    </tr>\n",
       "    <tr>\n",
       "      <td>4</td>\n",
       "      <td>1976</td>\n",
       "      <td>4136.0</td>\n",
       "      <td>0.0</td>\n",
       "      <td>2494.0</td>\n",
       "      <td>2178.0</td>\n",
       "      <td>1081.0</td>\n",
       "      <td>35.0</td>\n",
       "      <td>30.0</td>\n",
       "      <td>2288.0</td>\n",
       "      <td>2224.0</td>\n",
       "      <td>885.0</td>\n",
       "    </tr>\n",
       "  </tbody>\n",
       "</table>\n",
       "</div>"
      ],
      "text/plain": [
       "   year  Democrat  Don't know  Independent  Lean Democrat  Lean Republican  \\\n",
       "0  1972    4304.0         0.0       1623.0         1708.0            973.0   \n",
       "1  1973    3787.0         0.0       1442.0         1888.0           1397.0   \n",
       "2  1974    3708.0       130.0       1454.0         1992.0           1058.0   \n",
       "3  1975    3494.0         0.0       1993.0         2049.0           1240.0   \n",
       "4  1976    4136.0         0.0       2494.0         2178.0           1081.0   \n",
       "\n",
       "   No answer  Other  Republican  Strong Democrat  Strong Republican  \n",
       "0       48.0  693.0      2250.0           3322.0             1151.0  \n",
       "1      132.0  669.0      2206.0           2264.0             1236.0  \n",
       "2      123.0  596.0      2114.0           2440.0             1013.0  \n",
       "3       50.0  123.0      2339.0           2527.0              909.0  \n",
       "4       35.0   30.0      2288.0           2224.0              885.0  "
      ]
     },
     "execution_count": 13,
     "metadata": {},
     "output_type": "execute_result"
    }
   ],
   "source": [
    "grouped.head()"
   ]
  },
  {
   "cell_type": "code",
   "execution_count": 14,
   "metadata": {
    "scrolled": true
   },
   "outputs": [
    {
     "ename": "KeyError",
     "evalue": "'total'",
     "output_type": "error",
     "traceback": [
      "\u001b[1;31m---------------------------------------------------------------------------\u001b[0m",
      "\u001b[1;31mKeyError\u001b[0m                                  Traceback (most recent call last)",
      "\u001b[1;32m~\\Anaconda3\\lib\\site-packages\\pandas\\core\\indexes\\base.py\u001b[0m in \u001b[0;36mget_loc\u001b[1;34m(self, key, method, tolerance)\u001b[0m\n\u001b[0;32m   2896\u001b[0m             \u001b[1;32mtry\u001b[0m\u001b[1;33m:\u001b[0m\u001b[1;33m\u001b[0m\u001b[1;33m\u001b[0m\u001b[0m\n\u001b[1;32m-> 2897\u001b[1;33m                 \u001b[1;32mreturn\u001b[0m \u001b[0mself\u001b[0m\u001b[1;33m.\u001b[0m\u001b[0m_engine\u001b[0m\u001b[1;33m.\u001b[0m\u001b[0mget_loc\u001b[0m\u001b[1;33m(\u001b[0m\u001b[0mkey\u001b[0m\u001b[1;33m)\u001b[0m\u001b[1;33m\u001b[0m\u001b[1;33m\u001b[0m\u001b[0m\n\u001b[0m\u001b[0;32m   2898\u001b[0m             \u001b[1;32mexcept\u001b[0m \u001b[0mKeyError\u001b[0m\u001b[1;33m:\u001b[0m\u001b[1;33m\u001b[0m\u001b[1;33m\u001b[0m\u001b[0m\n",
      "\u001b[1;32mpandas\\_libs\\index.pyx\u001b[0m in \u001b[0;36mpandas._libs.index.IndexEngine.get_loc\u001b[1;34m()\u001b[0m\n",
      "\u001b[1;32mpandas\\_libs\\index.pyx\u001b[0m in \u001b[0;36mpandas._libs.index.IndexEngine.get_loc\u001b[1;34m()\u001b[0m\n",
      "\u001b[1;32mpandas\\_libs\\hashtable_class_helper.pxi\u001b[0m in \u001b[0;36mpandas._libs.hashtable.PyObjectHashTable.get_item\u001b[1;34m()\u001b[0m\n",
      "\u001b[1;32mpandas\\_libs\\hashtable_class_helper.pxi\u001b[0m in \u001b[0;36mpandas._libs.hashtable.PyObjectHashTable.get_item\u001b[1;34m()\u001b[0m\n",
      "\u001b[1;31mKeyError\u001b[0m: 'total'",
      "\nDuring handling of the above exception, another exception occurred:\n",
      "\u001b[1;31mKeyError\u001b[0m                                  Traceback (most recent call last)",
      "\u001b[1;32m~\\Documents\\Faultlines\\functions\\create_ts.py\u001b[0m in \u001b[0;36m<module>\u001b[1;34m\u001b[0m\n\u001b[0;32m      4\u001b[0m \u001b[1;31m# grouped['total'] = 0\u001b[0m\u001b[1;33m\u001b[0m\u001b[1;33m\u001b[0m\u001b[1;33m\u001b[0m\u001b[0m\n\u001b[0;32m      5\u001b[0m \u001b[1;32mfor\u001b[0m \u001b[0mparty\u001b[0m \u001b[1;32min\u001b[0m \u001b[0mparties\u001b[0m\u001b[1;33m:\u001b[0m\u001b[1;33m\u001b[0m\u001b[1;33m\u001b[0m\u001b[0m\n\u001b[1;32m----> 6\u001b[1;33m     \u001b[0mgrouped\u001b[0m\u001b[1;33m[\u001b[0m\u001b[1;34m'total'\u001b[0m\u001b[1;33m]\u001b[0m \u001b[1;33m+=\u001b[0m \u001b[0mgrouped\u001b[0m\u001b[1;33m[\u001b[0m\u001b[0mparty\u001b[0m\u001b[1;33m]\u001b[0m\u001b[1;33m\u001b[0m\u001b[1;33m\u001b[0m\u001b[0m\n\u001b[0m\u001b[0;32m      7\u001b[0m \u001b[1;32mfor\u001b[0m \u001b[0mparty\u001b[0m \u001b[1;32min\u001b[0m \u001b[0mparties\u001b[0m\u001b[1;33m:\u001b[0m\u001b[1;33m\u001b[0m\u001b[1;33m\u001b[0m\u001b[0m\n\u001b[0;32m      8\u001b[0m     \u001b[0mgrouped\u001b[0m\u001b[1;33m[\u001b[0m\u001b[1;34m'percent '\u001b[0m\u001b[1;33m+\u001b[0m \u001b[0mparty\u001b[0m\u001b[1;33m]\u001b[0m\u001b[1;33m=\u001b[0m \u001b[0mgrouped\u001b[0m\u001b[1;33m[\u001b[0m\u001b[0mparty\u001b[0m\u001b[1;33m]\u001b[0m\u001b[1;33m/\u001b[0m\u001b[0mgrouped\u001b[0m\u001b[1;33m[\u001b[0m\u001b[1;34m'total'\u001b[0m\u001b[1;33m]\u001b[0m\u001b[1;33m\u001b[0m\u001b[1;33m\u001b[0m\u001b[0m\n",
      "\u001b[1;32m~\\Anaconda3\\lib\\site-packages\\pandas\\core\\frame.py\u001b[0m in \u001b[0;36m__getitem__\u001b[1;34m(self, key)\u001b[0m\n\u001b[0;32m   2978\u001b[0m             \u001b[1;32mif\u001b[0m \u001b[0mself\u001b[0m\u001b[1;33m.\u001b[0m\u001b[0mcolumns\u001b[0m\u001b[1;33m.\u001b[0m\u001b[0mnlevels\u001b[0m \u001b[1;33m>\u001b[0m \u001b[1;36m1\u001b[0m\u001b[1;33m:\u001b[0m\u001b[1;33m\u001b[0m\u001b[1;33m\u001b[0m\u001b[0m\n\u001b[0;32m   2979\u001b[0m                 \u001b[1;32mreturn\u001b[0m \u001b[0mself\u001b[0m\u001b[1;33m.\u001b[0m\u001b[0m_getitem_multilevel\u001b[0m\u001b[1;33m(\u001b[0m\u001b[0mkey\u001b[0m\u001b[1;33m)\u001b[0m\u001b[1;33m\u001b[0m\u001b[1;33m\u001b[0m\u001b[0m\n\u001b[1;32m-> 2980\u001b[1;33m             \u001b[0mindexer\u001b[0m \u001b[1;33m=\u001b[0m \u001b[0mself\u001b[0m\u001b[1;33m.\u001b[0m\u001b[0mcolumns\u001b[0m\u001b[1;33m.\u001b[0m\u001b[0mget_loc\u001b[0m\u001b[1;33m(\u001b[0m\u001b[0mkey\u001b[0m\u001b[1;33m)\u001b[0m\u001b[1;33m\u001b[0m\u001b[1;33m\u001b[0m\u001b[0m\n\u001b[0m\u001b[0;32m   2981\u001b[0m             \u001b[1;32mif\u001b[0m \u001b[0mis_integer\u001b[0m\u001b[1;33m(\u001b[0m\u001b[0mindexer\u001b[0m\u001b[1;33m)\u001b[0m\u001b[1;33m:\u001b[0m\u001b[1;33m\u001b[0m\u001b[1;33m\u001b[0m\u001b[0m\n\u001b[0;32m   2982\u001b[0m                 \u001b[0mindexer\u001b[0m \u001b[1;33m=\u001b[0m \u001b[1;33m[\u001b[0m\u001b[0mindexer\u001b[0m\u001b[1;33m]\u001b[0m\u001b[1;33m\u001b[0m\u001b[1;33m\u001b[0m\u001b[0m\n",
      "\u001b[1;32m~\\Anaconda3\\lib\\site-packages\\pandas\\core\\indexes\\base.py\u001b[0m in \u001b[0;36mget_loc\u001b[1;34m(self, key, method, tolerance)\u001b[0m\n\u001b[0;32m   2897\u001b[0m                 \u001b[1;32mreturn\u001b[0m \u001b[0mself\u001b[0m\u001b[1;33m.\u001b[0m\u001b[0m_engine\u001b[0m\u001b[1;33m.\u001b[0m\u001b[0mget_loc\u001b[0m\u001b[1;33m(\u001b[0m\u001b[0mkey\u001b[0m\u001b[1;33m)\u001b[0m\u001b[1;33m\u001b[0m\u001b[1;33m\u001b[0m\u001b[0m\n\u001b[0;32m   2898\u001b[0m             \u001b[1;32mexcept\u001b[0m \u001b[0mKeyError\u001b[0m\u001b[1;33m:\u001b[0m\u001b[1;33m\u001b[0m\u001b[1;33m\u001b[0m\u001b[0m\n\u001b[1;32m-> 2899\u001b[1;33m                 \u001b[1;32mreturn\u001b[0m \u001b[0mself\u001b[0m\u001b[1;33m.\u001b[0m\u001b[0m_engine\u001b[0m\u001b[1;33m.\u001b[0m\u001b[0mget_loc\u001b[0m\u001b[1;33m(\u001b[0m\u001b[0mself\u001b[0m\u001b[1;33m.\u001b[0m\u001b[0m_maybe_cast_indexer\u001b[0m\u001b[1;33m(\u001b[0m\u001b[0mkey\u001b[0m\u001b[1;33m)\u001b[0m\u001b[1;33m)\u001b[0m\u001b[1;33m\u001b[0m\u001b[1;33m\u001b[0m\u001b[0m\n\u001b[0m\u001b[0;32m   2900\u001b[0m         \u001b[0mindexer\u001b[0m \u001b[1;33m=\u001b[0m \u001b[0mself\u001b[0m\u001b[1;33m.\u001b[0m\u001b[0mget_indexer\u001b[0m\u001b[1;33m(\u001b[0m\u001b[1;33m[\u001b[0m\u001b[0mkey\u001b[0m\u001b[1;33m]\u001b[0m\u001b[1;33m,\u001b[0m \u001b[0mmethod\u001b[0m\u001b[1;33m=\u001b[0m\u001b[0mmethod\u001b[0m\u001b[1;33m,\u001b[0m \u001b[0mtolerance\u001b[0m\u001b[1;33m=\u001b[0m\u001b[0mtolerance\u001b[0m\u001b[1;33m)\u001b[0m\u001b[1;33m\u001b[0m\u001b[1;33m\u001b[0m\u001b[0m\n\u001b[0;32m   2901\u001b[0m         \u001b[1;32mif\u001b[0m \u001b[0mindexer\u001b[0m\u001b[1;33m.\u001b[0m\u001b[0mndim\u001b[0m \u001b[1;33m>\u001b[0m \u001b[1;36m1\u001b[0m \u001b[1;32mor\u001b[0m \u001b[0mindexer\u001b[0m\u001b[1;33m.\u001b[0m\u001b[0msize\u001b[0m \u001b[1;33m>\u001b[0m \u001b[1;36m1\u001b[0m\u001b[1;33m:\u001b[0m\u001b[1;33m\u001b[0m\u001b[1;33m\u001b[0m\u001b[0m\n",
      "\u001b[1;32mpandas\\_libs\\index.pyx\u001b[0m in \u001b[0;36mpandas._libs.index.IndexEngine.get_loc\u001b[1;34m()\u001b[0m\n",
      "\u001b[1;32mpandas\\_libs\\index.pyx\u001b[0m in \u001b[0;36mpandas._libs.index.IndexEngine.get_loc\u001b[1;34m()\u001b[0m\n",
      "\u001b[1;32mpandas\\_libs\\hashtable_class_helper.pxi\u001b[0m in \u001b[0;36mpandas._libs.hashtable.PyObjectHashTable.get_item\u001b[1;34m()\u001b[0m\n",
      "\u001b[1;32mpandas\\_libs\\hashtable_class_helper.pxi\u001b[0m in \u001b[0;36mpandas._libs.hashtable.PyObjectHashTable.get_item\u001b[1;34m()\u001b[0m\n",
      "\u001b[1;31mKeyError\u001b[0m: 'total'"
     ]
    }
   ],
   "source": [
    "parties = ['Democrat', 'Independent', 'Lean Democrat', \n",
    "           'Lean Republican', 'Other', 'Republican', \n",
    "           'Strong Democrat', 'Strong Republican']\n",
    "# grouped['total'] = 0\n",
    "for party in parties:\n",
    "    grouped['total'] += grouped[party] \n",
    "for party in parties:\n",
    "    grouped['percent '+ party]= grouped[party]/grouped['total']"
   ]
  },
  {
   "cell_type": "code",
   "execution_count": 28,
   "metadata": {
    "scrolled": true
   },
   "outputs": [
    {
     "data": {
      "text/html": [
       "<div>\n",
       "<style scoped>\n",
       "    .dataframe tbody tr th:only-of-type {\n",
       "        vertical-align: middle;\n",
       "    }\n",
       "\n",
       "    .dataframe tbody tr th {\n",
       "        vertical-align: top;\n",
       "    }\n",
       "\n",
       "    .dataframe thead th {\n",
       "        text-align: right;\n",
       "    }\n",
       "</style>\n",
       "<table border=\"1\" class=\"dataframe\">\n",
       "  <thead>\n",
       "    <tr style=\"text-align: right;\">\n",
       "      <th></th>\n",
       "      <th>year</th>\n",
       "      <th>party</th>\n",
       "    </tr>\n",
       "  </thead>\n",
       "  <tbody>\n",
       "    <tr>\n",
       "      <td>0</td>\n",
       "      <td>1972</td>\n",
       "      <td>Lean Democrat</td>\n",
       "    </tr>\n",
       "    <tr>\n",
       "      <td>1</td>\n",
       "      <td>1972</td>\n",
       "      <td>Lean Democrat</td>\n",
       "    </tr>\n",
       "    <tr>\n",
       "      <td>2</td>\n",
       "      <td>1972</td>\n",
       "      <td>Lean Democrat</td>\n",
       "    </tr>\n",
       "    <tr>\n",
       "      <td>3</td>\n",
       "      <td>1972</td>\n",
       "      <td>Lean Democrat</td>\n",
       "    </tr>\n",
       "    <tr>\n",
       "      <td>4</td>\n",
       "      <td>1972</td>\n",
       "      <td>Democrat</td>\n",
       "    </tr>\n",
       "  </tbody>\n",
       "</table>\n",
       "</div>"
      ],
      "text/plain": [
       "   year          party\n",
       "0  1972  Lean Democrat\n",
       "1  1972  Lean Democrat\n",
       "2  1972  Lean Democrat\n",
       "3  1972  Lean Democrat\n",
       "4  1972       Democrat"
      ]
     },
     "execution_count": 28,
     "metadata": {},
     "output_type": "execute_result"
    }
   ],
   "source": [
    "party.head()"
   ]
  },
  {
   "cell_type": "code",
   "execution_count": 38,
   "metadata": {},
   "outputs": [
    {
     "data": {
      "text/plain": [
       "['Lean Democrat',\n",
       " 'Democrat',\n",
       " 'Independent',\n",
       " 'Strong Democrat',\n",
       " 'Republican',\n",
       " 'Lean Republican',\n",
       " 'Strong Republican',\n",
       " 'Other',\n",
       " 'No answer',\n",
       " \"Don't know\"]"
      ]
     },
     "execution_count": 38,
     "metadata": {},
     "output_type": "execute_result"
    }
   ],
   "source": [
    "list(party['party'].unique())"
   ]
  },
  {
   "cell_type": "code",
   "execution_count": 42,
   "metadata": {
    "scrolled": true
   },
   "outputs": [
    {
     "data": {
      "text/html": [
       "<div>\n",
       "<style scoped>\n",
       "    .dataframe tbody tr th:only-of-type {\n",
       "        vertical-align: middle;\n",
       "    }\n",
       "\n",
       "    .dataframe tbody tr th {\n",
       "        vertical-align: top;\n",
       "    }\n",
       "\n",
       "    .dataframe thead th {\n",
       "        text-align: right;\n",
       "    }\n",
       "</style>\n",
       "<table border=\"1\" class=\"dataframe\">\n",
       "  <thead>\n",
       "    <tr style=\"text-align: right;\">\n",
       "      <th></th>\n",
       "      <th>Democrat</th>\n",
       "      <th>Independent</th>\n",
       "      <th>Lean Democrat</th>\n",
       "      <th>Lean Republican</th>\n",
       "      <th>Other</th>\n",
       "      <th>Republican</th>\n",
       "      <th>Strong Democrat</th>\n",
       "      <th>Strong Republican</th>\n",
       "    </tr>\n",
       "  </thead>\n",
       "  <tbody>\n",
       "    <tr>\n",
       "      <td>0</td>\n",
       "      <td>0.268597</td>\n",
       "      <td>0.101286</td>\n",
       "      <td>0.106590</td>\n",
       "      <td>0.060721</td>\n",
       "      <td>0.043248</td>\n",
       "      <td>0.140414</td>\n",
       "      <td>0.207314</td>\n",
       "      <td>0.071830</td>\n",
       "    </tr>\n",
       "    <tr>\n",
       "      <td>1</td>\n",
       "      <td>0.254349</td>\n",
       "      <td>0.096850</td>\n",
       "      <td>0.126805</td>\n",
       "      <td>0.093828</td>\n",
       "      <td>0.044933</td>\n",
       "      <td>0.148163</td>\n",
       "      <td>0.152059</td>\n",
       "      <td>0.083014</td>\n",
       "    </tr>\n",
       "    <tr>\n",
       "      <td>2</td>\n",
       "      <td>0.257948</td>\n",
       "      <td>0.101148</td>\n",
       "      <td>0.138574</td>\n",
       "      <td>0.073600</td>\n",
       "      <td>0.041461</td>\n",
       "      <td>0.147061</td>\n",
       "      <td>0.169739</td>\n",
       "      <td>0.070470</td>\n",
       "    </tr>\n",
       "    <tr>\n",
       "      <td>3</td>\n",
       "      <td>0.238108</td>\n",
       "      <td>0.135818</td>\n",
       "      <td>0.139635</td>\n",
       "      <td>0.084503</td>\n",
       "      <td>0.008382</td>\n",
       "      <td>0.159398</td>\n",
       "      <td>0.172209</td>\n",
       "      <td>0.061946</td>\n",
       "    </tr>\n",
       "    <tr>\n",
       "      <td>4</td>\n",
       "      <td>0.270044</td>\n",
       "      <td>0.162836</td>\n",
       "      <td>0.142204</td>\n",
       "      <td>0.070580</td>\n",
       "      <td>0.001959</td>\n",
       "      <td>0.149386</td>\n",
       "      <td>0.145208</td>\n",
       "      <td>0.057783</td>\n",
       "    </tr>\n",
       "  </tbody>\n",
       "</table>\n",
       "</div>"
      ],
      "text/plain": [
       "   Democrat  Independent  Lean Democrat  Lean Republican     Other  \\\n",
       "0  0.268597     0.101286       0.106590         0.060721  0.043248   \n",
       "1  0.254349     0.096850       0.126805         0.093828  0.044933   \n",
       "2  0.257948     0.101148       0.138574         0.073600  0.041461   \n",
       "3  0.238108     0.135818       0.139635         0.084503  0.008382   \n",
       "4  0.270044     0.162836       0.142204         0.070580  0.001959   \n",
       "\n",
       "   Republican  Strong Democrat  Strong Republican  \n",
       "0    0.140414         0.207314           0.071830  \n",
       "1    0.148163         0.152059           0.083014  \n",
       "2    0.147061         0.169739           0.070470  \n",
       "3    0.159398         0.172209           0.061946  \n",
       "4    0.149386         0.145208           0.057783  "
      ]
     },
     "execution_count": 42,
     "metadata": {},
     "output_type": "execute_result"
    }
   ],
   "source": [
    "percent_parties = create_ts(party, parties)\n",
    "percent_parties.head()"
   ]
  },
  {
   "cell_type": "code",
   "execution_count": null,
   "metadata": {},
   "outputs": [],
   "source": [
    "grouped.columns"
   ]
  },
  {
   "cell_type": "code",
   "execution_count": null,
   "metadata": {},
   "outputs": [],
   "source": [
    "sns.lineplot(x= 'year', y = 'percent Lean Democrat', data= grouped)\n",
    "sns.lineplot(x= 'year', y = 'percent Democrat', data= grouped)\n",
    "sns.lineplot(x= 'year', y = 'percent Strong Democrat', data= grouped)\n",
    "plt.legend();"
   ]
  },
  {
   "cell_type": "code",
   "execution_count": null,
   "metadata": {},
   "outputs": [],
   "source": [
    "sns.lineplot(x= 'year', y = 'percent Independent', data= grouped)\n",
    "sns.lineplot(x= 'year', y = 'percent Other', data= grouped);"
   ]
  },
  {
   "cell_type": "code",
   "execution_count": null,
   "metadata": {},
   "outputs": [],
   "source": [
    "sns.lineplot(x= 'year', y = 'percent Strong Republican', data= grouped)\n",
    "sns.lineplot(x= 'year', y = 'percent Republican', data= grouped)\n",
    "sns.lineplot(x= 'year', y = 'percent Lean Republican', data= grouped);"
   ]
  },
  {
   "cell_type": "markdown",
   "metadata": {},
   "source": [
    "###### Abortion Opinions\n",
    "To reduce dimensionality in the data, I will combine the reasons for abortion into three categories: health, economics, and right-to-choose. There will also be a category for abolishing legal abortion. "
   ]
  },
  {
   "cell_type": "code",
   "execution_count": null,
   "metadata": {},
   "outputs": [],
   "source": [
    "abortion = unzip('Abortion')\n",
    "abortion.info()"
   ]
  },
  {
   "cell_type": "code",
   "execution_count": null,
   "metadata": {
    "scrolled": true
   },
   "outputs": [],
   "source": [
    "abortion.loc[(abortion['Strong chance of serious defect'] == 'Yes')|\n",
    "             (abortion['Married--wants no more children'] == 'Yes')|\n",
    "             (abortion[\"Woman's health seriously endangered\"] == 'Yes')|\n",
    "             (abortion[\"Low income--cant afford more children\"] == 'Yes')|\n",
    "             (abortion[\"Pregnant as result of rape\"] == 'Yes')|\n",
    "             (abortion['Not married']=='Yes'), 'abortion'] = 'conditional'\n",
    "\n",
    "abortion.loc[(abortion['Strong chance of serious defect'] == 'Yes')&\n",
    "             (abortion['Married--wants no more children'] == 'Yes')&\n",
    "             (abortion[\"Woman's health seriously endangered\"] == 'Yes')&\n",
    "             (abortion[\"Low income--cant afford more children\"] == 'Yes')&\n",
    "             (abortion[\"Pregnant as result of rape\"] == 'Yes')&\n",
    "             (abortion['Not married']=='Yes'), 'abortion'] = 'unrestricted'\n",
    "\n",
    "abortion.loc[abortion['Abortion if woman wants for any reason']== 'Yes', 'abortion']= 'unrestricted'\n",
    "abortion['abortion'].fillna('never', inplace = True)\n",
    "abortion.head()"
   ]
  },
  {
   "cell_type": "code",
   "execution_count": null,
   "metadata": {},
   "outputs": [],
   "source": [
    "abortion = abortion[['id', 'abortion']]"
   ]
  },
  {
   "cell_type": "code",
   "execution_count": null,
   "metadata": {},
   "outputs": [],
   "source": [
    "abortion = weight(abortion)"
   ]
  },
  {
   "cell_type": "code",
   "execution_count": null,
   "metadata": {},
   "outputs": [],
   "source": [
    "data = abortion.join(party, how= 'left')"
   ]
  },
  {
   "cell_type": "code",
   "execution_count": null,
   "metadata": {},
   "outputs": [],
   "source": [
    "data = pd.get_dummies(data)"
   ]
  },
  {
   "cell_type": "code",
   "execution_count": null,
   "metadata": {},
   "outputs": [],
   "source": [
    "data.head()"
   ]
  },
  {
   "cell_type": "code",
   "execution_count": null,
   "metadata": {},
   "outputs": [],
   "source": []
  },
  {
   "cell_type": "markdown",
   "metadata": {},
   "source": [
    "###### Family/ SES Background"
   ]
  },
  {
   "cell_type": "code",
   "execution_count": null,
   "metadata": {},
   "outputs": [],
   "source": [
    "background = unzip('Background')"
   ]
  },
  {
   "cell_type": "code",
   "execution_count": null,
   "metadata": {},
   "outputs": [],
   "source": [
    "background.columns"
   ]
  },
  {
   "cell_type": "code",
   "execution_count": null,
   "metadata": {},
   "outputs": [],
   "source": [
    "for col in background.columns:\n",
    "    print(background[col].value_counts())\n",
    "    print('\\n')"
   ]
  },
  {
   "cell_type": "code",
   "execution_count": null,
   "metadata": {},
   "outputs": [],
   "source": [
    "background.rename(columns = {\"Father's occupational prestige score using threshold method (2010)\": 'father_prestige',\n",
    "                             \"Mother's occupational prestige score using threshold method (2010)\": 'mother_prestige',\n",
    "                             'Religion in which raised': 'raised_relig', \n",
    "                             'How many grandparents born outside u.s.': 'immigrant_gpar', \n",
    "                             'Were rs parents born in this country': 'immigrant_par', \n",
    "                             'Was r born in this country': 'immigrant'}, inplace=True)"
   ]
  },
  {
   "cell_type": "markdown",
   "metadata": {},
   "source": [
    "I will encode the immigration status of parents so that the number of grandparents and parents born outside of the country are counted. Parents born in the U.S will be coded as 0s. Because this data will likely not be used for modeling, I will keep not applicable values as they are. "
   ]
  },
  {
   "cell_type": "code",
   "execution_count": null,
   "metadata": {},
   "outputs": [],
   "source": [
    "background.loc[(background['raised_relig']=='Not applicable')|\n",
    "               (background['raised_relig']=='No answer')|\n",
    "               (background['raised_relig']==\"Don't know\"), 'raised_relig']= 'Other'\n",
    "background.loc[(background['immigrant_gpar']== 'All in u.s'), 'immigrant_gpar']= 0\n",
    "background.loc[(background['immigrant_par']=='Both in u.s')|\n",
    "               (background['immigrant_par']=='Mother; fa. dk')|\n",
    "               (background['immigrant_par']=='Father; mo.dk'), 'immigrant_par']= 0\n",
    "background.loc[(background['immigrant_par']=='Neither in u.s')|\n",
    "               (background['immigrant_par']=='Not mother;fa.dk')|\n",
    "               (background['immigrant_par']=='Not father;mo.dk'), 'immigrant_par']= 2\n",
    "background.loc[(background['immigrant_par']=='Mother only')|\n",
    "               (background['immigrant_par']=='Father only'), 'immigrant_par']= 1\n",
    "background.loc[(background['immigrant']=='Yes'), 'immigrant']= 'no'\n",
    "background.loc[(background['immigrant']=='No'), 'immigrant']= 'yes'\n",
    "background.loc[(background['immigrant']=='Not applicable')|\n",
    "               (background['immigrant']=='No answer')|\n",
    "               (background['immigrant']==\"Don't know\"), 'immigrant']= 'n/a'"
   ]
  },
  {
   "cell_type": "markdown",
   "metadata": {},
   "source": [
    "The 'Rs living standard compared to parents' is messy and highly incomplete, so I will drop it for this analysis. In addition, after consideration, parental education levels are more appropriately placed in the education table so they will also be dropped from this table.  "
   ]
  },
  {
   "cell_type": "code",
   "execution_count": null,
   "metadata": {},
   "outputs": [],
   "source": [
    "background.drop(['Rs living standard compared to parents', \n",
    "                 'Fathers highest degree', 'Mothers highest degree'], axis= 1, inplace= True)"
   ]
  },
  {
   "cell_type": "code",
   "execution_count": null,
   "metadata": {},
   "outputs": [],
   "source": [
    "background = weight(background)"
   ]
  },
  {
   "cell_type": "code",
   "execution_count": null,
   "metadata": {},
   "outputs": [],
   "source": [
    "background.to_csv('data/cleaned_and_weighted/background.csv')"
   ]
  },
  {
   "cell_type": "markdown",
   "metadata": {},
   "source": [
    "##### Criminal Justice Attitudes"
   ]
  },
  {
   "cell_type": "code",
   "execution_count": null,
   "metadata": {},
   "outputs": [],
   "source": [
    "crim_justice = unzip('Criminal_Justice')\n",
    "crim_justice.columns"
   ]
  },
  {
   "cell_type": "code",
   "execution_count": null,
   "metadata": {
    "scrolled": true
   },
   "outputs": [],
   "source": [
    "crim_justice[crim_justice['Ever approve of police striking citizen']=='Yes']['Citizen attacking policeman with fists'].value_counts()"
   ]
  },
  {
   "cell_type": "markdown",
   "metadata": {},
   "source": [
    "The police striking citizens columns lack information on how the police response is defined, and will likely be difficult to interpret given the nature of this analysis. Unfortunately I will have to drop them. "
   ]
  },
  {
   "cell_type": "code",
   "execution_count": null,
   "metadata": {
    "scrolled": true
   },
   "outputs": [],
   "source": [
    "crim_justice.drop(['Citizen attacking policeman with fists', \n",
    "                   'Citizen attempting to escape custody', \n",
    "                   'Citizen questioned as murder suspect', \n",
    "                   'Citizen said vulgar or obscene things', \n",
    "                   'Ever approve of police striking citizen'], axis = 1, inplace = True)"
   ]
  },
  {
   "cell_type": "code",
   "execution_count": null,
   "metadata": {},
   "outputs": [],
   "source": [
    "crim_justice.rename(columns = {'Should marijuana be made legal': 'legalize_marijuana',\n",
    "                             'Courts dealing with criminals': 'sentencing',\n",
    "                             'Favor or oppose death penalty for murder': 'death_penalty', \n",
    "                             'Afraid to walk at night in neighborhood': 'fear'}, inplace=True)"
   ]
  },
  {
   "cell_type": "code",
   "execution_count": null,
   "metadata": {},
   "outputs": [],
   "source": [
    "crim_justice = weight(crim_justice)"
   ]
  },
  {
   "cell_type": "code",
   "execution_count": null,
   "metadata": {},
   "outputs": [],
   "source": [
    "crim_justice.to_csv('data/cleaned_and_weighted/crim_justice.csv')"
   ]
  },
  {
   "cell_type": "markdown",
   "metadata": {},
   "source": [
    "##### Education"
   ]
  },
  {
   "cell_type": "code",
   "execution_count": null,
   "metadata": {},
   "outputs": [],
   "source": [
    "education = unzip('Education')\n",
    "education.columns"
   ]
  },
  {
   "cell_type": "code",
   "execution_count": null,
   "metadata": {},
   "outputs": [],
   "source": [
    "for col in education.columns:\n",
    "    print(education[col].value_counts())\n",
    "    print('\\n')"
   ]
  },
  {
   "cell_type": "markdown",
   "metadata": {},
   "source": [
    "With so many not applicable entries for the field of degree, it is more appropriate to remove them from the analysis. "
   ]
  },
  {
   "cell_type": "code",
   "execution_count": null,
   "metadata": {},
   "outputs": [],
   "source": [
    "education.drop(['The field of degree r earned'], axis=1, inplace=True)"
   ]
  },
  {
   "cell_type": "code",
   "execution_count": null,
   "metadata": {},
   "outputs": [],
   "source": [
    "education.rename(columns = {'Highest year of school completed':'school_years',\n",
    "                            'Highest year school completed, father':'school_years_dad', \n",
    "                            'Highest year school completed, mother':'school_years_mom',\n",
    "                            'Rs highest degree':'degree',\n",
    "                            'Fathers highest degree':'degree_dad',\n",
    "                            'Mothers highest degree': 'degree_mom'}, inplace=True)"
   ]
  },
  {
   "cell_type": "markdown",
   "metadata": {},
   "source": [
    "Encode nan information as a placeholder so that it can be easily removed later in the analysis. "
   ]
  },
  {
   "cell_type": "code",
   "execution_count": null,
   "metadata": {},
   "outputs": [],
   "source": [
    "education.loc[(education['school_years']=='No answer')|\n",
    "              (education['school_years']=='Not applicable')|\n",
    "              (education['school_years']== \"Don't know\"), 'school_years']= -9\n",
    "education.loc[(education['school_years_dad']=='No answer')|\n",
    "              (education['school_years_dad']=='Not applicable')|\n",
    "              (education['school_years_dad']== \"Don't know\"), 'school_years_dad']= -9\n",
    "education.loc[(education['school_years_mom']=='No answer')|\n",
    "              (education['school_years_mom']=='Not applicable')|\n",
    "              (education['school_years_mom']== \"Don't know\"), 'school_years_mom']= -9"
   ]
  },
  {
   "cell_type": "code",
   "execution_count": null,
   "metadata": {},
   "outputs": [],
   "source": [
    "education.head()"
   ]
  },
  {
   "cell_type": "code",
   "execution_count": null,
   "metadata": {},
   "outputs": [],
   "source": [
    "education = pd.get_dummies(data= education, columns=['degree', 'degree_dad', 'degree_mom'])"
   ]
  },
  {
   "cell_type": "code",
   "execution_count": null,
   "metadata": {},
   "outputs": [],
   "source": [
    "education = weight(education)"
   ]
  },
  {
   "cell_type": "code",
   "execution_count": null,
   "metadata": {},
   "outputs": [],
   "source": [
    "education.to_csv('data/cleaned_and_weighted/education.csv')"
   ]
  },
  {
   "cell_type": "markdown",
   "metadata": {},
   "source": [
    "##### Employment"
   ]
  },
  {
   "cell_type": "code",
   "execution_count": null,
   "metadata": {
    "scrolled": true
   },
   "outputs": [],
   "source": [
    "employment = unzip('Employment')\n",
    "employment.columns"
   ]
  },
  {
   "cell_type": "code",
   "execution_count": null,
   "metadata": {},
   "outputs": [],
   "source": [
    "for col in employment.columns:\n",
    "    print(employment[col].value_counts())\n",
    "    print('\\n')"
   ]
  },
  {
   "cell_type": "code",
   "execution_count": null,
   "metadata": {},
   "outputs": [],
   "source": [
    "employment.drop(['Is r likely to lose job', 'Could r find equally good job', \n",
    "                 'Job or housework', 'If rich, continue or stop working', \n",
    "                 'Workers need strong unions'], axis=1, inplace = True)"
   ]
  },
  {
   "cell_type": "code",
   "execution_count": null,
   "metadata": {
    "scrolled": true
   },
   "outputs": [],
   "source": [
    "employment.rename(columns= {'Does r or spouse belong to union': 'union',\n",
    "                            'Number of hours usually work a week': 'wrk_hrs',\n",
    "                            'Labor force status': 'job_status',\n",
    "                            'Rs occupational prestige score using threshold method (2010)': 'prestige'}, \n",
    "                  inplace = True)"
   ]
  },
  {
   "cell_type": "code",
   "execution_count": null,
   "metadata": {},
   "outputs": [],
   "source": [
    "employment.loc[(employment['union']=='Neither belongs', 'union')]= 'non-member'\n",
    "employment.loc[(employment['union']=='R belongs')|\n",
    "               (employment['union']=='Spouse belongs')|\n",
    "               (employment['union']=='R and spouse belong'), 'union']= 'member'"
   ]
  },
  {
   "cell_type": "code",
   "execution_count": null,
   "metadata": {
    "scrolled": true
   },
   "outputs": [],
   "source": [
    "employment.head()"
   ]
  },
  {
   "cell_type": "code",
   "execution_count": null,
   "metadata": {},
   "outputs": [],
   "source": [
    "employment = weight(employment)"
   ]
  },
  {
   "cell_type": "code",
   "execution_count": null,
   "metadata": {},
   "outputs": [],
   "source": [
    "employment.to_csv('data/cleaned_and_weighted/employment.csv')"
   ]
  },
  {
   "cell_type": "markdown",
   "metadata": {},
   "source": [
    "###### Family Values"
   ]
  },
  {
   "cell_type": "code",
   "execution_count": null,
   "metadata": {},
   "outputs": [],
   "source": [
    "fam_vals = unzip('Family_Values')\n",
    "fam_vals.columns"
   ]
  },
  {
   "cell_type": "code",
   "execution_count": null,
   "metadata": {},
   "outputs": [],
   "source": [
    "for col in fam_vals.columns:\n",
    "    print(fam_vals[col].value_counts())\n",
    "    print('\\n')"
   ]
  },
  {
   "cell_type": "code",
   "execution_count": null,
   "metadata": {},
   "outputs": [],
   "source": [
    "fam_vals.rename(columns= {'Better for man to work, woman tend home': 'trad_roles', \n",
    "                          'Preschool kids suffer if mother works': 'mom_wrk_kids_suffer', \n",
    "                          'Ideal number of children': 'bst_num_chld', \n",
    "                          'To help others': 'tch_to_help',\n",
    "                          'To work hard': 'tch_to_wrk', \n",
    "                          'To think for ones self': 'tch_ind', \n",
    "                          'To be well liked or popular': 'tch_pop',\n",
    "                          'To obey': 'tch_obey', \n",
    "                          'Number of children': 'num_chld',\n",
    "                          'Number of family generations in household': 'num_gen'}, inplace=True)"
   ]
  },
  {
   "cell_type": "code",
   "execution_count": null,
   "metadata": {},
   "outputs": [],
   "source": [
    "fam_vals.drop(['Rs kids living standard compared to r', 'Rs living standard compared to parents', \n",
    "               'Highest year school completed, mother', 'Highest year school completed, father', \n",
    "               'Number of brothers and sisters', 'Favor spanking to discipline child'], axis=1, inplace=True)"
   ]
  },
  {
   "cell_type": "code",
   "execution_count": null,
   "metadata": {},
   "outputs": [],
   "source": [
    "fam_vals.loc[fam_vals['num_gen']=='1 gen', 'num_gen']= 1\n",
    "fam_vals.loc[(fam_vals['num_gen']=='2 gens, children')|\n",
    "             (fam_vals['num_gen']=='2 gens, parents')|\n",
    "             (fam_vals['num_gen']=='2 gens, grandchldrn'), 'num_gen']= 2\n",
    "fam_vals.loc[(fam_vals['num_gen']=='3 gens, grandchldrn')|\n",
    "             (fam_vals['num_gen']=='3 gens, chld, par'), 'num_gen']= 3\n",
    "fam_vals.loc[fam_vals['num_gen']=='4 gens', 'num_gen']= 4"
   ]
  },
  {
   "cell_type": "code",
   "execution_count": null,
   "metadata": {},
   "outputs": [],
   "source": [
    "fam_vals.head()"
   ]
  },
  {
   "cell_type": "code",
   "execution_count": null,
   "metadata": {},
   "outputs": [],
   "source": [
    "fam_vals = weight(fam_vals)"
   ]
  },
  {
   "cell_type": "code",
   "execution_count": null,
   "metadata": {},
   "outputs": [],
   "source": [
    "fam_vals.to_csv('data/cleaned_and_weighted/fam_vals.csv')"
   ]
  },
  {
   "cell_type": "markdown",
   "metadata": {},
   "source": [
    "###### Gender and Sexuality"
   ]
  },
  {
   "cell_type": "code",
   "execution_count": null,
   "metadata": {},
   "outputs": [],
   "source": [
    "gender = unzip('Gender_and_Sexuality')\n",
    "gender.columns"
   ]
  },
  {
   "cell_type": "code",
   "execution_count": null,
   "metadata": {},
   "outputs": [],
   "source": [
    "for col in gender.columns:\n",
    "    print(gender[col].value_counts())\n",
    "    print('\\n')"
   ]
  },
  {
   "cell_type": "code",
   "execution_count": null,
   "metadata": {},
   "outputs": [],
   "source": [
    "gender.drop(['Should hire and promote women                            ', \n",
    "             'For or against preferential hiring of women      ', \n",
    "             'Better for man to work, woman tend home', 'Preschool kids suffer if mother works',\n",
    "             'Sex before marriage -- teens 14-16', 'Birth control to teenagers 14-16'], \n",
    "            axis = 1, inplace = True)"
   ]
  },
  {
   "cell_type": "code",
   "execution_count": null,
   "metadata": {},
   "outputs": [],
   "source": [
    "gender.rename(columns ={'Sex before marriage':'sex_before_marr',\n",
    "                        'Divorce laws': 'divorce', \n",
    "                        'Sex education in public schools':'sex_ed',\n",
    "                        'Women not suited for politics': 'no_women_pol',\n",
    "                        'Homosexuals should have the right to marry':'gay_marr'})"
   ]
  },
  {
   "cell_type": "code",
   "execution_count": null,
   "metadata": {},
   "outputs": [],
   "source": [
    "gender = weight(gender)\n",
    "gender.to_csv('data/cleaned_and_weighted/gender.csv')"
   ]
  },
  {
   "cell_type": "markdown",
   "metadata": {},
   "source": [
    "###### Identity"
   ]
  },
  {
   "cell_type": "code",
   "execution_count": null,
   "metadata": {},
   "outputs": [],
   "source": [
    "pers_id = unzip('Identity')\n",
    "pers_id.columns"
   ]
  },
  {
   "cell_type": "code",
   "execution_count": null,
   "metadata": {
    "scrolled": true
   },
   "outputs": [],
   "source": [
    "for col in pers_id.columns:\n",
    "    print(pers_id[col].value_counts())\n",
    "    print('\\n')"
   ]
  },
  {
   "cell_type": "code",
   "execution_count": null,
   "metadata": {},
   "outputs": [],
   "source": [
    "pers_id.rename(columns={'Age of respondent':'age', \n",
    "                      'Respondents sex':'sex', \n",
    "                      'Race of respondent':'race',\n",
    "                      'Region of interview':'region'}, inplace = True)"
   ]
  },
  {
   "cell_type": "code",
   "execution_count": null,
   "metadata": {},
   "outputs": [],
   "source": [
    "pers_id = weight(pers_id)"
   ]
  },
  {
   "cell_type": "code",
   "execution_count": null,
   "metadata": {},
   "outputs": [],
   "source": [
    "pers_id.to_csv('data/cleaned_and_weighted/pers_id.csv')"
   ]
  },
  {
   "cell_type": "markdown",
   "metadata": {},
   "source": [
    "###### Lifestyle"
   ]
  },
  {
   "cell_type": "code",
   "execution_count": null,
   "metadata": {
    "scrolled": true
   },
   "outputs": [],
   "source": [
    "lifestyle = unzip('Lifestyle')\n",
    "lifestyle.columns"
   ]
  },
  {
   "cell_type": "code",
   "execution_count": null,
   "metadata": {},
   "outputs": [],
   "source": [
    "for col in lifestyle.columns:\n",
    "    print(lifestyle[col].value_counts())\n",
    "    print('\\n')"
   ]
  },
  {
   "cell_type": "code",
   "execution_count": null,
   "metadata": {},
   "outputs": [],
   "source": [
    "lifestyle.rename(columns = {'Hours per day watching tv':'hrs_tv',\n",
    "                            'How often does r read newspaper':'paper',\n",
    "                            'Have gun in home':'gun',\n",
    "                            'Is life exciting or dull':'life',\n",
    "                            'General happiness':'happy',\n",
    "                            \"R's age when 1st child born\":'age_at_frst_chld',\n",
    "                            'Marital status':'married',\n",
    "                            'Does r own or rent home?':'rent_or_own'}, inplace = True)"
   ]
  },
  {
   "cell_type": "code",
   "execution_count": null,
   "metadata": {},
   "outputs": [],
   "source": [
    "lifestyle.drop(['Does r or spouse hunt', 'Spend evening at bar', \n",
    "                'Spend evening with friends', 'Spend evening with neighbor', \n",
    "                'Spend evening with relatives', 'Age of respondent', 'Number of children',\n",
    "                'Number of hours usually work a week'], axis=1, inplace=True)"
   ]
  },
  {
   "cell_type": "code",
   "execution_count": null,
   "metadata": {},
   "outputs": [],
   "source": [
    "lifestyle = weight(lifestyle)\n",
    "lifestyle.to_csv('data/cleaned_and_weighted/lifestyle.csv')"
   ]
  },
  {
   "cell_type": "markdown",
   "metadata": {},
   "source": [
    "###### Opinions"
   ]
  },
  {
   "cell_type": "code",
   "execution_count": null,
   "metadata": {
    "scrolled": true
   },
   "outputs": [],
   "source": [
    "opinions = unzip('Opinions')\n",
    "opinions.columns"
   ]
  },
  {
   "cell_type": "code",
   "execution_count": null,
   "metadata": {},
   "outputs": [],
   "source": [
    "for col in opinions.columns:\n",
    "    print(opinions[col].value_counts())\n",
    "    print('\\n')"
   ]
  },
  {
   "cell_type": "code",
   "execution_count": null,
   "metadata": {},
   "outputs": [],
   "source": [
    "opinions = weight(opinions)"
   ]
  },
  {
   "cell_type": "code",
   "execution_count": null,
   "metadata": {},
   "outputs": [],
   "source": [
    "opinions.to_csv('data/cleaned_and_weighted/opinions.csv')"
   ]
  },
  {
   "cell_type": "markdown",
   "metadata": {},
   "source": [
    "###### Race Relations"
   ]
  },
  {
   "cell_type": "code",
   "execution_count": null,
   "metadata": {},
   "outputs": [],
   "source": [
    "race = unzip('Race_Relations')\n",
    "race.columns"
   ]
  },
  {
   "cell_type": "code",
   "execution_count": null,
   "metadata": {},
   "outputs": [],
   "source": [
    "for col in race.columns:\n",
    "    print(race[col].value_counts())\n",
    "    print('\\n')"
   ]
  },
  {
   "cell_type": "markdown",
   "metadata": {},
   "source": [
    "Because of the ways in which these variables were coded, many of them are either redundant with other questions, or difficult to gain meaningful information from.  "
   ]
  },
  {
   "cell_type": "code",
   "execution_count": null,
   "metadata": {},
   "outputs": [],
   "source": [
    "race.drop(['Hard working - lazy', 'Hard working - lazy.1', \n",
    "           'Rich - poor', 'Rich - poor.1', 'Blacks overcome prejudice without favors ',\n",
    "           'Any opp. race in neighborhood', 'Favor law against racial intermarriage', \n",
    "           'Improving the conditions of blacks'], axis = 1, inplace = True)"
   ]
  },
  {
   "cell_type": "code",
   "execution_count": null,
   "metadata": {},
   "outputs": [],
   "source": [
    "race.loc[race['Should govt aid blacks?']=='Agree with both', 'Should govt aid blacks?']= 'no opinion'\n",
    "race.loc[race['Should govt aid blacks?']=='No special treatment', 'Should govt aid blacks?']= 'strongly oppose'\n",
    "race.loc[race['Should govt aid blacks?']== 4, 'Should govt aid blacks?']= 'oppose'\n",
    "race.loc[race['Should govt aid blacks?']=='Govt help blks', 'Should govt aid blacks?']= 'strongly favor'\n",
    "race.loc[race['Should govt aid blacks?']== 2, 'Should govt aid blacks?']= 'favor'\n",
    "race.loc[race['Should govt aid blacks?']==\"Don't know\", 'Should govt aid blacks?']= 'no opinion'\n",
    "race.loc[race['Should govt aid blacks?']==\"No answer\", 'Should govt aid blacks?']= 'no opinion'"
   ]
  },
  {
   "cell_type": "code",
   "execution_count": null,
   "metadata": {},
   "outputs": [],
   "source": [
    "race = weight(race)"
   ]
  },
  {
   "cell_type": "code",
   "execution_count": null,
   "metadata": {},
   "outputs": [],
   "source": [
    "race.to_csv('data/cleaned_and_weighted/race.csv')"
   ]
  },
  {
   "cell_type": "markdown",
   "metadata": {},
   "source": [
    "###### Religion"
   ]
  },
  {
   "cell_type": "code",
   "execution_count": null,
   "metadata": {},
   "outputs": [],
   "source": [
    "religion = unzip('Religion')\n",
    "religion.columns"
   ]
  },
  {
   "cell_type": "code",
   "execution_count": null,
   "metadata": {},
   "outputs": [],
   "source": [
    "for col in religion.columns:\n",
    "    print(religion[col].value_counts())\n",
    "    print('\\n')"
   ]
  },
  {
   "cell_type": "code",
   "execution_count": null,
   "metadata": {},
   "outputs": [],
   "source": [
    "religion.drop(['Bible prayer in public schools'], axis = 1, inplace = True)"
   ]
  },
  {
   "cell_type": "code",
   "execution_count": null,
   "metadata": {},
   "outputs": [],
   "source": [
    "religion = weight(religion)"
   ]
  },
  {
   "cell_type": "code",
   "execution_count": null,
   "metadata": {},
   "outputs": [],
   "source": [
    "religion.to_csv('data/cleaned_and_weighted/religion.csv')"
   ]
  },
  {
   "cell_type": "markdown",
   "metadata": {},
   "source": [
    "###### Socioeconomic Status"
   ]
  },
  {
   "cell_type": "code",
   "execution_count": null,
   "metadata": {
    "scrolled": true
   },
   "outputs": [],
   "source": [
    "ses = unzip('SES')\n",
    "ses.columns"
   ]
  },
  {
   "cell_type": "code",
   "execution_count": null,
   "metadata": {},
   "outputs": [],
   "source": [
    "for col in ses.columns:\n",
    "    print(ses[col].value_counts())\n",
    "    print('\\n')"
   ]
  },
  {
   "cell_type": "code",
   "execution_count": null,
   "metadata": {},
   "outputs": [],
   "source": [
    "ses.drop(['Rs income in constant $', 'Standard of living of r will improve', \n",
    "          'Rs kids living standard compared to r', 'Rs living standard compared to parents', \n",
    "          'Change in financial situation', 'Rs occupational prestige score using threshold method (2010)'], \n",
    "         axis = 1, inplace = True)"
   ]
  },
  {
   "cell_type": "code",
   "execution_count": null,
   "metadata": {},
   "outputs": [],
   "source": [
    "ses = weight(ses)"
   ]
  },
  {
   "cell_type": "code",
   "execution_count": null,
   "metadata": {},
   "outputs": [],
   "source": [
    "ses.to_csv('data/cleaned_and_weighted/ses.csv')"
   ]
  },
  {
   "cell_type": "markdown",
   "metadata": {},
   "source": [
    "###### Systems"
   ]
  },
  {
   "cell_type": "code",
   "execution_count": null,
   "metadata": {},
   "outputs": [],
   "source": [
    "systems = unzip('Systems')\n",
    "systems.columns"
   ]
  },
  {
   "cell_type": "code",
   "execution_count": null,
   "metadata": {},
   "outputs": [],
   "source": [
    "for col in systems.columns:\n",
    "    print(systems[col].value_counts())\n",
    "    print('\\n')"
   ]
  },
  {
   "cell_type": "code",
   "execution_count": null,
   "metadata": {},
   "outputs": [],
   "source": [
    "systems.drop(['Confidence in medicine'], axis = 1, inplace = True)"
   ]
  },
  {
   "cell_type": "code",
   "execution_count": null,
   "metadata": {},
   "outputs": [],
   "source": [
    "systems = weight(systems)\n",
    "systems.to_csv('data/cleaned_and_weighted/systems.csv')"
   ]
  },
  {
   "cell_type": "code",
   "execution_count": null,
   "metadata": {},
   "outputs": [],
   "source": []
  }
 ],
 "metadata": {
  "kernelspec": {
   "display_name": "learn-env",
   "language": "python",
   "name": "learn-env"
  },
  "language_info": {
   "codemirror_mode": {
    "name": "ipython",
    "version": 3
   },
   "file_extension": ".py",
   "mimetype": "text/x-python",
   "name": "python",
   "nbconvert_exporter": "python",
   "pygments_lexer": "ipython3",
   "version": "3.7.4"
  }
 },
 "nbformat": 4,
 "nbformat_minor": 2
}
