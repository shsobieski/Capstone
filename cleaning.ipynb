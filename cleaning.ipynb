{
 "cells": [
  {
   "cell_type": "markdown",
   "metadata": {},
   "source": [
    "# Data Collection and Formatting"
   ]
  },
  {
   "cell_type": "code",
   "execution_count": 1,
   "metadata": {},
   "outputs": [],
   "source": [
    "import pandas as pd\n",
    "import tarfile\n",
    "from bs4 import BeautifulSoup\n",
    "import requests\n",
    "import re\n",
    "import matplotlib.pyplot as plt\n",
    "import seaborn as sns\n",
    "\n",
    "%run -i \"functions/unzip.py\"\n",
    "%run -i \"functions/scrape_platforms.py\"\n",
    "%run -i \"functions/scrape_SotU.py\""
   ]
  },
  {
   "cell_type": "markdown",
   "metadata": {},
   "source": [
    "# Text Data\n",
    "### Political Platforms"
   ]
  },
  {
   "cell_type": "code",
   "execution_count": 2,
   "metadata": {},
   "outputs": [
    {
     "data": {
      "text/html": [
       "<div>\n",
       "<style scoped>\n",
       "    .dataframe tbody tr th:only-of-type {\n",
       "        vertical-align: middle;\n",
       "    }\n",
       "\n",
       "    .dataframe tbody tr th {\n",
       "        vertical-align: top;\n",
       "    }\n",
       "\n",
       "    .dataframe thead th {\n",
       "        text-align: right;\n",
       "    }\n",
       "</style>\n",
       "<table border=\"1\" class=\"dataframe\">\n",
       "  <thead>\n",
       "    <tr style=\"text-align: right;\">\n",
       "      <th></th>\n",
       "      <th>platform</th>\n",
       "      <th>party</th>\n",
       "      <th>year</th>\n",
       "    </tr>\n",
       "  </thead>\n",
       "  <tbody>\n",
       "    <tr>\n",
       "      <td>1972-Rep</td>\n",
       "      <td>\\nPreamble\\nThis year our Republican Party has...</td>\n",
       "      <td>Republican</td>\n",
       "      <td>1972</td>\n",
       "    </tr>\n",
       "    <tr>\n",
       "      <td>1972-Dem</td>\n",
       "      <td>\\nNew Directions: 1972-76\\nSkepticism and cyni...</td>\n",
       "      <td>Democratic</td>\n",
       "      <td>1972</td>\n",
       "    </tr>\n",
       "    <tr>\n",
       "      <td>1976-Rep</td>\n",
       "      <td>\\nAdopted by the Republican National Conventio...</td>\n",
       "      <td>Republican</td>\n",
       "      <td>1976</td>\n",
       "    </tr>\n",
       "    <tr>\n",
       "      <td>1976-Dem</td>\n",
       "      <td>\\nPreamble\\nWe meet to adopt a Democratic plat...</td>\n",
       "      <td>Democratic</td>\n",
       "      <td>1976</td>\n",
       "    </tr>\n",
       "    <tr>\n",
       "      <td>1980-Rep</td>\n",
       "      <td>\\nAdopted by the Republican National Conventio...</td>\n",
       "      <td>Republican</td>\n",
       "      <td>1980</td>\n",
       "    </tr>\n",
       "  </tbody>\n",
       "</table>\n",
       "</div>"
      ],
      "text/plain": [
       "                                                   platform       party  year\n",
       "1972-Rep  \\nPreamble\\nThis year our Republican Party has...  Republican  1972\n",
       "1972-Dem  \\nNew Directions: 1972-76\\nSkepticism and cyni...  Democratic  1972\n",
       "1976-Rep  \\nAdopted by the Republican National Conventio...  Republican  1976\n",
       "1976-Dem  \\nPreamble\\nWe meet to adopt a Democratic plat...  Democratic  1976\n",
       "1980-Rep  \\nAdopted by the Republican National Conventio...  Republican  1980"
      ]
     },
     "execution_count": 2,
     "metadata": {},
     "output_type": "execute_result"
    }
   ],
   "source": [
    "years = ['1972', '1976', '1980', '1984', '1988', '1992', '1996', \n",
    "         '2000', '2008', '2012', '2016']\n",
    "platforms = scrape_platforms(years)\n",
    "platforms.head()"
   ]
  },
  {
   "cell_type": "markdown",
   "metadata": {},
   "source": [
    "### State of the Union Addresses"
   ]
  },
  {
   "cell_type": "code",
   "execution_count": 3,
   "metadata": {
    "scrolled": true
   },
   "outputs": [],
   "source": [
    "speeches = scrape_SotU()"
   ]
  },
  {
   "cell_type": "markdown",
   "metadata": {},
   "source": [
    "### Debates"
   ]
  },
  {
   "cell_type": "code",
   "execution_count": null,
   "metadata": {},
   "outputs": [],
   "source": [
    "url = 'https://www.presidency.ucsb.edu/documents/presidential-debate-the-university-nevada-las-vegas'\n",
    "response = requests.get(url)\n",
    "soup = BeautifulSoup(response.text, 'lxml')\n",
    "debate = soup.find_all('p')\n",
    "for deb in debate:\n",
    "    print(deb.text)"
   ]
  },
  {
   "cell_type": "markdown",
   "metadata": {},
   "source": [
    "# Survey Data\n",
    "### Convert Data to Dataframes\n",
    "###### Weights\n",
    "Based on the sample weights provided by the General Social Survey, it appears that some samples were significantly over and underrepresented. In order to account for this weights will be applied to this analysis. "
   ]
  },
  {
   "cell_type": "code",
   "execution_count": 4,
   "metadata": {},
   "outputs": [],
   "source": [
    "weights = unzip('Weights')"
   ]
  },
  {
   "cell_type": "code",
   "execution_count": 5,
   "metadata": {},
   "outputs": [
    {
     "data": {
      "text/html": [
       "<div>\n",
       "<style scoped>\n",
       "    .dataframe tbody tr th:only-of-type {\n",
       "        vertical-align: middle;\n",
       "    }\n",
       "\n",
       "    .dataframe tbody tr th {\n",
       "        vertical-align: top;\n",
       "    }\n",
       "\n",
       "    .dataframe thead th {\n",
       "        text-align: right;\n",
       "    }\n",
       "</style>\n",
       "<table border=\"1\" class=\"dataframe\">\n",
       "  <thead>\n",
       "    <tr style=\"text-align: right;\">\n",
       "      <th></th>\n",
       "      <th>year</th>\n",
       "      <th>id</th>\n",
       "      <th>Weight variable</th>\n",
       "    </tr>\n",
       "  </thead>\n",
       "  <tbody>\n",
       "    <tr>\n",
       "      <td>0</td>\n",
       "      <td>1972</td>\n",
       "      <td>0</td>\n",
       "      <td>0.4446</td>\n",
       "    </tr>\n",
       "    <tr>\n",
       "      <td>1</td>\n",
       "      <td>1972</td>\n",
       "      <td>1</td>\n",
       "      <td>0.8893</td>\n",
       "    </tr>\n",
       "    <tr>\n",
       "      <td>2</td>\n",
       "      <td>1972</td>\n",
       "      <td>2</td>\n",
       "      <td>0.8893</td>\n",
       "    </tr>\n",
       "    <tr>\n",
       "      <td>3</td>\n",
       "      <td>1972</td>\n",
       "      <td>3</td>\n",
       "      <td>0.8893</td>\n",
       "    </tr>\n",
       "    <tr>\n",
       "      <td>4</td>\n",
       "      <td>1972</td>\n",
       "      <td>4</td>\n",
       "      <td>0.8893</td>\n",
       "    </tr>\n",
       "  </tbody>\n",
       "</table>\n",
       "</div>"
      ],
      "text/plain": [
       "   year  id  Weight variable\n",
       "0  1972   0           0.4446\n",
       "1  1972   1           0.8893\n",
       "2  1972   2           0.8893\n",
       "3  1972   3           0.8893\n",
       "4  1972   4           0.8893"
      ]
     },
     "execution_count": 5,
     "metadata": {},
     "output_type": "execute_result"
    }
   ],
   "source": [
    "weights.head()"
   ]
  },
  {
   "cell_type": "code",
   "execution_count": 6,
   "metadata": {
    "scrolled": false
   },
   "outputs": [
    {
     "data": {
      "text/plain": [
       "count    64814.000000\n",
       "mean         1.000015\n",
       "std          0.468172\n",
       "min          0.391825\n",
       "25%          0.550100\n",
       "50%          0.970900\n",
       "75%          1.098500\n",
       "max          8.739876\n",
       "Name: Weight variable, dtype: float64"
      ]
     },
     "execution_count": 6,
     "metadata": {},
     "output_type": "execute_result"
    }
   ],
   "source": [
    "weights['Weight variable'].describe()"
   ]
  },
  {
   "cell_type": "markdown",
   "metadata": {},
   "source": [
    "###### Abortion Opinions\n",
    "To reduce dimensionality in the data, I will combine the reasons for abortion into three categories: health, economics, and right-to-choose. There will also be a category for abolishing legal abortion. "
   ]
  },
  {
   "cell_type": "code",
   "execution_count": 7,
   "metadata": {},
   "outputs": [],
   "source": [
    "abortion = unzip('Abortion')"
   ]
  },
  {
   "cell_type": "code",
   "execution_count": 8,
   "metadata": {
    "scrolled": true
   },
   "outputs": [
    {
     "name": "stdout",
     "output_type": "stream",
     "text": [
      "<class 'pandas.core.frame.DataFrame'>\n",
      "RangeIndex: 64814 entries, 0 to 64813\n",
      "Data columns (total 9 columns):\n",
      "year                                      64814 non-null int64\n",
      "id                                        64814 non-null int32\n",
      "Strong chance of serious defect           64814 non-null object\n",
      "Married--wants no more children           64814 non-null object\n",
      "Woman's health seriously endangered       64814 non-null object\n",
      "Low income--cant afford more children     64814 non-null object\n",
      "Pregnant as result of rape                64814 non-null object\n",
      "Not married                               64814 non-null object\n",
      "Abortion if woman wants for any reason    64814 non-null object\n",
      "dtypes: int32(1), int64(1), object(7)\n",
      "memory usage: 4.2+ MB\n"
     ]
    }
   ],
   "source": [
    "abortion.info()"
   ]
  },
  {
   "cell_type": "code",
   "execution_count": 22,
   "metadata": {
    "scrolled": true
   },
   "outputs": [],
   "source": [
    "abortion.loc[(abortion['Strong chance of serious defect'] == 'Yes')|\n",
    "             (abortion['Married--wants no more children'] == 'Yes')|\n",
    "             (abortion[\"Woman's health seriously endangered\"] == 'Yes')|\n",
    "             (abortion[\"Low income--cant afford more children\"] == 'Yes')|\n",
    "             (abortion[\"Pregnant as result of rape\"] == 'Yes')|\n",
    "             (abortion['Not married']=='Yes'), 'abortion'] = 'conditional'\n",
    "\n",
    "abortion.loc[(abortion['Strong chance of serious defect'] == 'Yes')&\n",
    "             (abortion['Married--wants no more children'] == 'Yes')&\n",
    "             (abortion[\"Woman's health seriously endangered\"] == 'Yes')&\n",
    "             (abortion[\"Low income--cant afford more children\"] == 'Yes')&\n",
    "             (abortion[\"Pregnant as result of rape\"] == 'Yes')&\n",
    "             (abortion['Not married']=='Yes'), 'abortion'] = 'unrestricted'\n",
    "\n",
    "abortion.loc[abortion['Abortion if woman wants for any reason']== 'Yes', 'abortion']= 'unrestricted'\n",
    "abortion['abortion'].fillna('Never', inplace = True)"
   ]
  },
  {
   "cell_type": "code",
   "execution_count": 23,
   "metadata": {},
   "outputs": [
    {
     "data": {
      "text/html": [
       "<div>\n",
       "<style scoped>\n",
       "    .dataframe tbody tr th:only-of-type {\n",
       "        vertical-align: middle;\n",
       "    }\n",
       "\n",
       "    .dataframe tbody tr th {\n",
       "        vertical-align: top;\n",
       "    }\n",
       "\n",
       "    .dataframe thead th {\n",
       "        text-align: right;\n",
       "    }\n",
       "</style>\n",
       "<table border=\"1\" class=\"dataframe\">\n",
       "  <thead>\n",
       "    <tr style=\"text-align: right;\">\n",
       "      <th></th>\n",
       "      <th>year</th>\n",
       "      <th>id</th>\n",
       "      <th>Strong chance of serious defect</th>\n",
       "      <th>Married--wants no more children</th>\n",
       "      <th>Woman's health seriously endangered</th>\n",
       "      <th>Low income--cant afford more children</th>\n",
       "      <th>Pregnant as result of rape</th>\n",
       "      <th>Not married</th>\n",
       "      <th>Abortion if woman wants for any reason</th>\n",
       "      <th>abortion</th>\n",
       "    </tr>\n",
       "  </thead>\n",
       "  <tbody>\n",
       "    <tr>\n",
       "      <td>0</td>\n",
       "      <td>1972</td>\n",
       "      <td>0</td>\n",
       "      <td>Yes</td>\n",
       "      <td>Yes</td>\n",
       "      <td>Yes</td>\n",
       "      <td>Yes</td>\n",
       "      <td>Yes</td>\n",
       "      <td>Yes</td>\n",
       "      <td>Not applicable</td>\n",
       "      <td>Unrestricted</td>\n",
       "    </tr>\n",
       "    <tr>\n",
       "      <td>1</td>\n",
       "      <td>1972</td>\n",
       "      <td>1</td>\n",
       "      <td>Yes</td>\n",
       "      <td>No</td>\n",
       "      <td>Yes</td>\n",
       "      <td>No</td>\n",
       "      <td>Yes</td>\n",
       "      <td>Yes</td>\n",
       "      <td>Not applicable</td>\n",
       "      <td>Conditional</td>\n",
       "    </tr>\n",
       "    <tr>\n",
       "      <td>2</td>\n",
       "      <td>1972</td>\n",
       "      <td>2</td>\n",
       "      <td>Yes</td>\n",
       "      <td>Yes</td>\n",
       "      <td>Yes</td>\n",
       "      <td>Yes</td>\n",
       "      <td>Yes</td>\n",
       "      <td>Yes</td>\n",
       "      <td>Not applicable</td>\n",
       "      <td>Unrestricted</td>\n",
       "    </tr>\n",
       "    <tr>\n",
       "      <td>3</td>\n",
       "      <td>1972</td>\n",
       "      <td>3</td>\n",
       "      <td>No</td>\n",
       "      <td>No</td>\n",
       "      <td>Yes</td>\n",
       "      <td>Yes</td>\n",
       "      <td>Yes</td>\n",
       "      <td>Yes</td>\n",
       "      <td>Not applicable</td>\n",
       "      <td>Conditional</td>\n",
       "    </tr>\n",
       "    <tr>\n",
       "      <td>4</td>\n",
       "      <td>1972</td>\n",
       "      <td>4</td>\n",
       "      <td>Yes</td>\n",
       "      <td>Yes</td>\n",
       "      <td>Yes</td>\n",
       "      <td>Yes</td>\n",
       "      <td>Yes</td>\n",
       "      <td>Yes</td>\n",
       "      <td>Not applicable</td>\n",
       "      <td>Unrestricted</td>\n",
       "    </tr>\n",
       "  </tbody>\n",
       "</table>\n",
       "</div>"
      ],
      "text/plain": [
       "   year  id Strong chance of serious defect Married--wants no more children  \\\n",
       "0  1972   0                             Yes                             Yes   \n",
       "1  1972   1                             Yes                              No   \n",
       "2  1972   2                             Yes                             Yes   \n",
       "3  1972   3                              No                              No   \n",
       "4  1972   4                             Yes                             Yes   \n",
       "\n",
       "  Woman's health seriously endangered Low income--cant afford more children  \\\n",
       "0                                 Yes                                   Yes   \n",
       "1                                 Yes                                    No   \n",
       "2                                 Yes                                   Yes   \n",
       "3                                 Yes                                   Yes   \n",
       "4                                 Yes                                   Yes   \n",
       "\n",
       "  Pregnant as result of rape Not married  \\\n",
       "0                        Yes         Yes   \n",
       "1                        Yes         Yes   \n",
       "2                        Yes         Yes   \n",
       "3                        Yes         Yes   \n",
       "4                        Yes         Yes   \n",
       "\n",
       "  Abortion if woman wants for any reason      abortion  \n",
       "0                         Not applicable  Unrestricted  \n",
       "1                         Not applicable   Conditional  \n",
       "2                         Not applicable  Unrestricted  \n",
       "3                         Not applicable   Conditional  \n",
       "4                         Not applicable  Unrestricted  "
      ]
     },
     "execution_count": 23,
     "metadata": {},
     "output_type": "execute_result"
    }
   ],
   "source": [
    "abortion.head()"
   ]
  },
  {
   "cell_type": "code",
   "execution_count": 24,
   "metadata": {
    "scrolled": true
   },
   "outputs": [
    {
     "data": {
      "text/plain": [
       "Never           23338\n",
       "Conditional     22653\n",
       "Unrestricted    18823\n",
       "Name: abortion, dtype: int64"
      ]
     },
     "execution_count": 24,
     "metadata": {},
     "output_type": "execute_result"
    }
   ],
   "source": [
    "abortion['abortion'].value_counts(dropna=False)"
   ]
  },
  {
   "cell_type": "code",
   "execution_count": 32,
   "metadata": {},
   "outputs": [],
   "source": [
    "abortion = pd.get_dummies(data= abortion[['year', 'id', 'abortion']],columns=['abortion'])"
   ]
  },
  {
   "cell_type": "code",
   "execution_count": 33,
   "metadata": {
    "scrolled": true
   },
   "outputs": [
    {
     "data": {
      "text/html": [
       "<div>\n",
       "<style scoped>\n",
       "    .dataframe tbody tr th:only-of-type {\n",
       "        vertical-align: middle;\n",
       "    }\n",
       "\n",
       "    .dataframe tbody tr th {\n",
       "        vertical-align: top;\n",
       "    }\n",
       "\n",
       "    .dataframe thead th {\n",
       "        text-align: right;\n",
       "    }\n",
       "</style>\n",
       "<table border=\"1\" class=\"dataframe\">\n",
       "  <thead>\n",
       "    <tr style=\"text-align: right;\">\n",
       "      <th></th>\n",
       "      <th>year</th>\n",
       "      <th>id</th>\n",
       "      <th>abortion_Conditional</th>\n",
       "      <th>abortion_Never</th>\n",
       "      <th>abortion_Unrestricted</th>\n",
       "    </tr>\n",
       "  </thead>\n",
       "  <tbody>\n",
       "    <tr>\n",
       "      <td>0</td>\n",
       "      <td>1972</td>\n",
       "      <td>0</td>\n",
       "      <td>0</td>\n",
       "      <td>0</td>\n",
       "      <td>1</td>\n",
       "    </tr>\n",
       "    <tr>\n",
       "      <td>1</td>\n",
       "      <td>1972</td>\n",
       "      <td>1</td>\n",
       "      <td>1</td>\n",
       "      <td>0</td>\n",
       "      <td>0</td>\n",
       "    </tr>\n",
       "    <tr>\n",
       "      <td>2</td>\n",
       "      <td>1972</td>\n",
       "      <td>2</td>\n",
       "      <td>0</td>\n",
       "      <td>0</td>\n",
       "      <td>1</td>\n",
       "    </tr>\n",
       "    <tr>\n",
       "      <td>3</td>\n",
       "      <td>1972</td>\n",
       "      <td>3</td>\n",
       "      <td>1</td>\n",
       "      <td>0</td>\n",
       "      <td>0</td>\n",
       "    </tr>\n",
       "    <tr>\n",
       "      <td>4</td>\n",
       "      <td>1972</td>\n",
       "      <td>4</td>\n",
       "      <td>0</td>\n",
       "      <td>0</td>\n",
       "      <td>1</td>\n",
       "    </tr>\n",
       "  </tbody>\n",
       "</table>\n",
       "</div>"
      ],
      "text/plain": [
       "   year  id  abortion_Conditional  abortion_Never  abortion_Unrestricted\n",
       "0  1972   0                     0               0                      1\n",
       "1  1972   1                     1               0                      0\n",
       "2  1972   2                     0               0                      1\n",
       "3  1972   3                     1               0                      0\n",
       "4  1972   4                     0               0                      1"
      ]
     },
     "execution_count": 33,
     "metadata": {},
     "output_type": "execute_result"
    }
   ],
   "source": [
    "abortion.head()"
   ]
  },
  {
   "cell_type": "code",
   "execution_count": null,
   "metadata": {},
   "outputs": [],
   "source": [
    "sns.lineplot(data=abortion);"
   ]
  },
  {
   "cell_type": "markdown",
   "metadata": {},
   "source": [
    "###### Family/ SES Background"
   ]
  },
  {
   "cell_type": "code",
   "execution_count": 34,
   "metadata": {},
   "outputs": [],
   "source": [
    "background = unzip('Background')"
   ]
  },
  {
   "cell_type": "code",
   "execution_count": 35,
   "metadata": {},
   "outputs": [
    {
     "data": {
      "text/plain": [
       "Index(['year',\n",
       "       'Father's occupational prestige score using threshold method (2010)',\n",
       "       'Rs living standard compared to parents', 'Religion in which raised',\n",
       "       'How many grandparents born outside u.s.',\n",
       "       'Were rs parents born in this country', 'Was r born in this country',\n",
       "       'Mothers highest degree', 'Fathers highest degree', 'id',\n",
       "       'Mother's occupational prestige score using threshold method (2010)'],\n",
       "      dtype='object')"
      ]
     },
     "execution_count": 35,
     "metadata": {},
     "output_type": "execute_result"
    }
   ],
   "source": [
    "background.columns"
   ]
  },
  {
   "cell_type": "code",
   "execution_count": 39,
   "metadata": {},
   "outputs": [
    {
     "name": "stdout",
     "output_type": "stream",
     "text": [
      "2006    4510\n",
      "1994    2992\n",
      "1996    2904\n",
      "2016    2867\n",
      "1998    2832\n",
      "2000    2817\n",
      "2004    2812\n",
      "2002    2765\n",
      "2014    2538\n",
      "2018    2348\n",
      "2010    2044\n",
      "2008    2023\n",
      "2012    1974\n",
      "1982    1860\n",
      "1987    1819\n",
      "1972    1613\n",
      "1993    1606\n",
      "1983    1599\n",
      "1989    1537\n",
      "1985    1534\n",
      "1978    1532\n",
      "1977    1530\n",
      "1991    1517\n",
      "1973    1504\n",
      "1976    1499\n",
      "1975    1490\n",
      "1974    1484\n",
      "1988    1481\n",
      "1984    1473\n",
      "1986    1470\n",
      "1980    1468\n",
      "1990    1372\n",
      "Name: year, dtype: int64\n",
      "\n",
      "\n",
      "0     13710\n",
      "58     6953\n",
      "29     2876\n",
      "18     2458\n",
      "50     1724\n",
      "      ...  \n",
      "74       24\n",
      "7        21\n",
      "77       12\n",
      "67       10\n",
      "5         5\n",
      "Name: Father's occupational prestige score using threshold method (2010), Length: 93, dtype: int64\n",
      "\n",
      "\n",
      "Not applicable     44520\n",
      "Much better         6446\n",
      "Somewhat better     6005\n",
      "About the same      4448\n",
      "Somewhat worse      2269\n",
      "Much worse           790\n",
      "Don't know           307\n",
      "No answer             29\n",
      "Name: Rs living standard compared to parents, dtype: int64\n",
      "\n",
      "\n",
      "Protestant                 37042\n",
      "Catholic                   17974\n",
      "None                        3421\n",
      "Not applicable              3131\n",
      "Jewish                      1266\n",
      "Other                        648\n",
      "Christian                    417\n",
      "No answer                    249\n",
      "Moslem/islam                 161\n",
      "Orthodox-christian           138\n",
      "Buddhism                     128\n",
      "Hinduism                     114\n",
      "Don't know                    58\n",
      "Inter-nondenominational       31\n",
      "Native american               24\n",
      "Other eastern                 12\n",
      "Name: Religion in which raised, dtype: int64\n",
      "\n",
      "\n",
      "All in u.s        31367\n",
      "Not applicable    11808\n",
      "4                 10522\n",
      "2                  5819\n",
      "1                  3353\n",
      "3                  1250\n",
      "Don't know          468\n",
      "No answer           227\n",
      "Name: How many grandparents born outside u.s., dtype: int64\n",
      "\n",
      "\n",
      "Both in u.s         45148\n",
      "Not applicable       9108\n",
      "Neither in u.s       7116\n",
      "Mother only          1745\n",
      "Father only          1259\n",
      "No answer             210\n",
      "Mother; fa. dk        110\n",
      "Dk for both            53\n",
      "Not mother;fa.dk       36\n",
      "Not father;mo.dk       16\n",
      "Father; mo.dk          13\n",
      "Name: Were rs parents born in this country, dtype: int64\n",
      "\n",
      "\n",
      "Yes               50441\n",
      "Not applicable     9108\n",
      "No                 5110\n",
      "No answer           147\n",
      "Don't know            8\n",
      "Name: Was r born in this country, dtype: int64\n",
      "\n",
      "\n",
      "High school       25217\n",
      "Lt high school    23662\n",
      "Bachelor           4167\n",
      "Not applicable     4039\n",
      "Don't know         3469\n",
      "Junior college     1911\n",
      "Graduate           1662\n",
      "No answer           687\n",
      "Name: Mothers highest degree, dtype: int64\n",
      "\n",
      "\n",
      "Lt high school    23011\n",
      "High school       17532\n",
      "Not applicable    11558\n",
      "Bachelor           4340\n",
      "Don't know         3910\n",
      "Graduate           2902\n",
      "Junior college      965\n",
      "No answer           596\n",
      "Name: Fathers highest degree, dtype: int64\n",
      "\n",
      "\n",
      "2047     1\n",
      "39558    1\n",
      "12947    1\n",
      "14994    1\n",
      "8849     1\n",
      "        ..\n",
      "48445    1\n",
      "46396    1\n",
      "36155    1\n",
      "34106    1\n",
      "0        1\n",
      "Name: id, Length: 64814, dtype: int64\n",
      "\n",
      "\n",
      "0     43733\n",
      "55     1806\n",
      "14     1237\n",
      "18     1179\n",
      "16     1155\n",
      "      ...  \n",
      "52        4\n",
      "77        3\n",
      "41        2\n",
      "31        2\n",
      "45        1\n",
      "Name: Mother's occupational prestige score using threshold method (2010), Length: 93, dtype: int64\n",
      "\n",
      "\n"
     ]
    }
   ],
   "source": [
    "for col in background.columns:\n",
    "    print(background[col].value_counts())\n",
    "    print('\\n')"
   ]
  },
  {
   "cell_type": "code",
   "execution_count": 47,
   "metadata": {},
   "outputs": [],
   "source": [
    "background.rename(columns = {\"Father's occupational prestige score using threshold method (2010)\": 'father_prestige',\n",
    "                             \"Mother's occupational prestige score using threshold method (2010)\": 'mother_prestige',\n",
    "                             'Religion in which raised': 'raised_relig', \n",
    "                             'How many grandparents born outside u.s.': 'immigrant_gpar', \n",
    "                             'Were rs parents born in this country': 'immigrant_par', \n",
    "                             'Was r born in this country': 'immigrant'}, inplace=True)"
   ]
  },
  {
   "cell_type": "markdown",
   "metadata": {},
   "source": [
    "I will encode the immigration status of parents so that the number of grandparents and parents born outside of the country are counted. Parents born in the U.S will be coded as 0s. Because this data will likely not be used for modeling, I will keep not applicable values as they are. "
   ]
  },
  {
   "cell_type": "code",
   "execution_count": 49,
   "metadata": {},
   "outputs": [],
   "source": [
    "background.loc[(background['raised_relig']=='Not applicable')|\n",
    "               (background['raised_relig']=='No answer')|\n",
    "               (background['raised_relig']==\"Don't know\"), 'raised_relig']= 'Other'\n",
    "background.loc[(background['immigrant_gpar']== 'All in u.s'), 'immigrant_gpar']= 0\n",
    "background.loc[(background['immigrant_par']=='Both in u.s')|\n",
    "               (background['immigrant_par']=='Mother; fa. dk')|\n",
    "               (background['immigrant_par']=='Father; mo.dk'), 'immigrant_par']= 0\n",
    "background.loc[(background['immigrant_par']=='Neither in u.s')|\n",
    "               (background['immigrant_par']=='Not mother;fa.dk')|\n",
    "               (background['immigrant_par']=='Not father;mo.dk'), 'immigrant_par']= 2\n",
    "background.loc[(background['immigrant_par']=='Mother only')|\n",
    "               (background['immigrant_par']=='Father only'), 'immigrant_par']= 1\n",
    "background.loc[(background['immigrant']=='Yes'), 'immigrant']= 'no'\n",
    "background.loc[(background['immigrant']=='No'), 'immigrant']= 'yes'\n",
    "background.loc[(background['immigrant']=='Not applicable')|\n",
    "               (background['immigrant']=='No answer')|\n",
    "               (background['immigrant']==\"Don't know\"), 'immigrant']= 'n/a'"
   ]
  },
  {
   "cell_type": "markdown",
   "metadata": {},
   "source": [
    "The 'Rs living standard compared to parents' is messy and highly incomplete, so I will drop it for this analysis. In addition, after consideration, parental education levels are more appropriately placed in the education table so they will also be dropped from this table.  "
   ]
  },
  {
   "cell_type": "code",
   "execution_count": 52,
   "metadata": {},
   "outputs": [],
   "source": [
    "background.drop(['Rs living standard compared to parents', \n",
    "                 'Fathers highest degree', 'Mothers highest degree'], axis= 1, inplace= True)"
   ]
  },
  {
   "cell_type": "code",
   "execution_count": 53,
   "metadata": {},
   "outputs": [
    {
     "data": {
      "text/html": [
       "<div>\n",
       "<style scoped>\n",
       "    .dataframe tbody tr th:only-of-type {\n",
       "        vertical-align: middle;\n",
       "    }\n",
       "\n",
       "    .dataframe tbody tr th {\n",
       "        vertical-align: top;\n",
       "    }\n",
       "\n",
       "    .dataframe thead th {\n",
       "        text-align: right;\n",
       "    }\n",
       "</style>\n",
       "<table border=\"1\" class=\"dataframe\">\n",
       "  <thead>\n",
       "    <tr style=\"text-align: right;\">\n",
       "      <th></th>\n",
       "      <th>year</th>\n",
       "      <th>father_prestige</th>\n",
       "      <th>raised_relig</th>\n",
       "      <th>immigrant_gpar</th>\n",
       "      <th>immigrant_par</th>\n",
       "      <th>immigrant</th>\n",
       "      <th>id</th>\n",
       "      <th>mother_prestige</th>\n",
       "    </tr>\n",
       "  </thead>\n",
       "  <tbody>\n",
       "    <tr>\n",
       "      <td>0</td>\n",
       "      <td>1972</td>\n",
       "      <td>55</td>\n",
       "      <td>Other</td>\n",
       "      <td>Not applicable</td>\n",
       "      <td>Not applicable</td>\n",
       "      <td>n/a</td>\n",
       "      <td>0</td>\n",
       "      <td>0</td>\n",
       "    </tr>\n",
       "    <tr>\n",
       "      <td>1</td>\n",
       "      <td>1972</td>\n",
       "      <td>42</td>\n",
       "      <td>Other</td>\n",
       "      <td>Not applicable</td>\n",
       "      <td>Not applicable</td>\n",
       "      <td>n/a</td>\n",
       "      <td>1</td>\n",
       "      <td>0</td>\n",
       "    </tr>\n",
       "    <tr>\n",
       "      <td>2</td>\n",
       "      <td>1972</td>\n",
       "      <td>27</td>\n",
       "      <td>Other</td>\n",
       "      <td>Not applicable</td>\n",
       "      <td>Not applicable</td>\n",
       "      <td>n/a</td>\n",
       "      <td>2</td>\n",
       "      <td>0</td>\n",
       "    </tr>\n",
       "    <tr>\n",
       "      <td>3</td>\n",
       "      <td>1972</td>\n",
       "      <td>65</td>\n",
       "      <td>Other</td>\n",
       "      <td>Not applicable</td>\n",
       "      <td>Not applicable</td>\n",
       "      <td>n/a</td>\n",
       "      <td>3</td>\n",
       "      <td>0</td>\n",
       "    </tr>\n",
       "    <tr>\n",
       "      <td>4</td>\n",
       "      <td>1972</td>\n",
       "      <td>37</td>\n",
       "      <td>Other</td>\n",
       "      <td>Not applicable</td>\n",
       "      <td>Not applicable</td>\n",
       "      <td>n/a</td>\n",
       "      <td>4</td>\n",
       "      <td>0</td>\n",
       "    </tr>\n",
       "  </tbody>\n",
       "</table>\n",
       "</div>"
      ],
      "text/plain": [
       "   year  father_prestige raised_relig  immigrant_gpar   immigrant_par  \\\n",
       "0  1972               55        Other  Not applicable  Not applicable   \n",
       "1  1972               42        Other  Not applicable  Not applicable   \n",
       "2  1972               27        Other  Not applicable  Not applicable   \n",
       "3  1972               65        Other  Not applicable  Not applicable   \n",
       "4  1972               37        Other  Not applicable  Not applicable   \n",
       "\n",
       "  immigrant  id  mother_prestige  \n",
       "0       n/a   0                0  \n",
       "1       n/a   1                0  \n",
       "2       n/a   2                0  \n",
       "3       n/a   3                0  \n",
       "4       n/a   4                0  "
      ]
     },
     "execution_count": 53,
     "metadata": {},
     "output_type": "execute_result"
    }
   ],
   "source": [
    "background.head()"
   ]
  },
  {
   "cell_type": "markdown",
   "metadata": {},
   "source": [
    "##### Criminal Justice Attitudes"
   ]
  },
  {
   "cell_type": "code",
   "execution_count": 56,
   "metadata": {},
   "outputs": [
    {
     "data": {
      "text/plain": [
       "Index(['year', 'Citizen attacking policeman with fists',\n",
       "       'Citizen attempting to escape custody',\n",
       "       'Citizen questioned as murder suspect',\n",
       "       'Citizen said vulgar or obscene things',\n",
       "       'Ever approve of police striking citizen',\n",
       "       'Should marijuana be made legal', 'Courts dealing with criminals',\n",
       "       'Favor or oppose death penalty for murder', 'id',\n",
       "       'Afraid to walk at night in neighborhood'],\n",
       "      dtype='object')"
      ]
     },
     "execution_count": 56,
     "metadata": {},
     "output_type": "execute_result"
    }
   ],
   "source": [
    "crim_justice = unzip('Criminal_Justice')\n",
    "crim_justice.columns"
   ]
  },
  {
   "cell_type": "markdown",
   "metadata": {},
   "source": [
    "##### Education"
   ]
  },
  {
   "cell_type": "code",
   "execution_count": 57,
   "metadata": {},
   "outputs": [
    {
     "data": {
      "text/plain": [
       "Index(['year', 'id', 'Highest year of school completed',\n",
       "       'Highest year school completed, father',\n",
       "       'Highest year school completed, mother', 'Rs highest degree',\n",
       "       'Fathers highest degree', 'Mothers highest degree',\n",
       "       'The field of degree r earned'],\n",
       "      dtype='object')"
      ]
     },
     "execution_count": 57,
     "metadata": {},
     "output_type": "execute_result"
    }
   ],
   "source": [
    "education = unzip('Education')\n",
    "education.columns"
   ]
  },
  {
   "cell_type": "markdown",
   "metadata": {},
   "source": [
    "##### Employment"
   ]
  },
  {
   "cell_type": "code",
   "execution_count": 58,
   "metadata": {},
   "outputs": [
    {
     "data": {
      "text/plain": [
       "Index(['year', 'Workers need strong unions',\n",
       "       'Does r or spouse belong to union', 'If rich, continue or stop working',\n",
       "       'Job or housework', 'Could r find equally good job',\n",
       "       'Is r likely to lose job', 'Number of hours usually work a week',\n",
       "       'Labor force status', 'id',\n",
       "       'Rs occupational prestige score using threshold method (2010)'],\n",
       "      dtype='object')"
      ]
     },
     "execution_count": 58,
     "metadata": {},
     "output_type": "execute_result"
    }
   ],
   "source": [
    "employment = unzip('Employment')\n",
    "employment.columns"
   ]
  },
  {
   "cell_type": "markdown",
   "metadata": {},
   "source": [
    "###### Family Values"
   ]
  },
  {
   "cell_type": "code",
   "execution_count": 59,
   "metadata": {},
   "outputs": [
    {
     "data": {
      "text/plain": [
       "Index(['year', 'Better for man to work, woman tend home',\n",
       "       'Preschool kids suffer if mother works',\n",
       "       'Favor spanking to discipline child', 'Ideal number of children',\n",
       "       'Rs kids living standard compared to r',\n",
       "       'Rs living standard compared to parents', 'To help others',\n",
       "       'To work hard', 'To think for ones self', 'To be well liked or popular',\n",
       "       'To obey', 'Highest year school completed, mother',\n",
       "       'Highest year school completed, father', 'Number of children',\n",
       "       'Number of brothers and sisters', 'id',\n",
       "       'Number of family generations in household'],\n",
       "      dtype='object')"
      ]
     },
     "execution_count": 59,
     "metadata": {},
     "output_type": "execute_result"
    }
   ],
   "source": [
    "fam_vals = unzip('Family_Values')\n",
    "fam_vals.columns"
   ]
  },
  {
   "cell_type": "markdown",
   "metadata": {},
   "source": [
    "###### Gender and Sexuality"
   ]
  },
  {
   "cell_type": "code",
   "execution_count": 60,
   "metadata": {},
   "outputs": [
    {
     "data": {
      "text/plain": [
       "Index(['year', 'Should hire and promote women                            ',\n",
       "       'For or against preferential hiring of women      ',\n",
       "       'Better for man to work, woman tend home',\n",
       "       'Preschool kids suffer if mother works',\n",
       "       'Sex before marriage -- teens 14-16', 'Sex before marriage',\n",
       "       'Divorce laws', 'Sex education in public schools',\n",
       "       'Birth control to teenagers 14-16', 'Women not suited for politics',\n",
       "       'id', 'Homosexuals should have right to marry'],\n",
       "      dtype='object')"
      ]
     },
     "execution_count": 60,
     "metadata": {},
     "output_type": "execute_result"
    }
   ],
   "source": [
    "gender = unzip('Gender_and_Sexuality')\n",
    "gender.columns"
   ]
  },
  {
   "cell_type": "markdown",
   "metadata": {},
   "source": [
    "###### Identity"
   ]
  },
  {
   "cell_type": "code",
   "execution_count": 62,
   "metadata": {},
   "outputs": [
    {
     "data": {
      "text/plain": [
       "Index(['year', 'id', 'Age of respondent', 'Respondents sex',\n",
       "       'Race of respondent', 'Region of interview'],\n",
       "      dtype='object')"
      ]
     },
     "execution_count": 62,
     "metadata": {},
     "output_type": "execute_result"
    }
   ],
   "source": [
    "idend = unzip('Identity')\n",
    "idend.columns"
   ]
  },
  {
   "cell_type": "markdown",
   "metadata": {},
   "source": [
    "###### Interests"
   ]
  },
  {
   "cell_type": "code",
   "execution_count": 63,
   "metadata": {},
   "outputs": [
    {
     "data": {
      "text/plain": [
       "Index(['year', 'Interested in environmental issues',\n",
       "       'Interested in space exploration', 'Interested in medical discoveries',\n",
       "       'Interested in technologies', 'Interested in economic issues',\n",
       "       'Interested in new scientific discoveries',\n",
       "       'Interested in local school issues', 'Interested in farm issues',\n",
       "       'Interested in international issues', 'id',\n",
       "       'Interested in military policy'],\n",
       "      dtype='object')"
      ]
     },
     "execution_count": 63,
     "metadata": {},
     "output_type": "execute_result"
    }
   ],
   "source": [
    "interests = unzip('Interests')\n",
    "interests.columns"
   ]
  },
  {
   "cell_type": "markdown",
   "metadata": {},
   "source": [
    "###### Lifestyle"
   ]
  },
  {
   "cell_type": "code",
   "execution_count": 64,
   "metadata": {
    "scrolled": true
   },
   "outputs": [
    {
     "data": {
      "text/plain": [
       "Index(['year', 'Hours per day watching tv', 'How often does r read newspaper',\n",
       "       'Does r or spouse hunt', 'Have gun in home', 'Spend evening at bar',\n",
       "       'Spend evening with friends', 'Spend evening with neighbor',\n",
       "       'Spend evening with relatives', 'Is life exciting or dull',\n",
       "       'General happiness', 'R's age when 1st child born', 'Age of respondent',\n",
       "       'Number of children', 'Marital status',\n",
       "       'Number of hours usually work a week', 'id',\n",
       "       'Does r own or rent home?'],\n",
       "      dtype='object')"
      ]
     },
     "execution_count": 64,
     "metadata": {},
     "output_type": "execute_result"
    }
   ],
   "source": [
    "lifestyle = unzip('Lifestyle')\n",
    "lifestyle.columns"
   ]
  },
  {
   "cell_type": "markdown",
   "metadata": {},
   "source": [
    "###### Opinions"
   ]
  },
  {
   "cell_type": "code",
   "execution_count": 65,
   "metadata": {},
   "outputs": [
    {
     "data": {
      "text/plain": [
       "Index(['year', 'Foreign aid', 'Welfare', 'Highways and bridges',\n",
       "       'Social security', 'Mass transportation', 'Parks and recreation',\n",
       "       'Assistance for childcare', 'Supporting scientific research        ',\n",
       "       'Military, armaments, and defense',\n",
       "       'Improving the conditions of blacks', 'id', 'Space exploration program',\n",
       "       'Improving & protecting environment',\n",
       "       'Improving & protecting nations health',\n",
       "       'Solving problems of big cities', 'Halting rising crime rate',\n",
       "       'Dealing with drug addiction', 'Improving nations education system',\n",
       "       'Developing alternative energy sources'],\n",
       "      dtype='object')"
      ]
     },
     "execution_count": 65,
     "metadata": {},
     "output_type": "execute_result"
    }
   ],
   "source": [
    "opinions = unzip('Opinions')\n",
    "opinions.columns"
   ]
  },
  {
   "cell_type": "markdown",
   "metadata": {},
   "source": [
    "###### Race Relations"
   ]
  },
  {
   "cell_type": "code",
   "execution_count": 66,
   "metadata": {},
   "outputs": [
    {
     "data": {
      "text/plain": [
       "Index(['year', 'Whites hurt by aff. action', 'Hard working - lazy',\n",
       "       'Hard working - lazy.1', 'Rich - poor', 'Rich - poor.1',\n",
       "       'Should govt aid blacks?', 'Differences due to lack of will',\n",
       "       'Differences due to lack of education',\n",
       "       'Differences due to inborn disability',\n",
       "       'Differences due to discrimination',\n",
       "       'Blacks overcome prejudice without favors ',\n",
       "       'Favor preference in hiring blacks', 'Any opp. race in neighborhood',\n",
       "       'Favor law against racial intermarriage',\n",
       "       'Improving the conditions of blacks', 'id',\n",
       "       'Number of immigrants nowadays should be'],\n",
       "      dtype='object')"
      ]
     },
     "execution_count": 66,
     "metadata": {},
     "output_type": "execute_result"
    }
   ],
   "source": [
    "race = unzip('Race_Relations')\n",
    "race.columns"
   ]
  },
  {
   "cell_type": "markdown",
   "metadata": {},
   "source": [
    "###### Religion"
   ]
  },
  {
   "cell_type": "code",
   "execution_count": 67,
   "metadata": {},
   "outputs": [
    {
     "data": {
      "text/plain": [
       "Index(['year', 'id', 'Rs religious preference',\n",
       "       'How often r attends religious services', 'Strength of affiliation',\n",
       "       'How often does r pray', 'Bible prayer in public schools'],\n",
       "      dtype='object')"
      ]
     },
     "execution_count": 67,
     "metadata": {},
     "output_type": "execute_result"
    }
   ],
   "source": [
    "religion = unzip('Religion')\n",
    "religion.columns"
   ]
  },
  {
   "cell_type": "markdown",
   "metadata": {},
   "source": [
    "###### Socioeconomic Status"
   ]
  },
  {
   "cell_type": "code",
   "execution_count": 68,
   "metadata": {},
   "outputs": [
    {
     "data": {
      "text/plain": [
       "Index(['year', 'Rs income in constant $', 'Family income in constant $',\n",
       "       'Standard of living of r will improve',\n",
       "       'Rs kids living standard compared to r',\n",
       "       'Rs living standard compared to parents', 'Opinion of family income',\n",
       "       'Change in financial situation',\n",
       "       'Satisfaction with financial situation',\n",
       "       'Rs self ranking of social position', 'id',\n",
       "       'Rs occupational prestige score using threshold method (2010)'],\n",
       "      dtype='object')"
      ]
     },
     "execution_count": 68,
     "metadata": {},
     "output_type": "execute_result"
    }
   ],
   "source": [
    "ses = unzip('SES')\n",
    "ses.columns"
   ]
  },
  {
   "cell_type": "markdown",
   "metadata": {},
   "source": [
    "###### Systems"
   ]
  },
  {
   "cell_type": "code",
   "execution_count": 69,
   "metadata": {},
   "outputs": [
    {
     "data": {
      "text/plain": [
       "Index(['year', 'Confidence in congress', 'Confidence in scientific community',\n",
       "       'Confid. in united states supreme court', 'Confidence in television',\n",
       "       'Confidence in medicine', 'Confidence in press',\n",
       "       'Confidence in organized labor', 'Confid. in exec branch of fed govt',\n",
       "       'Confidence in education', 'Confidence in organized religion',\n",
       "       'Confidence in major companies',\n",
       "       'Confid in banks & financial institutions', 'id',\n",
       "       'Confidence in military'],\n",
       "      dtype='object')"
      ]
     },
     "execution_count": 69,
     "metadata": {},
     "output_type": "execute_result"
    }
   ],
   "source": [
    "systems = unzip('Systems')\n",
    "systems.columns"
   ]
  },
  {
   "cell_type": "markdown",
   "metadata": {},
   "source": [
    "###### Voter Identity"
   ]
  },
  {
   "cell_type": "code",
   "execution_count": 70,
   "metadata": {},
   "outputs": [
    {
     "data": {
      "text/plain": [
       "Index(['year', 'Did r vote in 1992 election', 'Vote for clinton, bush, perot',\n",
       "       'Who would r have voted for-1992 election',\n",
       "       'Did r vote in 1996 election', 'Vote for clinton, dole, perot',\n",
       "       'Who would r have voted for-1996 election',\n",
       "       'Did r vote in 2000 election', 'Vote for gore, bush, nader',\n",
       "       'Who would r has voted for in 2000 election',\n",
       "       'Did r vote in 2004 election', 'Vote for kerry, bush, nader',\n",
       "       'Who would r has voted for in 2004 election',\n",
       "       'Did r vote in 2008 election', 'Vote obama or mccain',\n",
       "       'Who you would have voted for', 'Did r vote in 2012 election',\n",
       "       'Vote obama or romney', 'Who would r have voted for-1988 election',\n",
       "       'Vote for dukakis or bush', 'Did r vote in 1988 election', 'id',\n",
       "       'Political party affiliation', 'Did r vote in 1968 election',\n",
       "       'Vote for humphrey, nixon, or wallace',\n",
       "       'Who would r have voted for-1968 election',\n",
       "       'Did r vote in 1972 election', 'Vote for mcgovern or nixon',\n",
       "       'Who would r have voted for-1972 election',\n",
       "       'Did r vote in 1976 election', 'Vote for carter or ford',\n",
       "       'Who would r have voted for-1976 election',\n",
       "       'Did r vote in 1980 election', 'Vote for carter, reagan or anderson',\n",
       "       'Who would r have voted for-1980 election',\n",
       "       'Did r vote in 1984 election', 'Vote for reagan or mondale',\n",
       "       'Who would r have voted for-1984 election',\n",
       "       'Who would r have voted for in 2012 election'],\n",
       "      dtype='object')"
      ]
     },
     "execution_count": 70,
     "metadata": {},
     "output_type": "execute_result"
    }
   ],
   "source": [
    "vote_id = unzip('Voter_Identity')\n",
    "vote_id.columns"
   ]
  },
  {
   "cell_type": "code",
   "execution_count": null,
   "metadata": {},
   "outputs": [],
   "source": []
  }
 ],
 "metadata": {
  "kernelspec": {
   "display_name": "learn-env",
   "language": "python",
   "name": "learn-env"
  },
  "language_info": {
   "codemirror_mode": {
    "name": "ipython",
    "version": 3
   },
   "file_extension": ".py",
   "mimetype": "text/x-python",
   "name": "python",
   "nbconvert_exporter": "python",
   "pygments_lexer": "ipython3",
   "version": "3.7.4"
  }
 },
 "nbformat": 4,
 "nbformat_minor": 2
}
