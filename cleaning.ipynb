{
 "cells": [
  {
   "cell_type": "markdown",
   "metadata": {},
   "source": [
    "# Data Collection and Formatting"
   ]
  },
  {
   "cell_type": "code",
   "execution_count": 1,
   "metadata": {},
   "outputs": [],
   "source": [
    "import pandas as pd\n",
    "import tarfile\n",
    "from bs4 import BeautifulSoup\n",
    "import requests\n",
    "import re\n",
    "import matplotlib.pyplot as plt\n",
    "import seaborn as sns\n",
    "\n",
    "%run -i \"functions/unzip.py\"\n",
    "%run -i \"functions/scrape_platforms.py\"\n",
    "%run -i \"functions/scrape_SotU.py\""
   ]
  },
  {
   "cell_type": "markdown",
   "metadata": {},
   "source": [
    "# Text Data\n",
    "### Political Platforms"
   ]
  },
  {
   "cell_type": "code",
   "execution_count": null,
   "metadata": {},
   "outputs": [],
   "source": [
    "years = ['1972', '1976', '1980', '1984', '1988', '1992', '1996', \n",
    "         '2000', '2008', '2012', '2016']\n",
    "platforms = scrape_platforms(years)\n",
    "platforms.head()"
   ]
  },
  {
   "cell_type": "markdown",
   "metadata": {},
   "source": [
    "### State of the Union Addresses"
   ]
  },
  {
   "cell_type": "code",
   "execution_count": null,
   "metadata": {
    "scrolled": true
   },
   "outputs": [],
   "source": [
    "speeches = scrape_SotU()"
   ]
  },
  {
   "cell_type": "markdown",
   "metadata": {},
   "source": [
    "### Debates"
   ]
  },
  {
   "cell_type": "code",
   "execution_count": null,
   "metadata": {},
   "outputs": [],
   "source": [
    "url = 'https://www.presidency.ucsb.edu/documents/presidential-debate-the-university-nevada-las-vegas'\n",
    "response = requests.get(url)\n",
    "soup = BeautifulSoup(response.text, 'lxml')\n",
    "debate = soup.find_all('p')\n",
    "for deb in debate:\n",
    "    print(deb.text)"
   ]
  },
  {
   "cell_type": "markdown",
   "metadata": {},
   "source": [
    "# Survey Data\n",
    "### Convert Data to Dataframes\n",
    "###### Weights\n",
    "Based on the sample weights provided by the General Social Survey, it appears that some samples were significantly over and underrepresented. In order to account for this weights will be applied to this analysis. In order to maintain a reasonable size of the data rather than achieving the right proportions by using the complete weights, I will use the rounded values to the nearest tenth.  "
   ]
  },
  {
   "cell_type": "code",
   "execution_count": 2,
   "metadata": {},
   "outputs": [],
   "source": [
    "weights = unzip('Weights')"
   ]
  },
  {
   "cell_type": "code",
   "execution_count": 3,
   "metadata": {},
   "outputs": [
    {
     "data": {
      "text/html": [
       "<div>\n",
       "<style scoped>\n",
       "    .dataframe tbody tr th:only-of-type {\n",
       "        vertical-align: middle;\n",
       "    }\n",
       "\n",
       "    .dataframe tbody tr th {\n",
       "        vertical-align: top;\n",
       "    }\n",
       "\n",
       "    .dataframe thead th {\n",
       "        text-align: right;\n",
       "    }\n",
       "</style>\n",
       "<table border=\"1\" class=\"dataframe\">\n",
       "  <thead>\n",
       "    <tr style=\"text-align: right;\">\n",
       "      <th></th>\n",
       "      <th>year</th>\n",
       "      <th>id</th>\n",
       "      <th>Weight variable</th>\n",
       "    </tr>\n",
       "  </thead>\n",
       "  <tbody>\n",
       "    <tr>\n",
       "      <td>0</td>\n",
       "      <td>1972</td>\n",
       "      <td>0</td>\n",
       "      <td>0.4446</td>\n",
       "    </tr>\n",
       "    <tr>\n",
       "      <td>1</td>\n",
       "      <td>1972</td>\n",
       "      <td>1</td>\n",
       "      <td>0.8893</td>\n",
       "    </tr>\n",
       "    <tr>\n",
       "      <td>2</td>\n",
       "      <td>1972</td>\n",
       "      <td>2</td>\n",
       "      <td>0.8893</td>\n",
       "    </tr>\n",
       "    <tr>\n",
       "      <td>3</td>\n",
       "      <td>1972</td>\n",
       "      <td>3</td>\n",
       "      <td>0.8893</td>\n",
       "    </tr>\n",
       "    <tr>\n",
       "      <td>4</td>\n",
       "      <td>1972</td>\n",
       "      <td>4</td>\n",
       "      <td>0.8893</td>\n",
       "    </tr>\n",
       "  </tbody>\n",
       "</table>\n",
       "</div>"
      ],
      "text/plain": [
       "   year  id  Weight variable\n",
       "0  1972   0           0.4446\n",
       "1  1972   1           0.8893\n",
       "2  1972   2           0.8893\n",
       "3  1972   3           0.8893\n",
       "4  1972   4           0.8893"
      ]
     },
     "execution_count": 3,
     "metadata": {},
     "output_type": "execute_result"
    }
   ],
   "source": [
    "weights.head()"
   ]
  },
  {
   "cell_type": "code",
   "execution_count": 4,
   "metadata": {
    "scrolled": false
   },
   "outputs": [
    {
     "data": {
      "text/plain": [
       "count    64814.000000\n",
       "mean         1.000015\n",
       "std          0.468172\n",
       "min          0.391825\n",
       "25%          0.550100\n",
       "50%          0.970900\n",
       "75%          1.098500\n",
       "max          8.739876\n",
       "Name: Weight variable, dtype: float64"
      ]
     },
     "execution_count": 4,
     "metadata": {},
     "output_type": "execute_result"
    }
   ],
   "source": [
    "weights['Weight variable'].describe()"
   ]
  },
  {
   "cell_type": "code",
   "execution_count": 5,
   "metadata": {},
   "outputs": [],
   "source": [
    "def weight(df):\n",
    "    return df.loc[df.index.repeat(round(weights['Weight variable']*10, 0))].reset_index()"
   ]
  },
  {
   "cell_type": "markdown",
   "metadata": {},
   "source": [
    "###### Abortion Opinions\n",
    "To reduce dimensionality in the data, I will combine the reasons for abortion into three categories: health, economics, and right-to-choose. There will also be a category for abolishing legal abortion. "
   ]
  },
  {
   "cell_type": "code",
   "execution_count": null,
   "metadata": {},
   "outputs": [],
   "source": [
    "abortion = unzip('Abortion')"
   ]
  },
  {
   "cell_type": "code",
   "execution_count": null,
   "metadata": {
    "scrolled": true
   },
   "outputs": [],
   "source": [
    "abortion.info()"
   ]
  },
  {
   "cell_type": "code",
   "execution_count": null,
   "metadata": {
    "scrolled": true
   },
   "outputs": [],
   "source": [
    "abortion.loc[(abortion['Strong chance of serious defect'] == 'Yes')|\n",
    "             (abortion['Married--wants no more children'] == 'Yes')|\n",
    "             (abortion[\"Woman's health seriously endangered\"] == 'Yes')|\n",
    "             (abortion[\"Low income--cant afford more children\"] == 'Yes')|\n",
    "             (abortion[\"Pregnant as result of rape\"] == 'Yes')|\n",
    "             (abortion['Not married']=='Yes'), 'abortion'] = 'conditional'\n",
    "\n",
    "abortion.loc[(abortion['Strong chance of serious defect'] == 'Yes')&\n",
    "             (abortion['Married--wants no more children'] == 'Yes')&\n",
    "             (abortion[\"Woman's health seriously endangered\"] == 'Yes')&\n",
    "             (abortion[\"Low income--cant afford more children\"] == 'Yes')&\n",
    "             (abortion[\"Pregnant as result of rape\"] == 'Yes')&\n",
    "             (abortion['Not married']=='Yes'), 'abortion'] = 'unrestricted'\n",
    "\n",
    "abortion.loc[abortion['Abortion if woman wants for any reason']== 'Yes', 'abortion']= 'unrestricted'\n",
    "abortion['abortion'].fillna('never', inplace = True)"
   ]
  },
  {
   "cell_type": "code",
   "execution_count": null,
   "metadata": {},
   "outputs": [],
   "source": [
    "abortion.head()"
   ]
  },
  {
   "cell_type": "code",
   "execution_count": null,
   "metadata": {
    "scrolled": true
   },
   "outputs": [],
   "source": [
    "abortion['abortion'].value_counts(dropna=False)"
   ]
  },
  {
   "cell_type": "code",
   "execution_count": null,
   "metadata": {},
   "outputs": [],
   "source": [
    "abortion = pd.get_dummies(data= abortion[['year', 'id', 'abortion']],columns=['abortion'])"
   ]
  },
  {
   "cell_type": "code",
   "execution_count": null,
   "metadata": {
    "scrolled": true
   },
   "outputs": [],
   "source": [
    "abortion.head()"
   ]
  },
  {
   "cell_type": "code",
   "execution_count": null,
   "metadata": {},
   "outputs": [],
   "source": [
    "abortion = weight(abortion)"
   ]
  },
  {
   "cell_type": "code",
   "execution_count": null,
   "metadata": {},
   "outputs": [],
   "source": [
    "abortion.to_csv('data/cleaned_and_weighted/abortion.csv')"
   ]
  },
  {
   "cell_type": "markdown",
   "metadata": {},
   "source": [
    "###### Family/ SES Background"
   ]
  },
  {
   "cell_type": "code",
   "execution_count": null,
   "metadata": {},
   "outputs": [],
   "source": [
    "background = unzip('Background')"
   ]
  },
  {
   "cell_type": "code",
   "execution_count": null,
   "metadata": {},
   "outputs": [],
   "source": [
    "background.columns"
   ]
  },
  {
   "cell_type": "code",
   "execution_count": null,
   "metadata": {},
   "outputs": [],
   "source": [
    "for col in background.columns:\n",
    "    print(background[col].value_counts())\n",
    "    print('\\n')"
   ]
  },
  {
   "cell_type": "code",
   "execution_count": null,
   "metadata": {},
   "outputs": [],
   "source": [
    "background.rename(columns = {\"Father's occupational prestige score using threshold method (2010)\": 'father_prestige',\n",
    "                             \"Mother's occupational prestige score using threshold method (2010)\": 'mother_prestige',\n",
    "                             'Religion in which raised': 'raised_relig', \n",
    "                             'How many grandparents born outside u.s.': 'immigrant_gpar', \n",
    "                             'Were rs parents born in this country': 'immigrant_par', \n",
    "                             'Was r born in this country': 'immigrant'}, inplace=True)"
   ]
  },
  {
   "cell_type": "markdown",
   "metadata": {},
   "source": [
    "I will encode the immigration status of parents so that the number of grandparents and parents born outside of the country are counted. Parents born in the U.S will be coded as 0s. Because this data will likely not be used for modeling, I will keep not applicable values as they are. "
   ]
  },
  {
   "cell_type": "code",
   "execution_count": null,
   "metadata": {},
   "outputs": [],
   "source": [
    "background.loc[(background['raised_relig']=='Not applicable')|\n",
    "               (background['raised_relig']=='No answer')|\n",
    "               (background['raised_relig']==\"Don't know\"), 'raised_relig']= 'Other'\n",
    "background.loc[(background['immigrant_gpar']== 'All in u.s'), 'immigrant_gpar']= 0\n",
    "background.loc[(background['immigrant_par']=='Both in u.s')|\n",
    "               (background['immigrant_par']=='Mother; fa. dk')|\n",
    "               (background['immigrant_par']=='Father; mo.dk'), 'immigrant_par']= 0\n",
    "background.loc[(background['immigrant_par']=='Neither in u.s')|\n",
    "               (background['immigrant_par']=='Not mother;fa.dk')|\n",
    "               (background['immigrant_par']=='Not father;mo.dk'), 'immigrant_par']= 2\n",
    "background.loc[(background['immigrant_par']=='Mother only')|\n",
    "               (background['immigrant_par']=='Father only'), 'immigrant_par']= 1\n",
    "background.loc[(background['immigrant']=='Yes'), 'immigrant']= 'no'\n",
    "background.loc[(background['immigrant']=='No'), 'immigrant']= 'yes'\n",
    "background.loc[(background['immigrant']=='Not applicable')|\n",
    "               (background['immigrant']=='No answer')|\n",
    "               (background['immigrant']==\"Don't know\"), 'immigrant']= 'n/a'"
   ]
  },
  {
   "cell_type": "markdown",
   "metadata": {},
   "source": [
    "The 'Rs living standard compared to parents' is messy and highly incomplete, so I will drop it for this analysis. In addition, after consideration, parental education levels are more appropriately placed in the education table so they will also be dropped from this table.  "
   ]
  },
  {
   "cell_type": "code",
   "execution_count": null,
   "metadata": {},
   "outputs": [],
   "source": [
    "background.drop(['Rs living standard compared to parents', \n",
    "                 'Fathers highest degree', 'Mothers highest degree'], axis= 1, inplace= True)"
   ]
  },
  {
   "cell_type": "code",
   "execution_count": null,
   "metadata": {},
   "outputs": [],
   "source": [
    "background = pd.get_dummies(data= background)"
   ]
  },
  {
   "cell_type": "code",
   "execution_count": null,
   "metadata": {},
   "outputs": [],
   "source": [
    "background = weight(background)"
   ]
  },
  {
   "cell_type": "code",
   "execution_count": null,
   "metadata": {},
   "outputs": [],
   "source": [
    "background.to_csv('data/cleaned_and_weighted/background.csv')"
   ]
  },
  {
   "cell_type": "markdown",
   "metadata": {},
   "source": [
    "##### Criminal Justice Attitudes"
   ]
  },
  {
   "cell_type": "code",
   "execution_count": null,
   "metadata": {},
   "outputs": [],
   "source": [
    "crim_justice = unzip('Criminal_Justice')\n",
    "crim_justice.columns"
   ]
  },
  {
   "cell_type": "code",
   "execution_count": null,
   "metadata": {
    "scrolled": true
   },
   "outputs": [],
   "source": [
    "crim_justice[crim_justice['Ever approve of police striking citizen']=='Yes']['Citizen attacking policeman with fists'].value_counts()"
   ]
  },
  {
   "cell_type": "markdown",
   "metadata": {},
   "source": [
    "The police striking citizens columns lack information on how the police response is defined, and will likely be difficult to interpret given the nature of this analysis. Unfortunately I will have to drop them. "
   ]
  },
  {
   "cell_type": "code",
   "execution_count": null,
   "metadata": {
    "scrolled": true
   },
   "outputs": [],
   "source": [
    "crim_justice.drop(['Citizen attacking policeman with fists', \n",
    "                   'Citizen attempting to escape custody', \n",
    "                   'Citizen questioned as murder suspect', \n",
    "                   'Citizen said vulgar or obscene things', \n",
    "                   'Ever approve of police striking citizen'], axis = 1, inplace = True)"
   ]
  },
  {
   "cell_type": "code",
   "execution_count": null,
   "metadata": {},
   "outputs": [],
   "source": [
    "crim_justice.rename(columns = {'Should marijuana be made legal': 'legalize_marijuana',\n",
    "                             'Courts dealing with criminals': 'sentencing',\n",
    "                             'Favor or oppose death penalty for murder': 'death_penalty', \n",
    "                             'Afraid to walk at night in neighborhood': 'fear'}, inplace=True)"
   ]
  },
  {
   "cell_type": "code",
   "execution_count": null,
   "metadata": {
    "scrolled": true
   },
   "outputs": [],
   "source": [
    "crim_justice = pd.get_dummies(data = crim_justice)\n",
    "crim_justice.head()"
   ]
  },
  {
   "cell_type": "code",
   "execution_count": null,
   "metadata": {},
   "outputs": [],
   "source": [
    "crim_justice = weight(crim_justice)"
   ]
  },
  {
   "cell_type": "code",
   "execution_count": null,
   "metadata": {},
   "outputs": [],
   "source": [
    "crim_justice.to_csv('data/cleaned_and_weighted/crim_justice.csv')"
   ]
  },
  {
   "cell_type": "markdown",
   "metadata": {},
   "source": [
    "##### Education"
   ]
  },
  {
   "cell_type": "code",
   "execution_count": null,
   "metadata": {},
   "outputs": [],
   "source": [
    "education = unzip('Education')\n",
    "education.columns"
   ]
  },
  {
   "cell_type": "code",
   "execution_count": null,
   "metadata": {},
   "outputs": [],
   "source": [
    "for col in education.columns:\n",
    "    print(education[col].value_counts())\n",
    "    print('\\n')"
   ]
  },
  {
   "cell_type": "markdown",
   "metadata": {},
   "source": [
    "With so many not applicable entries for the field of degree, it is more appropriate to remove them from the analysis. "
   ]
  },
  {
   "cell_type": "code",
   "execution_count": null,
   "metadata": {},
   "outputs": [],
   "source": [
    "education.drop(['The field of degree r earned'], axis=1, inplace=True)"
   ]
  },
  {
   "cell_type": "code",
   "execution_count": null,
   "metadata": {},
   "outputs": [],
   "source": [
    "education.rename(columns = {'Highest year of school completed':'school_years',\n",
    "                            'Highest year school completed, father':'school_years_dad', \n",
    "                            'Highest year school completed, mother':'school_years_mom',\n",
    "                            'Rs highest degree':'degree',\n",
    "                            'Fathers highest degree':'degree_dad',\n",
    "                            'Mothers highest degree': 'degree_mom'}, inplace=True)"
   ]
  },
  {
   "cell_type": "code",
   "execution_count": null,
   "metadata": {},
   "outputs": [],
   "source": [
    "education.head()"
   ]
  },
  {
   "cell_type": "code",
   "execution_count": null,
   "metadata": {},
   "outputs": [],
   "source": [
    "education = pd.get_dummies(data= education, columns=['degree', 'degree_dad', 'degree_mom'])"
   ]
  },
  {
   "cell_type": "code",
   "execution_count": null,
   "metadata": {},
   "outputs": [],
   "source": [
    "education = weight(education)"
   ]
  },
  {
   "cell_type": "code",
   "execution_count": null,
   "metadata": {},
   "outputs": [],
   "source": [
    "education.to_csv('data/cleaned_and_weighted/education.csv')"
   ]
  },
  {
   "cell_type": "markdown",
   "metadata": {},
   "source": [
    "##### Employment"
   ]
  },
  {
   "cell_type": "code",
   "execution_count": null,
   "metadata": {
    "scrolled": true
   },
   "outputs": [],
   "source": [
    "employment = unzip('Employment')\n",
    "employment.columns"
   ]
  },
  {
   "cell_type": "code",
   "execution_count": null,
   "metadata": {},
   "outputs": [],
   "source": [
    "for col in employment.columns:\n",
    "    print(employment[col].value_counts())\n",
    "    print('\\n')"
   ]
  },
  {
   "cell_type": "code",
   "execution_count": null,
   "metadata": {},
   "outputs": [],
   "source": [
    "employment.drop(['Is r likely to lose job', 'Could r find equally good job', \n",
    "                 'Job or housework', 'If rich, continue or stop working', \n",
    "                 'Workers need strong unions'], axis=1, inplace = True)"
   ]
  },
  {
   "cell_type": "code",
   "execution_count": null,
   "metadata": {
    "scrolled": true
   },
   "outputs": [],
   "source": [
    "employment.rename(columns= {'Does r or spouse belong to union': 'union',\n",
    "                            'Number of hours usually work a week': 'wrk_hrs',\n",
    "                            'Labor force status': 'job_status',\n",
    "                            'Rs occupational prestige score using threshold method (2010)': 'prestige'}, \n",
    "                  inplace = True)"
   ]
  },
  {
   "cell_type": "code",
   "execution_count": null,
   "metadata": {
    "scrolled": true
   },
   "outputs": [],
   "source": [
    "employment.head()"
   ]
  },
  {
   "cell_type": "code",
   "execution_count": null,
   "metadata": {},
   "outputs": [],
   "source": [
    "employment = pd.get_dummies(data = employment, columns=['union', 'wrk_hrs', 'job_status'])\n",
    "employment = weight(employment)"
   ]
  },
  {
   "cell_type": "code",
   "execution_count": null,
   "metadata": {},
   "outputs": [],
   "source": [
    "employment.to_csv('data/cleaned_and_weighted/employment.csv')"
   ]
  },
  {
   "cell_type": "markdown",
   "metadata": {},
   "source": [
    "###### Family Values"
   ]
  },
  {
   "cell_type": "code",
   "execution_count": null,
   "metadata": {},
   "outputs": [],
   "source": [
    "fam_vals = unzip('Family_Values')\n",
    "fam_vals.columns"
   ]
  },
  {
   "cell_type": "code",
   "execution_count": null,
   "metadata": {},
   "outputs": [],
   "source": [
    "for col in fam_vals.columns:\n",
    "    print(fam_vals[col].value_counts())\n",
    "    print('\\n')"
   ]
  },
  {
   "cell_type": "code",
   "execution_count": null,
   "metadata": {},
   "outputs": [],
   "source": [
    "fam_vals.rename(columns= {'Better for man to work, woman tend home': 'trad_roles', \n",
    "                          'Preschool kids suffer if mother works': 'mom_wrk_kids_suffer', \n",
    "                          'Favor spanking to discipline child': 'spanking',\n",
    "                          'Ideal number of children': 'bst_num_chld', \n",
    "                          'To help others': 'tch_to_help',\n",
    "                          'To work hard': 'tch_to_wrk', \n",
    "                          'To think for ones self': 'tch_ind', \n",
    "                          'To be well liked or popular': 'tch_pop',\n",
    "                          'To obey': 'tch_obey', \n",
    "                          'Number of children': 'num_chld',\n",
    "                          'Number of family generations in household': 'num_gen'}, inplace=True)"
   ]
  },
  {
   "cell_type": "code",
   "execution_count": null,
   "metadata": {},
   "outputs": [],
   "source": [
    "fam_vals.drop(['Rs kids living standard compared to r', 'Rs living standard compared to parents', \n",
    "               'Highest year school completed, mother', 'Highest year school completed, father', \n",
    "               'Number of brothers and sisters'], axis=1, inplace=True)"
   ]
  },
  {
   "cell_type": "code",
   "execution_count": null,
   "metadata": {},
   "outputs": [],
   "source": [
    "fam_vals.loc[fam_vals['num_gen']=='1 gen', 'num_gen']= 1\n",
    "fam_vals.loc[(fam_vals['num_gen']=='2 gens, children')|\n",
    "             (fam_vals['num_gen']=='2 gens, parents')|\n",
    "             (fam_vals['num_gen']=='2 gens, grandchldrn'), 'num_gen']= 2\n",
    "fam_vals.loc[(fam_vals['num_gen']=='3 gens, grandchldrn')|\n",
    "             (fam_vals['num_gen']=='3 gens, chld, par'), 'num_gen']= 3\n",
    "fam_vals.loc[fam_vals['num_gen']=='4 gens', 'num_gen']= 4"
   ]
  },
  {
   "cell_type": "code",
   "execution_count": null,
   "metadata": {},
   "outputs": [],
   "source": [
    "fam_vals.head()"
   ]
  },
  {
   "cell_type": "code",
   "execution_count": null,
   "metadata": {},
   "outputs": [],
   "source": [
    "fam_vals = pd.get_dummies(data = fam_vals, columns=['trad_roles', 'mom_wrk_kids_suffer', \n",
    "                                                    'spanking', 'tch_to_help', 'tch_to_wrk', \n",
    "                                                    'tch_ind', 'tch_pop', 'tch_obey', 'num_gen'])\n",
    "fam_vals = weight(fam_vals)"
   ]
  },
  {
   "cell_type": "code",
   "execution_count": null,
   "metadata": {},
   "outputs": [],
   "source": [
    "fam_vals.to_csv('data/cleaned_and_weighted/fam_vals.csv')"
   ]
  },
  {
   "cell_type": "markdown",
   "metadata": {},
   "source": [
    "###### Gender and Sexuality"
   ]
  },
  {
   "cell_type": "code",
   "execution_count": 6,
   "metadata": {},
   "outputs": [
    {
     "data": {
      "text/plain": [
       "Index(['year', 'Should hire and promote women                            ',\n",
       "       'For or against preferential hiring of women      ',\n",
       "       'Better for man to work, woman tend home',\n",
       "       'Preschool kids suffer if mother works',\n",
       "       'Sex before marriage -- teens 14-16', 'Sex before marriage',\n",
       "       'Divorce laws', 'Sex education in public schools',\n",
       "       'Birth control to teenagers 14-16', 'Women not suited for politics',\n",
       "       'id', 'Homosexuals should have right to marry'],\n",
       "      dtype='object')"
      ]
     },
     "execution_count": 6,
     "metadata": {},
     "output_type": "execute_result"
    }
   ],
   "source": [
    "gender = unzip('Gender_and_Sexuality')\n",
    "gender.columns"
   ]
  },
  {
   "cell_type": "code",
   "execution_count": 7,
   "metadata": {},
   "outputs": [
    {
     "name": "stdout",
     "output_type": "stream",
     "text": [
      "2006    4510\n",
      "1994    2992\n",
      "1996    2904\n",
      "2016    2867\n",
      "1998    2832\n",
      "2000    2817\n",
      "2004    2812\n",
      "2002    2765\n",
      "2014    2538\n",
      "2018    2348\n",
      "2010    2044\n",
      "2008    2023\n",
      "2012    1974\n",
      "1982    1860\n",
      "1987    1819\n",
      "1972    1613\n",
      "1993    1606\n",
      "1983    1599\n",
      "1989    1537\n",
      "1985    1534\n",
      "1978    1532\n",
      "1977    1530\n",
      "1991    1517\n",
      "1973    1504\n",
      "1976    1499\n",
      "1975    1490\n",
      "1974    1484\n",
      "1988    1481\n",
      "1984    1473\n",
      "1986    1470\n",
      "1980    1468\n",
      "1990    1372\n",
      "Name: year, dtype: int64\n",
      "\n",
      "\n",
      "Not applicable                55917\n",
      "Agree                          4092\n",
      "Disagree                       1674\n",
      "Strongly agree                 1639\n",
      "Neither agree nor disagree      958\n",
      "Strongly disagree               351\n",
      "No answer                       123\n",
      "Dont know                        60\n",
      "Name: Should hire and promote women                            , dtype: int64\n",
      "\n",
      "\n",
      "Not applicable      56391\n",
      "Strongly against     3105\n",
      "Against              2263\n",
      "Strongly for         1739\n",
      "For                   862\n",
      "Don't know            371\n",
      "No answer              83\n",
      "Name: For or against preferential hiring of women      , dtype: int64\n",
      "\n",
      "\n",
      "Not applicable       34111\n",
      "Disagree             13061\n",
      "Agree                 8992\n",
      "Strongly disagree     5479\n",
      "Strongly agree        2543\n",
      "Don't know             534\n",
      "No answer               94\n",
      "Name: Better for man to work, woman tend home, dtype: int64\n",
      "\n",
      "\n",
      "Not applicable       34111\n",
      "Disagree             13640\n",
      "Agree                10220\n",
      "Strongly disagree     3588\n",
      "Strongly agree        2602\n",
      "Don't know             568\n",
      "No answer               85\n",
      "Name: Preschool kids suffer if mother works, dtype: int64\n",
      "\n",
      "\n",
      "Not applicable      37644\n",
      "Always wrong        18310\n",
      "Almst always wrg     4362\n",
      "Sometimes wrong      2790\n",
      "Not wrong at all     1306\n",
      "Don't know            327\n",
      "No answer              75\n",
      "Name: Sex before marriage -- teens 14-16, dtype: int64\n",
      "\n",
      "\n",
      "Not applicable      25002\n",
      "Not wrong at all    17060\n",
      "Always wrong        10235\n",
      "Sometimes wrong      7777\n",
      "Almst always wrg     3506\n",
      "Don't know           1046\n",
      "No answer             188\n",
      "Name: Sex before marriage, dtype: int64\n",
      "\n",
      "\n",
      "Not applicable    25116\n",
      "More difficult    18252\n",
      "Easier            11079\n",
      "Stay same          8164\n",
      "Don't know         2068\n",
      "No answer           135\n",
      "Name: Divorce laws, dtype: int64\n",
      "\n",
      "\n",
      "Favor             31142\n",
      "Not applicable    28148\n",
      "Oppose             4597\n",
      "Don't know          819\n",
      "No answer            99\n",
      "Depends               9\n",
      "Name: Sex education in public schools, dtype: int64\n",
      "\n",
      "\n",
      "Not applicable       38325\n",
      "Agree                 8107\n",
      "Strongly agree        6937\n",
      "Disagree              5893\n",
      "Strongly disagree     4811\n",
      "Don't know             662\n",
      "No answer               79\n",
      "Name: Birth control to teenagers 14-16, dtype: int64\n",
      "\n",
      "\n",
      "Not applicable    28283\n",
      "Disagree          24748\n",
      "Agree              9807\n",
      "Not sure           1875\n",
      "No answer           101\n",
      "Name: Women not suited for politics, dtype: int64\n",
      "\n",
      "\n",
      "2047     1\n",
      "39558    1\n",
      "12947    1\n",
      "14994    1\n",
      "8849     1\n",
      "        ..\n",
      "48445    1\n",
      "46396    1\n",
      "36155    1\n",
      "34106    1\n",
      "0        1\n",
      "Name: id, Length: 64814, dtype: int64\n",
      "\n",
      "\n",
      "Not applicable                51062\n",
      "Strongly disagree              3635\n",
      "Strongly agree                 3093\n",
      "Agree                          2966\n",
      "Disagree                       2086\n",
      "Neither agree nor disagree     1684\n",
      "Cant choose                     202\n",
      "No answer                        86\n",
      "Name: Homosexuals should have right to marry, dtype: int64\n",
      "\n",
      "\n"
     ]
    }
   ],
   "source": [
    "for col in gender.columns:\n",
    "    print(gender[col].value_counts())\n",
    "    print('\\n')"
   ]
  },
  {
   "cell_type": "code",
   "execution_count": null,
   "metadata": {},
   "outputs": [],
   "source": [
    "gender.drop(['Should hire and promote women                            ', \n",
    "             'For or against preferential hiring of women      ', \n",
    "             'Better for man to work, woman tend home', 'Preschool kids suffer if mother works',\n",
    "             'Sex before marriage -- teens 14-16', 'Birth control to teenagers 14-16'], \n",
    "            axis = 1, inplace = True)"
   ]
  },
  {
   "cell_type": "code",
   "execution_count": null,
   "metadata": {},
   "outputs": [],
   "source": [
    "gender.rename(columns ={'Sex before marriage':'sex_before_marr',\n",
    "                        'Divorce laws': 'divorce', \n",
    "                        'Sex education in public schools':'sex_ed',\n",
    "                        'Women not suited for politics': 'no_women_pol',\n",
    "                        'Homosexuals should have the right to marry':'gay_marr'})"
   ]
  },
  {
   "cell_type": "code",
   "execution_count": null,
   "metadata": {},
   "outputs": [],
   "source": [
    "gender = weight(gender)\n",
    "gender.to_csv('data/cleaned_and_weighted/gender.csv')"
   ]
  },
  {
   "cell_type": "markdown",
   "metadata": {},
   "source": [
    "###### Identity"
   ]
  },
  {
   "cell_type": "code",
   "execution_count": null,
   "metadata": {},
   "outputs": [],
   "source": [
    "pers_id = unzip('Identity')\n",
    "pers_id.columns"
   ]
  },
  {
   "cell_type": "code",
   "execution_count": null,
   "metadata": {
    "scrolled": true
   },
   "outputs": [],
   "source": [
    "for col in pers_id.columns:\n",
    "    print(pers_id[col].value_counts())\n",
    "    print('\\n')"
   ]
  },
  {
   "cell_type": "code",
   "execution_count": null,
   "metadata": {},
   "outputs": [],
   "source": [
    "pers_id.rename(columns={'Age of respondent':'age', \n",
    "                      'Respondents sex':'sex', \n",
    "                      'Race of respondent':'race',\n",
    "                      'Region of interview':'region'}, inplace = True)"
   ]
  },
  {
   "cell_type": "code",
   "execution_count": null,
   "metadata": {},
   "outputs": [],
   "source": [
    "pers_id = pd.get_dummies(data = pers_id, columns=['sex', 'race', 'region'])\n",
    "pers_id = weight(pers_id)"
   ]
  },
  {
   "cell_type": "code",
   "execution_count": null,
   "metadata": {},
   "outputs": [],
   "source": [
    "pers_id.to_csv('data/cleaned_and_weighted/pers_id.csv')"
   ]
  },
  {
   "cell_type": "markdown",
   "metadata": {},
   "source": [
    "###### Lifestyle"
   ]
  },
  {
   "cell_type": "code",
   "execution_count": null,
   "metadata": {
    "scrolled": true
   },
   "outputs": [],
   "source": [
    "lifestyle = unzip('Lifestyle')\n",
    "lifestyle.columns"
   ]
  },
  {
   "cell_type": "code",
   "execution_count": null,
   "metadata": {},
   "outputs": [],
   "source": [
    "for col in lifestyle.columns:\n",
    "    print(lifestyle[col].value_counts())\n",
    "    print('\\n')"
   ]
  },
  {
   "cell_type": "code",
   "execution_count": null,
   "metadata": {},
   "outputs": [],
   "source": [
    "lifestyle.rename(columns = {'Hours per day watching tv':'hrs_tv',\n",
    "                            'How often does r read newspaper':'paper',\n",
    "                            'Have gun in home':'gun',\n",
    "                            'Is life exciting or dull':'life',\n",
    "                            'General happiness':'happy',\n",
    "                            \"R's age when 1st child born\":'age_at_frst_chld',\n",
    "                            'Marital status':'married',\n",
    "                            'Does r own or rent home?':'rent_or_own'}, inplace = True)"
   ]
  },
  {
   "cell_type": "code",
   "execution_count": null,
   "metadata": {},
   "outputs": [],
   "source": [
    "lifestyle.drop(['Does r or spouse hunt', 'Spend evening at bar', \n",
    "                'Spend evening with friends', 'Spend evening with neighbor', \n",
    "                'Spend evening with relatives', 'Age of respondent', 'Number of children',\n",
    "                'Number of hours usually work a week'], axis=1, inplace=True)"
   ]
  },
  {
   "cell_type": "code",
   "execution_count": null,
   "metadata": {},
   "outputs": [],
   "source": [
    "lifestyle = weight(lifestyle)\n",
    "lifestyle.to_csv('data/cleaned_and_weighted/lifestyle.csv')"
   ]
  },
  {
   "cell_type": "markdown",
   "metadata": {},
   "source": [
    "###### Opinions"
   ]
  },
  {
   "cell_type": "code",
   "execution_count": 11,
   "metadata": {
    "scrolled": true
   },
   "outputs": [
    {
     "data": {
      "text/plain": [
       "Index(['year', 'Foreign aid', 'Welfare', 'Highways and bridges',\n",
       "       'Social security', 'Mass transportation', 'Parks and recreation',\n",
       "       'Assistance for childcare', 'Supporting scientific research        ',\n",
       "       'Military, armaments, and defense',\n",
       "       'Improving the conditions of blacks', 'id', 'Space exploration program',\n",
       "       'Improving & protecting environment',\n",
       "       'Improving & protecting nations health',\n",
       "       'Solving problems of big cities', 'Halting rising crime rate',\n",
       "       'Dealing with drug addiction', 'Improving nations education system',\n",
       "       'Developing alternative energy sources'],\n",
       "      dtype='object')"
      ]
     },
     "execution_count": 11,
     "metadata": {},
     "output_type": "execute_result"
    }
   ],
   "source": [
    "opinions = unzip('Opinions')\n",
    "opinions.columns"
   ]
  },
  {
   "cell_type": "code",
   "execution_count": 12,
   "metadata": {},
   "outputs": [
    {
     "name": "stdout",
     "output_type": "stream",
     "text": [
      "2006    4510\n",
      "1994    2992\n",
      "1996    2904\n",
      "2016    2867\n",
      "1998    2832\n",
      "2000    2817\n",
      "2004    2812\n",
      "2002    2765\n",
      "2014    2538\n",
      "2018    2348\n",
      "2010    2044\n",
      "2008    2023\n",
      "2012    1974\n",
      "1982    1860\n",
      "1987    1819\n",
      "1972    1613\n",
      "1993    1606\n",
      "1983    1599\n",
      "1989    1537\n",
      "1985    1534\n",
      "1978    1532\n",
      "1977    1530\n",
      "1991    1517\n",
      "1973    1504\n",
      "1976    1499\n",
      "1975    1490\n",
      "1974    1484\n",
      "1988    1481\n",
      "1984    1473\n",
      "1986    1470\n",
      "1980    1468\n",
      "1990    1372\n",
      "Name: year, dtype: int64\n",
      "\n",
      "\n",
      "Not applicable    27662\n",
      "Too much          24317\n",
      "About right        8477\n",
      "Too little         2355\n",
      "Don't know         1891\n",
      "No answer           112\n",
      "Name: Foreign aid, dtype: int64\n",
      "\n",
      "\n",
      "Not applicable    27662\n",
      "Too much          16980\n",
      "About right       11144\n",
      "Too little         7376\n",
      "Don't know         1525\n",
      "No answer           127\n",
      "Name: Welfare, dtype: int64\n",
      "\n",
      "\n",
      "About right       21903\n",
      "Too little        18568\n",
      "Not applicable    17581\n",
      "Too much           4635\n",
      "Don't know         1823\n",
      "No answer           304\n",
      "Name: Highways and bridges, dtype: int64\n",
      "\n",
      "\n",
      "Too little        25867\n",
      "Not applicable    17581\n",
      "About right       16158\n",
      "Too much           2732\n",
      "Don't know         2170\n",
      "No answer           306\n",
      "Name: Social security, dtype: int64\n",
      "\n",
      "\n",
      "About right       22030\n",
      "Not applicable    17581\n",
      "Too little        16482\n",
      "Too much           4390\n",
      "Don't know         4034\n",
      "No answer           297\n",
      "Name: Mass transportation, dtype: int64\n",
      "\n",
      "\n",
      "About right       27439\n",
      "Not applicable    17581\n",
      "Too little        15116\n",
      "Too much           2780\n",
      "Don't know         1637\n",
      "No answer           261\n",
      "Name: Parks and recreation, dtype: int64\n",
      "\n",
      "\n",
      "Not applicable    39634\n",
      "Too little        13273\n",
      "About right        8460\n",
      "Don't know         1738\n",
      "Too much           1675\n",
      "No answer            34\n",
      "Name: Assistance for childcare, dtype: int64\n",
      "\n",
      "\n",
      "Not applicable    45269\n",
      "About right        8451\n",
      "Too little         7579\n",
      "Too much           2203\n",
      "Don't know         1288\n",
      "No answer            24\n",
      "Name: Supporting scientific research        , dtype: int64\n",
      "\n",
      "\n",
      "Not applicable    27662\n",
      "About right       15030\n",
      "Too much          11385\n",
      "Too little         8781\n",
      "Don't know         1829\n",
      "No answer           127\n",
      "Name: Military, armaments, and defense, dtype: int64\n",
      "\n",
      "\n",
      "Not applicable    27662\n",
      "About right       15164\n",
      "Too little        12141\n",
      "Too much           6506\n",
      "Don't know         3113\n",
      "No answer           228\n",
      "Name: Improving the conditions of blacks, dtype: int64\n",
      "\n",
      "\n",
      "2047     1\n",
      "39558    1\n",
      "12947    1\n",
      "14994    1\n",
      "8849     1\n",
      "        ..\n",
      "48445    1\n",
      "46396    1\n",
      "36155    1\n",
      "34106    1\n",
      "0        1\n",
      "Name: id, Length: 64814, dtype: int64\n",
      "\n",
      "\n",
      "Not applicable    27662\n",
      "Too much          15584\n",
      "About right       14362\n",
      "Too little         4750\n",
      "Don't know         2386\n",
      "No answer            70\n",
      "Name: Space exploration program, dtype: int64\n",
      "\n",
      "\n",
      "Not applicable    27662\n",
      "Too little        21658\n",
      "About right       10626\n",
      "Too much           3132\n",
      "Don't know         1631\n",
      "No answer           105\n",
      "Name: Improving & protecting environment, dtype: int64\n",
      "\n",
      "\n",
      "Not applicable    27662\n",
      "Too little        23779\n",
      "About right        9786\n",
      "Too much           2317\n",
      "Don't know         1161\n",
      "No answer           109\n",
      "Name: Improving & protecting nations health, dtype: int64\n",
      "\n",
      "\n",
      "Not applicable    27662\n",
      "Too little        16642\n",
      "About right       10761\n",
      "Too much           5216\n",
      "Don't know         4388\n",
      "No answer           145\n",
      "Name: Solving problems of big cities, dtype: int64\n",
      "\n",
      "\n",
      "Not applicable    27662\n",
      "Too little        23971\n",
      "About right        9384\n",
      "Too much           2180\n",
      "Don't know         1466\n",
      "No answer           151\n",
      "Name: Halting rising crime rate, dtype: int64\n",
      "\n",
      "\n",
      "Not applicable    27662\n",
      "Too little        22005\n",
      "About right       10179\n",
      "Too much           2994\n",
      "Don't know         1819\n",
      "No answer           155\n",
      "Name: Dealing with drug addiction, dtype: int64\n",
      "\n",
      "\n",
      "Not applicable    27662\n",
      "Too little        23423\n",
      "About right       10183\n",
      "Too much           2491\n",
      "Don't know          946\n",
      "No answer           109\n",
      "Name: Improving nations education system, dtype: int64\n",
      "\n",
      "\n",
      "Not applicable    53043\n",
      "Too little         6691\n",
      "About right        3542\n",
      "Too much           1027\n",
      "Don't know          505\n",
      "No answer             6\n",
      "Name: Developing alternative energy sources, dtype: int64\n",
      "\n",
      "\n"
     ]
    }
   ],
   "source": [
    "for col in opinions.columns:\n",
    "    print(opinions[col].value_counts())\n",
    "    print('\\n')"
   ]
  },
  {
   "cell_type": "code",
   "execution_count": 13,
   "metadata": {},
   "outputs": [
    {
     "data": {
      "text/plain": [
       "2006    3026\n",
       "1972    1613\n",
       "1994    1484\n",
       "1996    1463\n",
       "1998    1451\n",
       "2016    1430\n",
       "2004    1411\n",
       "2000    1408\n",
       "2002    1407\n",
       "2014    1264\n",
       "1987    1216\n",
       "2018    1160\n",
       "2010    1030\n",
       "2008    1019\n",
       "1984     983\n",
       "2012     976\n",
       "1993     807\n",
       "1985     783\n",
       "1989     769\n",
       "1988     763\n",
       "1991     761\n",
       "1986     740\n",
       "1990     698\n",
       "Name: year, dtype: int64"
      ]
     },
     "execution_count": 13,
     "metadata": {},
     "output_type": "execute_result"
    }
   ],
   "source": [
    "opinions[opinions['Welfare']=='Not applicable']['year'].value_counts()"
   ]
  },
  {
   "cell_type": "code",
   "execution_count": null,
   "metadata": {},
   "outputs": [],
   "source": [
    "opinions = weight(opinions)\n"
   ]
  },
  {
   "cell_type": "code",
   "execution_count": null,
   "metadata": {},
   "outputs": [],
   "source": [
    "opinions.to_csv('data/cleaned_and_weighted/opinions.csv')"
   ]
  },
  {
   "cell_type": "markdown",
   "metadata": {},
   "source": [
    "###### Race Relations"
   ]
  },
  {
   "cell_type": "code",
   "execution_count": 8,
   "metadata": {},
   "outputs": [
    {
     "data": {
      "text/plain": [
       "Index(['year', 'Whites hurt by aff. action', 'Hard working - lazy',\n",
       "       'Hard working - lazy.1', 'Rich - poor', 'Rich - poor.1',\n",
       "       'Should govt aid blacks?', 'Differences due to lack of will',\n",
       "       'Differences due to lack of education',\n",
       "       'Differences due to inborn disability',\n",
       "       'Differences due to discrimination',\n",
       "       'Blacks overcome prejudice without favors ',\n",
       "       'Favor preference in hiring blacks', 'Any opp. race in neighborhood',\n",
       "       'Favor law against racial intermarriage',\n",
       "       'Improving the conditions of blacks', 'id',\n",
       "       'Number of immigrants nowadays should be'],\n",
       "      dtype='object')"
      ]
     },
     "execution_count": 8,
     "metadata": {},
     "output_type": "execute_result"
    }
   ],
   "source": [
    "race = unzip('Race_Relations')\n",
    "race.columns"
   ]
  },
  {
   "cell_type": "markdown",
   "metadata": {},
   "source": [
    "###### Religion"
   ]
  },
  {
   "cell_type": "code",
   "execution_count": 9,
   "metadata": {},
   "outputs": [
    {
     "data": {
      "text/plain": [
       "Index(['year', 'id', 'Rs religious preference',\n",
       "       'How often r attends religious services', 'Strength of affiliation',\n",
       "       'How often does r pray', 'Bible prayer in public schools'],\n",
       "      dtype='object')"
      ]
     },
     "execution_count": 9,
     "metadata": {},
     "output_type": "execute_result"
    }
   ],
   "source": [
    "religion = unzip('Religion')\n",
    "religion.columns"
   ]
  },
  {
   "cell_type": "markdown",
   "metadata": {},
   "source": [
    "###### Socioeconomic Status"
   ]
  },
  {
   "cell_type": "code",
   "execution_count": null,
   "metadata": {},
   "outputs": [],
   "source": [
    "ses = unzip('SES')\n",
    "ses.columns"
   ]
  },
  {
   "cell_type": "markdown",
   "metadata": {},
   "source": [
    "###### Systems"
   ]
  },
  {
   "cell_type": "code",
   "execution_count": 10,
   "metadata": {},
   "outputs": [
    {
     "data": {
      "text/plain": [
       "Index(['year', 'Confidence in congress', 'Confidence in scientific community',\n",
       "       'Confid. in united states supreme court', 'Confidence in television',\n",
       "       'Confidence in medicine', 'Confidence in press',\n",
       "       'Confidence in organized labor', 'Confid. in exec branch of fed govt',\n",
       "       'Confidence in education', 'Confidence in organized religion',\n",
       "       'Confidence in major companies',\n",
       "       'Confid in banks & financial institutions', 'id',\n",
       "       'Confidence in military'],\n",
       "      dtype='object')"
      ]
     },
     "execution_count": 10,
     "metadata": {},
     "output_type": "execute_result"
    }
   ],
   "source": [
    "systems = unzip('Systems')\n",
    "systems.columns"
   ]
  },
  {
   "cell_type": "code",
   "execution_count": 27,
   "metadata": {},
   "outputs": [
    {
     "name": "stdout",
     "output_type": "stream",
     "text": [
      "2006    4510\n",
      "1994    2992\n",
      "1996    2904\n",
      "2016    2867\n",
      "1998    2832\n",
      "2000    2817\n",
      "2004    2812\n",
      "2002    2765\n",
      "2014    2538\n",
      "2018    2348\n",
      "2010    2044\n",
      "2008    2023\n",
      "2012    1974\n",
      "1982    1860\n",
      "1987    1819\n",
      "1972    1613\n",
      "1993    1606\n",
      "1983    1599\n",
      "1989    1537\n",
      "1985    1534\n",
      "1978    1532\n",
      "1977    1530\n",
      "1991    1517\n",
      "1973    1504\n",
      "1976    1499\n",
      "1975    1490\n",
      "1974    1484\n",
      "1988    1481\n",
      "1984    1473\n",
      "1986    1470\n",
      "1980    1468\n",
      "1990    1372\n",
      "Name: year, dtype: int64\n",
      "\n",
      "\n",
      "Only some         23881\n",
      "Not applicable    20759\n",
      "Hardly any        13640\n",
      "A great deal       5185\n",
      "Don't know         1210\n",
      "No answer           139\n",
      "Name: Confidence in congress, dtype: int64\n",
      "\n",
      "\n",
      "Not applicable    20759\n",
      "Only some         20308\n",
      "A great deal      17514\n",
      "Don't know         3104\n",
      "Hardly any         2962\n",
      "No answer           167\n",
      "Name: Confidence in scientific community, dtype: int64\n",
      "\n",
      "\n",
      "Only some         22238\n",
      "Not applicable    20760\n",
      "A great deal      13436\n",
      "Hardly any         6503\n",
      "Don't know         1740\n",
      "No answer           137\n",
      "Name: Confid. in united states supreme court, dtype: int64\n",
      "\n",
      "\n",
      "Only some         22979\n",
      "Not applicable    20759\n",
      "Hardly any        14641\n",
      "A great deal       5676\n",
      "Don't know          621\n",
      "No answer           138\n",
      "Name: Confidence in television, dtype: int64\n",
      "\n",
      "\n",
      "Not applicable    20759\n",
      "A great deal      19815\n",
      "Only some         19766\n",
      "Hardly any         3903\n",
      "Don't know          459\n",
      "No answer           112\n",
      "Name: Confidence in medicine, dtype: int64\n",
      "\n",
      "\n",
      "Only some         22578\n",
      "Not applicable    20759\n",
      "Hardly any        13886\n",
      "A great deal       6623\n",
      "Don't know          849\n",
      "No answer           119\n",
      "Name: Confidence in press, dtype: int64\n",
      "\n",
      "\n",
      "Only some         23240\n",
      "Not applicable    20759\n",
      "Hardly any        13122\n",
      "A great deal       5117\n",
      "Don't know         2449\n",
      "No answer           127\n",
      "Name: Confidence in organized labor, dtype: int64\n",
      "\n",
      "\n",
      "Only some         21768\n",
      "Not applicable    20759\n",
      "Hardly any        14033\n",
      "A great deal       6938\n",
      "Don't know         1190\n",
      "No answer           126\n",
      "Name: Confid. in exec branch of fed govt, dtype: int64\n",
      "\n",
      "\n",
      "Only some         24242\n",
      "Not applicable    20759\n",
      "A great deal      12985\n",
      "Hardly any         6165\n",
      "Don't know          542\n",
      "No answer           121\n",
      "Name: Confidence in education, dtype: int64\n",
      "\n",
      "\n",
      "Only some         21692\n",
      "Not applicable    20759\n",
      "A great deal      11681\n",
      "Hardly any         9052\n",
      "Don't know         1442\n",
      "No answer           188\n",
      "Name: Confidence in organized religion, dtype: int64\n",
      "\n",
      "\n",
      "Only some         25916\n",
      "Not applicable    20759\n",
      "A great deal       9896\n",
      "Hardly any         6472\n",
      "Don't know         1663\n",
      "No answer           108\n",
      "Name: Confidence in major companies, dtype: int64\n",
      "\n",
      "\n",
      "Not applicable    23747\n",
      "Only some         22482\n",
      "A great deal       9827\n",
      "Hardly any         7917\n",
      "Don't know          744\n",
      "No answer            97\n",
      "Name: Confid in banks & financial institutions, dtype: int64\n",
      "\n",
      "\n",
      "2047     1\n",
      "39558    1\n",
      "12947    1\n",
      "14994    1\n",
      "8849     1\n",
      "        ..\n",
      "48445    1\n",
      "46396    1\n",
      "36155    1\n",
      "34106    1\n",
      "0        1\n",
      "Name: id, Length: 64814, dtype: int64\n",
      "\n",
      "\n",
      "Not applicable    20759\n",
      "Only some         19935\n",
      "A great deal      17745\n",
      "Hardly any         5116\n",
      "Don't know         1142\n",
      "No answer           117\n",
      "Name: Confidence in military, dtype: int64\n",
      "\n",
      "\n"
     ]
    }
   ],
   "source": [
    "for col in systems.columns:\n",
    "    print(systems[col].value_counts())\n",
    "    print('\\n')"
   ]
  },
  {
   "cell_type": "markdown",
   "metadata": {},
   "source": [
    "###### Voter Identity"
   ]
  },
  {
   "cell_type": "code",
   "execution_count": 20,
   "metadata": {},
   "outputs": [
    {
     "data": {
      "text/plain": [
       "Index(['year', 'Did r vote in 1992 election', 'Vote for clinton, bush, perot',\n",
       "       'Who would r have voted for-1992 election',\n",
       "       'Did r vote in 1996 election', 'Vote for clinton, dole, perot',\n",
       "       'Who would r have voted for-1996 election',\n",
       "       'Did r vote in 2000 election', 'Vote for gore, bush, nader',\n",
       "       'Who would r has voted for in 2000 election',\n",
       "       'Did r vote in 2004 election', 'Vote for kerry, bush, nader',\n",
       "       'Who would r has voted for in 2004 election',\n",
       "       'Did r vote in 2008 election', 'Vote obama or mccain',\n",
       "       'Who you would have voted for', 'Did r vote in 2012 election',\n",
       "       'Vote obama or romney', 'Who would r have voted for-1988 election',\n",
       "       'Vote for dukakis or bush', 'Did r vote in 1988 election', 'id',\n",
       "       'Political party affiliation', 'Did r vote in 1968 election',\n",
       "       'Vote for humphrey, nixon, or wallace',\n",
       "       'Who would r have voted for-1968 election',\n",
       "       'Did r vote in 1972 election', 'Vote for mcgovern or nixon',\n",
       "       'Who would r have voted for-1972 election',\n",
       "       'Did r vote in 1976 election', 'Vote for carter or ford',\n",
       "       'Who would r have voted for-1976 election',\n",
       "       'Did r vote in 1980 election', 'Vote for carter, reagan or anderson',\n",
       "       'Who would r have voted for-1980 election',\n",
       "       'Did r vote in 1984 election', 'Vote for reagan or mondale',\n",
       "       'Who would r have voted for-1984 election',\n",
       "       'Who would r have voted for in 2012 election'],\n",
       "      dtype='object')"
      ]
     },
     "execution_count": 20,
     "metadata": {},
     "output_type": "execute_result"
    }
   ],
   "source": [
    "party = unzip('Voter_Identity')\n",
    "party.columns"
   ]
  },
  {
   "cell_type": "code",
   "execution_count": 28,
   "metadata": {},
   "outputs": [],
   "source": [
    "party = party[['year', 'Political party affiliation']]"
   ]
  },
  {
   "cell_type": "code",
   "execution_count": 29,
   "metadata": {},
   "outputs": [],
   "source": [
    "party = weight(party)"
   ]
  },
  {
   "cell_type": "code",
   "execution_count": 31,
   "metadata": {},
   "outputs": [],
   "source": [
    "party.to_csv('data/cleaned_and_weighted/party.csv')"
   ]
  },
  {
   "cell_type": "code",
   "execution_count": null,
   "metadata": {},
   "outputs": [],
   "source": []
  }
 ],
 "metadata": {
  "kernelspec": {
   "display_name": "learn-env",
   "language": "python",
   "name": "learn-env"
  },
  "language_info": {
   "codemirror_mode": {
    "name": "ipython",
    "version": 3
   },
   "file_extension": ".py",
   "mimetype": "text/x-python",
   "name": "python",
   "nbconvert_exporter": "python",
   "pygments_lexer": "ipython3",
   "version": "3.7.4"
  }
 },
 "nbformat": 4,
 "nbformat_minor": 2
}
