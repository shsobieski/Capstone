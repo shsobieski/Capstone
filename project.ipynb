{
 "cells": [
  {
   "cell_type": "code",
   "execution_count": 1,
   "metadata": {},
   "outputs": [],
   "source": [
    "import pandas as pd\n",
    "import tarfile\n",
    "from bs4 import BeautifulSoup\n",
    "import requests\n",
    "import re\n",
    "import matplotlib.pyplot as plt\n",
    "import seaborn as sns\n",
    "from pandas.plotting import register_matplotlib_converters\n",
    "register_matplotlib_converters()\n",
    "from statsmodels.tsa.arima_model import ARIMA\n",
    "import statsmodels.api as sm\n",
    "from statsmodels.tsa.stattools import adfuller\n",
    "import numpy as np\n",
    "\n",
    "%run -i \"functions/unzip.py\"\n",
    "%run -i \"functions/scrape_platforms.py\"\n",
    "%run -i \"functions/scrape_SotU.py\"\n",
    "%run -i \"functions/create_ts.py\"\n",
    "%run -i \"functions/party_splits.py\""
   ]
  },
  {
   "cell_type": "markdown",
   "metadata": {},
   "source": [
    "# Survey Data\n",
    "#### Weights\n",
    "This function will encorporate sample weights provided by the University of Chicago General Social Survey, which is the source of all the survey data used in this analysis."
   ]
  },
  {
   "cell_type": "code",
   "execution_count": 2,
   "metadata": {},
   "outputs": [],
   "source": [
    "weights = unzip('Weights')\n",
    "\n",
    "def weight(df):\n",
    "    return df.loc[df.index.repeat(round(weights['Weight variable']*10, 0))].reset_index()"
   ]
  },
  {
   "cell_type": "markdown",
   "metadata": {},
   "source": [
    "#### Voter Identity"
   ]
  },
  {
   "cell_type": "code",
   "execution_count": 3,
   "metadata": {},
   "outputs": [
    {
     "data": {
      "text/html": [
       "<div>\n",
       "<style scoped>\n",
       "    .dataframe tbody tr th:only-of-type {\n",
       "        vertical-align: middle;\n",
       "    }\n",
       "\n",
       "    .dataframe tbody tr th {\n",
       "        vertical-align: top;\n",
       "    }\n",
       "\n",
       "    .dataframe thead th {\n",
       "        text-align: right;\n",
       "    }\n",
       "</style>\n",
       "<table border=\"1\" class=\"dataframe\">\n",
       "  <thead>\n",
       "    <tr style=\"text-align: right;\">\n",
       "      <th></th>\n",
       "      <th>year</th>\n",
       "      <th>Political party affiliation</th>\n",
       "    </tr>\n",
       "  </thead>\n",
       "  <tbody>\n",
       "    <tr>\n",
       "      <td>0</td>\n",
       "      <td>1972</td>\n",
       "      <td>Ind,near dem</td>\n",
       "    </tr>\n",
       "    <tr>\n",
       "      <td>1</td>\n",
       "      <td>1972</td>\n",
       "      <td>Ind,near dem</td>\n",
       "    </tr>\n",
       "    <tr>\n",
       "      <td>2</td>\n",
       "      <td>1972</td>\n",
       "      <td>Ind,near dem</td>\n",
       "    </tr>\n",
       "    <tr>\n",
       "      <td>3</td>\n",
       "      <td>1972</td>\n",
       "      <td>Ind,near dem</td>\n",
       "    </tr>\n",
       "    <tr>\n",
       "      <td>4</td>\n",
       "      <td>1972</td>\n",
       "      <td>Not str democrat</td>\n",
       "    </tr>\n",
       "  </tbody>\n",
       "</table>\n",
       "</div>"
      ],
      "text/plain": [
       "   year Political party affiliation\n",
       "0  1972                Ind,near dem\n",
       "1  1972                Ind,near dem\n",
       "2  1972                Ind,near dem\n",
       "3  1972                Ind,near dem\n",
       "4  1972            Not str democrat"
      ]
     },
     "execution_count": 3,
     "metadata": {},
     "output_type": "execute_result"
    }
   ],
   "source": [
    "party = unzip('Voter_Identity')\n",
    "party = party[['year', 'Political party affiliation']]\n",
    "party = weight(party)\n",
    "party.drop('index', axis = 1, inplace= True)\n",
    "party.head()"
   ]
  },
  {
   "cell_type": "code",
   "execution_count": 4,
   "metadata": {},
   "outputs": [
    {
     "data": {
      "text/plain": [
       "Not str democrat      131833\n",
       "Not str republican    101264\n",
       "Independent           100052\n",
       "Strong democrat        99652\n",
       "Ind,near dem           76687\n",
       "Strong republican      63506\n",
       "Ind,near rep           58747\n",
       "Other party            10708\n",
       "No answer               4099\n",
       "Don't know               143\n",
       "Name: party, dtype: int64"
      ]
     },
     "execution_count": 4,
     "metadata": {},
     "output_type": "execute_result"
    }
   ],
   "source": [
    "party.rename(columns = {'Political party affiliation':'party'}, inplace=True)\n",
    "party['party'].value_counts()"
   ]
  },
  {
   "cell_type": "code",
   "execution_count": 5,
   "metadata": {},
   "outputs": [
    {
     "data": {
      "text/html": [
       "<div>\n",
       "<style scoped>\n",
       "    .dataframe tbody tr th:only-of-type {\n",
       "        vertical-align: middle;\n",
       "    }\n",
       "\n",
       "    .dataframe tbody tr th {\n",
       "        vertical-align: top;\n",
       "    }\n",
       "\n",
       "    .dataframe thead th {\n",
       "        text-align: right;\n",
       "    }\n",
       "</style>\n",
       "<table border=\"1\" class=\"dataframe\">\n",
       "  <thead>\n",
       "    <tr style=\"text-align: right;\">\n",
       "      <th></th>\n",
       "      <th>year</th>\n",
       "      <th>Democrat</th>\n",
       "      <th>Independent</th>\n",
       "      <th>Lean Democrat</th>\n",
       "      <th>Lean Republican</th>\n",
       "      <th>Other</th>\n",
       "      <th>Republican</th>\n",
       "      <th>Strong Democrat</th>\n",
       "      <th>Strong Republican</th>\n",
       "    </tr>\n",
       "  </thead>\n",
       "  <tbody>\n",
       "    <tr>\n",
       "      <td>0</td>\n",
       "      <td>1972</td>\n",
       "      <td>0.268597</td>\n",
       "      <td>0.101286</td>\n",
       "      <td>0.106590</td>\n",
       "      <td>0.060721</td>\n",
       "      <td>0.043248</td>\n",
       "      <td>0.140414</td>\n",
       "      <td>0.207314</td>\n",
       "      <td>0.071830</td>\n",
       "    </tr>\n",
       "    <tr>\n",
       "      <td>1</td>\n",
       "      <td>1973</td>\n",
       "      <td>0.254349</td>\n",
       "      <td>0.096850</td>\n",
       "      <td>0.126805</td>\n",
       "      <td>0.093828</td>\n",
       "      <td>0.044933</td>\n",
       "      <td>0.148163</td>\n",
       "      <td>0.152059</td>\n",
       "      <td>0.083014</td>\n",
       "    </tr>\n",
       "    <tr>\n",
       "      <td>2</td>\n",
       "      <td>1974</td>\n",
       "      <td>0.257948</td>\n",
       "      <td>0.101148</td>\n",
       "      <td>0.138574</td>\n",
       "      <td>0.073600</td>\n",
       "      <td>0.041461</td>\n",
       "      <td>0.147061</td>\n",
       "      <td>0.169739</td>\n",
       "      <td>0.070470</td>\n",
       "    </tr>\n",
       "    <tr>\n",
       "      <td>3</td>\n",
       "      <td>1975</td>\n",
       "      <td>0.238108</td>\n",
       "      <td>0.135818</td>\n",
       "      <td>0.139635</td>\n",
       "      <td>0.084503</td>\n",
       "      <td>0.008382</td>\n",
       "      <td>0.159398</td>\n",
       "      <td>0.172209</td>\n",
       "      <td>0.061946</td>\n",
       "    </tr>\n",
       "    <tr>\n",
       "      <td>4</td>\n",
       "      <td>1976</td>\n",
       "      <td>0.270044</td>\n",
       "      <td>0.162836</td>\n",
       "      <td>0.142204</td>\n",
       "      <td>0.070580</td>\n",
       "      <td>0.001959</td>\n",
       "      <td>0.149386</td>\n",
       "      <td>0.145208</td>\n",
       "      <td>0.057783</td>\n",
       "    </tr>\n",
       "  </tbody>\n",
       "</table>\n",
       "</div>"
      ],
      "text/plain": [
       "   year  Democrat  Independent  Lean Democrat  Lean Republican     Other  \\\n",
       "0  1972  0.268597     0.101286       0.106590         0.060721  0.043248   \n",
       "1  1973  0.254349     0.096850       0.126805         0.093828  0.044933   \n",
       "2  1974  0.257948     0.101148       0.138574         0.073600  0.041461   \n",
       "3  1975  0.238108     0.135818       0.139635         0.084503  0.008382   \n",
       "4  1976  0.270044     0.162836       0.142204         0.070580  0.001959   \n",
       "\n",
       "   Republican  Strong Democrat  Strong Republican  \n",
       "0    0.140414         0.207314           0.071830  \n",
       "1    0.148163         0.152059           0.083014  \n",
       "2    0.147061         0.169739           0.070470  \n",
       "3    0.159398         0.172209           0.061946  \n",
       "4    0.149386         0.145208           0.057783  "
      ]
     },
     "execution_count": 5,
     "metadata": {},
     "output_type": "execute_result"
    }
   ],
   "source": [
    "party.loc[party['party']=='Not str democrat', 'party']= 'Democrat'\n",
    "party.loc[party['party']=='Not str republican', 'party']= 'Republican'\n",
    "party.loc[party['party']=='Strong democrat', 'party']= 'Strong Democrat'\n",
    "party.loc[party['party']=='Ind,near dem', 'party']= 'Lean Democrat'\n",
    "party.loc[party['party']=='Strong republican', 'party']= 'Strong Republican'\n",
    "party.loc[party['party']=='Ind,near rep', 'party']= 'Lean Republican'\n",
    "party.loc[party['party']=='Other party', 'party']= 'Other'\n",
    "parties = ['Democrat', 'Independent', 'Lean Democrat', \n",
    "           'Lean Republican', 'Other', 'Republican', \n",
    "           'Strong Democrat', 'Strong Republican']\n",
    "percent_parties = create_ts(party, parties)\n",
    "percent_parties.head()"
   ]
  },
  {
   "cell_type": "code",
   "execution_count": 6,
   "metadata": {},
   "outputs": [
    {
     "data": {
      "image/png": "[encoded data removed]",
      "text/plain": [
       "<Figure size 432x288 with 1 Axes>"
      ]
     },
     "metadata": {
      "needs_background": "light"
     },
     "output_type": "display_data"
    }
   ],
   "source": [
    "sns.lineplot(x= 'year', y = 'Lean Democrat', data= percent_parties, \n",
    "             color = 'skyblue', label= 'Lean Democrat')\n",
    "sns.lineplot(x= 'year', y = 'Democrat', data= percent_parties, \n",
    "             color = 'dodgerblue', label= 'Democrat')\n",
    "sns.lineplot(x= 'year', y = 'Strong Democrat', data= percent_parties, \n",
    "             color = 'blue', label= 'Strong Democrat');"
   ]
  },
  {
   "cell_type": "code",
   "execution_count": 7,
   "metadata": {},
   "outputs": [
    {
     "data": {
      "image/png": "[encoded data removed]",
      "text/plain": [
       "<Figure size 432x288 with 1 Axes>"
      ]
     },
     "metadata": {
      "needs_background": "light"
     },
     "output_type": "display_data"
    }
   ],
   "source": [
    "sns.lineplot(x= 'year', y = 'Independent', data= percent_parties, \n",
    "             color= 'plum', label= 'Independent')\n",
    "sns.lineplot(x= 'year', y = 'Other', data= percent_parties, \n",
    "             color= 'grey', label= 'Other');"
   ]
  },
  {
   "cell_type": "code",
   "execution_count": 8,
   "metadata": {},
   "outputs": [
    {
     "data": {
      "image/png": "[encoded data removed]",
      "text/plain": [
       "<Figure size 432x288 with 1 Axes>"
      ]
     },
     "metadata": {
      "needs_background": "light"
     },
     "output_type": "display_data"
    }
   ],
   "source": [
    "sns.lineplot(x= 'year', y = 'Strong Republican', data= percent_parties, \n",
    "             color= 'crimson', label= 'Strong Republican')\n",
    "sns.lineplot(x= 'year', y = 'Republican', data= percent_parties, \n",
    "             color= 'red', label= 'Republican')\n",
    "sns.lineplot(x= 'year', y = 'Lean Republican', data= percent_parties, \n",
    "             color= 'hotpink', label= 'Lean Republican');"
   ]
  },
  {
   "cell_type": "code",
   "execution_count": 9,
   "metadata": {},
   "outputs": [],
   "source": [
    "overall = pd.DataFrame(percent_parties['year'])\n",
    "overall['Democrat']= (percent_parties['Lean Democrat']\n",
    "                      +percent_parties['Democrat']\n",
    "                      +percent_parties['Strong Democrat']) \n",
    "overall['Republican']= (percent_parties['Lean Republican']\n",
    "                        +percent_parties['Republican']\n",
    "                        +percent_parties['Strong Republican'])\n",
    "overall['Independent']= percent_parties['Independent']\n",
    "overall['Other'] = percent_parties['Other']"
   ]
  },
  {
   "cell_type": "code",
   "execution_count": 10,
   "metadata": {},
   "outputs": [
    {
     "data": {
      "image/png": "[encoded data removed]",
      "text/plain": [
       "<Figure size 432x288 with 1 Axes>"
      ]
     },
     "metadata": {
      "needs_background": "light"
     },
     "output_type": "display_data"
    }
   ],
   "source": [
    "sns.lineplot(x='year', y='Democrat', data=overall, \n",
    "             color= 'blue', label= 'Democrat')\n",
    "sns.lineplot(x='year', y='Republican', data=overall, \n",
    "             color= 'red', label= 'Republican')\n",
    "sns.lineplot(x='year', y='Independent', data=overall, \n",
    "             color= 'plum', label= 'Independent')\n",
    "sns.lineplot(x='year', y='Other', data=overall, \n",
    "             color= 'grey', label= 'Other');"
   ]
  },
  {
   "cell_type": "code",
   "execution_count": 11,
   "metadata": {
    "scrolled": true
   },
   "outputs": [],
   "source": [
    "dem_ts = overall['Democrat']"
   ]
  },
  {
   "cell_type": "code",
   "execution_count": 12,
   "metadata": {},
   "outputs": [],
   "source": [
    "dem_ts.index = pd.to_datetime(overall['year'], format='%Y')\n",
    "dem_ts.index = dem_ts.index.to_period('Y')"
   ]
  },
  {
   "cell_type": "code",
   "execution_count": 13,
   "metadata": {
    "scrolled": true
   },
   "outputs": [
    {
     "name": "stdout",
     "output_type": "stream",
     "text": [
      "Results of Dickey-Fuller Test:\n",
      "p-value    0.127998\n",
      "dtype: float64\n"
     ]
    }
   ],
   "source": [
    "print('Results of Dickey-Fuller Test:')\n",
    "dftest = adfuller(dem_ts, autolag='AIC')\n",
    "dfoutput = pd.Series(dftest[1], index=['p-value'])\n",
    "print(dfoutput)"
   ]
  },
  {
   "cell_type": "code",
   "execution_count": 21,
   "metadata": {},
   "outputs": [],
   "source": [
    "roll_dem = dem_ts.rolling(window= 4, center=False).mean()\n",
    "transformed = dem_ts - roll_dem"
   ]
  },
  {
   "cell_type": "code",
   "execution_count": 22,
   "metadata": {},
   "outputs": [
    {
     "name": "stdout",
     "output_type": "stream",
     "text": [
      "Results of Dickey-Fuller Test:\n",
      "p-value    0.000041\n",
      "dtype: float64\n"
     ]
    }
   ],
   "source": [
    "print('Results of Dickey-Fuller Test:')\n",
    "dftest = adfuller(transformed[3:], autolag='AIC')\n",
    "dfoutput = pd.Series(dftest[1], index=['p-value'])\n",
    "print(dfoutput)"
   ]
  },
  {
   "cell_type": "code",
   "execution_count": 23,
   "metadata": {},
   "outputs": [],
   "source": [
    "transformed = transformed[3:]"
   ]
  },
  {
   "cell_type": "code",
   "execution_count": 64,
   "metadata": {},
   "outputs": [
    {
     "name": "stderr",
     "output_type": "stream",
     "text": [
      "C:\\Users\\Shawn\\Anaconda3\\lib\\site-packages\\statsmodels\\base\\model.py:492: HessianInversionWarning: Inverting hessian failed, no bse or cov_params available\n",
      "  'available', HessianInversionWarning)\n",
      "C:\\Users\\Shawn\\Anaconda3\\lib\\site-packages\\statsmodels\\base\\model.py:492: HessianInversionWarning: Inverting hessian failed, no bse or cov_params available\n",
      "  'available', HessianInversionWarning)\n",
      "C:\\Users\\Shawn\\Anaconda3\\lib\\site-packages\\statsmodels\\base\\model.py:492: HessianInversionWarning: Inverting hessian failed, no bse or cov_params available\n",
      "  'available', HessianInversionWarning)\n",
      "C:\\Users\\Shawn\\Anaconda3\\lib\\site-packages\\statsmodels\\base\\model.py:492: HessianInversionWarning: Inverting hessian failed, no bse or cov_params available\n",
      "  'available', HessianInversionWarning)\n",
      "C:\\Users\\Shawn\\Anaconda3\\lib\\site-packages\\statsmodels\\base\\model.py:492: HessianInversionWarning: Inverting hessian failed, no bse or cov_params available\n",
      "  'available', HessianInversionWarning)\n",
      "C:\\Users\\Shawn\\Anaconda3\\lib\\site-packages\\statsmodels\\base\\model.py:492: HessianInversionWarning: Inverting hessian failed, no bse or cov_params available\n",
      "  'available', HessianInversionWarning)\n"
     ]
    },
    {
     "name": "stdout",
     "output_type": "stream",
     "text": [
      "(1, 1, 1)\n"
     ]
    }
   ],
   "source": [
    "best_aic = 0\n",
    "for combo in [(1,1,1),(1,1,2),(2,1,1),(2,1,2),(3,1,1),\n",
    "              (3,1,2),(1,1,3),(2,1,3),(3,1,3),(4,1,1),\n",
    "              (4,1,2),(4,1,1),(1,1,4),(2,1,4),(3,1,4),\n",
    "              (4,1,4),(5,1,1),(5,1,2),(5,1,3),(5,1,4),\n",
    "              (1,1,5),(2,1,5),(3,1,5),(4,1,5),(5,1,5)]:\n",
    "    try:\n",
    "        model = ARIMA(dem_ts, order=combo)\n",
    "        arma = model.fit(disp=0)\n",
    "        score = arma.aic\n",
    "        if score < best_aic:\n",
    "            best_aic = score\n",
    "            best_combo = combo\n",
    "        else: \n",
    "            continue\n",
    "    except:\n",
    "        continue\n",
    "print(best_combo)"
   ]
  },
  {
   "cell_type": "code",
   "execution_count": 65,
   "metadata": {},
   "outputs": [
    {
     "data": {
      "text/plain": [
       "-122.12875976580733"
      ]
     },
     "execution_count": 65,
     "metadata": {},
     "output_type": "execute_result"
    }
   ],
   "source": [
    "model = ARIMA(dem_ts, order=(1,1,1))\n",
    "arma = model.fit(disp=0)\n",
    "arma.aic"
   ]
  },
  {
   "cell_type": "code",
   "execution_count": 66,
   "metadata": {
    "scrolled": true
   },
   "outputs": [],
   "source": [
    "preds = pd.Series(arma.forecast(10)[0])\n",
    "future = list(range(2019,2029))\n",
    "preds.index = pd.to_datetime(future, format='%Y')\n",
    "preds.index = preds.index.to_period('Y')"
   ]
  },
  {
   "cell_type": "code",
   "execution_count": 67,
   "metadata": {},
   "outputs": [
    {
     "data": {
      "image/png": "[encoded data removed]",
      "text/plain": [
       "<Figure size 432x288 with 1 Axes>"
      ]
     },
     "metadata": {
      "needs_background": "light"
     },
     "output_type": "display_data"
    }
   ],
   "source": [
    "dem_ts.plot()\n",
    "preds.plot();"
   ]
  },
  {
   "cell_type": "code",
   "execution_count": null,
   "metadata": {},
   "outputs": [],
   "source": [
    "predictions = pd.Series(arma.forecast(10)[0])\n",
    "future = list(range(2019,2029))\n",
    "predictions.index = pd.to_datetime(future, format='%Y')\n",
    "predictions.index = predictions.index.to_period('Y')\n",
    "predictions"
   ]
  },
  {
   "cell_type": "code",
   "execution_count": null,
   "metadata": {},
   "outputs": [],
   "source": [
    "dem_ts.plot()\n",
    "roll_dem.plot()\n",
    "history.plot();"
   ]
  },
  {
   "cell_type": "code",
   "execution_count": null,
   "metadata": {},
   "outputs": [],
   "source": [
    "arma.forecast()"
   ]
  },
  {
   "cell_type": "code",
   "execution_count": null,
   "metadata": {},
   "outputs": [],
   "source": [
    "def difference(dataset, interval=1):\n",
    "    diff = list()\n",
    "    for i in range(interval, len(dataset)):\n",
    "        value = dataset[i] - dataset[i - interval]\n",
    "        diff.append(value)\n",
    "    return np.array(diff)"
   ]
  },
  {
   "cell_type": "code",
   "execution_count": null,
   "metadata": {
    "scrolled": true
   },
   "outputs": [],
   "source": [
    "diff = difference(roll_dem)\n",
    "diff"
   ]
  },
  {
   "cell_type": "code",
   "execution_count": null,
   "metadata": {},
   "outputs": [],
   "source": [
    "model = ARIMA(diff[5:], order=(1,0,2))\n",
    "model_fit = model.fit(disp=0)"
   ]
  },
  {
   "cell_type": "code",
   "execution_count": null,
   "metadata": {},
   "outputs": [],
   "source": [
    "forecast = model_fit.predict(3, 60)"
   ]
  },
  {
   "cell_type": "code",
   "execution_count": null,
   "metadata": {},
   "outputs": [],
   "source": [
    "history = [x for x in dem_ts.values[:2]]\n",
    "def inverse_difference(history, yhat, interval=1):\n",
    "    return yhat + history[-interval]\n",
    "\n",
    "for yhat in forecast:\n",
    "    inverted = inverse_difference(history, yhat)\n",
    "    history.append(inverted)\n",
    "history = pd.Series(history)\n",
    "history.index = pd.to_datetime(range(1972,2032), format='%Y')\n",
    "history.index = history.index.to_period('Y')"
   ]
  },
  {
   "cell_type": "code",
   "execution_count": null,
   "metadata": {},
   "outputs": [],
   "source": [
    "# create a differenced series\n",
    "def difference(dataset, interval=1):\n",
    "    diff = list()\n",
    "    for i in range(interval, len(dataset)):\n",
    "        value = dataset[i] - dataset[i - interval]\n",
    "        diff.append(value)\n",
    "    return numpy.array(diff)\n",
    " \n",
    "# invert differenced value\n",
    "def inverse_difference(history, yhat, interval=1):\n",
    "    return yhat + history[-interval]\n",
    "\n",
    "# seasonal difference\n",
    "X = series.values\n",
    "days_in_year = 365\n",
    "differenced = difference(X, days_in_year)\n",
    "# fit model\n",
    "model = ARIMA(differenced, order=(7,0,1))\n",
    "model_fit = model.fit(disp=0)\n",
    "# multi-step out-of-sample forecast\n",
    "start_index = len(differenced)\n",
    "end_index = start_index + 6\n",
    "forecast = model_fit.predict(start=start_index, end=end_index)\n",
    "# invert the differenced forecast to something usable\n",
    "history = [x for x in X]\n",
    "day = 1\n",
    "for yhat in forecast:\n",
    "    inverted = inverse_difference(history, yhat, days_in_year)\n",
    "    print('Day %d: %f' % (day, inverted))\n",
    "    history.append(inverted)\n",
    "    day += 1"
   ]
  },
  {
   "cell_type": "code",
   "execution_count": null,
   "metadata": {},
   "outputs": [],
   "source": [
    "transformed = dem_ts.diff(periods=4)\n",
    "sns.lineplot(data=transformed);"
   ]
  },
  {
   "cell_type": "code",
   "execution_count": null,
   "metadata": {},
   "outputs": [],
   "source": [
    "import numpy as np\n",
    "transformed = np.log(dem_ts)\n",
    "sns.lineplot(data=transformed);"
   ]
  },
  {
   "cell_type": "code",
   "execution_count": null,
   "metadata": {},
   "outputs": [],
   "source": [
    "from statsmodels.tsa.seasonal import seasonal_decompose\n",
    "decomposition =  seasonal_decompose(transformed)\n",
    "sns.lineplot(decomposition.resid)"
   ]
  },
  {
   "cell_type": "markdown",
   "metadata": {},
   "source": [
    "## Abortion Opinions\n",
    "To reduce dimensionality in the data, I will combine the reasons for abortion into three categories: health, economics, and right-to-choose. There will also be a category for abolishing legal abortion. "
   ]
  },
  {
   "cell_type": "code",
   "execution_count": null,
   "metadata": {},
   "outputs": [],
   "source": [
    "abortion = unzip('Abortion')\n",
    "abortion.info()"
   ]
  },
  {
   "cell_type": "code",
   "execution_count": null,
   "metadata": {
    "scrolled": true
   },
   "outputs": [],
   "source": [
    "abortion.loc[(abortion['Strong chance of serious defect'] == 'Yes')|\n",
    "             (abortion['Married--wants no more children'] == 'Yes')|\n",
    "             (abortion[\"Woman's health seriously endangered\"] == 'Yes')|\n",
    "             (abortion[\"Low income--cant afford more children\"] == 'Yes')|\n",
    "             (abortion[\"Pregnant as result of rape\"] == 'Yes')|\n",
    "             (abortion['Not married']=='Yes'), 'abortion'] = 'conditional'\n",
    "\n",
    "abortion.loc[(abortion['Strong chance of serious defect'] == 'Yes')&\n",
    "             (abortion['Married--wants no more children'] == 'Yes')&\n",
    "             (abortion[\"Woman's health seriously endangered\"] == 'Yes')&\n",
    "             (abortion[\"Low income--cant afford more children\"] == 'Yes')&\n",
    "             (abortion[\"Pregnant as result of rape\"] == 'Yes')&\n",
    "             (abortion['Not married']=='Yes'), 'abortion'] = 'unrestricted'\n",
    "\n",
    "abortion.loc[(abortion['Strong chance of serious defect'] == 'No')&\n",
    "             (abortion['Married--wants no more children'] == 'No')&\n",
    "             (abortion[\"Woman's health seriously endangered\"] == 'No')&\n",
    "             (abortion[\"Low income--cant afford more children\"] == 'No')&\n",
    "             (abortion[\"Pregnant as result of rape\"] == 'No')&\n",
    "             (abortion['Not married']=='No'), 'abortion'] = 'never'\n",
    "\n",
    "abortion.loc[abortion['Abortion if woman wants for any reason']== 'Yes', 'abortion']= 'unrestricted'\n",
    "abortion.head()"
   ]
  },
  {
   "cell_type": "code",
   "execution_count": null,
   "metadata": {},
   "outputs": [],
   "source": [
    "abortion = abortion[['year','id', 'abortion']]\n",
    "abortion = weight(abortion)\n",
    "abortion_percentages = create_ts(abortion, ['unrestricted','conditional','never'])\n",
    "abortion_percentages.head()"
   ]
  },
  {
   "cell_type": "code",
   "execution_count": null,
   "metadata": {},
   "outputs": [],
   "source": [
    "sns.lineplot(x= 'year', y= 'unrestricted', data= abortion_percentages, \n",
    "             color = 'green', label='Unrestricted')\n",
    "sns.lineplot(x= 'year', y= 'conditional', data= abortion_percentages, \n",
    "             color= 'yellow', label='Conditional')\n",
    "sns.lineplot(x= 'year', y= 'never', data= abortion_percentages, \n",
    "             color= 'black', label='Banned');"
   ]
  },
  {
   "cell_type": "code",
   "execution_count": null,
   "metadata": {
    "scrolled": true
   },
   "outputs": [],
   "source": [
    "(rep_ts_abort, \n",
    " dem_ts_abort, \n",
    " ind_ts_abort) = party_splits(abortion,['unrestricted', \n",
    "                                        'conditional', \n",
    "                                        'never'])"
   ]
  },
  {
   "cell_type": "code",
   "execution_count": null,
   "metadata": {},
   "outputs": [],
   "source": [
    "fig = plt.figure(figsize=(20,5))\n",
    "ax1, ax2, ax3 = fig.subplots(nrows=1, ncols=3, sharey= True)\n",
    "\n",
    "sns.lineplot(x= 'year', y= 'unrestricted', data= rep_ts_abort, \n",
    "             color='red', label= 'Republican', ax = ax1)\n",
    "sns.lineplot(x= 'year', y= 'unrestricted', data= dem_ts_abort, \n",
    "             color='blue', label= 'Democrat', ax = ax1)\n",
    "sns.lineplot(x= 'year', y= 'unrestricted', data= ind_ts_abort, \n",
    "             color='purple', label= 'Independent', ax = ax1)\n",
    "ax1.set_title('Unrestricted Access to Abortion by Party')\n",
    "ax1.set_ylabel('Percent of Party')\n",
    "ax1.set_xlabel('')\n",
    "\n",
    "sns.lineplot(x= 'year', y= 'conditional', data= rep_ts_abort, \n",
    "             color='red', label= 'Republican', ax = ax2)\n",
    "sns.lineplot(x= 'year', y= 'conditional', data= dem_ts_abort, \n",
    "             color='blue', label= 'Democrat', ax = ax2)\n",
    "sns.lineplot(x= 'year', y= 'conditional', data= ind_ts_abort, \n",
    "             color='purple', label= 'Independent', ax = ax2)\n",
    "ax2.set_title('Conditional Access to Abortion by Party')\n",
    "ax2.set_xlabel('')\n",
    "\n",
    "sns.lineplot(x= 'year', y= 'never', data= rep_ts_abort, \n",
    "             color='red', label= 'Republican', ax = ax3)\n",
    "sns.lineplot(x= 'year', y= 'never', data= dem_ts_abort, \n",
    "             color='blue', label= 'Democrat', ax = ax3)\n",
    "sns.lineplot(x= 'year', y= 'never', data= ind_ts_abort, \n",
    "             color='purple', label= 'Independent', ax = ax3)\n",
    "ax3.set_title('Ban Access to Abortion by Party')\n",
    "ax3.set_xlabel('')\n",
    "\n",
    "plt.yticks(ticks=[.15, .3, .45, .6, .75], \n",
    "           labels=['','15%', '30%', '45%', '60%', '75%']);"
   ]
  },
  {
   "cell_type": "markdown",
   "metadata": {},
   "source": [
    "It appears that access to abortion is increasingly a part of party identity. As we can see, the gap in beliefs about access to abortion has been increasing, with Democrats more likely to support unrestricted access, Republicans most likely to support conditions on access, and banning access altogether. "
   ]
  },
  {
   "cell_type": "code",
   "execution_count": null,
   "metadata": {},
   "outputs": [],
   "source": [
    "(str_rep, mid_rep, ln_rep, \n",
    " str_dem, mid_dem, ln_dem, \n",
    " oth, ind) = party_splits(abortion, ['unrestricted', \n",
    "                                     'conditional', \n",
    "                                     'never'], split = 'within party')"
   ]
  },
  {
   "cell_type": "code",
   "execution_count": null,
   "metadata": {
    "scrolled": true
   },
   "outputs": [],
   "source": [
    "fig = plt.figure(figsize=(20,5))\n",
    "ax1, ax2, ax3 = fig.subplots(nrows=1, ncols=3, sharey= True)\n",
    "\n",
    "sns.lineplot(x= 'year', y= 'unrestricted', data= str_rep, \n",
    "             color='red', label= 'Strong Republican', ax = ax1)\n",
    "sns.lineplot(x= 'year', y= 'unrestricted', data= mid_rep, \n",
    "             color='blue', label= 'Republican', ax = ax1)\n",
    "sns.lineplot(x= 'year', y= 'unrestricted', data= ln_rep, \n",
    "             color='purple', label= 'Lean Republican', ax = ax1)\n",
    "ax1.set_title('Republican Support for Unrestricted Access to Abortion')\n",
    "ax1.set_ylabel('Percent of Party')\n",
    "ax1.set_xlabel('')\n",
    "\n",
    "sns.lineplot(x= 'year', y= 'conditional', data= str_rep, \n",
    "             color='red', label= 'Strong Republican', ax = ax2)\n",
    "sns.lineplot(x= 'year', y= 'conditional', data= mid_rep, \n",
    "             color='blue', label= 'Republican', ax = ax2)\n",
    "sns.lineplot(x= 'year', y= 'conditional', data= ln_rep, \n",
    "             color='purple', label= 'Lean Republican', ax = ax2)\n",
    "ax2.set_title('Republican Support for Conditional Access to Abortion')\n",
    "ax2.set_xlabel('')\n",
    "\n",
    "sns.lineplot(x= 'year', y= 'never', data= str_rep, \n",
    "             color='red', label= 'Strong Republican', ax = ax3)\n",
    "sns.lineplot(x= 'year', y= 'never', data= mid_rep, \n",
    "             color='blue', label= 'Republican', ax = ax3)\n",
    "sns.lineplot(x= 'year', y= 'never', data= ln_rep, \n",
    "             color='purple', label= 'Lean Republican', ax = ax3)\n",
    "ax3.set_title('Republican Support for Banning Access to Abortion')\n",
    "ax3.set_xlabel('')\n",
    "\n",
    "plt.yticks(ticks=[.15, .3, .45, .6, .75], \n",
    "           labels=['','15%', '30%', '45%', '60%', '75%']);"
   ]
  },
  {
   "cell_type": "code",
   "execution_count": null,
   "metadata": {},
   "outputs": [],
   "source": [
    "fig = plt.figure(figsize=(20,5))\n",
    "ax1, ax2, ax3 = fig.subplots(nrows=1, ncols=3, sharey= True)\n",
    "\n",
    "sns.lineplot(x= 'year', y= 'unrestricted', data= str_dem, \n",
    "             color='red', label= 'Strong Democrat', ax = ax1)\n",
    "sns.lineplot(x= 'year', y= 'unrestricted', data= mid_dem, \n",
    "             color='blue', label= 'Democrat', ax = ax1)\n",
    "sns.lineplot(x= 'year', y= 'unrestricted', data= ln_dem, \n",
    "             color='purple', label= 'Lean Democrat', ax = ax1)\n",
    "ax1.set_title('Democratic Support for Unrestricted Access to Abortion')\n",
    "ax1.set_ylabel('Percent of Party')\n",
    "ax1.set_xlabel('')\n",
    "\n",
    "sns.lineplot(x= 'year', y= 'conditional', data= str_dem, \n",
    "             color='red', label= 'Strong Democrat', ax = ax2)\n",
    "sns.lineplot(x= 'year', y= 'conditional', data= mid_dem, \n",
    "             color='blue', label= 'Democrat', ax = ax2)\n",
    "sns.lineplot(x= 'year', y= 'conditional', data= ln_dem, \n",
    "             color='purple', label= 'Lean Democrat', ax = ax2)\n",
    "ax2.set_title('Democratic Support for Conditional Access to Abortion')\n",
    "ax2.set_xlabel('')\n",
    "\n",
    "sns.lineplot(x= 'year', y= 'never', data= str_dem, \n",
    "             color='red', label= 'Strong Democrat', ax = ax3)\n",
    "sns.lineplot(x= 'year', y= 'never', data= mid_dem, \n",
    "             color='blue', label= 'Democrat', ax = ax3)\n",
    "sns.lineplot(x= 'year', y= 'never', data= ln_dem, \n",
    "             color='purple', label= 'Lean Democrat', ax = ax3)\n",
    "ax3.set_title('Democratic Support for Banning Access to Abortion')\n",
    "ax3.set_xlabel('')\n",
    "\n",
    "plt.yticks(ticks=[.15, .3, .45, .6, .75], \n",
    "           labels=['','15%', '30%', '45%', '60%', '75%']);"
   ]
  },
  {
   "cell_type": "markdown",
   "metadata": {},
   "source": [
    "This trend is even more clear in these graphs, where we can see clearly that the more affiliated a person is the more likely that they support an outright ban. "
   ]
  },
  {
   "cell_type": "code",
   "execution_count": null,
   "metadata": {},
   "outputs": [],
   "source": [
    "str_dem.head()"
   ]
  },
  {
   "cell_type": "markdown",
   "metadata": {},
   "source": [
    "#### Family/ SES Background"
   ]
  },
  {
   "cell_type": "code",
   "execution_count": null,
   "metadata": {},
   "outputs": [],
   "source": [
    "background = unzip('Background')"
   ]
  },
  {
   "cell_type": "code",
   "execution_count": null,
   "metadata": {},
   "outputs": [],
   "source": [
    "background.columns"
   ]
  },
  {
   "cell_type": "code",
   "execution_count": null,
   "metadata": {},
   "outputs": [],
   "source": [
    "for col in background.columns:\n",
    "    print(background[col].value_counts())\n",
    "    print('\\n')"
   ]
  },
  {
   "cell_type": "code",
   "execution_count": null,
   "metadata": {},
   "outputs": [],
   "source": [
    "background.rename(columns = {\"Father's occupational prestige score using threshold method (2010)\": 'father_prestige',\n",
    "                             \"Mother's occupational prestige score using threshold method (2010)\": 'mother_prestige',\n",
    "                             'Religion in which raised': 'raised_relig', \n",
    "                             'How many grandparents born outside u.s.': 'immigrant_gpar', \n",
    "                             'Were rs parents born in this country': 'immigrant_par', \n",
    "                             'Was r born in this country': 'immigrant'}, inplace=True)"
   ]
  },
  {
   "cell_type": "markdown",
   "metadata": {},
   "source": [
    "I will encode the immigration status of parents so that the number of grandparents and parents born outside of the country are counted. Parents born in the U.S will be coded as 0s. Because this data will likely not be used for modeling, I will keep not applicable values as they are. "
   ]
  },
  {
   "cell_type": "code",
   "execution_count": null,
   "metadata": {},
   "outputs": [],
   "source": [
    "background.loc[(background['raised_relig']=='Not applicable')|\n",
    "               (background['raised_relig']=='No answer')|\n",
    "               (background['raised_relig']==\"Don't know\"), 'raised_relig']= 'Other'\n",
    "background.loc[(background['immigrant_gpar']== 'All in u.s'), 'immigrant_gpar']= 0\n",
    "background.loc[(background['immigrant_par']=='Both in u.s')|\n",
    "               (background['immigrant_par']=='Mother; fa. dk')|\n",
    "               (background['immigrant_par']=='Father; mo.dk'), 'immigrant_par']= 0\n",
    "background.loc[(background['immigrant_par']=='Neither in u.s')|\n",
    "               (background['immigrant_par']=='Not mother;fa.dk')|\n",
    "               (background['immigrant_par']=='Not father;mo.dk'), 'immigrant_par']= 2\n",
    "background.loc[(background['immigrant_par']=='Mother only')|\n",
    "               (background['immigrant_par']=='Father only'), 'immigrant_par']= 1\n",
    "background.loc[(background['immigrant']=='Yes'), 'immigrant']= 'no'\n",
    "background.loc[(background['immigrant']=='No'), 'immigrant']= 'yes'\n",
    "background.loc[(background['immigrant']=='Not applicable')|\n",
    "               (background['immigrant']=='No answer')|\n",
    "               (background['immigrant']==\"Don't know\"), 'immigrant']= 'n/a'"
   ]
  },
  {
   "cell_type": "markdown",
   "metadata": {},
   "source": [
    "The 'Rs living standard compared to parents' is messy and highly incomplete, so I will drop it for this analysis. In addition, after consideration, parental education levels are more appropriately placed in the education table so they will also be dropped from this table.  "
   ]
  },
  {
   "cell_type": "code",
   "execution_count": null,
   "metadata": {},
   "outputs": [],
   "source": [
    "background.drop(['Rs living standard compared to parents', \n",
    "                 'Fathers highest degree', 'Mothers highest degree'], axis= 1, inplace= True)"
   ]
  },
  {
   "cell_type": "code",
   "execution_count": null,
   "metadata": {},
   "outputs": [],
   "source": [
    "background = weight(background)"
   ]
  },
  {
   "cell_type": "markdown",
   "metadata": {},
   "source": [
    "## Criminal Justice Attitudes"
   ]
  },
  {
   "cell_type": "code",
   "execution_count": null,
   "metadata": {},
   "outputs": [],
   "source": [
    "crim_justice = unzip('Criminal_Justice')\n",
    "crim_justice.columns"
   ]
  },
  {
   "cell_type": "code",
   "execution_count": null,
   "metadata": {
    "scrolled": true
   },
   "outputs": [],
   "source": [
    "crim_justice[crim_justice['Ever approve of police striking citizen']=='Yes']['Citizen attacking policeman with fists'].value_counts()"
   ]
  },
  {
   "cell_type": "markdown",
   "metadata": {},
   "source": [
    "The police striking citizens columns lack information on how the police response is defined, and will likely be difficult to interpret given the nature of this analysis. Unfortunately I will have to drop them. "
   ]
  },
  {
   "cell_type": "code",
   "execution_count": null,
   "metadata": {
    "scrolled": true
   },
   "outputs": [],
   "source": [
    "crim_justice.drop(['Citizen attacking policeman with fists', \n",
    "                   'Citizen attempting to escape custody', \n",
    "                   'Citizen questioned as murder suspect', \n",
    "                   'Citizen said vulgar or obscene things', \n",
    "                   'Ever approve of police striking citizen'], axis = 1, inplace = True)"
   ]
  },
  {
   "cell_type": "code",
   "execution_count": null,
   "metadata": {},
   "outputs": [],
   "source": [
    "crim_justice.rename(columns = {'Should marijuana be made legal': 'legalize_marijuana',\n",
    "                             'Courts dealing with criminals': 'sentencing',\n",
    "                             'Favor or oppose death penalty for murder': 'death_penalty', \n",
    "                             'Afraid to walk at night in neighborhood': 'fear'}, inplace=True)"
   ]
  },
  {
   "cell_type": "code",
   "execution_count": null,
   "metadata": {},
   "outputs": [],
   "source": [
    "crim_justice = weight(crim_justice)"
   ]
  },
  {
   "cell_type": "code",
   "execution_count": null,
   "metadata": {},
   "outputs": [],
   "source": [
    "crim_justice['legalize_marijuana'].unique()"
   ]
  },
  {
   "cell_type": "code",
   "execution_count": null,
   "metadata": {},
   "outputs": [],
   "source": [
    "rep_ts_mj, dem_ts_mj, ind_ts_mj = party_splits(crim_justice, \n",
    "                                               ['Legal',\n",
    "                                                'Not legal'])"
   ]
  },
  {
   "cell_type": "code",
   "execution_count": null,
   "metadata": {
    "scrolled": true
   },
   "outputs": [],
   "source": [
    "fig = plt.figure(figsize=(20,5))\n",
    "ax1 = fig.subplots(nrows=1, ncols=1, sharey= True)\n",
    "\n",
    "sns.lineplot(x= 'year', y= 'Legal', data= rep_ts_mj, \n",
    "             color='red', label= 'Republican', ax = ax1)\n",
    "sns.lineplot(x= 'year', y= 'Legal', data= dem_ts_mj, \n",
    "             color='blue', label= 'Democrat', ax = ax1)\n",
    "sns.lineplot(x= 'year', y= 'Legal', data= ind_ts_mj, \n",
    "             color='purple', label= 'Independent', ax = ax1)\n",
    "ax1.set_title('Legalization of Marijuana by Party')\n",
    "ax1.set_ylabel('Percent of Party')\n",
    "ax1.set_xlabel('')\n",
    "\n",
    "plt.yticks(ticks=[.15, .3, .45, .6, .75], \n",
    "           labels=['','15%', '30%', '45%', '60%', '75%']);"
   ]
  },
  {
   "cell_type": "markdown",
   "metadata": {},
   "source": [
    "Clearly, attitudes about the legalization of marijuana have changed in favor of legalization, with Democrats leading the way. Another example of a widening partisan divide around certain issues. "
   ]
  },
  {
   "cell_type": "code",
   "execution_count": null,
   "metadata": {},
   "outputs": [],
   "source": [
    "(str_rep, mid_rep, ln_rep, \n",
    " str_dem, mid_dem, ln_dem, \n",
    " oth, ind) = party_splits(crim_justice, ['Legal', \n",
    "                                     'Not legal'], split = 'within party')"
   ]
  },
  {
   "cell_type": "code",
   "execution_count": null,
   "metadata": {
    "scrolled": true
   },
   "outputs": [],
   "source": [
    "fig = plt.figure(figsize=(20,5))\n",
    "ax1, ax2, ax3 = fig.subplots(nrows=1, ncols=3, sharey= True)\n",
    "\n",
    "sns.lineplot(x= 'year', y= 'Legal', data= str_rep, \n",
    "             color='red', label= 'Strong Republican', ax = ax1)\n",
    "sns.lineplot(x= 'year', y= 'Legal', data= mid_rep, \n",
    "             color='blue', label= 'Republican', ax = ax1)\n",
    "sns.lineplot(x= 'year', y= 'Legal', data= ln_rep, \n",
    "             color='purple', label= 'Lean Republican', ax = ax1)\n",
    "ax1.set_title('Legalization of Marijuana by Republican Affiliation')\n",
    "ax1.set_ylabel('Percent of Party')\n",
    "ax1.set_xlabel('')\n",
    "\n",
    "sns.lineplot(x= 'year', y= 'Legal', data= str_dem, \n",
    "             color='red', label= 'Strong Democrat', ax = ax2)\n",
    "sns.lineplot(x= 'year', y= 'Legal', data= mid_dem, \n",
    "             color='blue', label= 'Democratic', ax = ax2)\n",
    "sns.lineplot(x= 'year', y= 'Legal', data= ln_dem, \n",
    "             color='purple', label= 'Lean Democratic', ax = ax2)\n",
    "ax2.set_title('Conditional Access to Abortion by Party')\n",
    "ax2.set_xlabel('')\n",
    "\n",
    "sns.lineplot(x= 'year', y= 'Legal', data= oth, \n",
    "             color='red', label= 'Other', ax = ax3)\n",
    "sns.lineplot(x= 'year', y= 'Legal', data= ind, \n",
    "             color='blue', label= 'Independent', ax = ax3)\n",
    "ax3.set_title('Ban Access to Abortion by Party')\n",
    "ax3.set_xlabel('')\n",
    "\n",
    "plt.yticks(ticks=[.15, .3, .45, .6, .75], \n",
    "           labels=['','15%', '30%', '45%', '60%', '75%']);"
   ]
  },
  {
   "cell_type": "code",
   "execution_count": null,
   "metadata": {},
   "outputs": [],
   "source": [
    "crim_justice['sentencing'].unique()"
   ]
  },
  {
   "cell_type": "code",
   "execution_count": null,
   "metadata": {},
   "outputs": [],
   "source": [
    "rep_ts_sen, dem_ts_sen, ind_ts_sen = party_splits(crim_justice, \n",
    "                                               ['About right',\n",
    "                                                'Not harsh enough', \n",
    "                                                'Too harsh'])"
   ]
  },
  {
   "cell_type": "code",
   "execution_count": null,
   "metadata": {
    "scrolled": false
   },
   "outputs": [],
   "source": [
    "fig = plt.figure(figsize=(20,5))\n",
    "ax1, ax2, ax3 = fig.subplots(nrows=1, ncols=3, sharey= True)\n",
    "\n",
    "sns.lineplot(x= 'year', y= 'About right', data= rep_ts_sen, \n",
    "             color='red', label= 'Republican', ax = ax1)\n",
    "sns.lineplot(x= 'year', y= 'About right', data= dem_ts_sen, \n",
    "             color='blue', label= 'Democrat', ax = ax1)\n",
    "sns.lineplot(x= 'year', y= 'About right', data= ind_ts_sen, \n",
    "             color='purple', label= 'Independent', ax = ax1)\n",
    "ax1.set_title('Criminal Sentencing is about right')\n",
    "ax1.set_ylabel('Percent of Party')\n",
    "ax1.set_xlabel('')\n",
    "\n",
    "sns.lineplot(x= 'year', y= 'Not harsh enough', data= rep_ts_sen, \n",
    "             color='red', label= 'Republican', ax = ax2)\n",
    "sns.lineplot(x= 'year', y= 'Not harsh enough', data= dem_ts_sen, \n",
    "             color='blue', label= 'Democrat', ax = ax2)\n",
    "sns.lineplot(x= 'year', y= 'Not harsh enough', data= ind_ts_sen, \n",
    "             color='purple', label= 'Independent', ax = ax2)\n",
    "ax2.set_title('Criminal Sentencing is not harsh enough')\n",
    "ax2.set_xlabel('')\n",
    "\n",
    "sns.lineplot(x= 'year', y= 'Too harsh', data= rep_ts_sen, \n",
    "             color='red', label= 'Republican', ax = ax3)\n",
    "sns.lineplot(x= 'year', y= 'Too harsh', data= dem_ts_sen, \n",
    "             color='blue', label= 'Democrat', ax = ax3)\n",
    "sns.lineplot(x= 'year', y= 'Too harsh', data= ind_ts_sen, \n",
    "             color='purple', label= 'Independent', ax = ax3)\n",
    "ax3.set_title('Criminal Sentencing is too harsh')\n",
    "ax3.set_xlabel('')\n",
    "\n",
    "plt.yticks(ticks=[.15, .3, .45, .6, .75], \n",
    "           labels=['','15%', '30%', '45%', '60%', '75%']);"
   ]
  },
  {
   "cell_type": "markdown",
   "metadata": {},
   "source": [
    "It seems as though the people who think criminal sentencing is about right are not clearly from one party or another. When it comes to sentencing otherwise a more clear difference emerges. "
   ]
  },
  {
   "cell_type": "code",
   "execution_count": null,
   "metadata": {},
   "outputs": [],
   "source": [
    "(str_rep, mid_rep, ln_rep, \n",
    " str_dem, mid_dem, ln_dem, \n",
    " oth, ind) = party_splits(crim_justice, ['About right',\n",
    "                                         'Not harsh enough', \n",
    "                                         'Too harsh'], split='within party')"
   ]
  },
  {
   "cell_type": "code",
   "execution_count": null,
   "metadata": {},
   "outputs": [],
   "source": [
    "fig = plt.figure(figsize=(20,5))\n",
    "ax1, ax2, ax3 = fig.subplots(nrows=1, ncols=3, sharey= True)\n",
    "\n",
    "sns.lineplot(x= 'year', y= 'About right', data= str_rep, \n",
    "             color='red', label= 'Republican', ax = ax1)\n",
    "sns.lineplot(x= 'year', y= 'About right', data= mid_rep, \n",
    "             color='blue', label= 'Democrat', ax = ax1)\n",
    "sns.lineplot(x= 'year', y= 'About right', data= ln_rep, \n",
    "             color='purple', label= 'Independent', ax = ax1)\n",
    "ax1.set_title('Criminal Sentencing is about right')\n",
    "ax1.set_ylabel('Percent of Party')\n",
    "ax1.set_xlabel('')\n",
    "\n",
    "sns.lineplot(x= 'year', y= 'Not harsh enough', data= str_rep, \n",
    "             color='red', label= 'Republican', ax = ax2)\n",
    "sns.lineplot(x= 'year', y= 'Not harsh enough', data= mid_rep, \n",
    "             color='blue', label= 'Democrat', ax = ax2)\n",
    "sns.lineplot(x= 'year', y= 'Not harsh enough', data= ln_rep, \n",
    "             color='purple', label= 'Independent', ax = ax2)\n",
    "ax2.set_title('Criminal Sentencing is not harsh enough')\n",
    "ax2.set_xlabel('')\n",
    "\n",
    "sns.lineplot(x= 'year', y= 'Too harsh', data= str_rep, \n",
    "             color='red', label= 'Republican', ax = ax3)\n",
    "sns.lineplot(x= 'year', y= 'Too harsh', data= mid_rep, \n",
    "             color='blue', label= 'Democrat', ax = ax3)\n",
    "sns.lineplot(x= 'year', y= 'Too harsh', data= ln_rep, \n",
    "             color='purple', label= 'Independent', ax = ax3)\n",
    "ax3.set_title('Criminal Sentencing is too harsh')\n",
    "ax3.set_xlabel('')\n",
    "\n",
    "plt.yticks(ticks=[.15, .3, .45, .6, .75], \n",
    "           labels=['','15%', '30%', '45%', '60%', '75%']);"
   ]
  },
  {
   "cell_type": "markdown",
   "metadata": {},
   "source": [
    "##### Education"
   ]
  },
  {
   "cell_type": "code",
   "execution_count": null,
   "metadata": {},
   "outputs": [],
   "source": [
    "education = unzip('Education')\n",
    "education.columns"
   ]
  },
  {
   "cell_type": "code",
   "execution_count": null,
   "metadata": {},
   "outputs": [],
   "source": [
    "for col in education.columns:\n",
    "    print(education[col].value_counts())\n",
    "    print('\\n')"
   ]
  },
  {
   "cell_type": "markdown",
   "metadata": {},
   "source": [
    "With so many not applicable entries for the field of degree, it is more appropriate to remove them from the analysis. "
   ]
  },
  {
   "cell_type": "code",
   "execution_count": null,
   "metadata": {},
   "outputs": [],
   "source": [
    "education.drop(['The field of degree r earned'], axis=1, inplace=True)"
   ]
  },
  {
   "cell_type": "code",
   "execution_count": null,
   "metadata": {},
   "outputs": [],
   "source": [
    "education.rename(columns = {'Highest year of school completed':'school_years',\n",
    "                            'Highest year school completed, father':'school_years_dad', \n",
    "                            'Highest year school completed, mother':'school_years_mom',\n",
    "                            'Rs highest degree':'degree',\n",
    "                            'Fathers highest degree':'degree_dad',\n",
    "                            'Mothers highest degree': 'degree_mom'}, inplace=True)"
   ]
  },
  {
   "cell_type": "markdown",
   "metadata": {},
   "source": [
    "Encode nan information as a placeholder so that it can be easily removed later in the analysis. "
   ]
  },
  {
   "cell_type": "code",
   "execution_count": null,
   "metadata": {},
   "outputs": [],
   "source": [
    "education.loc[(education['school_years']=='No answer')|\n",
    "              (education['school_years']=='Not applicable')|\n",
    "              (education['school_years']== \"Don't know\"), 'school_years']= -9\n",
    "education.loc[(education['school_years_dad']=='No answer')|\n",
    "              (education['school_years_dad']=='Not applicable')|\n",
    "              (education['school_years_dad']== \"Don't know\"), 'school_years_dad']= -9\n",
    "education.loc[(education['school_years_mom']=='No answer')|\n",
    "              (education['school_years_mom']=='Not applicable')|\n",
    "              (education['school_years_mom']== \"Don't know\"), 'school_years_mom']= -9"
   ]
  },
  {
   "cell_type": "code",
   "execution_count": null,
   "metadata": {},
   "outputs": [],
   "source": [
    "education.head()"
   ]
  },
  {
   "cell_type": "code",
   "execution_count": null,
   "metadata": {},
   "outputs": [],
   "source": [
    "education = weight(education)"
   ]
  },
  {
   "cell_type": "markdown",
   "metadata": {},
   "source": [
    "##### Employment"
   ]
  },
  {
   "cell_type": "code",
   "execution_count": null,
   "metadata": {
    "scrolled": true
   },
   "outputs": [],
   "source": [
    "employment = unzip('Employment')\n",
    "employment.columns"
   ]
  },
  {
   "cell_type": "code",
   "execution_count": null,
   "metadata": {},
   "outputs": [],
   "source": [
    "for col in employment.columns:\n",
    "    print(employment[col].value_counts())\n",
    "    print('\\n')"
   ]
  },
  {
   "cell_type": "code",
   "execution_count": null,
   "metadata": {},
   "outputs": [],
   "source": [
    "employment.drop(['Is r likely to lose job', 'Could r find equally good job', \n",
    "                 'Job or housework', 'If rich, continue or stop working', \n",
    "                 'Workers need strong unions'], axis=1, inplace = True)"
   ]
  },
  {
   "cell_type": "code",
   "execution_count": null,
   "metadata": {
    "scrolled": true
   },
   "outputs": [],
   "source": [
    "employment.rename(columns= {'Does r or spouse belong to union': 'union',\n",
    "                            'Number of hours usually work a week': 'wrk_hrs',\n",
    "                            'Labor force status': 'job_status',\n",
    "                            'Rs occupational prestige score using threshold method (2010)': 'prestige'}, \n",
    "                  inplace = True)"
   ]
  },
  {
   "cell_type": "code",
   "execution_count": null,
   "metadata": {},
   "outputs": [],
   "source": [
    "employment.loc[(employment['union']=='Neither belongs', 'union')]= 'non-member'\n",
    "employment.loc[(employment['union']=='R belongs')|\n",
    "               (employment['union']=='Spouse belongs')|\n",
    "               (employment['union']=='R and spouse belong'), 'union']= 'member'"
   ]
  },
  {
   "cell_type": "code",
   "execution_count": null,
   "metadata": {
    "scrolled": true
   },
   "outputs": [],
   "source": [
    "employment.head()"
   ]
  },
  {
   "cell_type": "code",
   "execution_count": null,
   "metadata": {},
   "outputs": [],
   "source": [
    "employment = weight(employment)"
   ]
  },
  {
   "cell_type": "markdown",
   "metadata": {},
   "source": [
    "###### Family Values"
   ]
  },
  {
   "cell_type": "code",
   "execution_count": null,
   "metadata": {},
   "outputs": [],
   "source": [
    "fam_vals = unzip('Family_Values')\n",
    "fam_vals.columns"
   ]
  },
  {
   "cell_type": "code",
   "execution_count": null,
   "metadata": {},
   "outputs": [],
   "source": [
    "for col in fam_vals.columns:\n",
    "    print(fam_vals[col].value_counts())\n",
    "    print('\\n')"
   ]
  },
  {
   "cell_type": "code",
   "execution_count": null,
   "metadata": {},
   "outputs": [],
   "source": [
    "fam_vals.rename(columns= {'Better for man to work, woman tend home': 'trad_roles', \n",
    "                          'Preschool kids suffer if mother works': 'mom_wrk_kids_suffer', \n",
    "                          'Ideal number of children': 'bst_num_chld', \n",
    "                          'To help others': 'tch_to_help',\n",
    "                          'To work hard': 'tch_to_wrk', \n",
    "                          'To think for ones self': 'tch_ind', \n",
    "                          'To be well liked or popular': 'tch_pop',\n",
    "                          'To obey': 'tch_obey', \n",
    "                          'Number of children': 'num_chld',\n",
    "                          'Number of family generations in household': 'num_gen'}, inplace=True)"
   ]
  },
  {
   "cell_type": "code",
   "execution_count": null,
   "metadata": {},
   "outputs": [],
   "source": [
    "fam_vals.drop(['Rs kids living standard compared to r', 'Rs living standard compared to parents', \n",
    "               'Highest year school completed, mother', 'Highest year school completed, father', \n",
    "               'Number of brothers and sisters', 'Favor spanking to discipline child'], axis=1, inplace=True)"
   ]
  },
  {
   "cell_type": "code",
   "execution_count": null,
   "metadata": {},
   "outputs": [],
   "source": [
    "fam_vals.loc[fam_vals['num_gen']=='1 gen', 'num_gen']= 1\n",
    "fam_vals.loc[(fam_vals['num_gen']=='2 gens, children')|\n",
    "             (fam_vals['num_gen']=='2 gens, parents')|\n",
    "             (fam_vals['num_gen']=='2 gens, grandchldrn'), 'num_gen']= 2\n",
    "fam_vals.loc[(fam_vals['num_gen']=='3 gens, grandchldrn')|\n",
    "             (fam_vals['num_gen']=='3 gens, chld, par'), 'num_gen']= 3\n",
    "fam_vals.loc[fam_vals['num_gen']=='4 gens', 'num_gen']= 4"
   ]
  },
  {
   "cell_type": "code",
   "execution_count": null,
   "metadata": {},
   "outputs": [],
   "source": [
    "fam_vals.head()"
   ]
  },
  {
   "cell_type": "code",
   "execution_count": null,
   "metadata": {},
   "outputs": [],
   "source": [
    "fam_vals = weight(fam_vals)"
   ]
  },
  {
   "cell_type": "markdown",
   "metadata": {},
   "source": [
    "###### Gender and Sexuality"
   ]
  },
  {
   "cell_type": "code",
   "execution_count": null,
   "metadata": {},
   "outputs": [],
   "source": [
    "gender = unzip('Gender_and_Sexuality')\n",
    "gender.columns"
   ]
  },
  {
   "cell_type": "code",
   "execution_count": null,
   "metadata": {},
   "outputs": [],
   "source": [
    "for col in gender.columns:\n",
    "    print(gender[col].value_counts())\n",
    "    print('\\n')"
   ]
  },
  {
   "cell_type": "code",
   "execution_count": null,
   "metadata": {},
   "outputs": [],
   "source": [
    "gender.drop(['Should hire and promote women                            ', \n",
    "             'For or against preferential hiring of women      ', \n",
    "             'Better for man to work, woman tend home', 'Preschool kids suffer if mother works',\n",
    "             'Sex before marriage -- teens 14-16', 'Birth control to teenagers 14-16'], \n",
    "            axis = 1, inplace = True)"
   ]
  },
  {
   "cell_type": "code",
   "execution_count": null,
   "metadata": {},
   "outputs": [],
   "source": [
    "gender.rename(columns ={'Sex before marriage':'sex_before_marr',\n",
    "                        'Divorce laws': 'divorce', \n",
    "                        'Sex education in public schools':'sex_ed',\n",
    "                        'Women not suited for politics': 'no_women_pol',\n",
    "                        'Homosexuals should have right to marry':'gay_marr'}, inplace=True)"
   ]
  },
  {
   "cell_type": "code",
   "execution_count": null,
   "metadata": {},
   "outputs": [],
   "source": [
    "gender = weight(gender)"
   ]
  },
  {
   "cell_type": "code",
   "execution_count": null,
   "metadata": {},
   "outputs": [],
   "source": [
    "gender.loc[(gender['gay_marr']=='Neither agree nor disagree')|\n",
    "           (gender['gay_marr']=='Cant choose'), 'gay_marr']= 'undecided'"
   ]
  },
  {
   "cell_type": "code",
   "execution_count": null,
   "metadata": {
    "scrolled": true
   },
   "outputs": [],
   "source": [
    "gender['gay_marr'].unique()"
   ]
  },
  {
   "cell_type": "code",
   "execution_count": null,
   "metadata": {},
   "outputs": [],
   "source": [
    "(rep_ts_gay, dem_ts_gay, ind_ts_gay) = party_splits(gender[['year', 'gay_marr']], ['Strongly disagree', \n",
    "                                         'undecided',\n",
    "                                         'Disagree',\n",
    "                                         'Agree', \n",
    "                                         'Strongly agree'])"
   ]
  },
  {
   "cell_type": "code",
   "execution_count": null,
   "metadata": {
    "scrolled": true
   },
   "outputs": [],
   "source": [
    "fig = plt.figure(figsize=(20,5))\n",
    "ax1, ax2, ax3, ax4, ax5 = fig.subplots(nrows=1, ncols=5, sharey= True)\n",
    "\n",
    "sns.lineplot(x= 'year', y= 'Strongly disagree', data= rep_ts_gay, \n",
    "             color='red', label= 'Republican', ax = ax1)\n",
    "sns.lineplot(x= 'year', y= 'Strongly disagree', data= dem_ts_gay, \n",
    "             color='blue', label= 'Democrat', ax = ax1)\n",
    "sns.lineplot(x= 'year', y= 'Strongly disagree', data= ind_ts_gay, \n",
    "             color='purple', label= 'Independent', ax = ax1)\n",
    "ax1.set_title('Strongly Disagree with Right to Marry by Party')\n",
    "ax1.set_ylabel('Percent of Party')\n",
    "ax1.set_xlabel('')\n",
    "\n",
    "sns.lineplot(x= 'year', y= 'Disagree', data= rep_ts_gay, \n",
    "             color='red', label= 'Republican', ax = ax2)\n",
    "sns.lineplot(x= 'year', y= 'Disagree', data= dem_ts_gay, \n",
    "             color='blue', label= 'Democrat', ax = ax2)\n",
    "sns.lineplot(x= 'year', y= 'Disagree', data= ind_ts_gay, \n",
    "             color='purple', label= 'Independent', ax = ax2)\n",
    "ax2.set_title('Disagree with Right to Marry by Party')\n",
    "ax2.set_xlabel('')\n",
    "\n",
    "sns.lineplot(x= 'year', y= 'undecided', data= rep_ts_gay, \n",
    "             color='red', label= 'Republican', ax = ax3)\n",
    "sns.lineplot(x= 'year', y= 'undecided', data= dem_ts_gay, \n",
    "             color='blue', label= 'Democrat', ax = ax3)\n",
    "sns.lineplot(x= 'year', y= 'undecided', data= ind_ts_gay, \n",
    "             color='purple', label= 'Independent', ax = ax3)\n",
    "ax3.set_title('Undecided about right to Marry by Party')\n",
    "ax3.set_xlabel('')\n",
    "\n",
    "sns.lineplot(x= 'year', y= 'Agree', data= rep_ts_gay, \n",
    "             color='red', label= 'Republican', ax = ax4)\n",
    "sns.lineplot(x= 'year', y= 'Agree', data= dem_ts_gay, \n",
    "             color='blue', label= 'Democrat', ax = ax4)\n",
    "sns.lineplot(x= 'year', y= 'Agree', data= ind_ts_gay, \n",
    "             color='purple', label= 'Independent', ax = ax4)\n",
    "ax4.set_title('Agree with right to Marry by Party')\n",
    "ax4.set_xlabel('')\n",
    "\n",
    "sns.lineplot(x= 'year', y= 'Strongly agree', data= rep_ts_gay, \n",
    "             color='red', label= 'Republican', ax = ax5)\n",
    "sns.lineplot(x= 'year', y= 'Strongly agree', data= dem_ts_gay, \n",
    "             color='blue', label= 'Democrat', ax = ax5)\n",
    "sns.lineplot(x= 'year', y= 'Strongly agree', data= ind_ts_gay, \n",
    "             color='purple', label= 'Independent', ax = ax5)\n",
    "ax5.set_title('Strongly Agree with right to Marry by Party')\n",
    "ax5.set_xlabel('')\n",
    "\n",
    "plt.yticks(ticks=[.15, .3, .45, .6, .75], \n",
    "           labels=['','15%', '30%', '45%', '60%', '75%']);"
   ]
  },
  {
   "cell_type": "code",
   "execution_count": null,
   "metadata": {},
   "outputs": [],
   "source": [
    "(str_rep, mid_rep, ln_rep, \n",
    " str_dem, mid_dem, ln_dem, \n",
    " oth, ind) = party_splits(gender[['year','gay_marr']], ['Strongly disagree', \n",
    "                                         'undecided',\n",
    "                                         'Disagree',\n",
    "                                         'Agree', \n",
    "                                         'Strongly agree'], split='within party')"
   ]
  },
  {
   "cell_type": "code",
   "execution_count": null,
   "metadata": {},
   "outputs": [],
   "source": [
    "fig = plt.figure(figsize=(20,5))\n",
    "ax1, ax2, ax3, ax4, ax5 = fig.subplots(nrows=1, ncols=5, sharey= True)\n",
    "\n",
    "sns.lineplot(x= 'year', y= 'Strongly disagree', data= str_rep, \n",
    "             color='red', label= 'Republican', ax = ax1)\n",
    "sns.lineplot(x= 'year', y= 'Strongly disagree', data= mid_rep, \n",
    "             color='blue', label= 'Democrat', ax = ax1)\n",
    "sns.lineplot(x= 'year', y= 'Strongly disagree', data= ln_rep, \n",
    "             color='purple', label= 'Independent', ax = ax1)\n",
    "ax1.set_title('Strongly Disagree with Right to Marry by Party')\n",
    "ax1.set_ylabel('Percent of Party')\n",
    "ax1.set_xlabel('')\n",
    "\n",
    "sns.lineplot(x= 'year', y= 'Disagree', data= str_rep, \n",
    "             color='red', label= 'Republican', ax = ax2)\n",
    "sns.lineplot(x= 'year', y= 'Disagree', data= mid_rep, \n",
    "             color='blue', label= 'Democrat', ax = ax2)\n",
    "sns.lineplot(x= 'year', y= 'Disagree', data= ln_rep, \n",
    "             color='purple', label= 'Independent', ax = ax2)\n",
    "ax2.set_title('Disagree with Right to Marry by Party')\n",
    "ax2.set_xlabel('')\n",
    "\n",
    "sns.lineplot(x= 'year', y= 'undecided', data= str_rep, \n",
    "             color='red', label= 'Republican', ax = ax3)\n",
    "sns.lineplot(x= 'year', y= 'undecided', data= mid_rep, \n",
    "             color='blue', label= 'Democrat', ax = ax3)\n",
    "sns.lineplot(x= 'year', y= 'undecided', data= ln_rep, \n",
    "             color='purple', label= 'Independent', ax = ax3)\n",
    "ax3.set_title('Undecided about right to Marry by Party')\n",
    "ax3.set_xlabel('')\n",
    "\n",
    "sns.lineplot(x= 'year', y= 'Agree', data= str_rep, \n",
    "             color='red', label= 'Republican', ax = ax4)\n",
    "sns.lineplot(x= 'year', y= 'Agree', data= mid_rep, \n",
    "             color='blue', label= 'Democrat', ax = ax4)\n",
    "sns.lineplot(x= 'year', y= 'Agree', data= ln_rep, \n",
    "             color='purple', label= 'Independent', ax = ax4)\n",
    "ax4.set_title('Agree with right to Marry by Party')\n",
    "ax4.set_xlabel('')\n",
    "\n",
    "sns.lineplot(x= 'year', y= 'Strongly agree', data= str_rep, \n",
    "             color='red', label= 'Republican', ax = ax5)\n",
    "sns.lineplot(x= 'year', y= 'Strongly agree', data= mid_rep, \n",
    "             color='blue', label= 'Democrat', ax = ax5)\n",
    "sns.lineplot(x= 'year', y= 'Strongly agree', data= ln_rep, \n",
    "             color='purple', label= 'Independent', ax = ax5)\n",
    "ax5.set_title('Strongly Agree with right to Marry by Party')\n",
    "ax5.set_xlabel('')\n",
    "\n",
    "plt.yticks(ticks=[.15, .3, .45, .6, .75], \n",
    "           labels=['','15%', '30%', '45%', '60%', '75%']);"
   ]
  },
  {
   "cell_type": "markdown",
   "metadata": {},
   "source": [
    "###### Identity"
   ]
  },
  {
   "cell_type": "code",
   "execution_count": null,
   "metadata": {},
   "outputs": [],
   "source": [
    "pers_id = unzip('Identity')\n",
    "pers_id.columns"
   ]
  },
  {
   "cell_type": "code",
   "execution_count": null,
   "metadata": {
    "scrolled": true
   },
   "outputs": [],
   "source": [
    "for col in pers_id.columns:\n",
    "    print(pers_id[col].value_counts())\n",
    "    print('\\n')"
   ]
  },
  {
   "cell_type": "code",
   "execution_count": null,
   "metadata": {},
   "outputs": [],
   "source": [
    "pers_id.rename(columns={'Age of respondent':'age', \n",
    "                      'Respondents sex':'sex', \n",
    "                      'Race of respondent':'race',\n",
    "                      'Region of interview':'region'}, inplace = True)"
   ]
  },
  {
   "cell_type": "code",
   "execution_count": null,
   "metadata": {},
   "outputs": [],
   "source": [
    "pers_id = weight(pers_id)"
   ]
  },
  {
   "cell_type": "markdown",
   "metadata": {},
   "source": [
    "###### Lifestyle"
   ]
  },
  {
   "cell_type": "code",
   "execution_count": null,
   "metadata": {
    "scrolled": true
   },
   "outputs": [],
   "source": [
    "lifestyle = unzip('Lifestyle')\n",
    "lifestyle.columns"
   ]
  },
  {
   "cell_type": "code",
   "execution_count": null,
   "metadata": {},
   "outputs": [],
   "source": [
    "for col in lifestyle.columns:\n",
    "    print(lifestyle[col].value_counts())\n",
    "    print('\\n')"
   ]
  },
  {
   "cell_type": "code",
   "execution_count": null,
   "metadata": {},
   "outputs": [],
   "source": [
    "lifestyle.rename(columns = {'Hours per day watching tv':'hrs_tv',\n",
    "                            'How often does r read newspaper':'paper',\n",
    "                            'Have gun in home':'gun',\n",
    "                            'Is life exciting or dull':'life',\n",
    "                            'General happiness':'happy',\n",
    "                            \"R's age when 1st child born\":'age_at_frst_chld',\n",
    "                            'Marital status':'married',\n",
    "                            'Does r own or rent home?':'rent_or_own'}, inplace = True)"
   ]
  },
  {
   "cell_type": "code",
   "execution_count": null,
   "metadata": {},
   "outputs": [],
   "source": [
    "lifestyle.drop(['Does r or spouse hunt', 'Spend evening at bar', \n",
    "                'Spend evening with friends', 'Spend evening with neighbor', \n",
    "                'Spend evening with relatives', 'Age of respondent', 'Number of children',\n",
    "                'Number of hours usually work a week'], axis=1, inplace=True)"
   ]
  },
  {
   "cell_type": "code",
   "execution_count": null,
   "metadata": {},
   "outputs": [],
   "source": [
    "lifestyle = weight(lifestyle)"
   ]
  },
  {
   "cell_type": "markdown",
   "metadata": {},
   "source": [
    "###### Opinions"
   ]
  },
  {
   "cell_type": "code",
   "execution_count": null,
   "metadata": {
    "scrolled": true
   },
   "outputs": [],
   "source": [
    "opinions = unzip('Opinions')\n",
    "opinions.columns"
   ]
  },
  {
   "cell_type": "code",
   "execution_count": null,
   "metadata": {},
   "outputs": [],
   "source": [
    "for col in opinions.columns:\n",
    "    print(opinions[col].value_counts())\n",
    "    print('\\n')"
   ]
  },
  {
   "cell_type": "code",
   "execution_count": null,
   "metadata": {},
   "outputs": [],
   "source": [
    "opinions = weight(opinions)"
   ]
  },
  {
   "cell_type": "markdown",
   "metadata": {},
   "source": [
    "###### Race Relations"
   ]
  },
  {
   "cell_type": "code",
   "execution_count": null,
   "metadata": {},
   "outputs": [],
   "source": [
    "race = unzip('Race_Relations')\n",
    "race.columns"
   ]
  },
  {
   "cell_type": "code",
   "execution_count": null,
   "metadata": {},
   "outputs": [],
   "source": [
    "for col in race.columns:\n",
    "    print(race[col].value_counts())\n",
    "    print('\\n')"
   ]
  },
  {
   "cell_type": "markdown",
   "metadata": {},
   "source": [
    "Because of the ways in which these variables were coded, many of them are either redundant with other questions, or difficult to gain meaningful information from.  "
   ]
  },
  {
   "cell_type": "code",
   "execution_count": null,
   "metadata": {},
   "outputs": [],
   "source": [
    "race.drop(['Hard working - lazy', 'Hard working - lazy.1', \n",
    "           'Rich - poor', 'Rich - poor.1', 'Blacks overcome prejudice without favors ',\n",
    "           'Any opp. race in neighborhood', 'Favor law against racial intermarriage', \n",
    "           'Improving the conditions of blacks'], axis = 1, inplace = True)"
   ]
  },
  {
   "cell_type": "code",
   "execution_count": null,
   "metadata": {},
   "outputs": [],
   "source": [
    "race.loc[race['Should govt aid blacks?']=='Agree with both', 'Should govt aid blacks?']= 'no opinion'\n",
    "race.loc[race['Should govt aid blacks?']=='No special treatment', 'Should govt aid blacks?']= 'strongly oppose'\n",
    "race.loc[race['Should govt aid blacks?']== 4, 'Should govt aid blacks?']= 'oppose'\n",
    "race.loc[race['Should govt aid blacks?']=='Govt help blks', 'Should govt aid blacks?']= 'strongly favor'\n",
    "race.loc[race['Should govt aid blacks?']== 2, 'Should govt aid blacks?']= 'favor'\n",
    "race.loc[race['Should govt aid blacks?']==\"Don't know\", 'Should govt aid blacks?']= 'no opinion'\n",
    "race.loc[race['Should govt aid blacks?']==\"No answer\", 'Should govt aid blacks?']= 'no opinion'"
   ]
  },
  {
   "cell_type": "code",
   "execution_count": null,
   "metadata": {},
   "outputs": [],
   "source": [
    "race = weight(race)"
   ]
  },
  {
   "cell_type": "markdown",
   "metadata": {},
   "source": [
    "###### Religion"
   ]
  },
  {
   "cell_type": "code",
   "execution_count": null,
   "metadata": {},
   "outputs": [],
   "source": [
    "religion = unzip('Religion')\n",
    "religion.columns"
   ]
  },
  {
   "cell_type": "code",
   "execution_count": null,
   "metadata": {},
   "outputs": [],
   "source": [
    "for col in religion.columns:\n",
    "    print(religion[col].value_counts())\n",
    "    print('\\n')"
   ]
  },
  {
   "cell_type": "code",
   "execution_count": null,
   "metadata": {},
   "outputs": [],
   "source": [
    "religion.drop(['Bible prayer in public schools'], axis = 1, inplace = True)"
   ]
  },
  {
   "cell_type": "code",
   "execution_count": null,
   "metadata": {},
   "outputs": [],
   "source": [
    "religion = weight(religion)"
   ]
  },
  {
   "cell_type": "markdown",
   "metadata": {},
   "source": [
    "###### Socioeconomic Status"
   ]
  },
  {
   "cell_type": "code",
   "execution_count": null,
   "metadata": {
    "scrolled": true
   },
   "outputs": [],
   "source": [
    "ses = unzip('SES')\n",
    "ses.columns"
   ]
  },
  {
   "cell_type": "code",
   "execution_count": null,
   "metadata": {},
   "outputs": [],
   "source": [
    "for col in ses.columns:\n",
    "    print(ses[col].value_counts())\n",
    "    print('\\n')"
   ]
  },
  {
   "cell_type": "code",
   "execution_count": null,
   "metadata": {},
   "outputs": [],
   "source": [
    "ses.drop(['Rs income in constant $', 'Standard of living of r will improve', \n",
    "          'Rs kids living standard compared to r', 'Rs living standard compared to parents', \n",
    "          'Change in financial situation', 'Rs occupational prestige score using threshold method (2010)'], \n",
    "         axis = 1, inplace = True)"
   ]
  },
  {
   "cell_type": "code",
   "execution_count": null,
   "metadata": {},
   "outputs": [],
   "source": [
    "ses = weight(ses)"
   ]
  },
  {
   "cell_type": "markdown",
   "metadata": {},
   "source": [
    "###### Systems"
   ]
  },
  {
   "cell_type": "code",
   "execution_count": null,
   "metadata": {},
   "outputs": [],
   "source": [
    "systems = unzip('Systems')\n",
    "systems.columns"
   ]
  },
  {
   "cell_type": "code",
   "execution_count": null,
   "metadata": {},
   "outputs": [],
   "source": [
    "for col in systems.columns:\n",
    "    print(systems[col].value_counts())\n",
    "    print('\\n')"
   ]
  },
  {
   "cell_type": "code",
   "execution_count": null,
   "metadata": {},
   "outputs": [],
   "source": [
    "systems.drop(['Confidence in medicine'], axis = 1, inplace = True)"
   ]
  },
  {
   "cell_type": "code",
   "execution_count": null,
   "metadata": {},
   "outputs": [],
   "source": [
    "systems = weight(systems)"
   ]
  },
  {
   "cell_type": "code",
   "execution_count": null,
   "metadata": {},
   "outputs": [],
   "source": []
  },
  {
   "cell_type": "markdown",
   "metadata": {},
   "source": [
    "# Text Data\n",
    "### Political Platforms"
   ]
  },
  {
   "cell_type": "code",
   "execution_count": null,
   "metadata": {},
   "outputs": [],
   "source": [
    "years = ['1972', '1976', '1980', '1984', '1988', '1992', '1996', \n",
    "         '2000', '2008', '2012', '2016']\n",
    "platforms = scrape_platforms(years)\n",
    "platforms.head()"
   ]
  },
  {
   "cell_type": "markdown",
   "metadata": {},
   "source": [
    "### State of the Union Addresses"
   ]
  },
  {
   "cell_type": "code",
   "execution_count": null,
   "metadata": {
    "scrolled": true
   },
   "outputs": [],
   "source": [
    "speeches = scrape_SotU()"
   ]
  },
  {
   "cell_type": "markdown",
   "metadata": {},
   "source": [
    "### Debates"
   ]
  },
  {
   "cell_type": "code",
   "execution_count": null,
   "metadata": {},
   "outputs": [],
   "source": [
    "url = 'https://www.presidency.ucsb.edu/documents/presidential-debate-the-university-nevada-las-vegas'\n",
    "response = requests.get(url)\n",
    "soup = BeautifulSoup(response.text, 'lxml')\n",
    "debate = soup.find_all('p')\n",
    "for deb in debate:\n",
    "    print(deb.text)"
   ]
  }
 ],
 "metadata": {
  "kernelspec": {
   "display_name": "learn-env",
   "language": "python",
   "name": "learn-env"
  },
  "language_info": {
   "codemirror_mode": {
    "name": "ipython",
    "version": 3
   },
   "file_extension": ".py",
   "mimetype": "text/x-python",
   "name": "python",
   "nbconvert_exporter": "python",
   "pygments_lexer": "ipython3",
   "version": "3.7.4"
  }
 },
 "nbformat": 4,
 "nbformat_minor": 2
}
