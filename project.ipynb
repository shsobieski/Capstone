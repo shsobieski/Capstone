{
 "cells": [
  {
   "cell_type": "code",
   "execution_count": 1,
   "metadata": {},
   "outputs": [],
   "source": [
    "import pandas as pd\n",
    "import tarfile\n",
    "from bs4 import BeautifulSoup\n",
    "import requests\n",
    "import re\n",
    "import matplotlib.pyplot as plt\n",
    "import seaborn as sns\n",
    "from pandas.plotting import register_matplotlib_converters\n",
    "register_matplotlib_converters()\n",
    "from statsmodels.tsa.arima_model import ARIMA\n",
    "import statsmodels.api as sm\n",
    "from statsmodels.tsa.stattools import adfuller\n",
    "import numpy as np\n",
    "\n",
    "%run -i \"functions/unzip.py\"\n",
    "%run -i \"functions/scrape_platforms.py\"\n",
    "%run -i \"functions/scrape_SotU.py\"\n",
    "%run -i \"functions/create_ts.py\"\n",
    "%run -i \"functions/party_splits.py\"\n",
    "%run -i \"functions/make_preds.py\"\n",
    "%run -i \"functions/store_predictions.py\""
   ]
  },
  {
   "cell_type": "markdown",
   "metadata": {},
   "source": [
    "# Survey Data\n",
    "#### Weights\n",
    "This function will encorporate sample weights provided by the University of Chicago General Social Survey, which is the source of all the survey data used in this analysis."
   ]
  },
  {
   "cell_type": "code",
   "execution_count": 2,
   "metadata": {},
   "outputs": [],
   "source": [
    "weights = unzip('Weights')\n",
    "\n",
    "def weight(df):\n",
    "    return df.loc[df.index.repeat(round(weights['Weight variable']*10, 0))].reset_index()"
   ]
  },
  {
   "cell_type": "markdown",
   "metadata": {},
   "source": [
    "## Voter Identity"
   ]
  },
  {
   "cell_type": "code",
   "execution_count": 3,
   "metadata": {},
   "outputs": [
    {
     "data": {
      "text/html": [
       "<div>\n",
       "<style scoped>\n",
       "    .dataframe tbody tr th:only-of-type {\n",
       "        vertical-align: middle;\n",
       "    }\n",
       "\n",
       "    .dataframe tbody tr th {\n",
       "        vertical-align: top;\n",
       "    }\n",
       "\n",
       "    .dataframe thead th {\n",
       "        text-align: right;\n",
       "    }\n",
       "</style>\n",
       "<table border=\"1\" class=\"dataframe\">\n",
       "  <thead>\n",
       "    <tr style=\"text-align: right;\">\n",
       "      <th></th>\n",
       "      <th>year</th>\n",
       "      <th>Political party affiliation</th>\n",
       "    </tr>\n",
       "  </thead>\n",
       "  <tbody>\n",
       "    <tr>\n",
       "      <td>0</td>\n",
       "      <td>1972</td>\n",
       "      <td>Ind,near dem</td>\n",
       "    </tr>\n",
       "    <tr>\n",
       "      <td>1</td>\n",
       "      <td>1972</td>\n",
       "      <td>Ind,near dem</td>\n",
       "    </tr>\n",
       "    <tr>\n",
       "      <td>2</td>\n",
       "      <td>1972</td>\n",
       "      <td>Ind,near dem</td>\n",
       "    </tr>\n",
       "    <tr>\n",
       "      <td>3</td>\n",
       "      <td>1972</td>\n",
       "      <td>Ind,near dem</td>\n",
       "    </tr>\n",
       "    <tr>\n",
       "      <td>4</td>\n",
       "      <td>1972</td>\n",
       "      <td>Not str democrat</td>\n",
       "    </tr>\n",
       "  </tbody>\n",
       "</table>\n",
       "</div>"
      ],
      "text/plain": [
       "   year Political party affiliation\n",
       "0  1972                Ind,near dem\n",
       "1  1972                Ind,near dem\n",
       "2  1972                Ind,near dem\n",
       "3  1972                Ind,near dem\n",
       "4  1972            Not str democrat"
      ]
     },
     "execution_count": 3,
     "metadata": {},
     "output_type": "execute_result"
    }
   ],
   "source": [
    "party = unzip('Voter_Identity')\n",
    "party = party[['year', 'Political party affiliation']]\n",
    "party = weight(party)\n",
    "party.drop('index', axis = 1, inplace= True)\n",
    "party.head()"
   ]
  },
  {
   "cell_type": "code",
   "execution_count": 4,
   "metadata": {},
   "outputs": [
    {
     "data": {
      "text/plain": [
       "Not str democrat      131833\n",
       "Not str republican    101264\n",
       "Independent           100052\n",
       "Strong democrat        99652\n",
       "Ind,near dem           76687\n",
       "Strong republican      63506\n",
       "Ind,near rep           58747\n",
       "Other party            10708\n",
       "No answer               4099\n",
       "Don't know               143\n",
       "Name: party, dtype: int64"
      ]
     },
     "execution_count": 4,
     "metadata": {},
     "output_type": "execute_result"
    }
   ],
   "source": [
    "party.rename(columns = {'Political party affiliation':'party'}, inplace=True)\n",
    "party['party'].value_counts()"
   ]
  },
  {
   "cell_type": "code",
   "execution_count": 5,
   "metadata": {},
   "outputs": [],
   "source": [
    "party.loc[party['party']=='Not str democrat', 'party']= 'Democrat'\n",
    "party.loc[party['party']=='Not str republican', 'party']= 'Republican'\n",
    "party.loc[party['party']=='Strong democrat', 'party']= 'Strong Democrat'\n",
    "party.loc[party['party']=='Ind,near dem', 'party']= 'Lean Democrat'\n",
    "party.loc[party['party']=='Strong republican', 'party']= 'Strong Republican'\n",
    "party.loc[party['party']=='Ind,near rep', 'party']= 'Lean Republican'\n",
    "party.loc[party['party']=='Other party', 'party']= 'Other'\n",
    "parties = ['Democrat', 'Independent', 'Lean Democrat', \n",
    "           'Lean Republican', 'Other', 'Republican', \n",
    "           'Strong Democrat', 'Strong Republican']\n",
    "percent_parties = create_ts(party, parties)\n",
    "overall = pd.DataFrame(percent_parties['year'])\n",
    "overall['Democrat']= (percent_parties['Lean Democrat']\n",
    "                      +percent_parties['Democrat']\n",
    "                      +percent_parties['Strong Democrat']) \n",
    "overall['Republican']= (percent_parties['Lean Republican']\n",
    "                        +percent_parties['Republican']\n",
    "                        +percent_parties['Strong Republican'])\n",
    "overall['Independent']= percent_parties['Independent']\n",
    "overall['Other'] = percent_parties['Other']"
   ]
  },
  {
   "cell_type": "code",
   "execution_count": 6,
   "metadata": {
    "scrolled": true
   },
   "outputs": [
    {
     "data": {
      "image/png": "[encoded data removed]",
      "text/plain": [
       "<Figure size 1800x360 with 3 Axes>"
      ]
     },
     "metadata": {},
     "output_type": "display_data"
    }
   ],
   "source": [
    "sns.set_style('whitegrid')\n",
    "fig = plt.figure(figsize=(25,5))\n",
    "ax1, ax2, ax3 = fig.subplots(nrows=1, ncols=3, sharey= True)\n",
    "\n",
    "\n",
    "sns.lineplot(x= 'year', y = 'Lean Democrat', data= percent_parties, \n",
    "             color = 'skyblue', label= 'Lean Democrat', ax = ax1)\n",
    "sns.lineplot(x= 'year', y = 'Democrat', data= percent_parties, \n",
    "             color = 'dodgerblue', label= 'Democrat', ax = ax1)\n",
    "sns.lineplot(x= 'year', y = 'Strong Democrat', data= percent_parties, \n",
    "             color = 'blue', label= 'Strong Democrat', ax = ax1)\n",
    "ax1.set_title('Dem Affiliation by Level')\n",
    "ax1.set_ylabel('Percent of Population')\n",
    "ax1.set_xlabel('')\n",
    "\n",
    "sns.lineplot(x= 'year', y = 'Strong Republican', data= percent_parties, \n",
    "             color= 'crimson', label= 'Strong Republican', ax = ax2)\n",
    "sns.lineplot(x= 'year', y = 'Republican', data= percent_parties, \n",
    "             color= 'red', label= 'Republican', ax = ax2)\n",
    "sns.lineplot(x= 'year', y = 'Lean Republican', data= percent_parties, \n",
    "             color= 'hotpink', label= 'Lean Republican', ax = ax2);\n",
    "ax2.set_title('Rep Affiliation by Level')\n",
    "ax2.set_xlabel('')\n",
    "\n",
    "sns.lineplot(x='year', y='Democrat', data=overall, \n",
    "             color= 'blue', label= 'Democrat', ax = ax3)\n",
    "sns.lineplot(x='year', y='Republican', data=overall, \n",
    "             color= 'red', label= 'Republican', ax = ax3)\n",
    "sns.lineplot(x='year', y='Independent', data=overall, \n",
    "             color= 'plum', label= 'Independent', ax = ax3)\n",
    "sns.lineplot(x='year', y='Other', data=overall, \n",
    "             color= 'grey', label= 'Other', ax = ax3);\n",
    "ax3.set_title('Overall Affiliation')\n",
    "ax3.set_xlabel('')\n",
    "\n",
    "plt.yticks(ticks=[.05, .15, .25, .35, .45, .55], \n",
    "           labels=['5%','15%', '25%', '35%', '45%', '55%']);"
   ]
  },
  {
   "cell_type": "markdown",
   "metadata": {},
   "source": [
    "### Time Series Predictions- Voter Identity\n",
    "Using a function designed to optimize a time series model I will attempt to predict the levels of affiliation up to the 2024 presidential election. "
   ]
  },
  {
   "cell_type": "code",
   "execution_count": 7,
   "metadata": {
    "scrolled": false
   },
   "outputs": [
    {
     "name": "stderr",
     "output_type": "stream",
     "text": [
      "C:\\Users\\Shawn\\Anaconda3\\lib\\site-packages\\statsmodels\\base\\model.py:492: HessianInversionWarning: Inverting hessian failed, no bse or cov_params available\n",
      "  'available', HessianInversionWarning)\n",
      "C:\\Users\\Shawn\\Anaconda3\\lib\\site-packages\\statsmodels\\base\\model.py:492: HessianInversionWarning: Inverting hessian failed, no bse or cov_params available\n",
      "  'available', HessianInversionWarning)\n",
      "C:\\Users\\Shawn\\Anaconda3\\lib\\site-packages\\statsmodels\\tsa\\tsatools.py:668: RuntimeWarning: overflow encountered in exp\n",
      "  newparams = ((1-np.exp(-params))/(1+np.exp(-params))).copy()\n",
      "C:\\Users\\Shawn\\Anaconda3\\lib\\site-packages\\statsmodels\\tsa\\tsatools.py:668: RuntimeWarning: invalid value encountered in true_divide\n",
      "  newparams = ((1-np.exp(-params))/(1+np.exp(-params))).copy()\n",
      "C:\\Users\\Shawn\\Anaconda3\\lib\\site-packages\\statsmodels\\tsa\\tsatools.py:669: RuntimeWarning: overflow encountered in exp\n",
      "  tmp = ((1-np.exp(-params))/(1+np.exp(-params))).copy()\n",
      "C:\\Users\\Shawn\\Anaconda3\\lib\\site-packages\\statsmodels\\tsa\\tsatools.py:669: RuntimeWarning: invalid value encountered in true_divide\n",
      "  tmp = ((1-np.exp(-params))/(1+np.exp(-params))).copy()\n",
      "C:\\Users\\Shawn\\Anaconda3\\lib\\site-packages\\statsmodels\\base\\model.py:492: HessianInversionWarning: Inverting hessian failed, no bse or cov_params available\n",
      "  'available', HessianInversionWarning)\n",
      "C:\\Users\\Shawn\\Anaconda3\\lib\\site-packages\\statsmodels\\base\\model.py:492: HessianInversionWarning: Inverting hessian failed, no bse or cov_params available\n",
      "  'available', HessianInversionWarning)\n",
      "C:\\Users\\Shawn\\Anaconda3\\lib\\site-packages\\statsmodels\\base\\model.py:492: HessianInversionWarning: Inverting hessian failed, no bse or cov_params available\n",
      "  'available', HessianInversionWarning)\n"
     ]
    },
    {
     "name": "stdout",
     "output_type": "stream",
     "text": [
      "(1, 1, 1)\n"
     ]
    },
    {
     "name": "stderr",
     "output_type": "stream",
     "text": [
      "C:\\Users\\Shawn\\Anaconda3\\lib\\site-packages\\statsmodels\\base\\model.py:492: HessianInversionWarning: Inverting hessian failed, no bse or cov_params available\n",
      "  'available', HessianInversionWarning)\n"
     ]
    },
    {
     "name": "stdout",
     "output_type": "stream",
     "text": [
      "(2, 1, 3)\n"
     ]
    },
    {
     "name": "stderr",
     "output_type": "stream",
     "text": [
      "C:\\Users\\Shawn\\Anaconda3\\lib\\site-packages\\statsmodels\\base\\model.py:492: HessianInversionWarning: Inverting hessian failed, no bse or cov_params available\n",
      "  'available', HessianInversionWarning)\n",
      "C:\\Users\\Shawn\\Anaconda3\\lib\\site-packages\\statsmodels\\base\\model.py:492: HessianInversionWarning: Inverting hessian failed, no bse or cov_params available\n",
      "  'available', HessianInversionWarning)\n"
     ]
    },
    {
     "name": "stdout",
     "output_type": "stream",
     "text": [
      "(1, 1, 1)\n"
     ]
    },
    {
     "name": "stderr",
     "output_type": "stream",
     "text": [
      "C:\\Users\\Shawn\\Anaconda3\\lib\\site-packages\\statsmodels\\tsa\\tsatools.py:695: RuntimeWarning: invalid value encountered in log\n",
      "  invmacoefs = -np.log((1-macoefs)/(1+macoefs))\n",
      "C:\\Users\\Shawn\\Anaconda3\\lib\\site-packages\\statsmodels\\base\\model.py:492: HessianInversionWarning: Inverting hessian failed, no bse or cov_params available\n",
      "  'available', HessianInversionWarning)\n",
      "C:\\Users\\Shawn\\Anaconda3\\lib\\site-packages\\statsmodels\\base\\model.py:492: HessianInversionWarning: Inverting hessian failed, no bse or cov_params available\n",
      "  'available', HessianInversionWarning)\n",
      "C:\\Users\\Shawn\\Anaconda3\\lib\\site-packages\\statsmodels\\base\\model.py:492: HessianInversionWarning: Inverting hessian failed, no bse or cov_params available\n",
      "  'available', HessianInversionWarning)\n"
     ]
    },
    {
     "name": "stdout",
     "output_type": "stream",
     "text": [
      "(2, 1, 1)\n"
     ]
    },
    {
     "name": "stderr",
     "output_type": "stream",
     "text": [
      "C:\\Users\\Shawn\\Anaconda3\\lib\\site-packages\\statsmodels\\base\\model.py:492: HessianInversionWarning: Inverting hessian failed, no bse or cov_params available\n",
      "  'available', HessianInversionWarning)\n"
     ]
    },
    {
     "name": "stdout",
     "output_type": "stream",
     "text": [
      "(1, 1, 1)\n"
     ]
    },
    {
     "name": "stderr",
     "output_type": "stream",
     "text": [
      "C:\\Users\\Shawn\\Anaconda3\\lib\\site-packages\\statsmodels\\base\\model.py:492: HessianInversionWarning: Inverting hessian failed, no bse or cov_params available\n",
      "  'available', HessianInversionWarning)\n"
     ]
    },
    {
     "name": "stdout",
     "output_type": "stream",
     "text": [
      "(2, 1, 1)\n"
     ]
    },
    {
     "name": "stderr",
     "output_type": "stream",
     "text": [
      "C:\\Users\\Shawn\\Anaconda3\\lib\\site-packages\\statsmodels\\base\\model.py:492: HessianInversionWarning: Inverting hessian failed, no bse or cov_params available\n",
      "  'available', HessianInversionWarning)\n",
      "C:\\Users\\Shawn\\Anaconda3\\lib\\site-packages\\statsmodels\\base\\model.py:492: HessianInversionWarning: Inverting hessian failed, no bse or cov_params available\n",
      "  'available', HessianInversionWarning)\n"
     ]
    },
    {
     "name": "stdout",
     "output_type": "stream",
     "text": [
      "(1, 1, 1)\n"
     ]
    },
    {
     "name": "stderr",
     "output_type": "stream",
     "text": [
      "C:\\Users\\Shawn\\Anaconda3\\lib\\site-packages\\statsmodels\\tsa\\tsatools.py:693: RuntimeWarning: invalid value encountered in double_scalars\n",
      "  tmp[kiter] = (macoefs[kiter]-b *macoefs[j-kiter-1])/(1-b**2)\n",
      "C:\\Users\\Shawn\\Anaconda3\\lib\\site-packages\\statsmodels\\tsa\\tsatools.py:695: RuntimeWarning: divide by zero encountered in log\n",
      "  invmacoefs = -np.log((1-macoefs)/(1+macoefs))\n"
     ]
    },
    {
     "name": "stdout",
     "output_type": "stream",
     "text": [
      "(1, 1, 1)\n"
     ]
    },
    {
     "data": {
      "text/html": [
       "<div>\n",
       "<style scoped>\n",
       "    .dataframe tbody tr th:only-of-type {\n",
       "        vertical-align: middle;\n",
       "    }\n",
       "\n",
       "    .dataframe tbody tr th {\n",
       "        vertical-align: top;\n",
       "    }\n",
       "\n",
       "    .dataframe thead th {\n",
       "        text-align: right;\n",
       "    }\n",
       "</style>\n",
       "<table border=\"1\" class=\"dataframe\">\n",
       "  <thead>\n",
       "    <tr style=\"text-align: right;\">\n",
       "      <th></th>\n",
       "      <th>Democrat</th>\n",
       "      <th>Predicted Democrat</th>\n",
       "      <th>Independent</th>\n",
       "      <th>Predicted Independent</th>\n",
       "      <th>Lean Democrat</th>\n",
       "      <th>Predicted Lean Democrat</th>\n",
       "      <th>Lean Republican</th>\n",
       "      <th>Predicted Lean Republican</th>\n",
       "      <th>Other</th>\n",
       "      <th>Predicted Other</th>\n",
       "      <th>Predicted Republican</th>\n",
       "      <th>Republican</th>\n",
       "      <th>Predicted Strong Democrat</th>\n",
       "      <th>Strong Democrat</th>\n",
       "      <th>Predicted Strong Republican</th>\n",
       "      <th>Strong Republican</th>\n",
       "    </tr>\n",
       "  </thead>\n",
       "  <tbody>\n",
       "    <tr>\n",
       "      <td>1972</td>\n",
       "      <td>0.268597</td>\n",
       "      <td>NaN</td>\n",
       "      <td>0.101286</td>\n",
       "      <td>NaN</td>\n",
       "      <td>0.106590</td>\n",
       "      <td>NaN</td>\n",
       "      <td>0.060721</td>\n",
       "      <td>NaN</td>\n",
       "      <td>0.043248</td>\n",
       "      <td>NaN</td>\n",
       "      <td>NaN</td>\n",
       "      <td>0.140414</td>\n",
       "      <td>NaN</td>\n",
       "      <td>0.207314</td>\n",
       "      <td>NaN</td>\n",
       "      <td>0.071830</td>\n",
       "    </tr>\n",
       "    <tr>\n",
       "      <td>1973</td>\n",
       "      <td>0.254349</td>\n",
       "      <td>NaN</td>\n",
       "      <td>0.096850</td>\n",
       "      <td>NaN</td>\n",
       "      <td>0.126805</td>\n",
       "      <td>NaN</td>\n",
       "      <td>0.093828</td>\n",
       "      <td>NaN</td>\n",
       "      <td>0.044933</td>\n",
       "      <td>NaN</td>\n",
       "      <td>NaN</td>\n",
       "      <td>0.148163</td>\n",
       "      <td>NaN</td>\n",
       "      <td>0.152059</td>\n",
       "      <td>NaN</td>\n",
       "      <td>0.083014</td>\n",
       "    </tr>\n",
       "    <tr>\n",
       "      <td>1974</td>\n",
       "      <td>0.257948</td>\n",
       "      <td>NaN</td>\n",
       "      <td>0.101148</td>\n",
       "      <td>NaN</td>\n",
       "      <td>0.138574</td>\n",
       "      <td>NaN</td>\n",
       "      <td>0.073600</td>\n",
       "      <td>NaN</td>\n",
       "      <td>0.041461</td>\n",
       "      <td>NaN</td>\n",
       "      <td>NaN</td>\n",
       "      <td>0.147061</td>\n",
       "      <td>NaN</td>\n",
       "      <td>0.169739</td>\n",
       "      <td>NaN</td>\n",
       "      <td>0.070470</td>\n",
       "    </tr>\n",
       "    <tr>\n",
       "      <td>1975</td>\n",
       "      <td>0.238108</td>\n",
       "      <td>NaN</td>\n",
       "      <td>0.135818</td>\n",
       "      <td>NaN</td>\n",
       "      <td>0.139635</td>\n",
       "      <td>NaN</td>\n",
       "      <td>0.084503</td>\n",
       "      <td>NaN</td>\n",
       "      <td>0.008382</td>\n",
       "      <td>NaN</td>\n",
       "      <td>NaN</td>\n",
       "      <td>0.159398</td>\n",
       "      <td>NaN</td>\n",
       "      <td>0.172209</td>\n",
       "      <td>NaN</td>\n",
       "      <td>0.061946</td>\n",
       "    </tr>\n",
       "    <tr>\n",
       "      <td>1976</td>\n",
       "      <td>0.270044</td>\n",
       "      <td>NaN</td>\n",
       "      <td>0.162836</td>\n",
       "      <td>NaN</td>\n",
       "      <td>0.142204</td>\n",
       "      <td>NaN</td>\n",
       "      <td>0.070580</td>\n",
       "      <td>NaN</td>\n",
       "      <td>0.001959</td>\n",
       "      <td>NaN</td>\n",
       "      <td>NaN</td>\n",
       "      <td>0.149386</td>\n",
       "      <td>NaN</td>\n",
       "      <td>0.145208</td>\n",
       "      <td>NaN</td>\n",
       "      <td>0.057783</td>\n",
       "    </tr>\n",
       "    <tr>\n",
       "      <td>1977</td>\n",
       "      <td>0.267166</td>\n",
       "      <td>NaN</td>\n",
       "      <td>0.111292</td>\n",
       "      <td>NaN</td>\n",
       "      <td>0.131468</td>\n",
       "      <td>NaN</td>\n",
       "      <td>0.086560</td>\n",
       "      <td>NaN</td>\n",
       "      <td>0.002278</td>\n",
       "      <td>NaN</td>\n",
       "      <td>NaN</td>\n",
       "      <td>0.145786</td>\n",
       "      <td>NaN</td>\n",
       "      <td>0.179629</td>\n",
       "      <td>NaN</td>\n",
       "      <td>0.075822</td>\n",
       "    </tr>\n",
       "    <tr>\n",
       "      <td>1978</td>\n",
       "      <td>0.259443</td>\n",
       "      <td>NaN</td>\n",
       "      <td>0.143141</td>\n",
       "      <td>NaN</td>\n",
       "      <td>0.125580</td>\n",
       "      <td>NaN</td>\n",
       "      <td>0.093108</td>\n",
       "      <td>NaN</td>\n",
       "      <td>0.007290</td>\n",
       "      <td>NaN</td>\n",
       "      <td>NaN</td>\n",
       "      <td>0.163685</td>\n",
       "      <td>NaN</td>\n",
       "      <td>0.139828</td>\n",
       "      <td>NaN</td>\n",
       "      <td>0.067926</td>\n",
       "    </tr>\n",
       "    <tr>\n",
       "      <td>1980</td>\n",
       "      <td>0.254163</td>\n",
       "      <td>NaN</td>\n",
       "      <td>0.167700</td>\n",
       "      <td>NaN</td>\n",
       "      <td>0.130008</td>\n",
       "      <td>NaN</td>\n",
       "      <td>0.085627</td>\n",
       "      <td>NaN</td>\n",
       "      <td>0.007385</td>\n",
       "      <td>NaN</td>\n",
       "      <td>NaN</td>\n",
       "      <td>0.153766</td>\n",
       "      <td>NaN</td>\n",
       "      <td>0.129241</td>\n",
       "      <td>NaN</td>\n",
       "      <td>0.072110</td>\n",
       "    </tr>\n",
       "    <tr>\n",
       "      <td>1982</td>\n",
       "      <td>0.267408</td>\n",
       "      <td>NaN</td>\n",
       "      <td>0.116573</td>\n",
       "      <td>NaN</td>\n",
       "      <td>0.128972</td>\n",
       "      <td>NaN</td>\n",
       "      <td>0.084357</td>\n",
       "      <td>NaN</td>\n",
       "      <td>0.006089</td>\n",
       "      <td>NaN</td>\n",
       "      <td>NaN</td>\n",
       "      <td>0.120337</td>\n",
       "      <td>NaN</td>\n",
       "      <td>0.202646</td>\n",
       "      <td>NaN</td>\n",
       "      <td>0.073619</td>\n",
       "    </tr>\n",
       "    <tr>\n",
       "      <td>1983</td>\n",
       "      <td>0.240482</td>\n",
       "      <td>NaN</td>\n",
       "      <td>0.129124</td>\n",
       "      <td>NaN</td>\n",
       "      <td>0.128807</td>\n",
       "      <td>NaN</td>\n",
       "      <td>0.092640</td>\n",
       "      <td>NaN</td>\n",
       "      <td>0.008566</td>\n",
       "      <td>NaN</td>\n",
       "      <td>NaN</td>\n",
       "      <td>0.161168</td>\n",
       "      <td>NaN</td>\n",
       "      <td>0.150063</td>\n",
       "      <td>NaN</td>\n",
       "      <td>0.089150</td>\n",
       "    </tr>\n",
       "    <tr>\n",
       "      <td>1984</td>\n",
       "      <td>0.183874</td>\n",
       "      <td>NaN</td>\n",
       "      <td>0.113359</td>\n",
       "      <td>NaN</td>\n",
       "      <td>0.140891</td>\n",
       "      <td>NaN</td>\n",
       "      <td>0.109285</td>\n",
       "      <td>NaN</td>\n",
       "      <td>0.016646</td>\n",
       "      <td>NaN</td>\n",
       "      <td>NaN</td>\n",
       "      <td>0.170108</td>\n",
       "      <td>NaN</td>\n",
       "      <td>0.180924</td>\n",
       "      <td>NaN</td>\n",
       "      <td>0.084914</td>\n",
       "    </tr>\n",
       "    <tr>\n",
       "      <td>1985</td>\n",
       "      <td>0.234683</td>\n",
       "      <td>NaN</td>\n",
       "      <td>0.092035</td>\n",
       "      <td>NaN</td>\n",
       "      <td>0.101758</td>\n",
       "      <td>NaN</td>\n",
       "      <td>0.107552</td>\n",
       "      <td>NaN</td>\n",
       "      <td>0.008657</td>\n",
       "      <td>NaN</td>\n",
       "      <td>NaN</td>\n",
       "      <td>0.178743</td>\n",
       "      <td>NaN</td>\n",
       "      <td>0.157299</td>\n",
       "      <td>NaN</td>\n",
       "      <td>0.119273</td>\n",
       "    </tr>\n",
       "    <tr>\n",
       "      <td>1986</td>\n",
       "      <td>0.223404</td>\n",
       "      <td>NaN</td>\n",
       "      <td>0.131434</td>\n",
       "      <td>NaN</td>\n",
       "      <td>0.105697</td>\n",
       "      <td>NaN</td>\n",
       "      <td>0.099863</td>\n",
       "      <td>NaN</td>\n",
       "      <td>0.006520</td>\n",
       "      <td>NaN</td>\n",
       "      <td>NaN</td>\n",
       "      <td>0.169526</td>\n",
       "      <td>NaN</td>\n",
       "      <td>0.165065</td>\n",
       "      <td>NaN</td>\n",
       "      <td>0.098490</td>\n",
       "    </tr>\n",
       "    <tr>\n",
       "      <td>1987</td>\n",
       "      <td>0.216711</td>\n",
       "      <td>NaN</td>\n",
       "      <td>0.107437</td>\n",
       "      <td>NaN</td>\n",
       "      <td>0.116733</td>\n",
       "      <td>NaN</td>\n",
       "      <td>0.089345</td>\n",
       "      <td>NaN</td>\n",
       "      <td>0.008907</td>\n",
       "      <td>NaN</td>\n",
       "      <td>NaN</td>\n",
       "      <td>0.150690</td>\n",
       "      <td>NaN</td>\n",
       "      <td>0.226008</td>\n",
       "      <td>NaN</td>\n",
       "      <td>0.084168</td>\n",
       "    </tr>\n",
       "    <tr>\n",
       "      <td>1988</td>\n",
       "      <td>0.213494</td>\n",
       "      <td>NaN</td>\n",
       "      <td>0.125534</td>\n",
       "      <td>NaN</td>\n",
       "      <td>0.121129</td>\n",
       "      <td>NaN</td>\n",
       "      <td>0.095836</td>\n",
       "      <td>NaN</td>\n",
       "      <td>0.002069</td>\n",
       "      <td>NaN</td>\n",
       "      <td>NaN</td>\n",
       "      <td>0.187467</td>\n",
       "      <td>NaN</td>\n",
       "      <td>0.151962</td>\n",
       "      <td>NaN</td>\n",
       "      <td>0.102509</td>\n",
       "    </tr>\n",
       "    <tr>\n",
       "      <td>1989</td>\n",
       "      <td>0.221327</td>\n",
       "      <td>NaN</td>\n",
       "      <td>0.129002</td>\n",
       "      <td>NaN</td>\n",
       "      <td>0.092259</td>\n",
       "      <td>NaN</td>\n",
       "      <td>0.077614</td>\n",
       "      <td>NaN</td>\n",
       "      <td>0.007322</td>\n",
       "      <td>NaN</td>\n",
       "      <td>NaN</td>\n",
       "      <td>0.214737</td>\n",
       "      <td>NaN</td>\n",
       "      <td>0.143913</td>\n",
       "      <td>NaN</td>\n",
       "      <td>0.113825</td>\n",
       "    </tr>\n",
       "    <tr>\n",
       "      <td>1990</td>\n",
       "      <td>0.227555</td>\n",
       "      <td>NaN</td>\n",
       "      <td>0.109339</td>\n",
       "      <td>NaN</td>\n",
       "      <td>0.095554</td>\n",
       "      <td>NaN</td>\n",
       "      <td>0.105081</td>\n",
       "      <td>NaN</td>\n",
       "      <td>0.007794</td>\n",
       "      <td>NaN</td>\n",
       "      <td>NaN</td>\n",
       "      <td>0.212688</td>\n",
       "      <td>NaN</td>\n",
       "      <td>0.127454</td>\n",
       "      <td>NaN</td>\n",
       "      <td>0.114535</td>\n",
       "    </tr>\n",
       "    <tr>\n",
       "      <td>1991</td>\n",
       "      <td>0.209468</td>\n",
       "      <td>NaN</td>\n",
       "      <td>0.129518</td>\n",
       "      <td>NaN</td>\n",
       "      <td>0.080605</td>\n",
       "      <td>NaN</td>\n",
       "      <td>0.113803</td>\n",
       "      <td>NaN</td>\n",
       "      <td>0.006941</td>\n",
       "      <td>NaN</td>\n",
       "      <td>NaN</td>\n",
       "      <td>0.191200</td>\n",
       "      <td>NaN</td>\n",
       "      <td>0.148245</td>\n",
       "      <td>NaN</td>\n",
       "      <td>0.120220</td>\n",
       "    </tr>\n",
       "    <tr>\n",
       "      <td>1993</td>\n",
       "      <td>0.198215</td>\n",
       "      <td>NaN</td>\n",
       "      <td>0.123238</td>\n",
       "      <td>NaN</td>\n",
       "      <td>0.115174</td>\n",
       "      <td>NaN</td>\n",
       "      <td>0.105078</td>\n",
       "      <td>NaN</td>\n",
       "      <td>0.009603</td>\n",
       "      <td>NaN</td>\n",
       "      <td>NaN</td>\n",
       "      <td>0.185534</td>\n",
       "      <td>NaN</td>\n",
       "      <td>0.146014</td>\n",
       "      <td>NaN</td>\n",
       "      <td>0.117144</td>\n",
       "    </tr>\n",
       "    <tr>\n",
       "      <td>1994</td>\n",
       "      <td>0.215413</td>\n",
       "      <td>NaN</td>\n",
       "      <td>0.128544</td>\n",
       "      <td>NaN</td>\n",
       "      <td>0.111942</td>\n",
       "      <td>NaN</td>\n",
       "      <td>0.096024</td>\n",
       "      <td>NaN</td>\n",
       "      <td>0.013869</td>\n",
       "      <td>NaN</td>\n",
       "      <td>NaN</td>\n",
       "      <td>0.178281</td>\n",
       "      <td>NaN</td>\n",
       "      <td>0.139851</td>\n",
       "      <td>NaN</td>\n",
       "      <td>0.116076</td>\n",
       "    </tr>\n",
       "    <tr>\n",
       "      <td>1996</td>\n",
       "      <td>0.191679</td>\n",
       "      <td>NaN</td>\n",
       "      <td>0.161232</td>\n",
       "      <td>NaN</td>\n",
       "      <td>0.121159</td>\n",
       "      <td>NaN</td>\n",
       "      <td>0.096537</td>\n",
       "      <td>NaN</td>\n",
       "      <td>0.013671</td>\n",
       "      <td>NaN</td>\n",
       "      <td>NaN</td>\n",
       "      <td>0.176612</td>\n",
       "      <td>NaN</td>\n",
       "      <td>0.131552</td>\n",
       "      <td>NaN</td>\n",
       "      <td>0.107558</td>\n",
       "    </tr>\n",
       "    <tr>\n",
       "      <td>1998</td>\n",
       "      <td>0.206361</td>\n",
       "      <td>NaN</td>\n",
       "      <td>0.173723</td>\n",
       "      <td>NaN</td>\n",
       "      <td>0.123450</td>\n",
       "      <td>NaN</td>\n",
       "      <td>0.088525</td>\n",
       "      <td>NaN</td>\n",
       "      <td>0.023283</td>\n",
       "      <td>NaN</td>\n",
       "      <td>NaN</td>\n",
       "      <td>0.173758</td>\n",
       "      <td>NaN</td>\n",
       "      <td>0.124974</td>\n",
       "      <td>NaN</td>\n",
       "      <td>0.085926</td>\n",
       "    </tr>\n",
       "    <tr>\n",
       "      <td>2000</td>\n",
       "      <td>0.178768</td>\n",
       "      <td>NaN</td>\n",
       "      <td>0.203698</td>\n",
       "      <td>NaN</td>\n",
       "      <td>0.114969</td>\n",
       "      <td>NaN</td>\n",
       "      <td>0.092987</td>\n",
       "      <td>NaN</td>\n",
       "      <td>0.016705</td>\n",
       "      <td>NaN</td>\n",
       "      <td>NaN</td>\n",
       "      <td>0.149616</td>\n",
       "      <td>NaN</td>\n",
       "      <td>0.137242</td>\n",
       "      <td>NaN</td>\n",
       "      <td>0.106016</td>\n",
       "    </tr>\n",
       "    <tr>\n",
       "      <td>2002</td>\n",
       "      <td>0.190093</td>\n",
       "      <td>NaN</td>\n",
       "      <td>0.196693</td>\n",
       "      <td>NaN</td>\n",
       "      <td>0.095772</td>\n",
       "      <td>NaN</td>\n",
       "      <td>0.077023</td>\n",
       "      <td>NaN</td>\n",
       "      <td>0.017370</td>\n",
       "      <td>NaN</td>\n",
       "      <td>NaN</td>\n",
       "      <td>0.165361</td>\n",
       "      <td>NaN</td>\n",
       "      <td>0.141645</td>\n",
       "      <td>NaN</td>\n",
       "      <td>0.116043</td>\n",
       "    </tr>\n",
       "    <tr>\n",
       "      <td>2004</td>\n",
       "      <td>0.186473</td>\n",
       "      <td>NaN</td>\n",
       "      <td>0.160589</td>\n",
       "      <td>NaN</td>\n",
       "      <td>0.098811</td>\n",
       "      <td>NaN</td>\n",
       "      <td>0.089899</td>\n",
       "      <td>NaN</td>\n",
       "      <td>0.011113</td>\n",
       "      <td>NaN</td>\n",
       "      <td>NaN</td>\n",
       "      <td>0.157323</td>\n",
       "      <td>NaN</td>\n",
       "      <td>0.154909</td>\n",
       "      <td>NaN</td>\n",
       "      <td>0.140884</td>\n",
       "    </tr>\n",
       "    <tr>\n",
       "      <td>2006</td>\n",
       "      <td>0.159098</td>\n",
       "      <td>NaN</td>\n",
       "      <td>0.231668</td>\n",
       "      <td>NaN</td>\n",
       "      <td>0.113486</td>\n",
       "      <td>NaN</td>\n",
       "      <td>0.073706</td>\n",
       "      <td>NaN</td>\n",
       "      <td>0.014269</td>\n",
       "      <td>NaN</td>\n",
       "      <td>NaN</td>\n",
       "      <td>0.150550</td>\n",
       "      <td>NaN</td>\n",
       "      <td>0.143849</td>\n",
       "      <td>NaN</td>\n",
       "      <td>0.113374</td>\n",
       "    </tr>\n",
       "    <tr>\n",
       "      <td>2008</td>\n",
       "      <td>0.171208</td>\n",
       "      <td>NaN</td>\n",
       "      <td>0.157011</td>\n",
       "      <td>NaN</td>\n",
       "      <td>0.121146</td>\n",
       "      <td>NaN</td>\n",
       "      <td>0.081245</td>\n",
       "      <td>NaN</td>\n",
       "      <td>0.017883</td>\n",
       "      <td>NaN</td>\n",
       "      <td>NaN</td>\n",
       "      <td>0.158057</td>\n",
       "      <td>NaN</td>\n",
       "      <td>0.188344</td>\n",
       "      <td>NaN</td>\n",
       "      <td>0.105106</td>\n",
       "    </tr>\n",
       "    <tr>\n",
       "      <td>2010</td>\n",
       "      <td>0.157417</td>\n",
       "      <td>NaN</td>\n",
       "      <td>0.187608</td>\n",
       "      <td>NaN</td>\n",
       "      <td>0.134527</td>\n",
       "      <td>NaN</td>\n",
       "      <td>0.099847</td>\n",
       "      <td>NaN</td>\n",
       "      <td>0.026343</td>\n",
       "      <td>NaN</td>\n",
       "      <td>NaN</td>\n",
       "      <td>0.133590</td>\n",
       "      <td>NaN</td>\n",
       "      <td>0.165162</td>\n",
       "      <td>NaN</td>\n",
       "      <td>0.095506</td>\n",
       "    </tr>\n",
       "    <tr>\n",
       "      <td>2012</td>\n",
       "      <td>0.169739</td>\n",
       "      <td>NaN</td>\n",
       "      <td>0.198636</td>\n",
       "      <td>NaN</td>\n",
       "      <td>0.124440</td>\n",
       "      <td>NaN</td>\n",
       "      <td>0.082058</td>\n",
       "      <td>NaN</td>\n",
       "      <td>0.023378</td>\n",
       "      <td>NaN</td>\n",
       "      <td>NaN</td>\n",
       "      <td>0.137197</td>\n",
       "      <td>NaN</td>\n",
       "      <td>0.166771</td>\n",
       "      <td>NaN</td>\n",
       "      <td>0.097782</td>\n",
       "    </tr>\n",
       "    <tr>\n",
       "      <td>2014</td>\n",
       "      <td>0.159425</td>\n",
       "      <td>NaN</td>\n",
       "      <td>0.207401</td>\n",
       "      <td>NaN</td>\n",
       "      <td>0.134436</td>\n",
       "      <td>NaN</td>\n",
       "      <td>0.105162</td>\n",
       "      <td>NaN</td>\n",
       "      <td>0.024028</td>\n",
       "      <td>NaN</td>\n",
       "      <td>NaN</td>\n",
       "      <td>0.119138</td>\n",
       "      <td>NaN</td>\n",
       "      <td>0.152457</td>\n",
       "      <td>NaN</td>\n",
       "      <td>0.097954</td>\n",
       "    </tr>\n",
       "    <tr>\n",
       "      <td>2016</td>\n",
       "      <td>0.171561</td>\n",
       "      <td>NaN</td>\n",
       "      <td>0.171354</td>\n",
       "      <td>NaN</td>\n",
       "      <td>0.141714</td>\n",
       "      <td>NaN</td>\n",
       "      <td>0.103827</td>\n",
       "      <td>NaN</td>\n",
       "      <td>0.026914</td>\n",
       "      <td>NaN</td>\n",
       "      <td>NaN</td>\n",
       "      <td>0.130051</td>\n",
       "      <td>NaN</td>\n",
       "      <td>0.155688</td>\n",
       "      <td>NaN</td>\n",
       "      <td>0.098892</td>\n",
       "    </tr>\n",
       "    <tr>\n",
       "      <td>2018</td>\n",
       "      <td>0.156092</td>\n",
       "      <td>NaN</td>\n",
       "      <td>0.183584</td>\n",
       "      <td>NaN</td>\n",
       "      <td>0.127640</td>\n",
       "      <td>NaN</td>\n",
       "      <td>0.121924</td>\n",
       "      <td>NaN</td>\n",
       "      <td>0.038576</td>\n",
       "      <td>NaN</td>\n",
       "      <td>NaN</td>\n",
       "      <td>0.122796</td>\n",
       "      <td>NaN</td>\n",
       "      <td>0.141997</td>\n",
       "      <td>NaN</td>\n",
       "      <td>0.107392</td>\n",
       "    </tr>\n",
       "    <tr>\n",
       "      <td>2019</td>\n",
       "      <td>NaN</td>\n",
       "      <td>0.152112</td>\n",
       "      <td>NaN</td>\n",
       "      <td>0.183854</td>\n",
       "      <td>NaN</td>\n",
       "      <td>0.124908</td>\n",
       "      <td>NaN</td>\n",
       "      <td>0.110020</td>\n",
       "      <td>NaN</td>\n",
       "      <td>0.039797</td>\n",
       "      <td>0.122044</td>\n",
       "      <td>NaN</td>\n",
       "      <td>0.145359</td>\n",
       "      <td>NaN</td>\n",
       "      <td>0.112333</td>\n",
       "      <td>NaN</td>\n",
       "    </tr>\n",
       "    <tr>\n",
       "      <td>2020</td>\n",
       "      <td>NaN</td>\n",
       "      <td>0.148407</td>\n",
       "      <td>NaN</td>\n",
       "      <td>0.168934</td>\n",
       "      <td>NaN</td>\n",
       "      <td>0.123161</td>\n",
       "      <td>NaN</td>\n",
       "      <td>0.113549</td>\n",
       "      <td>NaN</td>\n",
       "      <td>0.039723</td>\n",
       "      <td>0.122629</td>\n",
       "      <td>NaN</td>\n",
       "      <td>0.144882</td>\n",
       "      <td>NaN</td>\n",
       "      <td>0.115857</td>\n",
       "      <td>NaN</td>\n",
       "    </tr>\n",
       "    <tr>\n",
       "      <td>2021</td>\n",
       "      <td>NaN</td>\n",
       "      <td>0.144709</td>\n",
       "      <td>NaN</td>\n",
       "      <td>0.176273</td>\n",
       "      <td>NaN</td>\n",
       "      <td>0.122044</td>\n",
       "      <td>NaN</td>\n",
       "      <td>0.110600</td>\n",
       "      <td>NaN</td>\n",
       "      <td>0.039623</td>\n",
       "      <td>0.122103</td>\n",
       "      <td>NaN</td>\n",
       "      <td>0.144166</td>\n",
       "      <td>NaN</td>\n",
       "      <td>0.118526</td>\n",
       "      <td>NaN</td>\n",
       "    </tr>\n",
       "    <tr>\n",
       "      <td>2022</td>\n",
       "      <td>NaN</td>\n",
       "      <td>0.141012</td>\n",
       "      <td>NaN</td>\n",
       "      <td>0.190910</td>\n",
       "      <td>NaN</td>\n",
       "      <td>0.121330</td>\n",
       "      <td>NaN</td>\n",
       "      <td>0.111377</td>\n",
       "      <td>NaN</td>\n",
       "      <td>0.039523</td>\n",
       "      <td>0.121225</td>\n",
       "      <td>NaN</td>\n",
       "      <td>0.143435</td>\n",
       "      <td>NaN</td>\n",
       "      <td>0.120678</td>\n",
       "      <td>NaN</td>\n",
       "    </tr>\n",
       "    <tr>\n",
       "      <td>2023</td>\n",
       "      <td>NaN</td>\n",
       "      <td>0.137314</td>\n",
       "      <td>NaN</td>\n",
       "      <td>0.202363</td>\n",
       "      <td>NaN</td>\n",
       "      <td>0.120875</td>\n",
       "      <td>NaN</td>\n",
       "      <td>0.110862</td>\n",
       "      <td>NaN</td>\n",
       "      <td>0.039422</td>\n",
       "      <td>0.120525</td>\n",
       "      <td>NaN</td>\n",
       "      <td>0.142703</td>\n",
       "      <td>NaN</td>\n",
       "      <td>0.122518</td>\n",
       "      <td>NaN</td>\n",
       "    </tr>\n",
       "    <tr>\n",
       "      <td>2024</td>\n",
       "      <td>NaN</td>\n",
       "      <td>0.133616</td>\n",
       "      <td>NaN</td>\n",
       "      <td>0.207775</td>\n",
       "      <td>NaN</td>\n",
       "      <td>0.120585</td>\n",
       "      <td>NaN</td>\n",
       "      <td>0.111320</td>\n",
       "      <td>NaN</td>\n",
       "      <td>0.039322</td>\n",
       "      <td>0.119909</td>\n",
       "      <td>NaN</td>\n",
       "      <td>0.141971</td>\n",
       "      <td>NaN</td>\n",
       "      <td>0.124170</td>\n",
       "      <td>NaN</td>\n",
       "    </tr>\n",
       "  </tbody>\n",
       "</table>\n",
       "</div>"
      ],
      "text/plain": [
       "      Democrat  Predicted Democrat  Independent  Predicted Independent  \\\n",
       "1972  0.268597                 NaN     0.101286                    NaN   \n",
       "1973  0.254349                 NaN     0.096850                    NaN   \n",
       "1974  0.257948                 NaN     0.101148                    NaN   \n",
       "1975  0.238108                 NaN     0.135818                    NaN   \n",
       "1976  0.270044                 NaN     0.162836                    NaN   \n",
       "1977  0.267166                 NaN     0.111292                    NaN   \n",
       "1978  0.259443                 NaN     0.143141                    NaN   \n",
       "1980  0.254163                 NaN     0.167700                    NaN   \n",
       "1982  0.267408                 NaN     0.116573                    NaN   \n",
       "1983  0.240482                 NaN     0.129124                    NaN   \n",
       "1984  0.183874                 NaN     0.113359                    NaN   \n",
       "1985  0.234683                 NaN     0.092035                    NaN   \n",
       "1986  0.223404                 NaN     0.131434                    NaN   \n",
       "1987  0.216711                 NaN     0.107437                    NaN   \n",
       "1988  0.213494                 NaN     0.125534                    NaN   \n",
       "1989  0.221327                 NaN     0.129002                    NaN   \n",
       "1990  0.227555                 NaN     0.109339                    NaN   \n",
       "1991  0.209468                 NaN     0.129518                    NaN   \n",
       "1993  0.198215                 NaN     0.123238                    NaN   \n",
       "1994  0.215413                 NaN     0.128544                    NaN   \n",
       "1996  0.191679                 NaN     0.161232                    NaN   \n",
       "1998  0.206361                 NaN     0.173723                    NaN   \n",
       "2000  0.178768                 NaN     0.203698                    NaN   \n",
       "2002  0.190093                 NaN     0.196693                    NaN   \n",
       "2004  0.186473                 NaN     0.160589                    NaN   \n",
       "2006  0.159098                 NaN     0.231668                    NaN   \n",
       "2008  0.171208                 NaN     0.157011                    NaN   \n",
       "2010  0.157417                 NaN     0.187608                    NaN   \n",
       "2012  0.169739                 NaN     0.198636                    NaN   \n",
       "2014  0.159425                 NaN     0.207401                    NaN   \n",
       "2016  0.171561                 NaN     0.171354                    NaN   \n",
       "2018  0.156092                 NaN     0.183584                    NaN   \n",
       "2019       NaN            0.152112          NaN               0.183854   \n",
       "2020       NaN            0.148407          NaN               0.168934   \n",
       "2021       NaN            0.144709          NaN               0.176273   \n",
       "2022       NaN            0.141012          NaN               0.190910   \n",
       "2023       NaN            0.137314          NaN               0.202363   \n",
       "2024       NaN            0.133616          NaN               0.207775   \n",
       "\n",
       "      Lean Democrat  Predicted Lean Democrat  Lean Republican  \\\n",
       "1972       0.106590                      NaN         0.060721   \n",
       "1973       0.126805                      NaN         0.093828   \n",
       "1974       0.138574                      NaN         0.073600   \n",
       "1975       0.139635                      NaN         0.084503   \n",
       "1976       0.142204                      NaN         0.070580   \n",
       "1977       0.131468                      NaN         0.086560   \n",
       "1978       0.125580                      NaN         0.093108   \n",
       "1980       0.130008                      NaN         0.085627   \n",
       "1982       0.128972                      NaN         0.084357   \n",
       "1983       0.128807                      NaN         0.092640   \n",
       "1984       0.140891                      NaN         0.109285   \n",
       "1985       0.101758                      NaN         0.107552   \n",
       "1986       0.105697                      NaN         0.099863   \n",
       "1987       0.116733                      NaN         0.089345   \n",
       "1988       0.121129                      NaN         0.095836   \n",
       "1989       0.092259                      NaN         0.077614   \n",
       "1990       0.095554                      NaN         0.105081   \n",
       "1991       0.080605                      NaN         0.113803   \n",
       "1993       0.115174                      NaN         0.105078   \n",
       "1994       0.111942                      NaN         0.096024   \n",
       "1996       0.121159                      NaN         0.096537   \n",
       "1998       0.123450                      NaN         0.088525   \n",
       "2000       0.114969                      NaN         0.092987   \n",
       "2002       0.095772                      NaN         0.077023   \n",
       "2004       0.098811                      NaN         0.089899   \n",
       "2006       0.113486                      NaN         0.073706   \n",
       "2008       0.121146                      NaN         0.081245   \n",
       "2010       0.134527                      NaN         0.099847   \n",
       "2012       0.124440                      NaN         0.082058   \n",
       "2014       0.134436                      NaN         0.105162   \n",
       "2016       0.141714                      NaN         0.103827   \n",
       "2018       0.127640                      NaN         0.121924   \n",
       "2019            NaN                 0.124908              NaN   \n",
       "2020            NaN                 0.123161              NaN   \n",
       "2021            NaN                 0.122044              NaN   \n",
       "2022            NaN                 0.121330              NaN   \n",
       "2023            NaN                 0.120875              NaN   \n",
       "2024            NaN                 0.120585              NaN   \n",
       "\n",
       "      Predicted Lean Republican     Other  Predicted Other  \\\n",
       "1972                        NaN  0.043248              NaN   \n",
       "1973                        NaN  0.044933              NaN   \n",
       "1974                        NaN  0.041461              NaN   \n",
       "1975                        NaN  0.008382              NaN   \n",
       "1976                        NaN  0.001959              NaN   \n",
       "1977                        NaN  0.002278              NaN   \n",
       "1978                        NaN  0.007290              NaN   \n",
       "1980                        NaN  0.007385              NaN   \n",
       "1982                        NaN  0.006089              NaN   \n",
       "1983                        NaN  0.008566              NaN   \n",
       "1984                        NaN  0.016646              NaN   \n",
       "1985                        NaN  0.008657              NaN   \n",
       "1986                        NaN  0.006520              NaN   \n",
       "1987                        NaN  0.008907              NaN   \n",
       "1988                        NaN  0.002069              NaN   \n",
       "1989                        NaN  0.007322              NaN   \n",
       "1990                        NaN  0.007794              NaN   \n",
       "1991                        NaN  0.006941              NaN   \n",
       "1993                        NaN  0.009603              NaN   \n",
       "1994                        NaN  0.013869              NaN   \n",
       "1996                        NaN  0.013671              NaN   \n",
       "1998                        NaN  0.023283              NaN   \n",
       "2000                        NaN  0.016705              NaN   \n",
       "2002                        NaN  0.017370              NaN   \n",
       "2004                        NaN  0.011113              NaN   \n",
       "2006                        NaN  0.014269              NaN   \n",
       "2008                        NaN  0.017883              NaN   \n",
       "2010                        NaN  0.026343              NaN   \n",
       "2012                        NaN  0.023378              NaN   \n",
       "2014                        NaN  0.024028              NaN   \n",
       "2016                        NaN  0.026914              NaN   \n",
       "2018                        NaN  0.038576              NaN   \n",
       "2019                   0.110020       NaN         0.039797   \n",
       "2020                   0.113549       NaN         0.039723   \n",
       "2021                   0.110600       NaN         0.039623   \n",
       "2022                   0.111377       NaN         0.039523   \n",
       "2023                   0.110862       NaN         0.039422   \n",
       "2024                   0.111320       NaN         0.039322   \n",
       "\n",
       "      Predicted Republican  Republican  Predicted Strong Democrat  \\\n",
       "1972                   NaN    0.140414                        NaN   \n",
       "1973                   NaN    0.148163                        NaN   \n",
       "1974                   NaN    0.147061                        NaN   \n",
       "1975                   NaN    0.159398                        NaN   \n",
       "1976                   NaN    0.149386                        NaN   \n",
       "1977                   NaN    0.145786                        NaN   \n",
       "1978                   NaN    0.163685                        NaN   \n",
       "1980                   NaN    0.153766                        NaN   \n",
       "1982                   NaN    0.120337                        NaN   \n",
       "1983                   NaN    0.161168                        NaN   \n",
       "1984                   NaN    0.170108                        NaN   \n",
       "1985                   NaN    0.178743                        NaN   \n",
       "1986                   NaN    0.169526                        NaN   \n",
       "1987                   NaN    0.150690                        NaN   \n",
       "1988                   NaN    0.187467                        NaN   \n",
       "1989                   NaN    0.214737                        NaN   \n",
       "1990                   NaN    0.212688                        NaN   \n",
       "1991                   NaN    0.191200                        NaN   \n",
       "1993                   NaN    0.185534                        NaN   \n",
       "1994                   NaN    0.178281                        NaN   \n",
       "1996                   NaN    0.176612                        NaN   \n",
       "1998                   NaN    0.173758                        NaN   \n",
       "2000                   NaN    0.149616                        NaN   \n",
       "2002                   NaN    0.165361                        NaN   \n",
       "2004                   NaN    0.157323                        NaN   \n",
       "2006                   NaN    0.150550                        NaN   \n",
       "2008                   NaN    0.158057                        NaN   \n",
       "2010                   NaN    0.133590                        NaN   \n",
       "2012                   NaN    0.137197                        NaN   \n",
       "2014                   NaN    0.119138                        NaN   \n",
       "2016                   NaN    0.130051                        NaN   \n",
       "2018                   NaN    0.122796                        NaN   \n",
       "2019              0.122044         NaN                   0.145359   \n",
       "2020              0.122629         NaN                   0.144882   \n",
       "2021              0.122103         NaN                   0.144166   \n",
       "2022              0.121225         NaN                   0.143435   \n",
       "2023              0.120525         NaN                   0.142703   \n",
       "2024              0.119909         NaN                   0.141971   \n",
       "\n",
       "      Strong Democrat  Predicted Strong Republican  Strong Republican  \n",
       "1972         0.207314                          NaN           0.071830  \n",
       "1973         0.152059                          NaN           0.083014  \n",
       "1974         0.169739                          NaN           0.070470  \n",
       "1975         0.172209                          NaN           0.061946  \n",
       "1976         0.145208                          NaN           0.057783  \n",
       "1977         0.179629                          NaN           0.075822  \n",
       "1978         0.139828                          NaN           0.067926  \n",
       "1980         0.129241                          NaN           0.072110  \n",
       "1982         0.202646                          NaN           0.073619  \n",
       "1983         0.150063                          NaN           0.089150  \n",
       "1984         0.180924                          NaN           0.084914  \n",
       "1985         0.157299                          NaN           0.119273  \n",
       "1986         0.165065                          NaN           0.098490  \n",
       "1987         0.226008                          NaN           0.084168  \n",
       "1988         0.151962                          NaN           0.102509  \n",
       "1989         0.143913                          NaN           0.113825  \n",
       "1990         0.127454                          NaN           0.114535  \n",
       "1991         0.148245                          NaN           0.120220  \n",
       "1993         0.146014                          NaN           0.117144  \n",
       "1994         0.139851                          NaN           0.116076  \n",
       "1996         0.131552                          NaN           0.107558  \n",
       "1998         0.124974                          NaN           0.085926  \n",
       "2000         0.137242                          NaN           0.106016  \n",
       "2002         0.141645                          NaN           0.116043  \n",
       "2004         0.154909                          NaN           0.140884  \n",
       "2006         0.143849                          NaN           0.113374  \n",
       "2008         0.188344                          NaN           0.105106  \n",
       "2010         0.165162                          NaN           0.095506  \n",
       "2012         0.166771                          NaN           0.097782  \n",
       "2014         0.152457                          NaN           0.097954  \n",
       "2016         0.155688                          NaN           0.098892  \n",
       "2018         0.141997                          NaN           0.107392  \n",
       "2019              NaN                     0.112333                NaN  \n",
       "2020              NaN                     0.115857                NaN  \n",
       "2021              NaN                     0.118526                NaN  \n",
       "2022              NaN                     0.120678                NaN  \n",
       "2023              NaN                     0.122518                NaN  \n",
       "2024              NaN                     0.124170                NaN  "
      ]
     },
     "execution_count": 7,
     "metadata": {},
     "output_type": "execute_result"
    }
   ],
   "source": [
    "party_aff_lev = store_predictions(percent_parties)\n",
    "party_aff_lev"
   ]
  },
  {
   "cell_type": "code",
   "execution_count": null,
   "metadata": {},
   "outputs": [],
   "source": [
    "percent_parties.index = percent_parties['year']"
   ]
  },
  {
   "cell_type": "code",
   "execution_count": null,
   "metadata": {
    "scrolled": true
   },
   "outputs": [],
   "source": [
    "ts = percent_parties['Democrat']\n",
    "voterid = pd.DataFrame(ts)\n",
    "preds = make_preds(ts, 'Predicted Democrat')\n",
    "voterid = voterid.append(pd.DataFrame(preds))\n",
    "\n",
    "for col in percent_parties.columns[2:]:\n",
    "    ts = percent_parties[col]\n",
    "    temp = pd.DataFrame(ts)\n",
    "    preds = make_preds(ts, 'Predicted ' + col)\n",
    "    temp.index = percent_parties['year']\n",
    "    temp = temp.append(pd.DataFrame(preds))\n",
    "    voterid = voterid.join(temp)\n",
    "\n",
    "party_aff_lev = store_predictions(percent_parties)\n",
    "party_aff_lev.to_excel('data/predictions/voter/leveled.xlsx')"
   ]
  },
  {
   "cell_type": "code",
   "execution_count": null,
   "metadata": {
    "scrolled": true
   },
   "outputs": [],
   "source": [
    "overall.index  = overall['year']\n",
    "ts = overall['Democrat']\n",
    "df = pd.DataFrame(ts)\n",
    "preds = make_preds(ts, 'Predicted Democrat')\n",
    "df = df.append(pd.DataFrame(preds))\n",
    "\n",
    "for col in overall.columns[2:]:\n",
    "    ts = overall[col]\n",
    "    temp = pd.DataFrame(ts)\n",
    "    preds = make_preds(ts, 'Predicted ' + col)\n",
    "    temp = temp.append(pd.DataFrame(preds))\n",
    "    df = df.join(temp)\n",
    "df"
   ]
  },
  {
   "cell_type": "code",
   "execution_count": null,
   "metadata": {},
   "outputs": [],
   "source": [
    "df.to_excel('data/predictions/voter/overall.xlsx')"
   ]
  },
  {
   "cell_type": "code",
   "execution_count": null,
   "metadata": {},
   "outputs": [],
   "source": [
    "fig = plt.figure(figsize=(25,5))\n",
    "ax1, ax2, ax3 = fig.subplots(nrows=1, ncols=3, sharey= True)\n",
    "\n",
    "sns.lineplot(x= 'year', y = 'Lean Democrat', data= percent_parties, \n",
    "             color = 'skyblue', label= 'Lean Democrat', ax = ax1)\n",
    "sns.lineplot(x= 'year', y = 'Democrat', data= percent_parties, \n",
    "             color = 'dodgerblue', label= 'Democrat', ax = ax1)\n",
    "sns.lineplot(x= 'year', y = 'Strong Democrat', data= percent_parties, \n",
    "             color = 'blue', label= 'Strong Democrat', ax = ax1)\n",
    "sns.lineplot(data= ln_dem_preds, color = 'skyblue', ax = ax1)\n",
    "sns.lineplot(data= mid_dem_preds, color = 'dodgerblue', ax = ax1)\n",
    "sns.lineplot(data= str_dem_preds, color = 'blue', ax = ax1)\n",
    "ax1.set_title('Dem Affiliation by Level with Predictions')\n",
    "ax1.set_ylabel('Percent of Population')\n",
    "ax1.set_xlabel('');\n",
    "\n",
    "sns.lineplot(x= 'year', y = 'Strong Republican', data= percent_parties, \n",
    "             color= 'crimson', label= 'Strong Republican', ax = ax2)\n",
    "sns.lineplot(x= 'year', y = 'Republican', data= percent_parties, \n",
    "             color= 'red', label= 'Republican', ax = ax2)\n",
    "sns.lineplot(x= 'year', y = 'Lean Republican', data= percent_parties, \n",
    "             color= 'hotpink', label= 'Lean Republican', ax = ax2)\n",
    "sns.lineplot(data= ln_rep_preds, color = 'crimson', ax = ax2)\n",
    "sns.lineplot(data= mid_rep_preds, color = 'red', ax = ax2)\n",
    "sns.lineplot(data= str_rep_preds, color = 'hotpink', ax = ax2)\n",
    "ax2.set_title('Rep Affiliation by Level with Predictions')\n",
    "ax2.set_xlabel('')\n",
    "\n",
    "sns.lineplot(x='year', y='Democrat', data=overall, \n",
    "             color= 'blue', label= 'Democrat', ax = ax3)\n",
    "sns.lineplot(x='year', y='Republican', data=overall, \n",
    "             color= 'red', label= 'Republican', ax = ax3)\n",
    "sns.lineplot(x='year', y='Independent', data=overall, \n",
    "             color= 'plum', label= 'Independent', ax = ax3)\n",
    "sns.lineplot(x='year', y='Other', data=overall, \n",
    "             color= 'grey', label= 'Other', ax = ax3)\n",
    "sns.lineplot(data= dem_preds, color = 'blue', ax = ax3)\n",
    "sns.lineplot(data= rep_preds, color = 'red', ax = ax3)\n",
    "sns.lineplot(data= ind_preds, color = 'plum', ax = ax3)\n",
    "sns.lineplot(data= oth_preds, color = 'grey', ax = ax3)\n",
    "ax3.set_title('Overall Affiliation with Predictions')\n",
    "ax3.set_xlabel('')"
   ]
  },
  {
   "cell_type": "markdown",
   "metadata": {},
   "source": [
    "#### Analysis- Party Affiliation\n",
    "Based on the projections it appears that party affiliation in America is trending toward more and more people identifying as independent. Meanwhile, within parties more and more people are identifying as Strong in their affiliation.  "
   ]
  },
  {
   "cell_type": "markdown",
   "metadata": {},
   "source": [
    "## Abortion Opinions"
   ]
  },
  {
   "cell_type": "code",
   "execution_count": null,
   "metadata": {},
   "outputs": [],
   "source": [
    "abortion = unzip('Abortion')\n",
    "abortion.info()"
   ]
  },
  {
   "cell_type": "code",
   "execution_count": null,
   "metadata": {
    "scrolled": true
   },
   "outputs": [],
   "source": [
    "abortion.loc[(abortion['Strong chance of serious defect'] == 'Yes')|\n",
    "             (abortion['Married--wants no more children'] == 'Yes')|\n",
    "             (abortion[\"Woman's health seriously endangered\"] == 'Yes')|\n",
    "             (abortion[\"Low income--cant afford more children\"] == 'Yes')|\n",
    "             (abortion[\"Pregnant as result of rape\"] == 'Yes')|\n",
    "             (abortion['Not married']=='Yes'), 'abortion'] = 'conditional'\n",
    "\n",
    "abortion.loc[(abortion['Strong chance of serious defect'] == 'Yes')&\n",
    "             (abortion['Married--wants no more children'] == 'Yes')&\n",
    "             (abortion[\"Woman's health seriously endangered\"] == 'Yes')&\n",
    "             (abortion[\"Low income--cant afford more children\"] == 'Yes')&\n",
    "             (abortion[\"Pregnant as result of rape\"] == 'Yes')&\n",
    "             (abortion['Not married']=='Yes'), 'abortion'] = 'unrestricted'\n",
    "\n",
    "abortion.loc[(abortion['Strong chance of serious defect'] == 'No')&\n",
    "             (abortion['Married--wants no more children'] == 'No')&\n",
    "             (abortion[\"Woman's health seriously endangered\"] == 'No')&\n",
    "             (abortion[\"Low income--cant afford more children\"] == 'No')&\n",
    "             (abortion[\"Pregnant as result of rape\"] == 'No')&\n",
    "             (abortion['Not married']=='No'), 'abortion'] = 'never'\n",
    "\n",
    "abortion.loc[abortion['Abortion if woman wants for any reason']== 'Yes', 'abortion']= 'unrestricted'\n",
    "abortion.head()"
   ]
  },
  {
   "cell_type": "code",
   "execution_count": null,
   "metadata": {},
   "outputs": [],
   "source": [
    "abortion = abortion[['year','id', 'abortion']]\n",
    "abortion = weight(abortion)\n",
    "abortion_percentages = create_ts(abortion, ['unrestricted','conditional','never'])\n",
    "abortion_percentages.head()"
   ]
  },
  {
   "cell_type": "code",
   "execution_count": null,
   "metadata": {
    "scrolled": true
   },
   "outputs": [],
   "source": [
    "sns.lineplot(x= 'year', y= 'unrestricted', data= abortion_percentages, \n",
    "             color = 'green', label='Unrestricted')\n",
    "sns.lineplot(x= 'year', y= 'conditional', data= abortion_percentages, \n",
    "             color= 'yellow', label='Conditional')\n",
    "sns.lineplot(x= 'year', y= 'never', data= abortion_percentages, \n",
    "             color= 'black', label='Banned');"
   ]
  },
  {
   "cell_type": "code",
   "execution_count": null,
   "metadata": {
    "scrolled": true
   },
   "outputs": [],
   "source": [
    "(rep_ts_abort, \n",
    " dem_ts_abort, \n",
    " ind_ts_abort) = party_splits(abortion,['unrestricted', \n",
    "                                        'conditional', \n",
    "                                        'never'])"
   ]
  },
  {
   "cell_type": "code",
   "execution_count": null,
   "metadata": {
    "scrolled": true
   },
   "outputs": [],
   "source": [
    "rep_preds_abort = pd.DataFrame()\n",
    "dem_preds_abort = pd.DataFrame()\n",
    "ind_preds_abort = pd.DataFrame()\n",
    "for cat in ['unrestricted', 'conditional', 'never']:\n",
    "    rep_preds_abort[cat] = make_preds(rep_ts_abort[cat])\n",
    "    dem_preds_abort[cat] = make_preds(dem_ts_abort[cat])\n",
    "    ind_preds_abort[cat] = make_preds(ind_ts_abort[cat])"
   ]
  },
  {
   "cell_type": "code",
   "execution_count": null,
   "metadata": {},
   "outputs": [],
   "source": [
    "rep_preds_abort"
   ]
  },
  {
   "cell_type": "code",
   "execution_count": null,
   "metadata": {},
   "outputs": [],
   "source": [
    "fig = plt.figure(figsize=(20,5))\n",
    "ax1, ax2, ax3 = fig.subplots(nrows=1, ncols=3, sharey= True)\n",
    "\n",
    "sns.lineplot(x= 'year', y= 'unrestricted', data= rep_ts_abort, \n",
    "             color='red', label= 'Republican', ax = ax1)\n",
    "sns.lineplot(x= 'year', y= 'unrestricted', data= dem_ts_abort, \n",
    "             color='blue', label= 'Democrat', ax = ax1)\n",
    "sns.lineplot(x= 'year', y= 'unrestricted', data= ind_ts_abort, \n",
    "             color='purple', label= 'Independent', ax = ax1)\n",
    "sns.lineplot(data= rep_preds_abort['unrestricted'], \n",
    "             color='red', label= 'Republican', ax = ax1)\n",
    "sns.lineplot(data= dem_preds_abort['unrestricted'], \n",
    "             color='blue', label= 'Democrat', ax = ax1)\n",
    "sns.lineplot(data= ind_preds_abort['unrestricted'], \n",
    "             color='purple', label= 'Independent', ax = ax1)\n",
    "ax1.set_title('Unrestricted Access to Abortion by Party With Predictions')\n",
    "ax1.set_ylabel('Percent of Party')\n",
    "ax1.set_xlabel('')\n",
    "\n",
    "sns.lineplot(x= 'year', y= 'conditional', data= rep_ts_abort, \n",
    "             color='red', label= 'Republican', ax = ax2)\n",
    "sns.lineplot(x= 'year', y= 'conditional', data= dem_ts_abort, \n",
    "             color='blue', label= 'Democrat', ax = ax2)\n",
    "sns.lineplot(x= 'year', y= 'conditional', data= ind_ts_abort, \n",
    "             color='purple', label= 'Independent', ax = ax2)\n",
    "sns.lineplot(data= rep_preds_abort['conditional'], \n",
    "             color='red', label= 'Republican', ax = ax2)\n",
    "sns.lineplot(data= dem_preds_abort['conditional'], \n",
    "             color='blue', label= 'Democrat', ax = ax2)\n",
    "sns.lineplot(data= ind_preds_abort['conditional'], \n",
    "             color='purple', label= 'Independent', ax = ax2)\n",
    "ax2.set_title('Conditional Access to Abortion by Party')\n",
    "ax2.set_xlabel('')\n",
    "\n",
    "sns.lineplot(x= 'year', y= 'never', data= rep_ts_abort, \n",
    "             color='red', label= 'Republican', ax = ax3)\n",
    "sns.lineplot(x= 'year', y= 'never', data= dem_ts_abort, \n",
    "             color='blue', label= 'Democrat', ax = ax3)\n",
    "sns.lineplot(x= 'year', y= 'never', data= ind_ts_abort, \n",
    "             color='purple', label= 'Independent', ax = ax3)\n",
    "sns.lineplot(data= rep_preds_abort['never'], \n",
    "             color='red', label= 'Republican', ax = ax3)\n",
    "sns.lineplot(data= dem_preds_abort['never'], \n",
    "             color='blue', label= 'Democrat', ax = ax3)\n",
    "sns.lineplot(data= ind_preds_abort['never'], \n",
    "             color='purple', label= 'Independent', ax = ax3)\n",
    "ax3.set_title('Ban Access to Abortion by Party')\n",
    "ax3.set_xlabel('')\n",
    "\n",
    "plt.yticks(ticks=[.15, .3, .45, .6, .75], \n",
    "           labels=['','15%', '30%', '45%', '60%', '75%']);"
   ]
  },
  {
   "cell_type": "markdown",
   "metadata": {},
   "source": [
    "It appears that access to abortion is increasingly a part of party identity. As we can see, the gap in beliefs about access to abortion has been increasing, with Democrats more likely to support unrestricted access, Republicans most likely to support conditions on access, and banning access altogether. "
   ]
  },
  {
   "cell_type": "code",
   "execution_count": null,
   "metadata": {},
   "outputs": [],
   "source": [
    "(str_rep_ts_abort, mid_rep_ts_abort, ln_rep_ts_abort, \n",
    " str_dem_ts_abort, mid_dem_ts_abort, ln_dem_ts_abort, \n",
    " oth_ts_abort, ind_ts_abort) = party_splits(abortion, ['unrestricted', \n",
    "                                     'conditional', \n",
    "                                     'never'], split = 'within party')"
   ]
  },
  {
   "cell_type": "code",
   "execution_count": null,
   "metadata": {},
   "outputs": [],
   "source": [
    "str_rep_preds_abort = pd.DataFrame()\n",
    "mid_rep_preds_abort = pd.DataFrame()\n",
    "ln_rep_preds_abort = pd.DataFrame()\n",
    "str_dem_preds_abort = pd.DataFrame()\n",
    "mid_dem_preds_abort = pd.DataFrame()\n",
    "ln_dem_preds_abort = pd.DataFrame()\n",
    "oth_preds_abort = pd.DataFrame()\n",
    "ind_preds_abort = pd.DataFrame()\n",
    "for cat in ['unrestricted', 'conditional', 'never']:\n",
    "    str_rep_preds_abort[cat] = make_preds(str_rep_ts_abort[cat])\n",
    "    mid_rep_preds_abort[cat] = make_preds(mid_rep_ts_abort[cat])\n",
    "    ln_rep_preds_abort[cat] = make_preds(ln_rep_ts_abort[cat])\n",
    "    str_dem_preds_abort[cat] = make_preds(str_dem_ts_abort[cat])\n",
    "    mid_dem_preds_abort[cat] = make_preds(mid_dem_ts_abort[cat])\n",
    "    ln_dem_preds_abort[cat] = make_preds(ln_dem_ts_abort[cat])\n",
    "    oth_preds_abort[cat] = make_preds(oth_ts_abort[cat])\n",
    "    ind_preds_abort[cat] = make_preds(ind_ts_abort[cat])"
   ]
  },
  {
   "cell_type": "code",
   "execution_count": null,
   "metadata": {
    "scrolled": true
   },
   "outputs": [],
   "source": [
    "fig = plt.figure(figsize=(20,5))\n",
    "ax1, ax2, ax3 = fig.subplots(nrows=1, ncols=3, sharey= True)\n",
    "\n",
    "sns.lineplot(x= 'year', y= 'unrestricted', data= str_rep_ts_abort, \n",
    "             color='red', label= 'Strong Republican', ax = ax1)\n",
    "sns.lineplot(x= 'year', y= 'unrestricted', data= mid_rep_ts_abort, \n",
    "             color='blue', label= 'Republican', ax = ax1)\n",
    "sns.lineplot(x= 'year', y= 'unrestricted', data= ln_rep_ts_abort, \n",
    "             color='purple', label= 'Lean Republican', ax = ax1)\n",
    "sns.lineplot(data=str_rep_preds_abort['unrestricted'], color='red', \n",
    "             ax = ax1)\n",
    "sns.lineplot(data=mid_rep_preds_abort['unrestricted'], color='red', \n",
    "             ax = ax1)\n",
    "sns.lineplot(data=ln_rep_preds_abort['unrestricted'], color='red', \n",
    "             ax = ax1)\n",
    "ax1.set_title('Republican Support for Unrestricted Access to Abortion')\n",
    "ax1.set_ylabel('Percent of Party')\n",
    "ax1.set_xlabel('')\n",
    "\n",
    "sns.lineplot(x= 'year', y= 'conditional', data= str_rep_ts_abort, \n",
    "             color='red', label= 'Strong Republican', ax = ax2)\n",
    "sns.lineplot(x= 'year', y= 'conditional', data= mid_rep_ts_abort, \n",
    "             color='blue', label= 'Republican', ax = ax2)\n",
    "sns.lineplot(x= 'year', y= 'conditional', data= ln_rep_ts_abort, \n",
    "             color='purple', label= 'Lean Republican', ax = ax2)\n",
    "sns.lineplot(data=str_rep_preds_abort['conditional'], color='red', \n",
    "             ax = ax2)\n",
    "sns.lineplot(data=mid_rep_preds_abort['conditional'], color='red', \n",
    "             ax = ax2)\n",
    "sns.lineplot(data=ln_rep_preds_abort['conditional'], color='red', \n",
    "             ax = ax2)\n",
    "ax2.set_title('Republican Support for Conditional Access to Abortion')\n",
    "ax2.set_xlabel('')\n",
    "\n",
    "sns.lineplot(x= 'year', y= 'never', data= str_rep_ts_abort, \n",
    "             color='red', label= 'Strong Republican', ax = ax3)\n",
    "sns.lineplot(x= 'year', y= 'never', data= mid_rep_ts_abort, \n",
    "             color='blue', label= 'Republican', ax = ax3)\n",
    "sns.lineplot(x= 'year', y= 'never', data= ln_rep_ts_abort, \n",
    "             color='purple', label= 'Lean Republican', ax = ax3)\n",
    "sns.lineplot(data=str_rep_preds_abort['never'], color='red', \n",
    "             ax = ax3)\n",
    "sns.lineplot(data=mid_rep_preds_abort['never'], color='red', \n",
    "             ax = ax3)\n",
    "sns.lineplot(data=ln_rep_preds_abort['never'], color='red', \n",
    "             ax = ax3)\n",
    "ax3.set_title('Republican Support for Banning Access to Abortion')\n",
    "ax3.set_xlabel('')\n",
    "\n",
    "plt.yticks(ticks=[.15, .3, .45, .6, .75], \n",
    "           labels=['','15%', '30%', '45%', '60%', '75%']);"
   ]
  },
  {
   "cell_type": "code",
   "execution_count": null,
   "metadata": {},
   "outputs": [],
   "source": [
    "fig = plt.figure(figsize=(20,5))\n",
    "ax1, ax2, ax3 = fig.subplots(nrows=1, ncols=3, sharey= True)\n",
    "\n",
    "sns.lineplot(x= 'year', y= 'unrestricted', data= str_dem, \n",
    "             color='red', label= 'Strong Democrat', ax = ax1)\n",
    "sns.lineplot(x= 'year', y= 'unrestricted', data= mid_dem, \n",
    "             color='blue', label= 'Democrat', ax = ax1)\n",
    "sns.lineplot(x= 'year', y= 'unrestricted', data= ln_dem, \n",
    "             color='purple', label= 'Lean Democrat', ax = ax1)\n",
    "ax1.set_title('Democratic Support for Unrestricted Access to Abortion')\n",
    "ax1.set_ylabel('Percent of Party')\n",
    "ax1.set_xlabel('')\n",
    "\n",
    "sns.lineplot(x= 'year', y= 'conditional', data= str_dem, \n",
    "             color='red', label= 'Strong Democrat', ax = ax2)\n",
    "sns.lineplot(x= 'year', y= 'conditional', data= mid_dem, \n",
    "             color='blue', label= 'Democrat', ax = ax2)\n",
    "sns.lineplot(x= 'year', y= 'conditional', data= ln_dem, \n",
    "             color='purple', label= 'Lean Democrat', ax = ax2)\n",
    "ax2.set_title('Democratic Support for Conditional Access to Abortion')\n",
    "ax2.set_xlabel('')\n",
    "\n",
    "sns.lineplot(x= 'year', y= 'never', data= str_dem, \n",
    "             color='red', label= 'Strong Democrat', ax = ax3)\n",
    "sns.lineplot(x= 'year', y= 'never', data= mid_dem, \n",
    "             color='blue', label= 'Democrat', ax = ax3)\n",
    "sns.lineplot(x= 'year', y= 'never', data= ln_dem, \n",
    "             color='purple', label= 'Lean Democrat', ax = ax3)\n",
    "ax3.set_title('Democratic Support for Banning Access to Abortion')\n",
    "ax3.set_xlabel('')\n",
    "\n",
    "plt.yticks(ticks=[.15, .3, .45, .6, .75], \n",
    "           labels=['','15%', '30%', '45%', '60%', '75%']);"
   ]
  },
  {
   "cell_type": "markdown",
   "metadata": {},
   "source": [
    "This trend is even more clear in these graphs, where we can see clearly that the more affiliated a person is the more likely that they support an outright ban. "
   ]
  },
  {
   "cell_type": "markdown",
   "metadata": {},
   "source": [
    "## Criminal Justice Attitudes"
   ]
  },
  {
   "cell_type": "code",
   "execution_count": null,
   "metadata": {},
   "outputs": [],
   "source": [
    "crim_justice = unzip('Criminal_Justice')\n",
    "crim_justice.columns"
   ]
  },
  {
   "cell_type": "code",
   "execution_count": null,
   "metadata": {
    "scrolled": true
   },
   "outputs": [],
   "source": [
    "crim_justice[crim_justice['Ever approve of police striking citizen']=='Yes']['Citizen attacking policeman with fists'].value_counts()"
   ]
  },
  {
   "cell_type": "markdown",
   "metadata": {},
   "source": [
    "The police striking citizens columns lack information on how the police response is defined, and will likely be difficult to interpret given the nature of this analysis. Unfortunately I will have to drop them. "
   ]
  },
  {
   "cell_type": "code",
   "execution_count": null,
   "metadata": {
    "scrolled": true
   },
   "outputs": [],
   "source": [
    "crim_justice.drop(['Citizen attacking policeman with fists', \n",
    "                   'Citizen attempting to escape custody', \n",
    "                   'Citizen questioned as murder suspect', \n",
    "                   'Citizen said vulgar or obscene things', \n",
    "                   'Ever approve of police striking citizen'], axis = 1, inplace = True)"
   ]
  },
  {
   "cell_type": "code",
   "execution_count": null,
   "metadata": {},
   "outputs": [],
   "source": [
    "crim_justice.rename(columns = {'Should marijuana be made legal': 'legalize_marijuana',\n",
    "                             'Courts dealing with criminals': 'sentencing',\n",
    "                             'Favor or oppose death penalty for murder': 'death_penalty', \n",
    "                             'Afraid to walk at night in neighborhood': 'fear'}, inplace=True)"
   ]
  },
  {
   "cell_type": "code",
   "execution_count": null,
   "metadata": {},
   "outputs": [],
   "source": [
    "crim_justice = weight(crim_justice)"
   ]
  },
  {
   "cell_type": "code",
   "execution_count": null,
   "metadata": {},
   "outputs": [],
   "source": [
    "crim_justice['legalize_marijuana'].unique()"
   ]
  },
  {
   "cell_type": "code",
   "execution_count": null,
   "metadata": {},
   "outputs": [],
   "source": [
    "rep_ts_mj, dem_ts_mj, ind_ts_mj = party_splits(crim_justice, \n",
    "                                               ['Legal',\n",
    "                                                'Not legal'])"
   ]
  },
  {
   "cell_type": "code",
   "execution_count": null,
   "metadata": {
    "scrolled": true
   },
   "outputs": [],
   "source": [
    "fig = plt.figure(figsize=(20,5))\n",
    "ax1 = fig.subplots(nrows=1, ncols=1, sharey= True)\n",
    "\n",
    "sns.lineplot(x= 'year', y= 'Legal', data= rep_ts_mj, \n",
    "             color='red', label= 'Republican', ax = ax1)\n",
    "sns.lineplot(x= 'year', y= 'Legal', data= dem_ts_mj, \n",
    "             color='blue', label= 'Democrat', ax = ax1)\n",
    "sns.lineplot(x= 'year', y= 'Legal', data= ind_ts_mj, \n",
    "             color='purple', label= 'Independent', ax = ax1)\n",
    "ax1.set_title('Legalization of Marijuana by Party')\n",
    "ax1.set_ylabel('Percent of Party')\n",
    "ax1.set_xlabel('')\n",
    "\n",
    "plt.yticks(ticks=[.15, .3, .45, .6, .75], \n",
    "           labels=['','15%', '30%', '45%', '60%', '75%']);"
   ]
  },
  {
   "cell_type": "markdown",
   "metadata": {},
   "source": [
    "Clearly, attitudes about the legalization of marijuana have changed in favor of legalization, with Democrats leading the way. Another example of a widening partisan divide around certain issues. "
   ]
  },
  {
   "cell_type": "code",
   "execution_count": null,
   "metadata": {},
   "outputs": [],
   "source": [
    "(str_rep, mid_rep, ln_rep, \n",
    " str_dem, mid_dem, ln_dem, \n",
    " oth, ind) = party_splits(crim_justice, ['Legal', \n",
    "                                     'Not legal'], split = 'within party')"
   ]
  },
  {
   "cell_type": "code",
   "execution_count": null,
   "metadata": {
    "scrolled": true
   },
   "outputs": [],
   "source": [
    "fig = plt.figure(figsize=(20,5))\n",
    "ax1, ax2, ax3 = fig.subplots(nrows=1, ncols=3, sharey= True)\n",
    "\n",
    "sns.lineplot(x= 'year', y= 'Legal', data= str_rep, \n",
    "             color='red', label= 'Strong Republican', ax = ax1)\n",
    "sns.lineplot(x= 'year', y= 'Legal', data= mid_rep, \n",
    "             color='blue', label= 'Republican', ax = ax1)\n",
    "sns.lineplot(x= 'year', y= 'Legal', data= ln_rep, \n",
    "             color='purple', label= 'Lean Republican', ax = ax1)\n",
    "ax1.set_title('Legalization of Marijuana by Republican Affiliation')\n",
    "ax1.set_ylabel('Percent of Party')\n",
    "ax1.set_xlabel('')\n",
    "\n",
    "sns.lineplot(x= 'year', y= 'Legal', data= str_dem, \n",
    "             color='red', label= 'Strong Democrat', ax = ax2)\n",
    "sns.lineplot(x= 'year', y= 'Legal', data= mid_dem, \n",
    "             color='blue', label= 'Democratic', ax = ax2)\n",
    "sns.lineplot(x= 'year', y= 'Legal', data= ln_dem, \n",
    "             color='purple', label= 'Lean Democratic', ax = ax2)\n",
    "ax2.set_title('Conditional Access to Abortion by Party')\n",
    "ax2.set_xlabel('')\n",
    "\n",
    "sns.lineplot(x= 'year', y= 'Legal', data= oth, \n",
    "             color='red', label= 'Other', ax = ax3)\n",
    "sns.lineplot(x= 'year', y= 'Legal', data= ind, \n",
    "             color='blue', label= 'Independent', ax = ax3)\n",
    "ax3.set_title('Ban Access to Abortion by Party')\n",
    "ax3.set_xlabel('')\n",
    "\n",
    "plt.yticks(ticks=[.15, .3, .45, .6, .75], \n",
    "           labels=['','15%', '30%', '45%', '60%', '75%']);"
   ]
  },
  {
   "cell_type": "code",
   "execution_count": null,
   "metadata": {},
   "outputs": [],
   "source": [
    "crim_justice['sentencing'].unique()"
   ]
  },
  {
   "cell_type": "code",
   "execution_count": null,
   "metadata": {},
   "outputs": [],
   "source": [
    "rep_ts_sen, dem_ts_sen, ind_ts_sen = party_splits(crim_justice, \n",
    "                                               ['About right',\n",
    "                                                'Not harsh enough', \n",
    "                                                'Too harsh'])"
   ]
  },
  {
   "cell_type": "code",
   "execution_count": null,
   "metadata": {
    "scrolled": false
   },
   "outputs": [],
   "source": [
    "fig = plt.figure(figsize=(20,5))\n",
    "ax1, ax2, ax3 = fig.subplots(nrows=1, ncols=3, sharey= True)\n",
    "\n",
    "sns.lineplot(x= 'year', y= 'About right', data= rep_ts_sen, \n",
    "             color='red', label= 'Republican', ax = ax1)\n",
    "sns.lineplot(x= 'year', y= 'About right', data= dem_ts_sen, \n",
    "             color='blue', label= 'Democrat', ax = ax1)\n",
    "sns.lineplot(x= 'year', y= 'About right', data= ind_ts_sen, \n",
    "             color='purple', label= 'Independent', ax = ax1)\n",
    "ax1.set_title('Criminal Sentencing is about right')\n",
    "ax1.set_ylabel('Percent of Party')\n",
    "ax1.set_xlabel('')\n",
    "\n",
    "sns.lineplot(x= 'year', y= 'Not harsh enough', data= rep_ts_sen, \n",
    "             color='red', label= 'Republican', ax = ax2)\n",
    "sns.lineplot(x= 'year', y= 'Not harsh enough', data= dem_ts_sen, \n",
    "             color='blue', label= 'Democrat', ax = ax2)\n",
    "sns.lineplot(x= 'year', y= 'Not harsh enough', data= ind_ts_sen, \n",
    "             color='purple', label= 'Independent', ax = ax2)\n",
    "ax2.set_title('Criminal Sentencing is not harsh enough')\n",
    "ax2.set_xlabel('')\n",
    "\n",
    "sns.lineplot(x= 'year', y= 'Too harsh', data= rep_ts_sen, \n",
    "             color='red', label= 'Republican', ax = ax3)\n",
    "sns.lineplot(x= 'year', y= 'Too harsh', data= dem_ts_sen, \n",
    "             color='blue', label= 'Democrat', ax = ax3)\n",
    "sns.lineplot(x= 'year', y= 'Too harsh', data= ind_ts_sen, \n",
    "             color='purple', label= 'Independent', ax = ax3)\n",
    "ax3.set_title('Criminal Sentencing is too harsh')\n",
    "ax3.set_xlabel('')\n",
    "\n",
    "plt.yticks(ticks=[.15, .3, .45, .6, .75], \n",
    "           labels=['','15%', '30%', '45%', '60%', '75%']);"
   ]
  },
  {
   "cell_type": "markdown",
   "metadata": {},
   "source": [
    "It seems as though the people who think criminal sentencing is about right are not clearly from one party or another. When it comes to sentencing otherwise a more clear difference emerges. "
   ]
  },
  {
   "cell_type": "code",
   "execution_count": null,
   "metadata": {},
   "outputs": [],
   "source": [
    "(str_rep, mid_rep, ln_rep, \n",
    " str_dem, mid_dem, ln_dem, \n",
    " oth, ind) = party_splits(crim_justice, ['About right',\n",
    "                                         'Not harsh enough', \n",
    "                                         'Too harsh'], split='within party')"
   ]
  },
  {
   "cell_type": "code",
   "execution_count": null,
   "metadata": {},
   "outputs": [],
   "source": [
    "fig = plt.figure(figsize=(20,5))\n",
    "ax1, ax2, ax3 = fig.subplots(nrows=1, ncols=3, sharey= True)\n",
    "\n",
    "sns.lineplot(x= 'year', y= 'About right', data= str_rep, \n",
    "             color='red', label= 'Republican', ax = ax1)\n",
    "sns.lineplot(x= 'year', y= 'About right', data= mid_rep, \n",
    "             color='blue', label= 'Democrat', ax = ax1)\n",
    "sns.lineplot(x= 'year', y= 'About right', data= ln_rep, \n",
    "             color='purple', label= 'Independent', ax = ax1)\n",
    "ax1.set_title('Criminal Sentencing is about right')\n",
    "ax1.set_ylabel('Percent of Party')\n",
    "ax1.set_xlabel('')\n",
    "\n",
    "sns.lineplot(x= 'year', y= 'Not harsh enough', data= str_rep, \n",
    "             color='red', label= 'Republican', ax = ax2)\n",
    "sns.lineplot(x= 'year', y= 'Not harsh enough', data= mid_rep, \n",
    "             color='blue', label= 'Democrat', ax = ax2)\n",
    "sns.lineplot(x= 'year', y= 'Not harsh enough', data= ln_rep, \n",
    "             color='purple', label= 'Independent', ax = ax2)\n",
    "ax2.set_title('Criminal Sentencing is not harsh enough')\n",
    "ax2.set_xlabel('')\n",
    "\n",
    "sns.lineplot(x= 'year', y= 'Too harsh', data= str_rep, \n",
    "             color='red', label= 'Republican', ax = ax3)\n",
    "sns.lineplot(x= 'year', y= 'Too harsh', data= mid_rep, \n",
    "             color='blue', label= 'Democrat', ax = ax3)\n",
    "sns.lineplot(x= 'year', y= 'Too harsh', data= ln_rep, \n",
    "             color='purple', label= 'Independent', ax = ax3)\n",
    "ax3.set_title('Criminal Sentencing is too harsh')\n",
    "ax3.set_xlabel('')\n",
    "\n",
    "plt.yticks(ticks=[.15, .3, .45, .6, .75], \n",
    "           labels=['','15%', '30%', '45%', '60%', '75%']);"
   ]
  },
  {
   "cell_type": "markdown",
   "metadata": {},
   "source": [
    "###### Systems"
   ]
  },
  {
   "cell_type": "code",
   "execution_count": null,
   "metadata": {},
   "outputs": [],
   "source": [
    "systems = unzip('Systems')\n",
    "systems.columns"
   ]
  },
  {
   "cell_type": "code",
   "execution_count": null,
   "metadata": {},
   "outputs": [],
   "source": [
    "for col in systems.columns:\n",
    "    print(systems[col].value_counts())\n",
    "    print('\\n')"
   ]
  },
  {
   "cell_type": "code",
   "execution_count": null,
   "metadata": {},
   "outputs": [],
   "source": [
    "systems.drop(['Confidence in medicine'], axis = 1, inplace = True)"
   ]
  },
  {
   "cell_type": "code",
   "execution_count": null,
   "metadata": {},
   "outputs": [],
   "source": [
    "systems = weight(systems)"
   ]
  },
  {
   "cell_type": "code",
   "execution_count": null,
   "metadata": {},
   "outputs": [],
   "source": []
  },
  {
   "cell_type": "markdown",
   "metadata": {},
   "source": [
    "###### Gender and Sexuality"
   ]
  },
  {
   "cell_type": "code",
   "execution_count": null,
   "metadata": {},
   "outputs": [],
   "source": [
    "gender = unzip('Gender_and_Sexuality')\n",
    "gender.columns"
   ]
  },
  {
   "cell_type": "code",
   "execution_count": null,
   "metadata": {},
   "outputs": [],
   "source": [
    "for col in gender.columns:\n",
    "    print(gender[col].value_counts())\n",
    "    print('\\n')"
   ]
  },
  {
   "cell_type": "code",
   "execution_count": null,
   "metadata": {},
   "outputs": [],
   "source": [
    "gender.drop(['Should hire and promote women                            ', \n",
    "             'For or against preferential hiring of women      ', \n",
    "             'Better for man to work, woman tend home', 'Preschool kids suffer if mother works',\n",
    "             'Sex before marriage -- teens 14-16', 'Birth control to teenagers 14-16'], \n",
    "            axis = 1, inplace = True)"
   ]
  },
  {
   "cell_type": "code",
   "execution_count": null,
   "metadata": {},
   "outputs": [],
   "source": [
    "gender.rename(columns ={'Sex before marriage':'sex_before_marr',\n",
    "                        'Divorce laws': 'divorce', \n",
    "                        'Sex education in public schools':'sex_ed',\n",
    "                        'Women not suited for politics': 'no_women_pol',\n",
    "                        'Homosexuals should have right to marry':'gay_marr'}, inplace=True)"
   ]
  },
  {
   "cell_type": "code",
   "execution_count": null,
   "metadata": {},
   "outputs": [],
   "source": [
    "gender = weight(gender)"
   ]
  },
  {
   "cell_type": "code",
   "execution_count": null,
   "metadata": {},
   "outputs": [],
   "source": [
    "gender.loc[(gender['gay_marr']=='Neither agree nor disagree')|\n",
    "           (gender['gay_marr']=='Cant choose'), 'gay_marr']= 'undecided'"
   ]
  },
  {
   "cell_type": "code",
   "execution_count": null,
   "metadata": {
    "scrolled": true
   },
   "outputs": [],
   "source": [
    "gender['gay_marr'].unique()"
   ]
  },
  {
   "cell_type": "code",
   "execution_count": null,
   "metadata": {},
   "outputs": [],
   "source": [
    "(rep_ts_gay, dem_ts_gay, ind_ts_gay) = party_splits(gender[['year', 'gay_marr']], ['Strongly disagree', \n",
    "                                         'undecided',\n",
    "                                         'Disagree',\n",
    "                                         'Agree', \n",
    "                                         'Strongly agree'])"
   ]
  },
  {
   "cell_type": "code",
   "execution_count": null,
   "metadata": {
    "scrolled": true
   },
   "outputs": [],
   "source": [
    "fig = plt.figure(figsize=(20,5))\n",
    "ax1, ax2, ax3, ax4, ax5 = fig.subplots(nrows=1, ncols=5, sharey= True)\n",
    "\n",
    "sns.lineplot(x= 'year', y= 'Strongly disagree', data= rep_ts_gay, \n",
    "             color='red', label= 'Republican', ax = ax1)\n",
    "sns.lineplot(x= 'year', y= 'Strongly disagree', data= dem_ts_gay, \n",
    "             color='blue', label= 'Democrat', ax = ax1)\n",
    "sns.lineplot(x= 'year', y= 'Strongly disagree', data= ind_ts_gay, \n",
    "             color='purple', label= 'Independent', ax = ax1)\n",
    "ax1.set_title('Strongly Disagree with Right to Marry by Party')\n",
    "ax1.set_ylabel('Percent of Party')\n",
    "ax1.set_xlabel('')\n",
    "\n",
    "sns.lineplot(x= 'year', y= 'Disagree', data= rep_ts_gay, \n",
    "             color='red', label= 'Republican', ax = ax2)\n",
    "sns.lineplot(x= 'year', y= 'Disagree', data= dem_ts_gay, \n",
    "             color='blue', label= 'Democrat', ax = ax2)\n",
    "sns.lineplot(x= 'year', y= 'Disagree', data= ind_ts_gay, \n",
    "             color='purple', label= 'Independent', ax = ax2)\n",
    "ax2.set_title('Disagree with Right to Marry by Party')\n",
    "ax2.set_xlabel('')\n",
    "\n",
    "sns.lineplot(x= 'year', y= 'undecided', data= rep_ts_gay, \n",
    "             color='red', label= 'Republican', ax = ax3)\n",
    "sns.lineplot(x= 'year', y= 'undecided', data= dem_ts_gay, \n",
    "             color='blue', label= 'Democrat', ax = ax3)\n",
    "sns.lineplot(x= 'year', y= 'undecided', data= ind_ts_gay, \n",
    "             color='purple', label= 'Independent', ax = ax3)\n",
    "ax3.set_title('Undecided about right to Marry by Party')\n",
    "ax3.set_xlabel('')\n",
    "\n",
    "sns.lineplot(x= 'year', y= 'Agree', data= rep_ts_gay, \n",
    "             color='red', label= 'Republican', ax = ax4)\n",
    "sns.lineplot(x= 'year', y= 'Agree', data= dem_ts_gay, \n",
    "             color='blue', label= 'Democrat', ax = ax4)\n",
    "sns.lineplot(x= 'year', y= 'Agree', data= ind_ts_gay, \n",
    "             color='purple', label= 'Independent', ax = ax4)\n",
    "ax4.set_title('Agree with right to Marry by Party')\n",
    "ax4.set_xlabel('')\n",
    "\n",
    "sns.lineplot(x= 'year', y= 'Strongly agree', data= rep_ts_gay, \n",
    "             color='red', label= 'Republican', ax = ax5)\n",
    "sns.lineplot(x= 'year', y= 'Strongly agree', data= dem_ts_gay, \n",
    "             color='blue', label= 'Democrat', ax = ax5)\n",
    "sns.lineplot(x= 'year', y= 'Strongly agree', data= ind_ts_gay, \n",
    "             color='purple', label= 'Independent', ax = ax5)\n",
    "ax5.set_title('Strongly Agree with right to Marry by Party')\n",
    "ax5.set_xlabel('')\n",
    "\n",
    "plt.yticks(ticks=[.15, .3, .45, .6, .75], \n",
    "           labels=['','15%', '30%', '45%', '60%', '75%']);"
   ]
  },
  {
   "cell_type": "code",
   "execution_count": null,
   "metadata": {},
   "outputs": [],
   "source": [
    "(str_rep, mid_rep, ln_rep, \n",
    " str_dem, mid_dem, ln_dem, \n",
    " oth, ind) = party_splits(gender[['year','gay_marr']], ['Strongly disagree', \n",
    "                                         'undecided',\n",
    "                                         'Disagree',\n",
    "                                         'Agree', \n",
    "                                         'Strongly agree'], split='within party')"
   ]
  },
  {
   "cell_type": "code",
   "execution_count": null,
   "metadata": {},
   "outputs": [],
   "source": [
    "fig = plt.figure(figsize=(20,5))\n",
    "ax1, ax2, ax3, ax4, ax5 = fig.subplots(nrows=1, ncols=5, sharey= True)\n",
    "\n",
    "sns.lineplot(x= 'year', y= 'Strongly disagree', data= str_rep, \n",
    "             color='red', label= 'Republican', ax = ax1)\n",
    "sns.lineplot(x= 'year', y= 'Strongly disagree', data= mid_rep, \n",
    "             color='blue', label= 'Democrat', ax = ax1)\n",
    "sns.lineplot(x= 'year', y= 'Strongly disagree', data= ln_rep, \n",
    "             color='purple', label= 'Independent', ax = ax1)\n",
    "ax1.set_title('Strongly Disagree with Right to Marry by Party')\n",
    "ax1.set_ylabel('Percent of Party')\n",
    "ax1.set_xlabel('')\n",
    "\n",
    "sns.lineplot(x= 'year', y= 'Disagree', data= str_rep, \n",
    "             color='red', label= 'Republican', ax = ax2)\n",
    "sns.lineplot(x= 'year', y= 'Disagree', data= mid_rep, \n",
    "             color='blue', label= 'Democrat', ax = ax2)\n",
    "sns.lineplot(x= 'year', y= 'Disagree', data= ln_rep, \n",
    "             color='purple', label= 'Independent', ax = ax2)\n",
    "ax2.set_title('Disagree with Right to Marry by Party')\n",
    "ax2.set_xlabel('')\n",
    "\n",
    "sns.lineplot(x= 'year', y= 'undecided', data= str_rep, \n",
    "             color='red', label= 'Republican', ax = ax3)\n",
    "sns.lineplot(x= 'year', y= 'undecided', data= mid_rep, \n",
    "             color='blue', label= 'Democrat', ax = ax3)\n",
    "sns.lineplot(x= 'year', y= 'undecided', data= ln_rep, \n",
    "             color='purple', label= 'Independent', ax = ax3)\n",
    "ax3.set_title('Undecided about right to Marry by Party')\n",
    "ax3.set_xlabel('')\n",
    "\n",
    "sns.lineplot(x= 'year', y= 'Agree', data= str_rep, \n",
    "             color='red', label= 'Republican', ax = ax4)\n",
    "sns.lineplot(x= 'year', y= 'Agree', data= mid_rep, \n",
    "             color='blue', label= 'Democrat', ax = ax4)\n",
    "sns.lineplot(x= 'year', y= 'Agree', data= ln_rep, \n",
    "             color='purple', label= 'Independent', ax = ax4)\n",
    "ax4.set_title('Agree with right to Marry by Party')\n",
    "ax4.set_xlabel('')\n",
    "\n",
    "sns.lineplot(x= 'year', y= 'Strongly agree', data= str_rep, \n",
    "             color='red', label= 'Republican', ax = ax5)\n",
    "sns.lineplot(x= 'year', y= 'Strongly agree', data= mid_rep, \n",
    "             color='blue', label= 'Democrat', ax = ax5)\n",
    "sns.lineplot(x= 'year', y= 'Strongly agree', data= ln_rep, \n",
    "             color='purple', label= 'Independent', ax = ax5)\n",
    "ax5.set_title('Strongly Agree with right to Marry by Party')\n",
    "ax5.set_xlabel('')\n",
    "\n",
    "plt.yticks(ticks=[.15, .3, .45, .6, .75], \n",
    "           labels=['','15%', '30%', '45%', '60%', '75%']);"
   ]
  },
  {
   "cell_type": "markdown",
   "metadata": {},
   "source": [
    "###### Opinions"
   ]
  },
  {
   "cell_type": "code",
   "execution_count": null,
   "metadata": {
    "scrolled": true
   },
   "outputs": [],
   "source": [
    "opinions = unzip('Opinions')\n",
    "opinions.columns"
   ]
  },
  {
   "cell_type": "code",
   "execution_count": null,
   "metadata": {},
   "outputs": [],
   "source": [
    "for col in opinions.columns:\n",
    "    print(opinions[col].value_counts())\n",
    "    print('\\n')"
   ]
  },
  {
   "cell_type": "code",
   "execution_count": null,
   "metadata": {},
   "outputs": [],
   "source": [
    "opinions = weight(opinions)"
   ]
  },
  {
   "cell_type": "markdown",
   "metadata": {},
   "source": [
    "###### Race Relations"
   ]
  },
  {
   "cell_type": "code",
   "execution_count": null,
   "metadata": {},
   "outputs": [],
   "source": [
    "race = unzip('Race_Relations')\n",
    "race.columns"
   ]
  },
  {
   "cell_type": "code",
   "execution_count": null,
   "metadata": {},
   "outputs": [],
   "source": [
    "for col in race.columns:\n",
    "    print(race[col].value_counts())\n",
    "    print('\\n')"
   ]
  },
  {
   "cell_type": "markdown",
   "metadata": {},
   "source": [
    "Because of the ways in which these variables were coded, many of them are either redundant with other questions, or difficult to gain meaningful information from.  "
   ]
  },
  {
   "cell_type": "code",
   "execution_count": null,
   "metadata": {},
   "outputs": [],
   "source": [
    "race.drop(['Hard working - lazy', 'Hard working - lazy.1', \n",
    "           'Rich - poor', 'Rich - poor.1', 'Blacks overcome prejudice without favors ',\n",
    "           'Any opp. race in neighborhood', 'Favor law against racial intermarriage', \n",
    "           'Improving the conditions of blacks'], axis = 1, inplace = True)"
   ]
  },
  {
   "cell_type": "code",
   "execution_count": null,
   "metadata": {},
   "outputs": [],
   "source": [
    "race.loc[race['Should govt aid blacks?']=='Agree with both', 'Should govt aid blacks?']= 'no opinion'\n",
    "race.loc[race['Should govt aid blacks?']=='No special treatment', 'Should govt aid blacks?']= 'strongly oppose'\n",
    "race.loc[race['Should govt aid blacks?']== 4, 'Should govt aid blacks?']= 'oppose'\n",
    "race.loc[race['Should govt aid blacks?']=='Govt help blks', 'Should govt aid blacks?']= 'strongly favor'\n",
    "race.loc[race['Should govt aid blacks?']== 2, 'Should govt aid blacks?']= 'favor'\n",
    "race.loc[race['Should govt aid blacks?']==\"Don't know\", 'Should govt aid blacks?']= 'no opinion'\n",
    "race.loc[race['Should govt aid blacks?']==\"No answer\", 'Should govt aid blacks?']= 'no opinion'"
   ]
  },
  {
   "cell_type": "code",
   "execution_count": null,
   "metadata": {},
   "outputs": [],
   "source": [
    "race = weight(race)"
   ]
  },
  {
   "cell_type": "markdown",
   "metadata": {},
   "source": [
    "##### Education"
   ]
  },
  {
   "cell_type": "code",
   "execution_count": null,
   "metadata": {},
   "outputs": [],
   "source": [
    "education = unzip('Education')\n",
    "education.columns"
   ]
  },
  {
   "cell_type": "code",
   "execution_count": null,
   "metadata": {},
   "outputs": [],
   "source": [
    "for col in education.columns:\n",
    "    print(education[col].value_counts())\n",
    "    print('\\n')"
   ]
  },
  {
   "cell_type": "markdown",
   "metadata": {},
   "source": [
    "With so many not applicable entries for the field of degree, it is more appropriate to remove them from the analysis. "
   ]
  },
  {
   "cell_type": "code",
   "execution_count": null,
   "metadata": {},
   "outputs": [],
   "source": [
    "education.drop(['The field of degree r earned'], axis=1, inplace=True)"
   ]
  },
  {
   "cell_type": "code",
   "execution_count": null,
   "metadata": {},
   "outputs": [],
   "source": [
    "education.rename(columns = {'Highest year of school completed':'school_years',\n",
    "                            'Highest year school completed, father':'school_years_dad', \n",
    "                            'Highest year school completed, mother':'school_years_mom',\n",
    "                            'Rs highest degree':'degree',\n",
    "                            'Fathers highest degree':'degree_dad',\n",
    "                            'Mothers highest degree': 'degree_mom'}, inplace=True)"
   ]
  },
  {
   "cell_type": "markdown",
   "metadata": {},
   "source": [
    "Encode nan information as a placeholder so that it can be easily removed later in the analysis. "
   ]
  },
  {
   "cell_type": "code",
   "execution_count": null,
   "metadata": {},
   "outputs": [],
   "source": [
    "education.loc[(education['school_years']=='No answer')|\n",
    "              (education['school_years']=='Not applicable')|\n",
    "              (education['school_years']== \"Don't know\"), 'school_years']= -9\n",
    "education.loc[(education['school_years_dad']=='No answer')|\n",
    "              (education['school_years_dad']=='Not applicable')|\n",
    "              (education['school_years_dad']== \"Don't know\"), 'school_years_dad']= -9\n",
    "education.loc[(education['school_years_mom']=='No answer')|\n",
    "              (education['school_years_mom']=='Not applicable')|\n",
    "              (education['school_years_mom']== \"Don't know\"), 'school_years_mom']= -9"
   ]
  },
  {
   "cell_type": "code",
   "execution_count": null,
   "metadata": {},
   "outputs": [],
   "source": [
    "education.head()"
   ]
  },
  {
   "cell_type": "code",
   "execution_count": null,
   "metadata": {},
   "outputs": [],
   "source": [
    "education = weight(education)"
   ]
  },
  {
   "cell_type": "markdown",
   "metadata": {},
   "source": [
    "##### Employment"
   ]
  },
  {
   "cell_type": "code",
   "execution_count": null,
   "metadata": {
    "scrolled": true
   },
   "outputs": [],
   "source": [
    "employment = unzip('Employment')\n",
    "employment.columns"
   ]
  },
  {
   "cell_type": "code",
   "execution_count": null,
   "metadata": {},
   "outputs": [],
   "source": [
    "for col in employment.columns:\n",
    "    print(employment[col].value_counts())\n",
    "    print('\\n')"
   ]
  },
  {
   "cell_type": "code",
   "execution_count": null,
   "metadata": {},
   "outputs": [],
   "source": [
    "employment.drop(['Is r likely to lose job', 'Could r find equally good job', \n",
    "                 'Job or housework', 'If rich, continue or stop working', \n",
    "                 'Workers need strong unions'], axis=1, inplace = True)"
   ]
  },
  {
   "cell_type": "code",
   "execution_count": null,
   "metadata": {
    "scrolled": true
   },
   "outputs": [],
   "source": [
    "employment.rename(columns= {'Does r or spouse belong to union': 'union',\n",
    "                            'Number of hours usually work a week': 'wrk_hrs',\n",
    "                            'Labor force status': 'job_status',\n",
    "                            'Rs occupational prestige score using threshold method (2010)': 'prestige'}, \n",
    "                  inplace = True)"
   ]
  },
  {
   "cell_type": "code",
   "execution_count": null,
   "metadata": {},
   "outputs": [],
   "source": [
    "employment.loc[(employment['union']=='Neither belongs', 'union')]= 'non-member'\n",
    "employment.loc[(employment['union']=='R belongs')|\n",
    "               (employment['union']=='Spouse belongs')|\n",
    "               (employment['union']=='R and spouse belong'), 'union']= 'member'"
   ]
  },
  {
   "cell_type": "code",
   "execution_count": null,
   "metadata": {
    "scrolled": true
   },
   "outputs": [],
   "source": [
    "employment.head()"
   ]
  },
  {
   "cell_type": "code",
   "execution_count": null,
   "metadata": {},
   "outputs": [],
   "source": [
    "employment = weight(employment)"
   ]
  },
  {
   "cell_type": "markdown",
   "metadata": {},
   "source": [
    "###### Family Values"
   ]
  },
  {
   "cell_type": "code",
   "execution_count": null,
   "metadata": {},
   "outputs": [],
   "source": [
    "fam_vals = unzip('Family_Values')\n",
    "fam_vals.columns"
   ]
  },
  {
   "cell_type": "code",
   "execution_count": null,
   "metadata": {},
   "outputs": [],
   "source": [
    "for col in fam_vals.columns:\n",
    "    print(fam_vals[col].value_counts())\n",
    "    print('\\n')"
   ]
  },
  {
   "cell_type": "code",
   "execution_count": null,
   "metadata": {},
   "outputs": [],
   "source": [
    "fam_vals.rename(columns= {'Better for man to work, woman tend home': 'trad_roles', \n",
    "                          'Preschool kids suffer if mother works': 'mom_wrk_kids_suffer', \n",
    "                          'Ideal number of children': 'bst_num_chld', \n",
    "                          'To help others': 'tch_to_help',\n",
    "                          'To work hard': 'tch_to_wrk', \n",
    "                          'To think for ones self': 'tch_ind', \n",
    "                          'To be well liked or popular': 'tch_pop',\n",
    "                          'To obey': 'tch_obey', \n",
    "                          'Number of children': 'num_chld',\n",
    "                          'Number of family generations in household': 'num_gen'}, inplace=True)"
   ]
  },
  {
   "cell_type": "code",
   "execution_count": null,
   "metadata": {},
   "outputs": [],
   "source": [
    "fam_vals.drop(['Rs kids living standard compared to r', 'Rs living standard compared to parents', \n",
    "               'Highest year school completed, mother', 'Highest year school completed, father', \n",
    "               'Number of brothers and sisters', 'Favor spanking to discipline child'], axis=1, inplace=True)"
   ]
  },
  {
   "cell_type": "code",
   "execution_count": null,
   "metadata": {},
   "outputs": [],
   "source": [
    "fam_vals.loc[fam_vals['num_gen']=='1 gen', 'num_gen']= 1\n",
    "fam_vals.loc[(fam_vals['num_gen']=='2 gens, children')|\n",
    "             (fam_vals['num_gen']=='2 gens, parents')|\n",
    "             (fam_vals['num_gen']=='2 gens, grandchldrn'), 'num_gen']= 2\n",
    "fam_vals.loc[(fam_vals['num_gen']=='3 gens, grandchldrn')|\n",
    "             (fam_vals['num_gen']=='3 gens, chld, par'), 'num_gen']= 3\n",
    "fam_vals.loc[fam_vals['num_gen']=='4 gens', 'num_gen']= 4"
   ]
  },
  {
   "cell_type": "code",
   "execution_count": null,
   "metadata": {},
   "outputs": [],
   "source": [
    "fam_vals.head()"
   ]
  },
  {
   "cell_type": "code",
   "execution_count": null,
   "metadata": {},
   "outputs": [],
   "source": [
    "fam_vals = weight(fam_vals)"
   ]
  },
  {
   "cell_type": "markdown",
   "metadata": {},
   "source": [
    "###### Identity"
   ]
  },
  {
   "cell_type": "code",
   "execution_count": null,
   "metadata": {},
   "outputs": [],
   "source": [
    "pers_id = unzip('Identity')\n",
    "pers_id.columns"
   ]
  },
  {
   "cell_type": "code",
   "execution_count": null,
   "metadata": {
    "scrolled": true
   },
   "outputs": [],
   "source": [
    "for col in pers_id.columns:\n",
    "    print(pers_id[col].value_counts())\n",
    "    print('\\n')"
   ]
  },
  {
   "cell_type": "code",
   "execution_count": null,
   "metadata": {},
   "outputs": [],
   "source": [
    "pers_id.rename(columns={'Age of respondent':'age', \n",
    "                      'Respondents sex':'sex', \n",
    "                      'Race of respondent':'race',\n",
    "                      'Region of interview':'region'}, inplace = True)"
   ]
  },
  {
   "cell_type": "code",
   "execution_count": null,
   "metadata": {},
   "outputs": [],
   "source": [
    "pers_id = weight(pers_id)"
   ]
  },
  {
   "cell_type": "markdown",
   "metadata": {},
   "source": [
    "###### Lifestyle"
   ]
  },
  {
   "cell_type": "code",
   "execution_count": null,
   "metadata": {
    "scrolled": true
   },
   "outputs": [],
   "source": [
    "lifestyle = unzip('Lifestyle')\n",
    "lifestyle.columns"
   ]
  },
  {
   "cell_type": "code",
   "execution_count": null,
   "metadata": {},
   "outputs": [],
   "source": [
    "for col in lifestyle.columns:\n",
    "    print(lifestyle[col].value_counts())\n",
    "    print('\\n')"
   ]
  },
  {
   "cell_type": "code",
   "execution_count": null,
   "metadata": {},
   "outputs": [],
   "source": [
    "lifestyle.rename(columns = {'Hours per day watching tv':'hrs_tv',\n",
    "                            'How often does r read newspaper':'paper',\n",
    "                            'Have gun in home':'gun',\n",
    "                            'Is life exciting or dull':'life',\n",
    "                            'General happiness':'happy',\n",
    "                            \"R's age when 1st child born\":'age_at_frst_chld',\n",
    "                            'Marital status':'married',\n",
    "                            'Does r own or rent home?':'rent_or_own'}, inplace = True)"
   ]
  },
  {
   "cell_type": "code",
   "execution_count": null,
   "metadata": {},
   "outputs": [],
   "source": [
    "lifestyle.drop(['Does r or spouse hunt', 'Spend evening at bar', \n",
    "                'Spend evening with friends', 'Spend evening with neighbor', \n",
    "                'Spend evening with relatives', 'Age of respondent', 'Number of children',\n",
    "                'Number of hours usually work a week'], axis=1, inplace=True)"
   ]
  },
  {
   "cell_type": "code",
   "execution_count": null,
   "metadata": {},
   "outputs": [],
   "source": [
    "lifestyle = weight(lifestyle)"
   ]
  },
  {
   "cell_type": "markdown",
   "metadata": {},
   "source": [
    "###### Religion"
   ]
  },
  {
   "cell_type": "code",
   "execution_count": null,
   "metadata": {},
   "outputs": [],
   "source": [
    "religion = unzip('Religion')\n",
    "religion.columns"
   ]
  },
  {
   "cell_type": "code",
   "execution_count": null,
   "metadata": {},
   "outputs": [],
   "source": [
    "for col in religion.columns:\n",
    "    print(religion[col].value_counts())\n",
    "    print('\\n')"
   ]
  },
  {
   "cell_type": "code",
   "execution_count": null,
   "metadata": {},
   "outputs": [],
   "source": [
    "religion.drop(['Bible prayer in public schools'], axis = 1, inplace = True)"
   ]
  },
  {
   "cell_type": "code",
   "execution_count": null,
   "metadata": {},
   "outputs": [],
   "source": [
    "religion = weight(religion)"
   ]
  },
  {
   "cell_type": "markdown",
   "metadata": {},
   "source": [
    "###### Socioeconomic Status"
   ]
  },
  {
   "cell_type": "code",
   "execution_count": null,
   "metadata": {
    "scrolled": true
   },
   "outputs": [],
   "source": [
    "ses = unzip('SES')\n",
    "ses.columns"
   ]
  },
  {
   "cell_type": "code",
   "execution_count": null,
   "metadata": {},
   "outputs": [],
   "source": [
    "for col in ses.columns:\n",
    "    print(ses[col].value_counts())\n",
    "    print('\\n')"
   ]
  },
  {
   "cell_type": "code",
   "execution_count": null,
   "metadata": {},
   "outputs": [],
   "source": [
    "ses.drop(['Rs income in constant $', 'Standard of living of r will improve', \n",
    "          'Rs kids living standard compared to r', 'Rs living standard compared to parents', \n",
    "          'Change in financial situation', 'Rs occupational prestige score using threshold method (2010)'], \n",
    "         axis = 1, inplace = True)"
   ]
  },
  {
   "cell_type": "code",
   "execution_count": null,
   "metadata": {},
   "outputs": [],
   "source": [
    "ses = weight(ses)"
   ]
  },
  {
   "cell_type": "markdown",
   "metadata": {},
   "source": [
    "#### Family/ SES Background"
   ]
  },
  {
   "cell_type": "code",
   "execution_count": null,
   "metadata": {},
   "outputs": [],
   "source": [
    "background = unzip('Background')"
   ]
  },
  {
   "cell_type": "code",
   "execution_count": null,
   "metadata": {},
   "outputs": [],
   "source": [
    "background.columns"
   ]
  },
  {
   "cell_type": "code",
   "execution_count": null,
   "metadata": {},
   "outputs": [],
   "source": [
    "for col in background.columns:\n",
    "    print(background[col].value_counts())\n",
    "    print('\\n')"
   ]
  },
  {
   "cell_type": "code",
   "execution_count": null,
   "metadata": {},
   "outputs": [],
   "source": [
    "background.rename(columns = {\"Father's occupational prestige score using threshold method (2010)\": 'father_prestige',\n",
    "                             \"Mother's occupational prestige score using threshold method (2010)\": 'mother_prestige',\n",
    "                             'Religion in which raised': 'raised_relig', \n",
    "                             'How many grandparents born outside u.s.': 'immigrant_gpar', \n",
    "                             'Were rs parents born in this country': 'immigrant_par', \n",
    "                             'Was r born in this country': 'immigrant'}, inplace=True)"
   ]
  },
  {
   "cell_type": "markdown",
   "metadata": {},
   "source": [
    "I will encode the immigration status of parents so that the number of grandparents and parents born outside of the country are counted. Parents born in the U.S will be coded as 0s. Because this data will likely not be used for modeling, I will keep not applicable values as they are. "
   ]
  },
  {
   "cell_type": "code",
   "execution_count": null,
   "metadata": {},
   "outputs": [],
   "source": [
    "background.loc[(background['raised_relig']=='Not applicable')|\n",
    "               (background['raised_relig']=='No answer')|\n",
    "               (background['raised_relig']==\"Don't know\"), 'raised_relig']= 'Other'\n",
    "background.loc[(background['immigrant_gpar']== 'All in u.s'), 'immigrant_gpar']= 0\n",
    "background.loc[(background['immigrant_par']=='Both in u.s')|\n",
    "               (background['immigrant_par']=='Mother; fa. dk')|\n",
    "               (background['immigrant_par']=='Father; mo.dk'), 'immigrant_par']= 0\n",
    "background.loc[(background['immigrant_par']=='Neither in u.s')|\n",
    "               (background['immigrant_par']=='Not mother;fa.dk')|\n",
    "               (background['immigrant_par']=='Not father;mo.dk'), 'immigrant_par']= 2\n",
    "background.loc[(background['immigrant_par']=='Mother only')|\n",
    "               (background['immigrant_par']=='Father only'), 'immigrant_par']= 1\n",
    "background.loc[(background['immigrant']=='Yes'), 'immigrant']= 'no'\n",
    "background.loc[(background['immigrant']=='No'), 'immigrant']= 'yes'\n",
    "background.loc[(background['immigrant']=='Not applicable')|\n",
    "               (background['immigrant']=='No answer')|\n",
    "               (background['immigrant']==\"Don't know\"), 'immigrant']= 'n/a'"
   ]
  },
  {
   "cell_type": "markdown",
   "metadata": {},
   "source": [
    "The 'Rs living standard compared to parents' is messy and highly incomplete, so I will drop it for this analysis. In addition, after consideration, parental education levels are more appropriately placed in the education table so they will also be dropped from this table.  "
   ]
  },
  {
   "cell_type": "code",
   "execution_count": null,
   "metadata": {},
   "outputs": [],
   "source": [
    "background.drop(['Rs living standard compared to parents', \n",
    "                 'Fathers highest degree', 'Mothers highest degree'], axis= 1, inplace= True)"
   ]
  },
  {
   "cell_type": "code",
   "execution_count": null,
   "metadata": {},
   "outputs": [],
   "source": [
    "background = weight(background)"
   ]
  },
  {
   "cell_type": "markdown",
   "metadata": {},
   "source": [
    "# Text Data\n",
    "### Political Platforms"
   ]
  },
  {
   "cell_type": "code",
   "execution_count": null,
   "metadata": {},
   "outputs": [],
   "source": [
    "years = ['1972', '1976', '1980', '1984', '1988', '1992', '1996', \n",
    "         '2000', '2008', '2012', '2016']\n",
    "platforms = scrape_platforms(years)\n",
    "platforms.head()"
   ]
  },
  {
   "cell_type": "markdown",
   "metadata": {},
   "source": [
    "### State of the Union Addresses"
   ]
  },
  {
   "cell_type": "code",
   "execution_count": null,
   "metadata": {
    "scrolled": true
   },
   "outputs": [],
   "source": [
    "speeches = scrape_SotU()"
   ]
  },
  {
   "cell_type": "markdown",
   "metadata": {},
   "source": [
    "### Debates"
   ]
  },
  {
   "cell_type": "code",
   "execution_count": null,
   "metadata": {},
   "outputs": [],
   "source": [
    "url = 'https://www.presidency.ucsb.edu/documents/presidential-debate-the-university-nevada-las-vegas'\n",
    "response = requests.get(url)\n",
    "soup = BeautifulSoup(response.text, 'lxml')\n",
    "debate = soup.find_all('p')\n",
    "for deb in debate:\n",
    "    print(deb.text)"
   ]
  }
 ],
 "metadata": {
  "kernelspec": {
   "display_name": "learn-env",
   "language": "python",
   "name": "learn-env"
  },
  "language_info": {
   "codemirror_mode": {
    "name": "ipython",
    "version": 3
   },
   "file_extension": ".py",
   "mimetype": "text/x-python",
   "name": "python",
   "nbconvert_exporter": "python",
   "pygments_lexer": "ipython3",
   "version": "3.7.4"
  }
 },
 "nbformat": 4,
 "nbformat_minor": 2
}
