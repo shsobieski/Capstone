{
 "cells": [
  {
   "cell_type": "code",
   "execution_count": 1,
   "metadata": {},
   "outputs": [],
   "source": [
    "import pandas as pd\n",
    "import tarfile\n",
    "from bs4 import BeautifulSoup\n",
    "import requests\n",
    "import re\n",
    "import matplotlib.pyplot as plt\n",
    "import seaborn as sns\n",
    "from pandas.plotting import register_matplotlib_converters\n",
    "register_matplotlib_converters()\n",
    "from statsmodels.tsa.arima_model import ARIMA\n",
    "import statsmodels.api as sm\n",
    "from statsmodels.tsa.stattools import adfuller\n",
    "import numpy as np\n",
    "\n",
    "import warnings\n",
    "warnings.filterwarnings(\"ignore\", message= 'Inverting hessian failed')\n",
    "warnings.filterwarnings(\"ignore\", message= 'Maximum Likelihood optimization failed to converge')\n",
    "warnings.filterwarnings(\"ignore\", message= 'invalid value encountered')\n",
    "warnings.filterwarnings(\"ignore\", message= 'overflow encountered')\n",
    "warnings.filterwarnings(\"ignore\", message= 'divide by zero encountered')\n",
    "\n",
    "rep_dem_diffs = pd.DataFrame()\n",
    "rep_ind_diffs = pd.DataFrame()\n",
    "dem_ind_diffs = pd.DataFrame()\n",
    "\n",
    "%run -i \"functions/unzip.py\"\n",
    "%run -i \"functions/scrape_platforms.py\"\n",
    "%run -i \"functions/scrape_SotU.py\"\n",
    "%run -i \"functions/create_ts.py\"\n",
    "%run -i \"functions/party_splits.py\"\n",
    "%run -i \"functions/make_preds.py\"\n",
    "%run -i \"functions/store_predictions.py\"\n",
    "%run -i \"functions/save.py\""
   ]
  },
  {
   "cell_type": "markdown",
   "metadata": {},
   "source": [
    "# Survey Data\n",
    "#### Weights\n",
    "This function will encorporate sample weights provided by the University of Chicago General Social Survey, which is the source of all the survey data used in this analysis."
   ]
  },
  {
   "cell_type": "code",
   "execution_count": 2,
   "metadata": {},
   "outputs": [],
   "source": [
    "weights = unzip('Weights')\n",
    "def weight(df):\n",
    "    return df.loc[df.index.repeat(round(weights['Weight variable']*10, 0))].reset_index()"
   ]
  },
  {
   "cell_type": "markdown",
   "metadata": {},
   "source": [
    "<hr style=\"border:3px solid gray\"> </hr>\n",
    "\n",
    "## Party Affiliation\n",
    "\n",
    "<hr style=\"border:3px solid gray\"> </hr> \n",
    "\n",
    "#### Cleaning"
   ]
  },
  {
   "cell_type": "code",
   "execution_count": 3,
   "metadata": {},
   "outputs": [
    {
     "data": {
      "text/html": [
       "<div>\n",
       "<style scoped>\n",
       "    .dataframe tbody tr th:only-of-type {\n",
       "        vertical-align: middle;\n",
       "    }\n",
       "\n",
       "    .dataframe tbody tr th {\n",
       "        vertical-align: top;\n",
       "    }\n",
       "\n",
       "    .dataframe thead th {\n",
       "        text-align: right;\n",
       "    }\n",
       "</style>\n",
       "<table border=\"1\" class=\"dataframe\">\n",
       "  <thead>\n",
       "    <tr style=\"text-align: right;\">\n",
       "      <th></th>\n",
       "      <th>year</th>\n",
       "      <th>Political party affiliation</th>\n",
       "    </tr>\n",
       "  </thead>\n",
       "  <tbody>\n",
       "    <tr>\n",
       "      <td>0</td>\n",
       "      <td>1972</td>\n",
       "      <td>Ind,near dem</td>\n",
       "    </tr>\n",
       "    <tr>\n",
       "      <td>1</td>\n",
       "      <td>1972</td>\n",
       "      <td>Ind,near dem</td>\n",
       "    </tr>\n",
       "    <tr>\n",
       "      <td>2</td>\n",
       "      <td>1972</td>\n",
       "      <td>Ind,near dem</td>\n",
       "    </tr>\n",
       "    <tr>\n",
       "      <td>3</td>\n",
       "      <td>1972</td>\n",
       "      <td>Ind,near dem</td>\n",
       "    </tr>\n",
       "    <tr>\n",
       "      <td>4</td>\n",
       "      <td>1972</td>\n",
       "      <td>Not str democrat</td>\n",
       "    </tr>\n",
       "  </tbody>\n",
       "</table>\n",
       "</div>"
      ],
      "text/plain": [
       "   year Political party affiliation\n",
       "0  1972                Ind,near dem\n",
       "1  1972                Ind,near dem\n",
       "2  1972                Ind,near dem\n",
       "3  1972                Ind,near dem\n",
       "4  1972            Not str democrat"
      ]
     },
     "execution_count": 3,
     "metadata": {},
     "output_type": "execute_result"
    }
   ],
   "source": [
    "party = unzip('Voter_Identity')\n",
    "party = party[['year', 'Political party affiliation']]\n",
    "party = weight(party)\n",
    "party.drop('index', axis = 1, inplace= True)\n",
    "party.head()"
   ]
  },
  {
   "cell_type": "code",
   "execution_count": 4,
   "metadata": {},
   "outputs": [
    {
     "data": {
      "text/plain": [
       "Not str democrat      131833\n",
       "Not str republican    101264\n",
       "Independent           100052\n",
       "Strong democrat        99652\n",
       "Ind,near dem           76687\n",
       "Strong republican      63506\n",
       "Ind,near rep           58747\n",
       "Other party            10708\n",
       "No answer               4099\n",
       "Don't know               143\n",
       "Name: party, dtype: int64"
      ]
     },
     "execution_count": 4,
     "metadata": {},
     "output_type": "execute_result"
    }
   ],
   "source": [
    "party.rename(columns = {'Political party affiliation':'party'}, inplace=True)\n",
    "party['party'].value_counts()"
   ]
  },
  {
   "cell_type": "code",
   "execution_count": 5,
   "metadata": {},
   "outputs": [],
   "source": [
    "party.loc[party['party']=='Not str democrat', 'party']= 'Democrat'\n",
    "party.loc[party['party']=='Not str republican', 'party']= 'Republican'\n",
    "party.loc[party['party']=='Strong democrat', 'party']= 'Strong Democrat'\n",
    "party.loc[party['party']=='Ind,near dem', 'party']= 'Lean Democrat'\n",
    "party.loc[party['party']=='Strong republican', 'party']= 'Strong Republican'\n",
    "party.loc[party['party']=='Ind,near rep', 'party']= 'Lean Republican'\n",
    "party.loc[party['party']=='Other party', 'party']= 'Other'\n",
    "parties = ['Democrat', 'Independent', 'Lean Democrat', \n",
    "           'Lean Republican', 'Other', 'Republican', \n",
    "           'Strong Democrat', 'Strong Republican']\n",
    "percent_parties = create_ts(party, parties)\n",
    "overall = pd.DataFrame(percent_parties['year'])\n",
    "overall['Democrat']= (percent_parties['Lean Democrat']\n",
    "                      +percent_parties['Democrat']\n",
    "                      +percent_parties['Strong Democrat']) \n",
    "overall['Republican']= (percent_parties['Lean Republican']\n",
    "                        +percent_parties['Republican']\n",
    "                        +percent_parties['Strong Republican'])\n",
    "overall['Independent']= percent_parties['Independent']\n",
    "overall['Other'] = percent_parties['Other']"
   ]
  },
  {
   "cell_type": "markdown",
   "metadata": {},
   "source": [
    "#### EDA"
   ]
  },
  {
   "cell_type": "code",
   "execution_count": 6,
   "metadata": {
    "scrolled": true
   },
   "outputs": [
    {
     "data": {
      "image/png": "[encoded data removed]",
      "text/plain": [
       "<Figure size 1800x360 with 3 Axes>"
      ]
     },
     "metadata": {},
     "output_type": "display_data"
    }
   ],
   "source": [
    "sns.set_style('whitegrid')\n",
    "fig = plt.figure(figsize=(25,5))\n",
    "ax1, ax2, ax3 = fig.subplots(nrows=1, ncols=3, sharey= True)\n",
    "sns.lineplot(x= 'year', y = 'Lean Democrat', data= percent_parties, \n",
    "             color = 'skyblue', label= 'Lean Democrat', ax = ax1)\n",
    "sns.lineplot(x= 'year', y = 'Democrat', data= percent_parties, \n",
    "             color = 'dodgerblue', label= 'Democrat', ax = ax1)\n",
    "sns.lineplot(x= 'year', y = 'Strong Democrat', data= percent_parties, \n",
    "             color = 'blue', label= 'Strong Democrat', ax = ax1)\n",
    "ax1.set_title('Dem Affiliation by Level')\n",
    "ax1.set_ylabel('Percent of Population')\n",
    "ax1.set_xlabel('')\n",
    "sns.lineplot(x= 'year', y = 'Strong Republican', data= percent_parties, \n",
    "             color= 'crimson', label= 'Strong Republican', ax = ax2)\n",
    "sns.lineplot(x= 'year', y = 'Republican', data= percent_parties, \n",
    "             color= 'red', label= 'Republican', ax = ax2)\n",
    "sns.lineplot(x= 'year', y = 'Lean Republican', data= percent_parties, \n",
    "             color= 'hotpink', label= 'Lean Republican', ax = ax2);\n",
    "ax2.set_title('Rep Affiliation by Level')\n",
    "ax2.set_xlabel('')\n",
    "sns.lineplot(x='year', y='Democrat', data=overall, \n",
    "             color= 'blue', label= 'Democrat', ax = ax3)\n",
    "sns.lineplot(x='year', y='Republican', data=overall, \n",
    "             color= 'red', label= 'Republican', ax = ax3)\n",
    "sns.lineplot(x='year', y='Independent', data=overall, \n",
    "             color= 'plum', label= 'Independent', ax = ax3)\n",
    "sns.lineplot(x='year', y='Other', data=overall, \n",
    "             color= 'grey', label= 'Other', ax = ax3);\n",
    "ax3.set_title('Overall Affiliation')\n",
    "ax3.set_xlabel('')\n",
    "plt.yticks(ticks=[.05, .15, .25, .35, .45, .55], \n",
    "           labels=['5%','15%', '25%', '35%', '45%', '55%']);"
   ]
  },
  {
   "cell_type": "markdown",
   "metadata": {},
   "source": [
    "#### Time Series Forecasts\n",
    "Overall by Party"
   ]
  },
  {
   "cell_type": "code",
   "execution_count": 7,
   "metadata": {
    "scrolled": true
   },
   "outputs": [],
   "source": [
    "party_aff_ovr = store_predictions(overall)\n",
    "party_aff_ovr.to_excel('data/predictions/voter/overall.xlsx')"
   ]
  },
  {
   "cell_type": "markdown",
   "metadata": {},
   "source": [
    "Within Party "
   ]
  },
  {
   "cell_type": "code",
   "execution_count": 8,
   "metadata": {
    "scrolled": true
   },
   "outputs": [],
   "source": [
    "party_aff_lev = store_predictions(percent_parties)\n",
    "party_aff_lev.to_excel('data/predictions/voter/leveled.xlsx')"
   ]
  },
  {
   "cell_type": "code",
   "execution_count": 9,
   "metadata": {},
   "outputs": [
    {
     "data": {
      "text/html": [
       "<div>\n",
       "<style scoped>\n",
       "    .dataframe tbody tr th:only-of-type {\n",
       "        vertical-align: middle;\n",
       "    }\n",
       "\n",
       "    .dataframe tbody tr th {\n",
       "        vertical-align: top;\n",
       "    }\n",
       "\n",
       "    .dataframe thead th {\n",
       "        text-align: right;\n",
       "    }\n",
       "</style>\n",
       "<table border=\"1\" class=\"dataframe\">\n",
       "  <thead>\n",
       "    <tr style=\"text-align: right;\">\n",
       "      <th></th>\n",
       "      <th>Democrat</th>\n",
       "      <th>Predicted Democrat</th>\n",
       "      <th>Predicted Republican</th>\n",
       "      <th>Republican</th>\n",
       "      <th>Independent</th>\n",
       "      <th>Predicted Independent</th>\n",
       "      <th>Other</th>\n",
       "      <th>Predicted Other</th>\n",
       "    </tr>\n",
       "  </thead>\n",
       "  <tbody>\n",
       "    <tr>\n",
       "      <td>1972</td>\n",
       "      <td>0.582501</td>\n",
       "      <td>NaN</td>\n",
       "      <td>NaN</td>\n",
       "      <td>0.272966</td>\n",
       "      <td>0.101286</td>\n",
       "      <td>NaN</td>\n",
       "      <td>0.043248</td>\n",
       "      <td>NaN</td>\n",
       "    </tr>\n",
       "    <tr>\n",
       "      <td>1973</td>\n",
       "      <td>0.533212</td>\n",
       "      <td>NaN</td>\n",
       "      <td>NaN</td>\n",
       "      <td>0.325005</td>\n",
       "      <td>0.096850</td>\n",
       "      <td>NaN</td>\n",
       "      <td>0.044933</td>\n",
       "      <td>NaN</td>\n",
       "    </tr>\n",
       "    <tr>\n",
       "      <td>1974</td>\n",
       "      <td>0.566261</td>\n",
       "      <td>NaN</td>\n",
       "      <td>NaN</td>\n",
       "      <td>0.291130</td>\n",
       "      <td>0.101148</td>\n",
       "      <td>NaN</td>\n",
       "      <td>0.041461</td>\n",
       "      <td>NaN</td>\n",
       "    </tr>\n",
       "    <tr>\n",
       "      <td>1975</td>\n",
       "      <td>0.549952</td>\n",
       "      <td>NaN</td>\n",
       "      <td>NaN</td>\n",
       "      <td>0.305847</td>\n",
       "      <td>0.135818</td>\n",
       "      <td>NaN</td>\n",
       "      <td>0.008382</td>\n",
       "      <td>NaN</td>\n",
       "    </tr>\n",
       "    <tr>\n",
       "      <td>1976</td>\n",
       "      <td>0.557456</td>\n",
       "      <td>NaN</td>\n",
       "      <td>NaN</td>\n",
       "      <td>0.277749</td>\n",
       "      <td>0.162836</td>\n",
       "      <td>NaN</td>\n",
       "      <td>0.001959</td>\n",
       "      <td>NaN</td>\n",
       "    </tr>\n",
       "    <tr>\n",
       "      <td>1977</td>\n",
       "      <td>0.578262</td>\n",
       "      <td>NaN</td>\n",
       "      <td>NaN</td>\n",
       "      <td>0.308168</td>\n",
       "      <td>0.111292</td>\n",
       "      <td>NaN</td>\n",
       "      <td>0.002278</td>\n",
       "      <td>NaN</td>\n",
       "    </tr>\n",
       "    <tr>\n",
       "      <td>1978</td>\n",
       "      <td>0.524851</td>\n",
       "      <td>NaN</td>\n",
       "      <td>NaN</td>\n",
       "      <td>0.324718</td>\n",
       "      <td>0.143141</td>\n",
       "      <td>NaN</td>\n",
       "      <td>0.007290</td>\n",
       "      <td>NaN</td>\n",
       "    </tr>\n",
       "    <tr>\n",
       "      <td>1980</td>\n",
       "      <td>0.513412</td>\n",
       "      <td>NaN</td>\n",
       "      <td>NaN</td>\n",
       "      <td>0.311503</td>\n",
       "      <td>0.167700</td>\n",
       "      <td>NaN</td>\n",
       "      <td>0.007385</td>\n",
       "      <td>NaN</td>\n",
       "    </tr>\n",
       "    <tr>\n",
       "      <td>1982</td>\n",
       "      <td>0.599026</td>\n",
       "      <td>NaN</td>\n",
       "      <td>NaN</td>\n",
       "      <td>0.278313</td>\n",
       "      <td>0.116573</td>\n",
       "      <td>NaN</td>\n",
       "      <td>0.006089</td>\n",
       "      <td>NaN</td>\n",
       "    </tr>\n",
       "    <tr>\n",
       "      <td>1983</td>\n",
       "      <td>0.519353</td>\n",
       "      <td>NaN</td>\n",
       "      <td>NaN</td>\n",
       "      <td>0.342957</td>\n",
       "      <td>0.129124</td>\n",
       "      <td>NaN</td>\n",
       "      <td>0.008566</td>\n",
       "      <td>NaN</td>\n",
       "    </tr>\n",
       "    <tr>\n",
       "      <td>1984</td>\n",
       "      <td>0.505689</td>\n",
       "      <td>NaN</td>\n",
       "      <td>NaN</td>\n",
       "      <td>0.364307</td>\n",
       "      <td>0.113359</td>\n",
       "      <td>NaN</td>\n",
       "      <td>0.016646</td>\n",
       "      <td>NaN</td>\n",
       "    </tr>\n",
       "    <tr>\n",
       "      <td>1985</td>\n",
       "      <td>0.493740</td>\n",
       "      <td>NaN</td>\n",
       "      <td>NaN</td>\n",
       "      <td>0.405567</td>\n",
       "      <td>0.092035</td>\n",
       "      <td>NaN</td>\n",
       "      <td>0.008657</td>\n",
       "      <td>NaN</td>\n",
       "    </tr>\n",
       "    <tr>\n",
       "      <td>1986</td>\n",
       "      <td>0.494166</td>\n",
       "      <td>NaN</td>\n",
       "      <td>NaN</td>\n",
       "      <td>0.367879</td>\n",
       "      <td>0.131434</td>\n",
       "      <td>NaN</td>\n",
       "      <td>0.006520</td>\n",
       "      <td>NaN</td>\n",
       "    </tr>\n",
       "    <tr>\n",
       "      <td>1987</td>\n",
       "      <td>0.559452</td>\n",
       "      <td>NaN</td>\n",
       "      <td>NaN</td>\n",
       "      <td>0.324204</td>\n",
       "      <td>0.107437</td>\n",
       "      <td>NaN</td>\n",
       "      <td>0.008907</td>\n",
       "      <td>NaN</td>\n",
       "    </tr>\n",
       "    <tr>\n",
       "      <td>1988</td>\n",
       "      <td>0.486586</td>\n",
       "      <td>NaN</td>\n",
       "      <td>NaN</td>\n",
       "      <td>0.385812</td>\n",
       "      <td>0.125534</td>\n",
       "      <td>NaN</td>\n",
       "      <td>0.002069</td>\n",
       "      <td>NaN</td>\n",
       "    </tr>\n",
       "    <tr>\n",
       "      <td>1989</td>\n",
       "      <td>0.457499</td>\n",
       "      <td>NaN</td>\n",
       "      <td>NaN</td>\n",
       "      <td>0.406177</td>\n",
       "      <td>0.129002</td>\n",
       "      <td>NaN</td>\n",
       "      <td>0.007322</td>\n",
       "      <td>NaN</td>\n",
       "    </tr>\n",
       "    <tr>\n",
       "      <td>1990</td>\n",
       "      <td>0.450563</td>\n",
       "      <td>NaN</td>\n",
       "      <td>NaN</td>\n",
       "      <td>0.432304</td>\n",
       "      <td>0.109339</td>\n",
       "      <td>NaN</td>\n",
       "      <td>0.007794</td>\n",
       "      <td>NaN</td>\n",
       "    </tr>\n",
       "    <tr>\n",
       "      <td>1991</td>\n",
       "      <td>0.438318</td>\n",
       "      <td>NaN</td>\n",
       "      <td>NaN</td>\n",
       "      <td>0.425223</td>\n",
       "      <td>0.129518</td>\n",
       "      <td>NaN</td>\n",
       "      <td>0.006941</td>\n",
       "      <td>NaN</td>\n",
       "    </tr>\n",
       "    <tr>\n",
       "      <td>1993</td>\n",
       "      <td>0.459403</td>\n",
       "      <td>NaN</td>\n",
       "      <td>NaN</td>\n",
       "      <td>0.407756</td>\n",
       "      <td>0.123238</td>\n",
       "      <td>NaN</td>\n",
       "      <td>0.009603</td>\n",
       "      <td>NaN</td>\n",
       "    </tr>\n",
       "    <tr>\n",
       "      <td>1994</td>\n",
       "      <td>0.467206</td>\n",
       "      <td>NaN</td>\n",
       "      <td>NaN</td>\n",
       "      <td>0.390381</td>\n",
       "      <td>0.128544</td>\n",
       "      <td>NaN</td>\n",
       "      <td>0.013869</td>\n",
       "      <td>NaN</td>\n",
       "    </tr>\n",
       "    <tr>\n",
       "      <td>1996</td>\n",
       "      <td>0.444390</td>\n",
       "      <td>NaN</td>\n",
       "      <td>NaN</td>\n",
       "      <td>0.380707</td>\n",
       "      <td>0.161232</td>\n",
       "      <td>NaN</td>\n",
       "      <td>0.013671</td>\n",
       "      <td>NaN</td>\n",
       "    </tr>\n",
       "    <tr>\n",
       "      <td>1998</td>\n",
       "      <td>0.454785</td>\n",
       "      <td>NaN</td>\n",
       "      <td>NaN</td>\n",
       "      <td>0.348209</td>\n",
       "      <td>0.173723</td>\n",
       "      <td>NaN</td>\n",
       "      <td>0.023283</td>\n",
       "      <td>NaN</td>\n",
       "    </tr>\n",
       "    <tr>\n",
       "      <td>2000</td>\n",
       "      <td>0.430979</td>\n",
       "      <td>NaN</td>\n",
       "      <td>NaN</td>\n",
       "      <td>0.348619</td>\n",
       "      <td>0.203698</td>\n",
       "      <td>NaN</td>\n",
       "      <td>0.016705</td>\n",
       "      <td>NaN</td>\n",
       "    </tr>\n",
       "    <tr>\n",
       "      <td>2002</td>\n",
       "      <td>0.427509</td>\n",
       "      <td>NaN</td>\n",
       "      <td>NaN</td>\n",
       "      <td>0.358428</td>\n",
       "      <td>0.196693</td>\n",
       "      <td>NaN</td>\n",
       "      <td>0.017370</td>\n",
       "      <td>NaN</td>\n",
       "    </tr>\n",
       "    <tr>\n",
       "      <td>2004</td>\n",
       "      <td>0.440192</td>\n",
       "      <td>NaN</td>\n",
       "      <td>NaN</td>\n",
       "      <td>0.388106</td>\n",
       "      <td>0.160589</td>\n",
       "      <td>NaN</td>\n",
       "      <td>0.011113</td>\n",
       "      <td>NaN</td>\n",
       "    </tr>\n",
       "    <tr>\n",
       "      <td>2006</td>\n",
       "      <td>0.416433</td>\n",
       "      <td>NaN</td>\n",
       "      <td>NaN</td>\n",
       "      <td>0.337630</td>\n",
       "      <td>0.231668</td>\n",
       "      <td>NaN</td>\n",
       "      <td>0.014269</td>\n",
       "      <td>NaN</td>\n",
       "    </tr>\n",
       "    <tr>\n",
       "      <td>2008</td>\n",
       "      <td>0.480697</td>\n",
       "      <td>NaN</td>\n",
       "      <td>NaN</td>\n",
       "      <td>0.344408</td>\n",
       "      <td>0.157011</td>\n",
       "      <td>NaN</td>\n",
       "      <td>0.017883</td>\n",
       "      <td>NaN</td>\n",
       "    </tr>\n",
       "    <tr>\n",
       "      <td>2010</td>\n",
       "      <td>0.457106</td>\n",
       "      <td>NaN</td>\n",
       "      <td>NaN</td>\n",
       "      <td>0.328943</td>\n",
       "      <td>0.187608</td>\n",
       "      <td>NaN</td>\n",
       "      <td>0.026343</td>\n",
       "      <td>NaN</td>\n",
       "    </tr>\n",
       "    <tr>\n",
       "      <td>2012</td>\n",
       "      <td>0.460950</td>\n",
       "      <td>NaN</td>\n",
       "      <td>NaN</td>\n",
       "      <td>0.317036</td>\n",
       "      <td>0.198636</td>\n",
       "      <td>NaN</td>\n",
       "      <td>0.023378</td>\n",
       "      <td>NaN</td>\n",
       "    </tr>\n",
       "    <tr>\n",
       "      <td>2014</td>\n",
       "      <td>0.446318</td>\n",
       "      <td>NaN</td>\n",
       "      <td>NaN</td>\n",
       "      <td>0.322254</td>\n",
       "      <td>0.207401</td>\n",
       "      <td>NaN</td>\n",
       "      <td>0.024028</td>\n",
       "      <td>NaN</td>\n",
       "    </tr>\n",
       "    <tr>\n",
       "      <td>2016</td>\n",
       "      <td>0.468962</td>\n",
       "      <td>NaN</td>\n",
       "      <td>NaN</td>\n",
       "      <td>0.332770</td>\n",
       "      <td>0.171354</td>\n",
       "      <td>NaN</td>\n",
       "      <td>0.026914</td>\n",
       "      <td>NaN</td>\n",
       "    </tr>\n",
       "    <tr>\n",
       "      <td>2018</td>\n",
       "      <td>0.425729</td>\n",
       "      <td>NaN</td>\n",
       "      <td>NaN</td>\n",
       "      <td>0.352112</td>\n",
       "      <td>0.183584</td>\n",
       "      <td>NaN</td>\n",
       "      <td>0.038576</td>\n",
       "      <td>NaN</td>\n",
       "    </tr>\n",
       "    <tr>\n",
       "      <td>2019</td>\n",
       "      <td>NaN</td>\n",
       "      <td>0.432900</td>\n",
       "      <td>0.368156</td>\n",
       "      <td>NaN</td>\n",
       "      <td>NaN</td>\n",
       "      <td>0.183854</td>\n",
       "      <td>NaN</td>\n",
       "      <td>0.039797</td>\n",
       "    </tr>\n",
       "    <tr>\n",
       "      <td>2020</td>\n",
       "      <td>NaN</td>\n",
       "      <td>0.428718</td>\n",
       "      <td>0.361430</td>\n",
       "      <td>NaN</td>\n",
       "      <td>NaN</td>\n",
       "      <td>0.168934</td>\n",
       "      <td>NaN</td>\n",
       "      <td>0.039723</td>\n",
       "    </tr>\n",
       "    <tr>\n",
       "      <td>2021</td>\n",
       "      <td>NaN</td>\n",
       "      <td>0.424513</td>\n",
       "      <td>0.347811</td>\n",
       "      <td>NaN</td>\n",
       "      <td>NaN</td>\n",
       "      <td>0.176273</td>\n",
       "      <td>NaN</td>\n",
       "      <td>0.039623</td>\n",
       "    </tr>\n",
       "    <tr>\n",
       "      <td>2022</td>\n",
       "      <td>NaN</td>\n",
       "      <td>0.420308</td>\n",
       "      <td>0.354593</td>\n",
       "      <td>NaN</td>\n",
       "      <td>NaN</td>\n",
       "      <td>0.190910</td>\n",
       "      <td>NaN</td>\n",
       "      <td>0.039523</td>\n",
       "    </tr>\n",
       "    <tr>\n",
       "      <td>2023</td>\n",
       "      <td>NaN</td>\n",
       "      <td>0.416103</td>\n",
       "      <td>0.370851</td>\n",
       "      <td>NaN</td>\n",
       "      <td>NaN</td>\n",
       "      <td>0.202363</td>\n",
       "      <td>NaN</td>\n",
       "      <td>0.039422</td>\n",
       "    </tr>\n",
       "    <tr>\n",
       "      <td>2024</td>\n",
       "      <td>NaN</td>\n",
       "      <td>0.411898</td>\n",
       "      <td>0.372212</td>\n",
       "      <td>NaN</td>\n",
       "      <td>NaN</td>\n",
       "      <td>0.207775</td>\n",
       "      <td>NaN</td>\n",
       "      <td>0.039322</td>\n",
       "    </tr>\n",
       "  </tbody>\n",
       "</table>\n",
       "</div>"
      ],
      "text/plain": [
       "      Democrat  Predicted Democrat  Predicted Republican  Republican  \\\n",
       "1972  0.582501                 NaN                   NaN    0.272966   \n",
       "1973  0.533212                 NaN                   NaN    0.325005   \n",
       "1974  0.566261                 NaN                   NaN    0.291130   \n",
       "1975  0.549952                 NaN                   NaN    0.305847   \n",
       "1976  0.557456                 NaN                   NaN    0.277749   \n",
       "1977  0.578262                 NaN                   NaN    0.308168   \n",
       "1978  0.524851                 NaN                   NaN    0.324718   \n",
       "1980  0.513412                 NaN                   NaN    0.311503   \n",
       "1982  0.599026                 NaN                   NaN    0.278313   \n",
       "1983  0.519353                 NaN                   NaN    0.342957   \n",
       "1984  0.505689                 NaN                   NaN    0.364307   \n",
       "1985  0.493740                 NaN                   NaN    0.405567   \n",
       "1986  0.494166                 NaN                   NaN    0.367879   \n",
       "1987  0.559452                 NaN                   NaN    0.324204   \n",
       "1988  0.486586                 NaN                   NaN    0.385812   \n",
       "1989  0.457499                 NaN                   NaN    0.406177   \n",
       "1990  0.450563                 NaN                   NaN    0.432304   \n",
       "1991  0.438318                 NaN                   NaN    0.425223   \n",
       "1993  0.459403                 NaN                   NaN    0.407756   \n",
       "1994  0.467206                 NaN                   NaN    0.390381   \n",
       "1996  0.444390                 NaN                   NaN    0.380707   \n",
       "1998  0.454785                 NaN                   NaN    0.348209   \n",
       "2000  0.430979                 NaN                   NaN    0.348619   \n",
       "2002  0.427509                 NaN                   NaN    0.358428   \n",
       "2004  0.440192                 NaN                   NaN    0.388106   \n",
       "2006  0.416433                 NaN                   NaN    0.337630   \n",
       "2008  0.480697                 NaN                   NaN    0.344408   \n",
       "2010  0.457106                 NaN                   NaN    0.328943   \n",
       "2012  0.460950                 NaN                   NaN    0.317036   \n",
       "2014  0.446318                 NaN                   NaN    0.322254   \n",
       "2016  0.468962                 NaN                   NaN    0.332770   \n",
       "2018  0.425729                 NaN                   NaN    0.352112   \n",
       "2019       NaN            0.432900              0.368156         NaN   \n",
       "2020       NaN            0.428718              0.361430         NaN   \n",
       "2021       NaN            0.424513              0.347811         NaN   \n",
       "2022       NaN            0.420308              0.354593         NaN   \n",
       "2023       NaN            0.416103              0.370851         NaN   \n",
       "2024       NaN            0.411898              0.372212         NaN   \n",
       "\n",
       "      Independent  Predicted Independent     Other  Predicted Other  \n",
       "1972     0.101286                    NaN  0.043248              NaN  \n",
       "1973     0.096850                    NaN  0.044933              NaN  \n",
       "1974     0.101148                    NaN  0.041461              NaN  \n",
       "1975     0.135818                    NaN  0.008382              NaN  \n",
       "1976     0.162836                    NaN  0.001959              NaN  \n",
       "1977     0.111292                    NaN  0.002278              NaN  \n",
       "1978     0.143141                    NaN  0.007290              NaN  \n",
       "1980     0.167700                    NaN  0.007385              NaN  \n",
       "1982     0.116573                    NaN  0.006089              NaN  \n",
       "1983     0.129124                    NaN  0.008566              NaN  \n",
       "1984     0.113359                    NaN  0.016646              NaN  \n",
       "1985     0.092035                    NaN  0.008657              NaN  \n",
       "1986     0.131434                    NaN  0.006520              NaN  \n",
       "1987     0.107437                    NaN  0.008907              NaN  \n",
       "1988     0.125534                    NaN  0.002069              NaN  \n",
       "1989     0.129002                    NaN  0.007322              NaN  \n",
       "1990     0.109339                    NaN  0.007794              NaN  \n",
       "1991     0.129518                    NaN  0.006941              NaN  \n",
       "1993     0.123238                    NaN  0.009603              NaN  \n",
       "1994     0.128544                    NaN  0.013869              NaN  \n",
       "1996     0.161232                    NaN  0.013671              NaN  \n",
       "1998     0.173723                    NaN  0.023283              NaN  \n",
       "2000     0.203698                    NaN  0.016705              NaN  \n",
       "2002     0.196693                    NaN  0.017370              NaN  \n",
       "2004     0.160589                    NaN  0.011113              NaN  \n",
       "2006     0.231668                    NaN  0.014269              NaN  \n",
       "2008     0.157011                    NaN  0.017883              NaN  \n",
       "2010     0.187608                    NaN  0.026343              NaN  \n",
       "2012     0.198636                    NaN  0.023378              NaN  \n",
       "2014     0.207401                    NaN  0.024028              NaN  \n",
       "2016     0.171354                    NaN  0.026914              NaN  \n",
       "2018     0.183584                    NaN  0.038576              NaN  \n",
       "2019          NaN               0.183854       NaN         0.039797  \n",
       "2020          NaN               0.168934       NaN         0.039723  \n",
       "2021          NaN               0.176273       NaN         0.039623  \n",
       "2022          NaN               0.190910       NaN         0.039523  \n",
       "2023          NaN               0.202363       NaN         0.039422  \n",
       "2024          NaN               0.207775       NaN         0.039322  "
      ]
     },
     "execution_count": 9,
     "metadata": {},
     "output_type": "execute_result"
    }
   ],
   "source": [
    "party_aff_ovr"
   ]
  },
  {
   "cell_type": "markdown",
   "metadata": {},
   "source": [
    "#### Analysis- Party Affiliation"
   ]
  },
  {
   "cell_type": "code",
   "execution_count": 10,
   "metadata": {},
   "outputs": [
    {
     "data": {
      "image/png": "[encoded data removed]",
      "text/plain": [
       "<Figure size 1800x288 with 3 Axes>"
      ]
     },
     "metadata": {},
     "output_type": "display_data"
    }
   ],
   "source": [
    "fig = plt.figure(figsize=(25,4))\n",
    "ax1, ax2, ax3 = fig.subplots(nrows=1, ncols=3, sharey= True)\n",
    "sns.lineplot(data= party_aff_lev['Lean Democrat'], \n",
    "             color = 'skyblue', label= 'Lean Democrat', ax = ax1)\n",
    "sns.lineplot(data= party_aff_lev['Democrat'], \n",
    "             color = 'dodgerblue', label= 'Democrat', ax = ax1)\n",
    "sns.lineplot(data= party_aff_lev['Strong Democrat'], \n",
    "             color = 'blue', label= 'Strong Democrat', ax = ax1)\n",
    "sns.lineplot(data= party_aff_lev['Predicted Lean Democrat'], \n",
    "             color = 'skyblue', label= 'Lean Democrat', ax = ax1)\n",
    "sns.lineplot(data= party_aff_lev['Predicted Democrat'], \n",
    "             color = 'dodgerblue', label= 'Democrat', ax = ax1)\n",
    "sns.lineplot(data= party_aff_lev['Predicted Strong Democrat'], \n",
    "             color = 'blue', label= 'Strong Democrat', ax = ax1)\n",
    "ax1.set_title('Dem Affiliation by Level with Predictions')\n",
    "ax1.set_ylabel('Percent of Population')\n",
    "ax1.set_xlabel('');\n",
    "sns.lineplot(data= party_aff_lev['Strong Republican'], \n",
    "             color= 'crimson', label= 'Strong Republican', ax = ax2)\n",
    "sns.lineplot(data= party_aff_lev['Republican'], \n",
    "             color= 'red', label= 'Republican', ax = ax2)\n",
    "sns.lineplot(data= party_aff_lev['Lean Republican'], \n",
    "             color= 'hotpink', label= 'Lean Republican', ax = ax2)\n",
    "sns.lineplot(data= party_aff_lev['Predicted Strong Republican'], \n",
    "             color= 'crimson', label= 'Strong Republican', ax = ax2)\n",
    "sns.lineplot(data= party_aff_lev['Predicted Republican'], \n",
    "             color= 'red', label= 'Republican', ax = ax2)\n",
    "sns.lineplot(data= party_aff_lev['Predicted Lean Republican'], \n",
    "             color= 'hotpink', label= 'Lean Republican', ax = ax2)\n",
    "ax2.set_title('Rep Affiliation by Level with Predictions')\n",
    "ax2.set_xlabel('')\n",
    "sns.lineplot(data=party_aff_ovr['Democrat'], \n",
    "             color= 'blue', label= 'Democrat', ax = ax3)\n",
    "sns.lineplot(data=party_aff_ovr['Republican'], \n",
    "             color= 'red', label= 'Republican', ax = ax3)\n",
    "sns.lineplot(data=party_aff_ovr['Independent'], \n",
    "             color= 'plum', label= 'Independent', ax = ax3)\n",
    "sns.lineplot(data=party_aff_ovr['Other'], \n",
    "             color= 'grey', label= 'Other', ax = ax3)\n",
    "sns.lineplot(data=party_aff_ovr['Predicted Democrat'], \n",
    "             color= 'blue', label= 'Democrat', ax = ax3)\n",
    "sns.lineplot(data=party_aff_ovr['Predicted Republican'], \n",
    "             color= 'red', label= 'Republican', ax = ax3)\n",
    "sns.lineplot(data=party_aff_ovr['Predicted Independent'], \n",
    "             color= 'plum', label= 'Independent', ax = ax3)\n",
    "sns.lineplot(data=party_aff_ovr['Predicted Other'], \n",
    "             color= 'grey', label= 'Other', ax = ax3)\n",
    "ax3.set_title('Overall Affiliation with Predictions')\n",
    "ax3.set_xlabel('');"
   ]
  },
  {
   "cell_type": "markdown",
   "metadata": {},
   "source": [
    "Based on the projections it appears that party affiliation in America is trending toward more and more people identifying as independent. Meanwhile, within parties more and more people are identifying as Strong in their affiliation, even as affiliation with the party as a whole goes down.  "
   ]
  },
  {
   "cell_type": "markdown",
   "metadata": {},
   "source": [
    "<hr style=\"border:3px solid gray\"> </hr>\n",
    "\n",
    "## Abortion Opinions\n",
    "\n",
    "<hr style=\"border:3px solid gray\"> </hr>\n",
    "\n",
    "#### Clean"
   ]
  },
  {
   "cell_type": "code",
   "execution_count": 11,
   "metadata": {},
   "outputs": [
    {
     "name": "stdout",
     "output_type": "stream",
     "text": [
      "<class 'pandas.core.frame.DataFrame'>\n",
      "RangeIndex: 64814 entries, 0 to 64813\n",
      "Data columns (total 9 columns):\n",
      "year                                      64814 non-null int64\n",
      "id                                        64814 non-null int32\n",
      "Strong chance of serious defect           64814 non-null object\n",
      "Married--wants no more children           64814 non-null object\n",
      "Woman's health seriously endangered       64814 non-null object\n",
      "Low income--cant afford more children     64814 non-null object\n",
      "Pregnant as result of rape                64814 non-null object\n",
      "Not married                               64814 non-null object\n",
      "Abortion if woman wants for any reason    64814 non-null object\n",
      "dtypes: int32(1), int64(1), object(7)\n",
      "memory usage: 4.2+ MB\n"
     ]
    }
   ],
   "source": [
    "abortion = unzip('Abortion')\n",
    "abortion.info()"
   ]
  },
  {
   "cell_type": "code",
   "execution_count": 12,
   "metadata": {
    "scrolled": true
   },
   "outputs": [
    {
     "data": {
      "text/html": [
       "<div>\n",
       "<style scoped>\n",
       "    .dataframe tbody tr th:only-of-type {\n",
       "        vertical-align: middle;\n",
       "    }\n",
       "\n",
       "    .dataframe tbody tr th {\n",
       "        vertical-align: top;\n",
       "    }\n",
       "\n",
       "    .dataframe thead th {\n",
       "        text-align: right;\n",
       "    }\n",
       "</style>\n",
       "<table border=\"1\" class=\"dataframe\">\n",
       "  <thead>\n",
       "    <tr style=\"text-align: right;\">\n",
       "      <th></th>\n",
       "      <th>year</th>\n",
       "      <th>id</th>\n",
       "      <th>Strong chance of serious defect</th>\n",
       "      <th>Married--wants no more children</th>\n",
       "      <th>Woman's health seriously endangered</th>\n",
       "      <th>Low income--cant afford more children</th>\n",
       "      <th>Pregnant as result of rape</th>\n",
       "      <th>Not married</th>\n",
       "      <th>Abortion if woman wants for any reason</th>\n",
       "      <th>abortion</th>\n",
       "    </tr>\n",
       "  </thead>\n",
       "  <tbody>\n",
       "    <tr>\n",
       "      <td>0</td>\n",
       "      <td>1972</td>\n",
       "      <td>0</td>\n",
       "      <td>Yes</td>\n",
       "      <td>Yes</td>\n",
       "      <td>Yes</td>\n",
       "      <td>Yes</td>\n",
       "      <td>Yes</td>\n",
       "      <td>Yes</td>\n",
       "      <td>Not applicable</td>\n",
       "      <td>unrestricted</td>\n",
       "    </tr>\n",
       "    <tr>\n",
       "      <td>1</td>\n",
       "      <td>1972</td>\n",
       "      <td>1</td>\n",
       "      <td>Yes</td>\n",
       "      <td>No</td>\n",
       "      <td>Yes</td>\n",
       "      <td>No</td>\n",
       "      <td>Yes</td>\n",
       "      <td>Yes</td>\n",
       "      <td>Not applicable</td>\n",
       "      <td>conditional</td>\n",
       "    </tr>\n",
       "    <tr>\n",
       "      <td>2</td>\n",
       "      <td>1972</td>\n",
       "      <td>2</td>\n",
       "      <td>Yes</td>\n",
       "      <td>Yes</td>\n",
       "      <td>Yes</td>\n",
       "      <td>Yes</td>\n",
       "      <td>Yes</td>\n",
       "      <td>Yes</td>\n",
       "      <td>Not applicable</td>\n",
       "      <td>unrestricted</td>\n",
       "    </tr>\n",
       "    <tr>\n",
       "      <td>3</td>\n",
       "      <td>1972</td>\n",
       "      <td>3</td>\n",
       "      <td>No</td>\n",
       "      <td>No</td>\n",
       "      <td>Yes</td>\n",
       "      <td>Yes</td>\n",
       "      <td>Yes</td>\n",
       "      <td>Yes</td>\n",
       "      <td>Not applicable</td>\n",
       "      <td>conditional</td>\n",
       "    </tr>\n",
       "    <tr>\n",
       "      <td>4</td>\n",
       "      <td>1972</td>\n",
       "      <td>4</td>\n",
       "      <td>Yes</td>\n",
       "      <td>Yes</td>\n",
       "      <td>Yes</td>\n",
       "      <td>Yes</td>\n",
       "      <td>Yes</td>\n",
       "      <td>Yes</td>\n",
       "      <td>Not applicable</td>\n",
       "      <td>unrestricted</td>\n",
       "    </tr>\n",
       "  </tbody>\n",
       "</table>\n",
       "</div>"
      ],
      "text/plain": [
       "   year  id Strong chance of serious defect Married--wants no more children  \\\n",
       "0  1972   0                             Yes                             Yes   \n",
       "1  1972   1                             Yes                              No   \n",
       "2  1972   2                             Yes                             Yes   \n",
       "3  1972   3                              No                              No   \n",
       "4  1972   4                             Yes                             Yes   \n",
       "\n",
       "  Woman's health seriously endangered Low income--cant afford more children  \\\n",
       "0                                 Yes                                   Yes   \n",
       "1                                 Yes                                    No   \n",
       "2                                 Yes                                   Yes   \n",
       "3                                 Yes                                   Yes   \n",
       "4                                 Yes                                   Yes   \n",
       "\n",
       "  Pregnant as result of rape Not married  \\\n",
       "0                        Yes         Yes   \n",
       "1                        Yes         Yes   \n",
       "2                        Yes         Yes   \n",
       "3                        Yes         Yes   \n",
       "4                        Yes         Yes   \n",
       "\n",
       "  Abortion if woman wants for any reason      abortion  \n",
       "0                         Not applicable  unrestricted  \n",
       "1                         Not applicable   conditional  \n",
       "2                         Not applicable  unrestricted  \n",
       "3                         Not applicable   conditional  \n",
       "4                         Not applicable  unrestricted  "
      ]
     },
     "execution_count": 12,
     "metadata": {},
     "output_type": "execute_result"
    }
   ],
   "source": [
    "abortion.loc[(abortion['Strong chance of serious defect'] == 'Yes')|\n",
    "             (abortion['Married--wants no more children'] == 'Yes')|\n",
    "             (abortion[\"Woman's health seriously endangered\"] == 'Yes')|\n",
    "             (abortion[\"Low income--cant afford more children\"] == 'Yes')|\n",
    "             (abortion[\"Pregnant as result of rape\"] == 'Yes')|\n",
    "             (abortion['Not married']=='Yes'), 'abortion'] = 'conditional'\n",
    "abortion.loc[(abortion['Strong chance of serious defect'] == 'Yes')&\n",
    "             (abortion['Married--wants no more children'] == 'Yes')&\n",
    "             (abortion[\"Woman's health seriously endangered\"] == 'Yes')&\n",
    "             (abortion[\"Low income--cant afford more children\"] == 'Yes')&\n",
    "             (abortion[\"Pregnant as result of rape\"] == 'Yes')&\n",
    "             (abortion['Not married']=='Yes'), 'abortion'] = 'unrestricted'\n",
    "abortion.loc[(abortion['Strong chance of serious defect'] == 'No')&\n",
    "             (abortion['Married--wants no more children'] == 'No')&\n",
    "             (abortion[\"Woman's health seriously endangered\"] == 'No')&\n",
    "             (abortion[\"Low income--cant afford more children\"] == 'No')&\n",
    "             (abortion[\"Pregnant as result of rape\"] == 'No')&\n",
    "             (abortion['Not married']=='No'), 'abortion'] = 'never'\n",
    "abortion.loc[abortion['Abortion if woman wants for any reason']== 'Yes', 'abortion']= 'unrestricted'\n",
    "abortion.head()"
   ]
  },
  {
   "cell_type": "code",
   "execution_count": 13,
   "metadata": {},
   "outputs": [
    {
     "data": {
      "text/html": [
       "<div>\n",
       "<style scoped>\n",
       "    .dataframe tbody tr th:only-of-type {\n",
       "        vertical-align: middle;\n",
       "    }\n",
       "\n",
       "    .dataframe tbody tr th {\n",
       "        vertical-align: top;\n",
       "    }\n",
       "\n",
       "    .dataframe thead th {\n",
       "        text-align: right;\n",
       "    }\n",
       "</style>\n",
       "<table border=\"1\" class=\"dataframe\">\n",
       "  <thead>\n",
       "    <tr style=\"text-align: right;\">\n",
       "      <th></th>\n",
       "      <th>year</th>\n",
       "      <th>unrestricted</th>\n",
       "      <th>conditional</th>\n",
       "      <th>never</th>\n",
       "    </tr>\n",
       "  </thead>\n",
       "  <tbody>\n",
       "    <tr>\n",
       "      <td>0</td>\n",
       "      <td>1972</td>\n",
       "      <td>0.310454</td>\n",
       "      <td>0.608769</td>\n",
       "      <td>0.080777</td>\n",
       "    </tr>\n",
       "    <tr>\n",
       "      <td>1</td>\n",
       "      <td>1973</td>\n",
       "      <td>0.388621</td>\n",
       "      <td>0.561131</td>\n",
       "      <td>0.050248</td>\n",
       "    </tr>\n",
       "    <tr>\n",
       "      <td>2</td>\n",
       "      <td>1974</td>\n",
       "      <td>0.365500</td>\n",
       "      <td>0.589899</td>\n",
       "      <td>0.044602</td>\n",
       "    </tr>\n",
       "    <tr>\n",
       "      <td>3</td>\n",
       "      <td>1975</td>\n",
       "      <td>0.363598</td>\n",
       "      <td>0.576360</td>\n",
       "      <td>0.060042</td>\n",
       "    </tr>\n",
       "    <tr>\n",
       "      <td>4</td>\n",
       "      <td>1976</td>\n",
       "      <td>0.381581</td>\n",
       "      <td>0.563122</td>\n",
       "      <td>0.055298</td>\n",
       "    </tr>\n",
       "  </tbody>\n",
       "</table>\n",
       "</div>"
      ],
      "text/plain": [
       "   year  unrestricted  conditional     never\n",
       "0  1972      0.310454     0.608769  0.080777\n",
       "1  1973      0.388621     0.561131  0.050248\n",
       "2  1974      0.365500     0.589899  0.044602\n",
       "3  1975      0.363598     0.576360  0.060042\n",
       "4  1976      0.381581     0.563122  0.055298"
      ]
     },
     "execution_count": 13,
     "metadata": {},
     "output_type": "execute_result"
    }
   ],
   "source": [
    "abortion = abortion[['year','id', 'abortion']]\n",
    "abortion = weight(abortion)\n",
    "abortion_percentages = create_ts(abortion, ['unrestricted','conditional','never'])\n",
    "abortion_percentages.head()"
   ]
  },
  {
   "cell_type": "markdown",
   "metadata": {},
   "source": [
    "#### EDA"
   ]
  },
  {
   "cell_type": "code",
   "execution_count": 14,
   "metadata": {
    "scrolled": true
   },
   "outputs": [
    {
     "data": {
      "image/png": "[encoded data removed]",
      "text/plain": [
       "<Figure size 432x288 with 1 Axes>"
      ]
     },
     "metadata": {},
     "output_type": "display_data"
    }
   ],
   "source": [
    "sns.lineplot(x= 'year', y= 'unrestricted', data= abortion_percentages, \n",
    "             color = 'green', label='Unrestricted')\n",
    "sns.lineplot(x= 'year', y= 'conditional', data= abortion_percentages, \n",
    "             color= 'yellow', label='Conditional')\n",
    "sns.lineplot(x= 'year', y= 'never', data= abortion_percentages, \n",
    "             color= 'black', label='Banned');"
   ]
  },
  {
   "cell_type": "markdown",
   "metadata": {},
   "source": [
    "Over time, the percentage of people that favor unrestricted access to abortion has risen. Based on the graph it appears that most of those changed minds are people who previously favored conditional access."
   ]
  },
  {
   "cell_type": "markdown",
   "metadata": {},
   "source": [
    "#### Time Series Forecasts\n",
    "Overall by Party"
   ]
  },
  {
   "cell_type": "code",
   "execution_count": 15,
   "metadata": {
    "scrolled": true
   },
   "outputs": [
    {
     "name": "stdout",
     "output_type": "stream",
     "text": [
      "      abortion Predicted unrestricted  abortion unrestricted  \\\n",
      "1972                              NaN               0.053188   \n",
      "1973                              NaN               0.044489   \n",
      "1974                              NaN               0.023688   \n",
      "1975                              NaN               0.041640   \n",
      "1976                              NaN               0.019442   \n",
      "1977                              NaN               0.054042   \n",
      "1978                              NaN               0.013268   \n",
      "1980                              NaN               0.008346   \n",
      "1982                              NaN               0.024025   \n",
      "1983                              NaN               0.049826   \n",
      "1984                              NaN               0.030823   \n",
      "1985                              NaN               0.028488   \n",
      "1986                              NaN                    NaN   \n",
      "1987                              NaN               0.004897   \n",
      "1988                              NaN               0.094295   \n",
      "1989                              NaN               0.065951   \n",
      "1990                              NaN               0.070198   \n",
      "1991                              NaN               0.038923   \n",
      "1993                              NaN               0.151388   \n",
      "1994                              NaN               0.100667   \n",
      "1996                              NaN               0.108293   \n",
      "1998                              NaN               0.150551   \n",
      "2000                              NaN               0.132301   \n",
      "2002                              NaN               0.186173   \n",
      "2004                              NaN               0.181975   \n",
      "2006                              NaN               0.206034   \n",
      "2008                              NaN               0.115061   \n",
      "2010                              NaN               0.181685   \n",
      "2012                              NaN               0.217984   \n",
      "2014                              NaN               0.226496   \n",
      "2016                              NaN               0.226066   \n",
      "2018                              NaN               0.282219   \n",
      "2019                         0.276419                    NaN   \n",
      "2020                         0.244264                    NaN   \n",
      "2021                         0.249468                    NaN   \n",
      "2022                         0.276051                    NaN   \n",
      "2023                         0.301799                    NaN   \n",
      "2024                         0.317361                    NaN   \n",
      "\n",
      "      abortion Predicted conditional  abortion conditional  \\\n",
      "1972                             NaN              0.007004   \n",
      "1973                             NaN              0.056293   \n",
      "1974                             NaN              0.008964   \n",
      "1975                             NaN              0.046310   \n",
      "1976                             NaN              0.008591   \n",
      "1977                             NaN              0.032018   \n",
      "1978                             NaN              0.024222   \n",
      "1980                             NaN              0.004496   \n",
      "1982                             NaN              0.008437   \n",
      "1983                             NaN              0.052112   \n",
      "1984                             NaN              0.051413   \n",
      "1985                             NaN              0.017979   \n",
      "1986                             NaN                   NaN   \n",
      "1987                             NaN              0.013984   \n",
      "1988                             NaN              0.085405   \n",
      "1989                             NaN              0.058260   \n",
      "1990                             NaN              0.054512   \n",
      "1991                             NaN              0.019520   \n",
      "1993                             NaN              0.104409   \n",
      "1994                             NaN              0.081740   \n",
      "1996                             NaN              0.062958   \n",
      "1998                             NaN              0.104298   \n",
      "2000                             NaN              0.098460   \n",
      "2002                             NaN              0.147355   \n",
      "2004                             NaN              0.092683   \n",
      "2006                             NaN              0.097751   \n",
      "2008                             NaN              0.057417   \n",
      "2010                             NaN              0.096437   \n",
      "2012                             NaN              0.127482   \n",
      "2014                             NaN              0.153053   \n",
      "2016                             NaN              0.139124   \n",
      "2018                             NaN              0.184444   \n",
      "2019                        0.178868                   NaN   \n",
      "2020                        0.161641                   NaN   \n",
      "2021                        0.184952                   NaN   \n",
      "2022                        0.187510                   NaN   \n",
      "2023                        0.197853                   NaN   \n",
      "2024                        0.199755                   NaN   \n",
      "\n",
      "      abortion Predicted never  abortion never  \n",
      "1972                       NaN        0.060192  \n",
      "1973                       NaN        0.011803  \n",
      "1974                       NaN        0.014724  \n",
      "1975                       NaN        0.004669  \n",
      "1976                       NaN        0.010850  \n",
      "1977                       NaN        0.022024  \n",
      "1978                       NaN        0.010954  \n",
      "1980                       NaN        0.003849  \n",
      "1982                       NaN        0.015588  \n",
      "1983                       NaN        0.002286  \n",
      "1984                       NaN        0.020590  \n",
      "1985                       NaN        0.010509  \n",
      "1986                       NaN             NaN  \n",
      "1987                       NaN        0.018881  \n",
      "1988                       NaN        0.008889  \n",
      "1989                       NaN        0.007691  \n",
      "1990                       NaN        0.015686  \n",
      "1991                       NaN        0.019404  \n",
      "1993                       NaN        0.046979  \n",
      "1994                       NaN        0.018927  \n",
      "1996                       NaN        0.045335  \n",
      "1998                       NaN        0.046254  \n",
      "2000                       NaN        0.033841  \n",
      "2002                       NaN        0.038818  \n",
      "2004                       NaN        0.089292  \n",
      "2006                       NaN        0.108283  \n",
      "2008                       NaN        0.057644  \n",
      "2010                       NaN        0.085248  \n",
      "2012                       NaN        0.090502  \n",
      "2014                       NaN        0.073443  \n",
      "2016                       NaN        0.086943  \n",
      "2018                       NaN        0.097774  \n",
      "2019                  0.080451             NaN  \n",
      "2020                  0.088178             NaN  \n",
      "2021                  0.094614             NaN  \n",
      "2022                  0.093730             NaN  \n",
      "2023                  0.098455             NaN  \n",
      "2024                  0.104482             NaN  \n",
      "      abortion Predicted unrestricted  abortion unrestricted  \\\n",
      "1972                              NaN               0.014304   \n",
      "1973                              NaN               0.064249   \n",
      "1974                              NaN               0.019846   \n",
      "1975                              NaN               0.020680   \n",
      "1976                              NaN               0.017452   \n",
      "1977                              NaN               0.058736   \n",
      "1978                              NaN               0.029514   \n",
      "1980                              NaN               0.060293   \n",
      "1982                              NaN               0.059526   \n",
      "1983                              NaN               0.049083   \n",
      "1984                              NaN               0.009605   \n",
      "1985                              NaN               0.078421   \n",
      "1986                              NaN                    NaN   \n",
      "1987                              NaN               0.027065   \n",
      "1988                              NaN               0.012423   \n",
      "1989                              NaN               0.094769   \n",
      "1990                              NaN               0.096699   \n",
      "1991                              NaN               0.033035   \n",
      "1993                              NaN               0.022804   \n",
      "1994                              NaN               0.001579   \n",
      "1996                              NaN               0.025002   \n",
      "1998                              NaN               0.081253   \n",
      "2000                              NaN               0.057740   \n",
      "2002                              NaN               0.168814   \n",
      "2004                              NaN               0.014380   \n",
      "2006                              NaN               0.045430   \n",
      "2008                              NaN               0.044679   \n",
      "2010                              NaN               0.092876   \n",
      "2012                              NaN               0.137743   \n",
      "2014                              NaN               0.072326   \n",
      "2016                              NaN               0.063581   \n",
      "2018                              NaN               0.099574   \n",
      "2019                         0.109786                    NaN   \n",
      "2020                         0.049247                    NaN   \n",
      "2021                         0.070351                    NaN   \n",
      "2022                         0.110369                    NaN   \n",
      "2023                         0.123682                    NaN   \n",
      "2024                         0.128244                    NaN   \n",
      "\n",
      "      abortion Predicted conditional  abortion conditional  \\\n",
      "1972                             NaN              0.051005   \n",
      "1973                             NaN              0.069037   \n",
      "1974                             NaN              0.005703   \n",
      "1975                             NaN              0.006765   \n",
      "1976                             NaN              0.035865   \n",
      "1977                             NaN              0.040929   \n",
      "1978                             NaN              0.067906   \n",
      "1980                             NaN              0.079781   \n",
      "1982                             NaN              0.071617   \n",
      "1983                             NaN              0.028178   \n",
      "1984                             NaN              0.005257   \n",
      "1985                             NaN              0.087595   \n",
      "1986                             NaN                   NaN   \n",
      "1987                             NaN              0.049006   \n",
      "1988                             NaN              0.016741   \n",
      "1989                             NaN              0.131970   \n",
      "1990                             NaN              0.063871   \n",
      "1991                             NaN              0.013058   \n",
      "1993                             NaN              0.029588   \n",
      "1994                             NaN              0.010849   \n",
      "1996                             NaN              0.013205   \n",
      "1998                             NaN              0.044465   \n",
      "2000                             NaN              0.048134   \n",
      "2002                             NaN              0.156096   \n",
      "2004                             NaN              0.017883   \n",
      "2006                             NaN              0.020092   \n",
      "2008                             NaN              0.036806   \n",
      "2010                             NaN              0.033991   \n",
      "2012                             NaN              0.117601   \n",
      "2014                             NaN              0.088283   \n",
      "2016                             NaN              0.033810   \n",
      "2018                             NaN              0.047497   \n",
      "2019                        0.057087                   NaN   \n",
      "2020                        0.046979                   NaN   \n",
      "2021                        0.070708                   NaN   \n",
      "2022                        0.070419                   NaN   \n",
      "2023                        0.076501                   NaN   \n",
      "2024                        0.073554                   NaN   \n",
      "\n",
      "      abortion Predicted never  abortion never  \n",
      "1972                       NaN        0.065310  \n",
      "1973                       NaN        0.004788  \n",
      "1974                       NaN        0.014143  \n",
      "1975                       NaN        0.013915  \n",
      "1976                       NaN        0.018414  \n",
      "1977                       NaN        0.017807  \n",
      "1978                       NaN        0.038392  \n",
      "1980                       NaN        0.019488  \n",
      "1982                       NaN        0.012091  \n",
      "1983                       NaN        0.020905  \n",
      "1984                       NaN        0.004348  \n",
      "1985                       NaN        0.009174  \n",
      "1986                       NaN             NaN  \n",
      "1987                       NaN        0.076071  \n",
      "1988                       NaN        0.004317  \n",
      "1989                       NaN        0.037201  \n",
      "1990                       NaN        0.032829  \n",
      "1991                       NaN        0.019977  \n",
      "1993                       NaN        0.006784  \n",
      "1994                       NaN        0.012429  \n",
      "1996                       NaN        0.011797  \n",
      "1998                       NaN        0.036788  \n",
      "2000                       NaN        0.009607  \n",
      "2002                       NaN        0.012718  \n",
      "2004                       NaN        0.032262  \n",
      "2006                       NaN        0.065523  \n",
      "2008                       NaN        0.007873  \n",
      "2010                       NaN        0.058884  \n",
      "2012                       NaN        0.020142  \n",
      "2014                       NaN        0.015957  \n",
      "2016                       NaN        0.029771  \n",
      "2018                       NaN        0.052077  \n",
      "2019                  0.022722             NaN  \n",
      "2020                  0.029732             NaN  \n",
      "2021                  0.034356             NaN  \n",
      "2022                  0.031659             NaN  \n",
      "2023                  0.034570             NaN  \n",
      "2024                  0.038783             NaN  \n",
      "      abortion Predicted unrestricted  abortion unrestricted  \\\n",
      "1972                              NaN               0.038884   \n",
      "1973                              NaN               0.019760   \n",
      "1974                              NaN               0.003842   \n",
      "1975                              NaN               0.020960   \n",
      "1976                              NaN               0.036893   \n",
      "1977                              NaN               0.004694   \n",
      "1978                              NaN               0.016246   \n",
      "1980                              NaN               0.068638   \n",
      "1982                              NaN               0.083551   \n",
      "1983                              NaN               0.000742   \n",
      "1984                              NaN               0.040427   \n",
      "1985                              NaN               0.049932   \n",
      "1986                              NaN                    NaN   \n",
      "1987                              NaN               0.022168   \n",
      "1988                              NaN               0.081871   \n",
      "1989                              NaN               0.028818   \n",
      "1990                              NaN               0.026501   \n",
      "1991                              NaN               0.071958   \n",
      "1993                              NaN               0.174192   \n",
      "1994                              NaN               0.099087   \n",
      "1996                              NaN               0.083291   \n",
      "1998                              NaN               0.069299   \n",
      "2000                              NaN               0.074561   \n",
      "2002                              NaN               0.017359   \n",
      "2004                              NaN               0.167595   \n",
      "2006                              NaN               0.160603   \n",
      "2008                              NaN               0.070382   \n",
      "2010                              NaN               0.088810   \n",
      "2012                              NaN               0.080241   \n",
      "2014                              NaN               0.154170   \n",
      "2016                              NaN               0.162485   \n",
      "2018                              NaN               0.182645   \n",
      "2019                         0.166634                    NaN   \n",
      "2020                         0.195017                    NaN   \n",
      "2021                         0.179118                    NaN   \n",
      "2022                         0.165682                    NaN   \n",
      "2023                         0.178116                    NaN   \n",
      "2024                         0.189117                    NaN   \n",
      "\n",
      "      abortion Predicted conditional  abortion conditional  \\\n",
      "1972                             NaN              0.044001   \n",
      "1973                             NaN              0.012744   \n",
      "1974                             NaN              0.003261   \n",
      "1975                             NaN              0.039544   \n",
      "1976                             NaN              0.044457   \n",
      "1977                             NaN              0.008912   \n",
      "1978                             NaN              0.043684   \n",
      "1980                             NaN              0.084277   \n",
      "1982                             NaN              0.080054   \n",
      "1983                             NaN              0.023933   \n",
      "1984                             NaN              0.056670   \n",
      "1985                             NaN              0.069616   \n",
      "1986                             NaN                   NaN   \n",
      "1987                             NaN              0.035022   \n",
      "1988                             NaN              0.068665   \n",
      "1989                             NaN              0.073710   \n",
      "1990                             NaN              0.009358   \n",
      "1991                             NaN              0.032577   \n",
      "1993                             NaN              0.133997   \n",
      "1994                             NaN              0.092589   \n",
      "1996                             NaN              0.049753   \n",
      "1998                             NaN              0.059833   \n",
      "2000                             NaN              0.050327   \n",
      "2002                             NaN              0.008741   \n",
      "2004                             NaN              0.110566   \n",
      "2006                             NaN              0.117843   \n",
      "2008                             NaN              0.020611   \n",
      "2010                             NaN              0.062446   \n",
      "2012                             NaN              0.009882   \n",
      "2014                             NaN              0.064770   \n",
      "2016                             NaN              0.105314   \n",
      "2018                             NaN              0.136948   \n",
      "2019                        0.121781                   NaN   \n",
      "2020                        0.114662                   NaN   \n",
      "2021                        0.114244                   NaN   \n",
      "2022                        0.117091                   NaN   \n",
      "2023                        0.121352                   NaN   \n",
      "2024                        0.126201                   NaN   \n",
      "\n",
      "      abortion Predicted never  abortion never  \n",
      "1972                       NaN        0.005117  \n",
      "1973                       NaN        0.007016  \n",
      "1974                       NaN        0.000581  \n",
      "1975                       NaN        0.018584  \n",
      "1976                       NaN        0.007563  \n",
      "1977                       NaN        0.004218  \n",
      "1978                       NaN        0.027438  \n",
      "1980                       NaN        0.015639  \n",
      "1982                       NaN        0.003497  \n",
      "1983                       NaN        0.023191  \n",
      "1984                       NaN        0.016243  \n",
      "1985                       NaN        0.019683  \n",
      "1986                       NaN             NaN  \n",
      "1987                       NaN        0.057190  \n",
      "1988                       NaN        0.013207  \n",
      "1989                       NaN        0.044892  \n",
      "1990                       NaN        0.017143  \n",
      "1991                       NaN        0.039380  \n",
      "1993                       NaN        0.040195  \n",
      "1994                       NaN        0.006498  \n",
      "1996                       NaN        0.033539  \n",
      "1998                       NaN        0.009466  \n",
      "2000                       NaN        0.024234  \n",
      "2002                       NaN        0.026101  \n",
      "2004                       NaN        0.057029  \n",
      "2006                       NaN        0.042760  \n",
      "2008                       NaN        0.049771  \n",
      "2010                       NaN        0.026364  \n",
      "2012                       NaN        0.070360  \n",
      "2014                       NaN        0.089400  \n",
      "2016                       NaN        0.057171  \n",
      "2018                       NaN        0.045698  \n",
      "2019                  0.057729             NaN  \n",
      "2020                  0.058446             NaN  \n",
      "2021                  0.060258             NaN  \n",
      "2022                  0.062071             NaN  \n",
      "2023                  0.063885             NaN  \n",
      "2024                  0.065699             NaN  \n"
     ]
    },
    {
     "data": {
      "image/png": "[encoded data removed]",
      "text/plain": [
       "<Figure size 576x1728 with 3 Axes>"
      ]
     },
     "metadata": {},
     "output_type": "display_data"
    }
   ],
   "source": [
    "(rep_ts, dem_ts, ind_ts) = party_splits(abortion,['unrestricted', \n",
    "                                                  'conditional', \n",
    "                                                  'never'])\n",
    "save('abortion', split='overall')"
   ]
  },
  {
   "cell_type": "markdown",
   "metadata": {},
   "source": [
    "It appears that the major driver of the change I saw before is the democratic party, with some influence from independents. Interestingly, although we saw no change in the never stance overall, it appears that Republicans and independents are increasingly in favor of a complete ban."
   ]
  },
  {
   "cell_type": "markdown",
   "metadata": {},
   "source": [
    "Within Party"
   ]
  },
  {
   "cell_type": "code",
   "execution_count": null,
   "metadata": {
    "scrolled": false
   },
   "outputs": [],
   "source": [
    "(str_rep, mid_rep, ln_rep, \n",
    " str_dem, mid_dem, ln_dem, \n",
    " oth, ind) = party_splits(abortion, ['unrestricted', \n",
    "                                     'conditional', \n",
    "                                     'never'], split = 'within party')\n",
    "save('abortion', split='within')"
   ]
  },
  {
   "cell_type": "markdown",
   "metadata": {},
   "source": [
    "It appears that access to abortion is increasingly a part of party identity. As we can see, the gap in beliefs about access to abortion has been increasing, with Democrats more likely to support unrestricted access, Republicans most likely to support conditions on access, and banning access altogether. "
   ]
  },
  {
   "cell_type": "markdown",
   "metadata": {},
   "source": [
    "<hr style=\"border:3px solid gray\"> </hr>\n",
    "\n",
    "## Criminal Justice Attitudes\n",
    "\n",
    "<hr style=\"border:3px solid gray\"> </hr>\n",
    "\n",
    "#### Clean"
   ]
  },
  {
   "cell_type": "code",
   "execution_count": null,
   "metadata": {},
   "outputs": [],
   "source": [
    "crim_justice = unzip('Criminal_Justice')\n",
    "crim_justice.columns"
   ]
  },
  {
   "cell_type": "code",
   "execution_count": null,
   "metadata": {
    "scrolled": true
   },
   "outputs": [],
   "source": [
    "(crim_justice[crim_justice['Ever approve of police striking citizen']=='Yes']\n",
    " ['Citizen attacking policeman with fists'].value_counts())"
   ]
  },
  {
   "cell_type": "markdown",
   "metadata": {},
   "source": [
    "The police striking citizens columns lack information on how the police response is defined, and will likely be difficult to interpret given the nature of this analysis. Unfortunately I will have to drop them. "
   ]
  },
  {
   "cell_type": "code",
   "execution_count": null,
   "metadata": {
    "scrolled": true
   },
   "outputs": [],
   "source": [
    "crim_justice.drop(['Citizen attacking policeman with fists', \n",
    "                   'Citizen attempting to escape custody', \n",
    "                   'Citizen questioned as murder suspect', \n",
    "                   'Citizen said vulgar or obscene things', \n",
    "                   'Ever approve of police striking citizen'], axis = 1, inplace = True)\n",
    "crim_justice.rename(columns = {'Should marijuana be made legal': 'legalize_marijuana',\n",
    "                             'Courts dealing with criminals': 'sentencing',\n",
    "                             'Favor or oppose death penalty for murder': 'death_penalty', \n",
    "                             'Afraid to walk at night in neighborhood': 'fear'}, inplace=True)\n",
    "crim_justice = weight(crim_justice)"
   ]
  },
  {
   "cell_type": "markdown",
   "metadata": {},
   "source": [
    "<hr style=\"border:2px solid gray\"> </hr>\n",
    "\n",
    "### Legalization of Marijuana\n",
    "#### EDA"
   ]
  },
  {
   "cell_type": "code",
   "execution_count": null,
   "metadata": {
    "scrolled": true
   },
   "outputs": [],
   "source": [
    "crim_justice['legalize_marijuana'].unique()"
   ]
  },
  {
   "cell_type": "code",
   "execution_count": null,
   "metadata": {
    "scrolled": true
   },
   "outputs": [],
   "source": [
    "marijuana = crim_justice[['year', 'legalize_marijuana']]\n",
    "marijuana_percentages = create_ts(marijuana, ['Legal', 'Not legal'])\n",
    "marijuana_percentages.set_index('year').plot();"
   ]
  },
  {
   "cell_type": "markdown",
   "metadata": {},
   "source": [
    "Clearly, attitudes about legalization of marijuana have shifted from prohibition to legalization."
   ]
  },
  {
   "cell_type": "markdown",
   "metadata": {},
   "source": [
    "#### Time Series Forecasts\n",
    "Overall by Party"
   ]
  },
  {
   "cell_type": "code",
   "execution_count": null,
   "metadata": {},
   "outputs": [],
   "source": [
    "rep_ts, dem_ts, ind_ts = party_splits(marijuana, ['Legal',\n",
    "                                                     'Not legal'])\n",
    "save('crim_justice/marijuana', split='overall')"
   ]
  },
  {
   "cell_type": "markdown",
   "metadata": {},
   "source": [
    "Clearly, attitudes about the legalization of marijuana have changed in favor of legalization, with Democrats leading the way. "
   ]
  },
  {
   "cell_type": "markdown",
   "metadata": {},
   "source": [
    "Within Party"
   ]
  },
  {
   "cell_type": "code",
   "execution_count": null,
   "metadata": {},
   "outputs": [],
   "source": [
    "(str_rep, mid_rep, ln_rep, \n",
    " str_dem, mid_dem, ln_dem, \n",
    " oth, ind) = party_splits(marijuana, ['Legal', \n",
    "                                     'Not legal'], split = 'within party')\n",
    "save('crim_justice/marijuana', split='within')"
   ]
  },
  {
   "cell_type": "markdown",
   "metadata": {},
   "source": [
    "<hr style=\"border:2px solid gray\"> </hr>\n",
    "\n",
    "### Criminal Sentencing\n",
    "#### EDA"
   ]
  },
  {
   "cell_type": "code",
   "execution_count": null,
   "metadata": {},
   "outputs": [],
   "source": [
    "crim_justice['sentencing'].unique()"
   ]
  },
  {
   "cell_type": "code",
   "execution_count": null,
   "metadata": {
    "scrolled": true
   },
   "outputs": [],
   "source": [
    "sentencing = crim_justice[['year', 'sentencing']]\n",
    "sentencing_percentages = create_ts(sentencing, ['About right', \n",
    "                                                'Not harsh enough', \n",
    "                                                'Too harsh'])\n",
    "sentencing_percentages.set_index('year').plot();"
   ]
  },
  {
   "cell_type": "markdown",
   "metadata": {},
   "source": [
    "#### Time Series Forecasts\n",
    "Overall by Party"
   ]
  },
  {
   "cell_type": "code",
   "execution_count": null,
   "metadata": {},
   "outputs": [],
   "source": [
    "rep_ts, dem_ts, ind_ts = party_splits(sentencing, ['About right',\n",
    "                                                   'Not harsh enough', \n",
    "                                                   'Too harsh'])\n",
    "save('crim_justice/sentencing', split= 'overall')"
   ]
  },
  {
   "cell_type": "markdown",
   "metadata": {},
   "source": [
    "Over time attitudes about sentencing are changing. They are changing more quickly amongst independents and democrats. In addition, while more democrats are saying that it is too harsh, repuclicans are more likely to say that sentencing is about right."
   ]
  },
  {
   "cell_type": "markdown",
   "metadata": {},
   "source": [
    "Within Party"
   ]
  },
  {
   "cell_type": "code",
   "execution_count": null,
   "metadata": {},
   "outputs": [],
   "source": [
    "(str_rep, mid_rep, ln_rep, \n",
    " str_dem, mid_dem, ln_dem, \n",
    " oth, ind) = party_splits(sentencing, ['About right',\n",
    "                                       'Not harsh enough', \n",
    "                                       'Too harsh'], split='within party')\n",
    "save('crim_justice/sentencing', split='within')"
   ]
  },
  {
   "cell_type": "markdown",
   "metadata": {},
   "source": [
    "<hr style=\"border:3px solid gray\"> </hr>\n",
    "\n",
    "### Death Penalty\n",
    "#### EDA"
   ]
  },
  {
   "cell_type": "code",
   "execution_count": null,
   "metadata": {},
   "outputs": [],
   "source": [
    "crim_justice['death_penalty'].unique()"
   ]
  },
  {
   "cell_type": "code",
   "execution_count": null,
   "metadata": {},
   "outputs": [],
   "source": [
    "death_penalty = crim_justice[['year', 'death_penalty']]\n",
    "death_penalty_percentages = create_ts(death_penalty, ['Favor',\n",
    "                                                      'Oppose'])\n",
    "death_penalty_percentages.set_index('year').plot();\n",
    "death_penalty_preds = store_predictions(death_penalty_percentages)"
   ]
  },
  {
   "cell_type": "code",
   "execution_count": null,
   "metadata": {},
   "outputs": [],
   "source": [
    "death_penalty_preds.to_excel('data/predictions/crim_justice/death_penalty/USpop.xlsx')"
   ]
  },
  {
   "cell_type": "markdown",
   "metadata": {},
   "source": [
    "#### Time Series Forecasts\n",
    "Overall by Party"
   ]
  },
  {
   "cell_type": "code",
   "execution_count": null,
   "metadata": {
    "scrolled": true
   },
   "outputs": [],
   "source": [
    "rep_ts, dem_ts, ind_ts = party_splits(death_penalty, ['Favor',\n",
    "                                                      'Oppose'])\n",
    "save('crim_justice/death_penalty', split='overall')"
   ]
  },
  {
   "cell_type": "markdown",
   "metadata": {},
   "source": [
    "Within Party"
   ]
  },
  {
   "cell_type": "code",
   "execution_count": null,
   "metadata": {
    "scrolled": false
   },
   "outputs": [],
   "source": [
    "(str_rep, mid_rep, ln_rep, \n",
    " str_dem, mid_dem, ln_dem, \n",
    " oth, ind) = party_splits(death_penalty, ['Favor',\n",
    "                                          'Oppose'], split='within party')\n",
    "save('crim_justice/death_penalty', split='within')"
   ]
  },
  {
   "cell_type": "markdown",
   "metadata": {},
   "source": [
    "<hr style=\"border:3px solid gray\"> </hr>\n",
    "\n",
    "## Gender and Sexuality\n",
    "\n",
    "<hr style=\"border:3px solid gray\"> </hr>\n",
    "\n",
    "#### Cleaning "
   ]
  },
  {
   "cell_type": "code",
   "execution_count": null,
   "metadata": {},
   "outputs": [],
   "source": [
    "gender = unzip('Gender_and_Sexuality')\n",
    "gender.columns"
   ]
  },
  {
   "cell_type": "code",
   "execution_count": null,
   "metadata": {},
   "outputs": [],
   "source": [
    "gender.drop(['Should hire and promote women                            ', \n",
    "             'For or against preferential hiring of women      ', \n",
    "             'Better for man to work, woman tend home', 'Preschool kids suffer if mother works',\n",
    "             'Sex before marriage -- teens 14-16', 'Birth control to teenagers 14-16'], \n",
    "            axis = 1, inplace = True)\n",
    "gender.rename(columns ={'Sex before marriage':'sex_before_marr',\n",
    "                        'Divorce laws': 'divorce', \n",
    "                        'Sex education in public schools':'sex_ed',\n",
    "                        'Women not suited for politics': 'no_women_pol',\n",
    "                        'Homosexuals should have right to marry':'gay_marr'}, inplace=True)\n",
    "gender = weight(gender)"
   ]
  },
  {
   "cell_type": "markdown",
   "metadata": {},
   "source": [
    "<hr style=\"border:2px solid gray\"> </hr>\n",
    "\n",
    "### Divorce Laws\n",
    "#### EDA"
   ]
  },
  {
   "cell_type": "code",
   "execution_count": null,
   "metadata": {},
   "outputs": [],
   "source": [
    "gender['divorce'].unique()"
   ]
  },
  {
   "cell_type": "code",
   "execution_count": null,
   "metadata": {},
   "outputs": [],
   "source": [
    "divorce = gender[['year', 'divorce']]\n",
    "divorce_percentages = create_ts(divorce, ['More difficult',\n",
    "                                        'Stay same','Easier'])\n",
    "divorce_percentages.set_index('year').plot();"
   ]
  },
  {
   "cell_type": "markdown",
   "metadata": {},
   "source": [
    "#### Time Series Forecasts\n",
    "Overall by party"
   ]
  },
  {
   "cell_type": "code",
   "execution_count": null,
   "metadata": {
    "scrolled": true
   },
   "outputs": [],
   "source": [
    "rep_ts, dem_ts, ind_ts = party_splits(divorce, ['More difficult',\n",
    "                                        'Stay same','Easier'])\n",
    "save('gender/divorce', split='overall')"
   ]
  },
  {
   "cell_type": "markdown",
   "metadata": {},
   "source": [
    "Within Party"
   ]
  },
  {
   "cell_type": "code",
   "execution_count": null,
   "metadata": {
    "scrolled": false
   },
   "outputs": [],
   "source": [
    "(str_rep, mid_rep, ln_rep, \n",
    " str_dem, mid_dem, ln_dem, \n",
    " oth, ind) = party_splits(divorce, ['More difficult',\n",
    "                                        'Stay same','Easier'], split='within party')\n",
    "save('gender/divorce', split='within')"
   ]
  },
  {
   "cell_type": "markdown",
   "metadata": {},
   "source": [
    "<hr style=\"border:2px solid gray\"> </hr>\n",
    "\n",
    "### Gay Marriage\n",
    "#### EDA"
   ]
  },
  {
   "cell_type": "code",
   "execution_count": null,
   "metadata": {},
   "outputs": [],
   "source": [
    "gender.loc[(gender['gay_marr']=='Neither agree nor disagree')|\n",
    "           (gender['gay_marr']=='Cant choose'), 'gay_marr']= 'undecided'\n",
    "gender['gay_marr'].unique()"
   ]
  },
  {
   "cell_type": "code",
   "execution_count": null,
   "metadata": {
    "scrolled": true
   },
   "outputs": [],
   "source": [
    "gay_marr = gender[['year', 'gay_marr']]\n",
    "gay_marr_percentages = create_ts(gay_marr, ['Strongly disagree',\n",
    "                                            'undecided',\n",
    "                                            'Disagree',\n",
    "                                            'Agree',\n",
    "                                            'Strongly agree'])\n",
    "gay_marr_percentages.set_index('year').plot();"
   ]
  },
  {
   "cell_type": "markdown",
   "metadata": {},
   "source": [
    "#### Time Series Forecasts\n",
    "Overall by Party"
   ]
  },
  {
   "cell_type": "code",
   "execution_count": null,
   "metadata": {
    "scrolled": true
   },
   "outputs": [],
   "source": [
    "rep_ts, dem_ts, ind_ts = party_splits(gay_marr, ['Strongly disagree', \n",
    "                                                 'undecided',\n",
    "                                                 'Disagree',\n",
    "                                                 'Agree', \n",
    "                                                 'Strongly agree'])\n",
    "save('gender/gay_marr', split='overall')"
   ]
  },
  {
   "cell_type": "markdown",
   "metadata": {},
   "source": [
    "Within Party"
   ]
  },
  {
   "cell_type": "code",
   "execution_count": null,
   "metadata": {
    "scrolled": false
   },
   "outputs": [],
   "source": [
    "(str_rep, mid_rep, ln_rep, \n",
    " str_dem, mid_dem, ln_dem, \n",
    " oth, ind) = party_splits(gay_marr, ['Strongly disagree', \n",
    "                                     'undecided',\n",
    "                                     'Disagree',\n",
    "                                     'Agree', \n",
    "                                     'Strongly agree'], split='within party')\n",
    "save('gender/gay_marr', split='within')"
   ]
  },
  {
   "cell_type": "markdown",
   "metadata": {},
   "source": [
    "<hr style=\"border:3px solid gray\"> </hr>\n",
    "\n",
    "## Race Relations\n",
    "\n",
    "<hr style=\"border:3px solid gray\"> </hr>\n",
    "\n",
    "#### Cleaning"
   ]
  },
  {
   "cell_type": "code",
   "execution_count": null,
   "metadata": {},
   "outputs": [],
   "source": [
    "race = unzip('Race_Relations')\n",
    "race.columns"
   ]
  },
  {
   "cell_type": "markdown",
   "metadata": {},
   "source": [
    "Because of the ways in which these variables were coded, many of them are either redundant with other questions, or difficult to gain meaningful information from.  "
   ]
  },
  {
   "cell_type": "code",
   "execution_count": null,
   "metadata": {},
   "outputs": [],
   "source": [
    "race.drop(['Hard working - lazy', 'Hard working - lazy.1', \n",
    "           'Rich - poor', 'Rich - poor.1', 'Blacks overcome prejudice without favors ',\n",
    "           'Any opp. race in neighborhood', 'Favor law against racial intermarriage', \n",
    "           'Improving the conditions of blacks'], axis = 1, inplace = True)\n",
    "race.loc[race['Should govt aid blacks?']=='Agree with both', 'Should govt aid blacks?']= 'no opinion'\n",
    "race.loc[race['Should govt aid blacks?']=='No special treatment', 'Should govt aid blacks?']= 'strongly oppose'\n",
    "race.loc[race['Should govt aid blacks?']== 4, 'Should govt aid blacks?']= 'oppose'\n",
    "race.loc[race['Should govt aid blacks?']=='Govt help blks', 'Should govt aid blacks?']= 'strongly favor'\n",
    "race.loc[race['Should govt aid blacks?']== 2, 'Should govt aid blacks?']= 'favor'\n",
    "race.loc[race['Should govt aid blacks?']==\"Don't know\", 'Should govt aid blacks?']= 'no opinion'\n",
    "race.loc[race['Should govt aid blacks?']==\"No answer\", 'Should govt aid blacks?']= 'no opinion'\n",
    "race = weight(race)\n",
    "race.columns"
   ]
  },
  {
   "cell_type": "code",
   "execution_count": null,
   "metadata": {},
   "outputs": [],
   "source": [
    "race.rename(columns ={'Whites hurt by aff. action':'aff_action_hurts_whites',\n",
    "                      'Should govt aid blacks?': 'aid_blacks', \n",
    "                      'Differences due to lack of will':'willpower',\n",
    "                      'Differences due to lack of education': 'education',\n",
    "                      'Differences due to inborn disability':'inborn',\n",
    "                      'Differences due to discrimination':'discrimination',\n",
    "                      'Favor preference in hiring blacks':'aff_action',\n",
    "                      'Number of immigrants nowadays should be':'immigration'}, inplace=True)"
   ]
  },
  {
   "cell_type": "markdown",
   "metadata": {},
   "source": [
    "<hr style=\"border:2px solid gray\"> </hr>\n",
    "\n",
    "### Differences in Status are due to lack of will\n",
    "#### EDA"
   ]
  },
  {
   "cell_type": "code",
   "execution_count": null,
   "metadata": {},
   "outputs": [],
   "source": [
    "race['willpower'].unique()"
   ]
  },
  {
   "cell_type": "code",
   "execution_count": null,
   "metadata": {},
   "outputs": [],
   "source": [
    "willpower = race[['year', 'willpower']]\n",
    "willpower_percentages = create_ts(willpower, ['Yes',\n",
    "                                              'No'])\n",
    "willpower_percentages.set_index('year').plot();"
   ]
  },
  {
   "cell_type": "markdown",
   "metadata": {},
   "source": [
    "#### Time Series Forecasts\n",
    "Overall by party"
   ]
  },
  {
   "cell_type": "code",
   "execution_count": null,
   "metadata": {},
   "outputs": [],
   "source": [
    "rep_ts, dem_ts, ind_ts = party_splits(willpower, ['Yes',\n",
    "                                                  'No'])\n",
    "save('inequality/willpower', split='overall')"
   ]
  },
  {
   "cell_type": "markdown",
   "metadata": {},
   "source": [
    "Within Party"
   ]
  },
  {
   "cell_type": "code",
   "execution_count": null,
   "metadata": {},
   "outputs": [],
   "source": [
    "(str_rep, mid_rep, ln_rep, \n",
    " str_dem, mid_dem, ln_dem, \n",
    " oth, ind) = party_splits(willpower, ['Yes',\n",
    "                                            'No'], split='within party')\n",
    "save('inequality/willpower', split='within')"
   ]
  },
  {
   "cell_type": "markdown",
   "metadata": {},
   "source": [
    "<hr style=\"border:2px solid gray\"> </hr>\n",
    "\n",
    "### Differences in Status are due to lack of education\n",
    "#### EDA"
   ]
  },
  {
   "cell_type": "code",
   "execution_count": null,
   "metadata": {},
   "outputs": [],
   "source": [
    "race['education'].unique()"
   ]
  },
  {
   "cell_type": "code",
   "execution_count": null,
   "metadata": {},
   "outputs": [],
   "source": [
    "education = race[['year', 'education']]\n",
    "education_percentages = create_ts(education, ['Yes',\n",
    "                                              'No'])\n",
    "education_percentages.set_index('year').plot();"
   ]
  },
  {
   "cell_type": "markdown",
   "metadata": {},
   "source": [
    "#### Time Series Forecasts\n",
    "Overall by party"
   ]
  },
  {
   "cell_type": "code",
   "execution_count": null,
   "metadata": {},
   "outputs": [],
   "source": [
    "rep_ts, dem_ts, ind_ts = party_splits(education, ['Yes',\n",
    "                                                  'No'])\n",
    "save('inequality/education', split='overall')"
   ]
  },
  {
   "cell_type": "markdown",
   "metadata": {},
   "source": [
    "Within Party"
   ]
  },
  {
   "cell_type": "code",
   "execution_count": null,
   "metadata": {},
   "outputs": [],
   "source": [
    "(str_rep, mid_rep, ln_rep, \n",
    " str_dem, mid_dem, ln_dem, \n",
    " oth, ind) = party_splits(education, ['Yes',\n",
    "                                      'No'], split='within party')\n",
    "save('inequality/education', split='within')"
   ]
  },
  {
   "cell_type": "markdown",
   "metadata": {},
   "source": [
    "<hr style=\"border:2px solid gray\"> </hr>\n",
    "\n",
    "### Differences in Status are due to 'inborn disability'\n",
    "#### EDA"
   ]
  },
  {
   "cell_type": "code",
   "execution_count": null,
   "metadata": {},
   "outputs": [],
   "source": [
    "race['inborn'].unique()"
   ]
  },
  {
   "cell_type": "code",
   "execution_count": null,
   "metadata": {},
   "outputs": [],
   "source": [
    "inborn = race[['year', 'inborn']]\n",
    "inborn_percentages = create_ts(inborn, ['YES',\n",
    "                                        'NO'])\n",
    "inborn_percentages.set_index('year').plot();"
   ]
  },
  {
   "cell_type": "markdown",
   "metadata": {},
   "source": [
    "#### Time Series Forecasts\n",
    "Overall by party"
   ]
  },
  {
   "cell_type": "code",
   "execution_count": null,
   "metadata": {},
   "outputs": [],
   "source": [
    "rep_ts, dem_ts, ind_ts = party_splits(inborn, ['YES',\n",
    "                                               'NO'])\n",
    "save('inequality/inborn', split='overall')"
   ]
  },
  {
   "cell_type": "markdown",
   "metadata": {},
   "source": [
    "Within Party"
   ]
  },
  {
   "cell_type": "code",
   "execution_count": null,
   "metadata": {},
   "outputs": [],
   "source": [
    "(str_rep, mid_rep, ln_rep, \n",
    " str_dem, mid_dem, ln_dem, \n",
    " oth, ind) = party_splits(inborn, ['YES',\n",
    "                                   'NO'], split='within party')\n",
    "save('inequality/inborn', split='within')"
   ]
  },
  {
   "cell_type": "markdown",
   "metadata": {},
   "source": [
    "<hr style=\"border:2px solid gray\"> </hr>\n",
    "\n",
    "### Differences in Status are due to discrimination\n",
    "#### EDA"
   ]
  },
  {
   "cell_type": "code",
   "execution_count": null,
   "metadata": {},
   "outputs": [],
   "source": [
    "race['discrimination'].unique()"
   ]
  },
  {
   "cell_type": "code",
   "execution_count": null,
   "metadata": {},
   "outputs": [],
   "source": [
    "discrimination = race[['year', 'discrimination']]\n",
    "discrimination_percentages = create_ts(discrimination, ['Yes',\n",
    "                                                        'No'])\n",
    "discrimination_percentages.set_index('year').plot();"
   ]
  },
  {
   "cell_type": "markdown",
   "metadata": {},
   "source": [
    "#### Time Series Forecasts\n",
    "Overall by party"
   ]
  },
  {
   "cell_type": "code",
   "execution_count": null,
   "metadata": {},
   "outputs": [],
   "source": [
    "rep_ts, dem_ts, ind_ts = party_splits(discrimination, ['Yes',\n",
    "                                                       'No'])\n",
    "save('inequality/discrimination', split='overall')"
   ]
  },
  {
   "cell_type": "markdown",
   "metadata": {},
   "source": [
    "Within Party"
   ]
  },
  {
   "cell_type": "code",
   "execution_count": null,
   "metadata": {},
   "outputs": [],
   "source": [
    "(str_rep, mid_rep, ln_rep, \n",
    " str_dem, mid_dem, ln_dem, \n",
    " oth, ind) = party_splits(discrimination, ['Yes',\n",
    "                                           'No'], split='within party')\n",
    "save('inequality/discrimination', split='within')"
   ]
  },
  {
   "cell_type": "markdown",
   "metadata": {},
   "source": [
    "<hr style=\"border:2px solid gray\"> </hr>\n",
    "\n",
    "### Are whites hurt by affirmative action?\n",
    "#### EDA"
   ]
  },
  {
   "cell_type": "code",
   "execution_count": null,
   "metadata": {},
   "outputs": [],
   "source": [
    "race['aff_action_hurts_whites'].unique()"
   ]
  },
  {
   "cell_type": "code",
   "execution_count": null,
   "metadata": {},
   "outputs": [],
   "source": [
    "aff_act_hrt_wht = race[['year', 'aff_action_hurts_whites']]\n",
    "aff_act_hrt_wht_percentages = create_ts(aff_act_hrt_wht, ['Somewhat likely',\n",
    "                                                          'Very likely',\n",
    "                                                          'Not very likely'])\n",
    "aff_act_hrt_wht_percentages.set_index('year').plot();"
   ]
  },
  {
   "cell_type": "markdown",
   "metadata": {},
   "source": [
    "#### Time Series Forecasts\n",
    "Overall by Party"
   ]
  },
  {
   "cell_type": "code",
   "execution_count": null,
   "metadata": {
    "scrolled": true
   },
   "outputs": [],
   "source": [
    "rep_ts, dem_ts, ind_ts = party_splits(aff_act_hrt_wht, ['Somewhat likely',\n",
    "                                                        'Very likely',\n",
    "                                                        'Not very likely'])\n",
    "save('race/aff_act_hrt_wht', split='overall')"
   ]
  },
  {
   "cell_type": "markdown",
   "metadata": {},
   "source": [
    "Within Party"
   ]
  },
  {
   "cell_type": "code",
   "execution_count": null,
   "metadata": {},
   "outputs": [],
   "source": [
    "(str_rep, mid_rep, ln_rep, \n",
    " str_dem, mid_dem, ln_dem, \n",
    " oth, ind) = party_splits(aff_act_hrt_wht, ['Somewhat likely',\n",
    "                                            'Very likely',\n",
    "                                            'Not very likely'], split='within party')\n",
    "save('race/aff_act_hrt_wht', split='within')"
   ]
  },
  {
   "cell_type": "markdown",
   "metadata": {},
   "source": [
    "<hr style=\"border:2px solid gray\"> </hr>\n",
    "\n",
    "### Should the Government provide aid to black people?\n",
    "#### EDA"
   ]
  },
  {
   "cell_type": "code",
   "execution_count": null,
   "metadata": {},
   "outputs": [],
   "source": [
    "race['aid_blacks'].unique()"
   ]
  },
  {
   "cell_type": "code",
   "execution_count": null,
   "metadata": {},
   "outputs": [],
   "source": [
    "race.loc[race['aid_blacks']== '2', 'aid_blacks']='favor'\n",
    "race.loc[race['aid_blacks']=='4', 'aid_blacks']='oppose'"
   ]
  },
  {
   "cell_type": "code",
   "execution_count": null,
   "metadata": {
    "scrolled": true
   },
   "outputs": [],
   "source": [
    "aid_blacks = race[['year', 'aid_blacks']]\n",
    "aid_blacks_percentages = create_ts(aid_blacks, ['no opinion',\n",
    "                                                'strongly oppose',\n",
    "                                                'strongly favor',\n",
    "                                                'favor', \n",
    "                                                'oppose'])\n",
    "aid_blacks_percentages.set_index('year').plot();"
   ]
  },
  {
   "cell_type": "markdown",
   "metadata": {},
   "source": [
    "#### Time Series Forecasts\n",
    "Overall by Party"
   ]
  },
  {
   "cell_type": "code",
   "execution_count": null,
   "metadata": {},
   "outputs": [],
   "source": [
    "rep_ts, dem_ts, ind_ts = party_splits(aid_blacks, ['no opinion',\n",
    "                                                   'strongly oppose',\n",
    "                                                   'strongly favor',\n",
    "                                                   'favor', \n",
    "                                                   'oppose'])\n",
    "save('race/aid_blacks', split='overall')"
   ]
  },
  {
   "cell_type": "markdown",
   "metadata": {},
   "source": [
    "Within Party"
   ]
  },
  {
   "cell_type": "code",
   "execution_count": null,
   "metadata": {
    "scrolled": false
   },
   "outputs": [],
   "source": [
    "(str_rep, mid_rep, ln_rep, \n",
    " str_dem, mid_dem, ln_dem, \n",
    " oth, ind) = party_splits(aid_blacks, ['no opinion',\n",
    "                                       'strongly oppose',\n",
    "                                       'strongly favor',\n",
    "                                       'favor', \n",
    "                                       'oppose'], split='within party')\n",
    "save('race/aid_blacks', split='within')"
   ]
  },
  {
   "cell_type": "markdown",
   "metadata": {},
   "source": [
    "<hr style=\"border:2px solid gray\"> </hr>\n",
    "\n",
    "### Support for Preferential Hiring of black people\n",
    "#### EDA "
   ]
  },
  {
   "cell_type": "code",
   "execution_count": null,
   "metadata": {},
   "outputs": [],
   "source": [
    "race['aff_action'].unique()"
   ]
  },
  {
   "cell_type": "code",
   "execution_count": null,
   "metadata": {},
   "outputs": [],
   "source": [
    "aff_action = race[['year', 'aff_action']]\n",
    "aff_action_percentages = create_ts(aff_action, ['Strongly support pref',\n",
    "                                                'Strongly oppose pref',\n",
    "                                                'Support pref',\n",
    "                                                'Oppose pref'])\n",
    "aff_action_percentages.set_index('year').plot();"
   ]
  },
  {
   "cell_type": "markdown",
   "metadata": {},
   "source": [
    "#### Time Series Forecasts\n",
    "Overall by party"
   ]
  },
  {
   "cell_type": "code",
   "execution_count": null,
   "metadata": {},
   "outputs": [],
   "source": [
    "rep_ts, dem_ts, ind_ts = party_splits(aff_action, ['Strongly support pref',\n",
    "                                                   'Strongly oppose pref',\n",
    "                                                   'Support pref',\n",
    "                                                   'Oppose pref'])\n",
    "save('race/aff_action', split='overall')"
   ]
  },
  {
   "cell_type": "markdown",
   "metadata": {},
   "source": [
    "Within Party"
   ]
  },
  {
   "cell_type": "code",
   "execution_count": null,
   "metadata": {},
   "outputs": [],
   "source": [
    "(str_rep, mid_rep, ln_rep, \n",
    " str_dem, mid_dem, ln_dem, \n",
    " oth, ind) = party_splits(aff_action, ['Strongly support pref',\n",
    "                                       'Strongly oppose pref',\n",
    "                                       'Support pref',\n",
    "                                       'Oppose pref'], split='within party')\n",
    "save('race/aff_action', split='within')"
   ]
  },
  {
   "cell_type": "markdown",
   "metadata": {},
   "source": [
    "<hr style=\"border:2px solid gray\"> </hr>\n",
    "\n",
    "### Immigration Numbers\n",
    "#### EDA "
   ]
  },
  {
   "cell_type": "code",
   "execution_count": null,
   "metadata": {},
   "outputs": [],
   "source": [
    "race['immigration'].unique()"
   ]
  },
  {
   "cell_type": "code",
   "execution_count": null,
   "metadata": {},
   "outputs": [],
   "source": [
    "immigration = race[['year', 'immigration']]\n",
    "immigration_percentages = create_ts(immigration, ['Increased a lot',\n",
    "                                                  'Remain the same as it is',\n",
    "                                                  'Reduced a lot, or',\n",
    "                                                  'Reduced a little',\n",
    "                                                  'Increased a little'])\n",
    "immigration_percentages.set_index('year').plot();"
   ]
  },
  {
   "cell_type": "markdown",
   "metadata": {},
   "source": [
    "#### Time Series Forecasts\n",
    "Overall by party"
   ]
  },
  {
   "cell_type": "code",
   "execution_count": null,
   "metadata": {},
   "outputs": [],
   "source": [
    "rep_ts, dem_ts, ind_ts = party_splits(immigration, ['Increased a lot',\n",
    "                                                    'Remain the same as it is',\n",
    "                                                    'Reduced a lot, or',\n",
    "                                                    'Reduced a little',\n",
    "                                                    'Increased a little'])\n",
    "save('race/immigration', split='overall')"
   ]
  },
  {
   "cell_type": "markdown",
   "metadata": {},
   "source": [
    "Within Party"
   ]
  },
  {
   "cell_type": "code",
   "execution_count": null,
   "metadata": {},
   "outputs": [],
   "source": [
    "(str_rep, mid_rep, ln_rep, \n",
    " str_dem, mid_dem, ln_dem, \n",
    " oth, ind) = party_splits(immigration, ['Increased a lot',\n",
    "                                        'Remain the same as it is',\n",
    "                                        'Reduced a lot, or',\n",
    "                                        'Reduced a little',\n",
    "                                        'Increased a little'], split='within party')\n",
    "save('race/immigration', split='within')"
   ]
  },
  {
   "cell_type": "markdown",
   "metadata": {},
   "source": [
    "<hr style=\"border:3px solid gray\"> </hr>\n",
    "\n",
    "## Government Spending\n",
    "\n",
    "<hr style=\"border:3px solid gray\"> </hr>\n",
    "\n",
    "#### Cleaning"
   ]
  },
  {
   "cell_type": "code",
   "execution_count": null,
   "metadata": {
    "scrolled": true
   },
   "outputs": [],
   "source": [
    "spending = unzip('Opinions')\n",
    "spending.columns"
   ]
  },
  {
   "cell_type": "code",
   "execution_count": null,
   "metadata": {},
   "outputs": [],
   "source": [
    "spending.rename(columns ={'Foreign aid':'foreign_aid',\n",
    "                          'Welfare': 'welfare', \n",
    "                          'Highways and bridges':'infastructure',\n",
    "                          'Social security': 'social_sec',\n",
    "                          'Mass transportation':'mass_transit',\n",
    "                          'Parks and recreation':'parks_rec',\n",
    "                          'Assistance for childcare':'childcare',\n",
    "                          'Supporting scientific research        ':'research',\n",
    "                          'Military, armaments, and defense':'military',\n",
    "                          'Improving the conditions of blacks':'inequality',\n",
    "                          'Space exploration program':'space_explore',\n",
    "                          'Improving & protecting environment':'environment',\n",
    "                          'Improving & protecting nations health':'healthcare',\n",
    "                          'Solving problems of big cities':'urban',\n",
    "                          'Halting rising crime rate':'crime',\n",
    "                          'Dealing with drug addiction':'addiction',\n",
    "                          'Improving nations education system':'education',\n",
    "                          'Developing alternative energy sources':'alt_energy'}, inplace=True)"
   ]
  },
  {
   "cell_type": "code",
   "execution_count": null,
   "metadata": {},
   "outputs": [],
   "source": [
    "spending = weight(spending)"
   ]
  },
  {
   "cell_type": "markdown",
   "metadata": {},
   "source": [
    "<hr style=\"border:2px solid gray\"> </hr>\n",
    "\n",
    "### Foreign aid\n",
    "#### EDA"
   ]
  },
  {
   "cell_type": "code",
   "execution_count": null,
   "metadata": {},
   "outputs": [],
   "source": [
    "spending['foreign_aid'].unique()"
   ]
  },
  {
   "cell_type": "code",
   "execution_count": null,
   "metadata": {},
   "outputs": [],
   "source": [
    "foreign_aid = spending[['year', 'foreign_aid']]\n",
    "foreign_aid_percentages = create_ts(foreign_aid, ['Too much',\n",
    "                                                  'About right',\n",
    "                                                  'Too little'])\n",
    "foreign_aid_percentages.set_index('year').plot();"
   ]
  },
  {
   "cell_type": "markdown",
   "metadata": {},
   "source": [
    "#### Time Series Forecasts\n",
    "Overall by party"
   ]
  },
  {
   "cell_type": "code",
   "execution_count": null,
   "metadata": {},
   "outputs": [],
   "source": [
    "rep_ts, dem_ts, ind_ts = party_splits(foreign_aid, ['Too much',\n",
    "                                                    'About right',\n",
    "                                                    'Too little'])\n",
    "save('spending/foreign_aid', split='overall')"
   ]
  },
  {
   "cell_type": "markdown",
   "metadata": {},
   "source": [
    "Within Party"
   ]
  },
  {
   "cell_type": "code",
   "execution_count": null,
   "metadata": {},
   "outputs": [],
   "source": [
    "(str_rep, mid_rep, ln_rep, \n",
    " str_dem, mid_dem, ln_dem, \n",
    " oth, ind) = party_splits(foreign_aid, ['Too much',\n",
    "                                        'About right',\n",
    "                                        'Too little'], split='within party')\n",
    "save('spending/foreign_aid', split='within')"
   ]
  },
  {
   "cell_type": "markdown",
   "metadata": {},
   "source": [
    "<hr style=\"border:2px solid gray\"> </hr>\n",
    "\n",
    "### Welfare\n",
    "#### EDA"
   ]
  },
  {
   "cell_type": "code",
   "execution_count": null,
   "metadata": {},
   "outputs": [],
   "source": [
    "spending['welfare'].unique()"
   ]
  },
  {
   "cell_type": "code",
   "execution_count": null,
   "metadata": {},
   "outputs": [],
   "source": [
    "welfare = spending[['year', 'welfare']]\n",
    "welfare_percentages = create_ts(welfare, ['Too much',\n",
    "                                                  'About right',\n",
    "                                                  'Too little'])\n",
    "welfare_percentages.set_index('year').plot();"
   ]
  },
  {
   "cell_type": "markdown",
   "metadata": {},
   "source": [
    "#### Time Series Forecasts\n",
    "Overall by party"
   ]
  },
  {
   "cell_type": "code",
   "execution_count": null,
   "metadata": {},
   "outputs": [],
   "source": [
    "rep_ts, dem_ts, ind_ts = party_splits(welfare, ['Too much',\n",
    "                                                    'About right',\n",
    "                                                    'Too little'])\n",
    "save('spending/welfare', split='overall')"
   ]
  },
  {
   "cell_type": "markdown",
   "metadata": {},
   "source": [
    "Within Party"
   ]
  },
  {
   "cell_type": "code",
   "execution_count": null,
   "metadata": {},
   "outputs": [],
   "source": [
    "(str_rep, mid_rep, ln_rep, \n",
    " str_dem, mid_dem, ln_dem, \n",
    " oth, ind) = party_splits(welfare, ['Too much',\n",
    "                                        'About right',\n",
    "                                        'Too little'], split='within party')\n",
    "save('spending/welfare', split='within')"
   ]
  },
  {
   "cell_type": "markdown",
   "metadata": {},
   "source": [
    "<hr style=\"border:2px solid gray\"> </hr>\n",
    "\n",
    "### Highways and bridges\n",
    "#### EDA"
   ]
  },
  {
   "cell_type": "code",
   "execution_count": null,
   "metadata": {},
   "outputs": [],
   "source": [
    "infastructure = spending[['year', 'infastructure']]\n",
    "infastructure_percentages = create_ts(infastructure, ['Too much',\n",
    "                                                  'About right',\n",
    "                                                  'Too little'])\n",
    "infastructure_percentages.set_index('year').plot();"
   ]
  },
  {
   "cell_type": "markdown",
   "metadata": {},
   "source": [
    "#### Time Series Forecasts\n",
    "Overall by party"
   ]
  },
  {
   "cell_type": "code",
   "execution_count": null,
   "metadata": {},
   "outputs": [],
   "source": [
    "rep_ts, dem_ts, ind_ts = party_splits(infastructure, ['Too much',\n",
    "                                                    'About right',\n",
    "                                                    'Too little'])\n",
    "save('spending/infastructure', split='overall')"
   ]
  },
  {
   "cell_type": "markdown",
   "metadata": {},
   "source": [
    "Within Party"
   ]
  },
  {
   "cell_type": "code",
   "execution_count": null,
   "metadata": {},
   "outputs": [],
   "source": [
    "(str_rep, mid_rep, ln_rep, \n",
    " str_dem, mid_dem, ln_dem, \n",
    " oth, ind) = party_splits(infastructure, ['Too much',\n",
    "                                        'About right',\n",
    "                                        'Too little'], split='within party')\n",
    "save('spending/infastructure', split='within')"
   ]
  },
  {
   "cell_type": "markdown",
   "metadata": {},
   "source": [
    "<hr style=\"border:2px solid gray\"> </hr>\n",
    "\n",
    "### Social Security\n",
    "#### EDA"
   ]
  },
  {
   "cell_type": "code",
   "execution_count": null,
   "metadata": {},
   "outputs": [],
   "source": [
    "social_sec = spending[['year', 'social_sec']]\n",
    "social_sec_percentages = create_ts(social_sec, ['Too much',\n",
    "                                                  'About right',\n",
    "                                                  'Too little'])\n",
    "social_sec_percentages.set_index('year').plot();"
   ]
  },
  {
   "cell_type": "markdown",
   "metadata": {},
   "source": [
    "#### Time Series Forecasts\n",
    "Overall by party"
   ]
  },
  {
   "cell_type": "code",
   "execution_count": null,
   "metadata": {},
   "outputs": [],
   "source": [
    "rep_ts, dem_ts, ind_ts = party_splits(social_sec, ['Too much',\n",
    "                                                    'About right',\n",
    "                                                    'Too little'])\n",
    "save('spending/social_sec', split='overall')"
   ]
  },
  {
   "cell_type": "markdown",
   "metadata": {},
   "source": [
    "Within Party"
   ]
  },
  {
   "cell_type": "code",
   "execution_count": null,
   "metadata": {},
   "outputs": [],
   "source": [
    "(str_rep, mid_rep, ln_rep, \n",
    " str_dem, mid_dem, ln_dem, \n",
    " oth, ind) = party_splits(social_sec, ['Too much',\n",
    "                                        'About right',\n",
    "                                        'Too little'], split='within party')\n",
    "save('spending/social_sec', split='within')"
   ]
  },
  {
   "cell_type": "markdown",
   "metadata": {},
   "source": [
    "<hr style=\"border:2px solid gray\"> </hr>\n",
    "\n",
    "### Mass transportation\n",
    "#### EDA"
   ]
  },
  {
   "cell_type": "code",
   "execution_count": null,
   "metadata": {},
   "outputs": [],
   "source": [
    "mass_transit = spending[['year', 'mass_transit']]\n",
    "mass_transit_percentages = create_ts(mass_transit, ['Too much',\n",
    "                                                  'About right',\n",
    "                                                  'Too little'])\n",
    "mass_transit_percentages.set_index('year').plot();"
   ]
  },
  {
   "cell_type": "markdown",
   "metadata": {},
   "source": [
    "#### Time Series Forecasts\n",
    "Overall by party"
   ]
  },
  {
   "cell_type": "code",
   "execution_count": null,
   "metadata": {},
   "outputs": [],
   "source": [
    "rep_ts, dem_ts, ind_ts = party_splits(mass_transit, ['Too much',\n",
    "                                                    'About right',\n",
    "                                                    'Too little'])\n",
    "save('spending/mass_transit', split='overall')"
   ]
  },
  {
   "cell_type": "markdown",
   "metadata": {},
   "source": [
    "Within Party"
   ]
  },
  {
   "cell_type": "code",
   "execution_count": null,
   "metadata": {},
   "outputs": [],
   "source": [
    "(str_rep, mid_rep, ln_rep, \n",
    " str_dem, mid_dem, ln_dem, \n",
    " oth, ind) = party_splits(mass_transit, ['Too much',\n",
    "                                        'About right',\n",
    "                                        'Too little'], split='within party')\n",
    "save('spending/mass_transit', split='within')"
   ]
  },
  {
   "cell_type": "markdown",
   "metadata": {},
   "source": [
    "<hr style=\"border:2px solid gray\"> </hr>\n",
    "\n",
    "### Parks and recreation\n",
    "#### EDA"
   ]
  },
  {
   "cell_type": "code",
   "execution_count": null,
   "metadata": {},
   "outputs": [],
   "source": [
    "parks_rec = spending[['year', 'parks_rec']]\n",
    "parks_rec_percentages = create_ts(parks_rec, ['Too much',\n",
    "                                                  'About right',\n",
    "                                                  'Too little'])\n",
    "parks_rec_percentages.set_index('year').plot();"
   ]
  },
  {
   "cell_type": "markdown",
   "metadata": {},
   "source": [
    "#### Time Series Forecasts\n",
    "Overall by party"
   ]
  },
  {
   "cell_type": "code",
   "execution_count": null,
   "metadata": {},
   "outputs": [],
   "source": [
    "rep_ts, dem_ts, ind_ts = party_splits(parks_rec, ['Too much',\n",
    "                                                    'About right',\n",
    "                                                    'Too little'])\n",
    "save('spending/parks_rec', split='overall')"
   ]
  },
  {
   "cell_type": "markdown",
   "metadata": {},
   "source": [
    "Within Party"
   ]
  },
  {
   "cell_type": "code",
   "execution_count": null,
   "metadata": {},
   "outputs": [],
   "source": [
    "(str_rep, mid_rep, ln_rep, \n",
    " str_dem, mid_dem, ln_dem, \n",
    " oth, ind) = party_splits(parks_rec, ['Too much',\n",
    "                                        'About right',\n",
    "                                        'Too little'], split='within party')\n",
    "save('spending/parks_rec', split='within')"
   ]
  },
  {
   "cell_type": "markdown",
   "metadata": {},
   "source": [
    "<hr style=\"border:2px solid gray\"> </hr>\n",
    "\n",
    "### Assistance for childcare\n",
    "#### EDA"
   ]
  },
  {
   "cell_type": "code",
   "execution_count": null,
   "metadata": {},
   "outputs": [],
   "source": [
    "childcare = spending[['year', 'childcare']]\n",
    "childcare_percentages = create_ts(childcare, ['Too much',\n",
    "                                                  'About right',\n",
    "                                                  'Too little'])\n",
    "childcare_percentages.set_index('year').plot();"
   ]
  },
  {
   "cell_type": "markdown",
   "metadata": {},
   "source": [
    "#### Time Series Forecasts\n",
    "Overall by party"
   ]
  },
  {
   "cell_type": "code",
   "execution_count": null,
   "metadata": {},
   "outputs": [],
   "source": [
    "rep_ts, dem_ts, ind_ts = party_splits(childcare, ['Too much',\n",
    "                                                    'About right',\n",
    "                                                    'Too little'])\n",
    "save('spending/childcare', split='overall')"
   ]
  },
  {
   "cell_type": "markdown",
   "metadata": {},
   "source": [
    "Within Party"
   ]
  },
  {
   "cell_type": "code",
   "execution_count": null,
   "metadata": {},
   "outputs": [],
   "source": [
    "(str_rep, mid_rep, ln_rep, \n",
    " str_dem, mid_dem, ln_dem, \n",
    " oth, ind) = party_splits(childcare, ['Too much',\n",
    "                                        'About right',\n",
    "                                        'Too little'], split='within party')\n",
    "save('spending/childcare', split='within')"
   ]
  },
  {
   "cell_type": "markdown",
   "metadata": {},
   "source": [
    "<hr style=\"border:2px solid gray\"> </hr>\n",
    "\n",
    "### Supporting scientific research\n",
    "#### EDA"
   ]
  },
  {
   "cell_type": "code",
   "execution_count": null,
   "metadata": {},
   "outputs": [],
   "source": [
    "research = spending[['year', 'research']]\n",
    "research_percentages = create_ts(research, ['Too much',\n",
    "                                                  'About right',\n",
    "                                                  'Too little'])\n",
    "research_percentages.set_index('year').plot();"
   ]
  },
  {
   "cell_type": "markdown",
   "metadata": {},
   "source": [
    "#### Time Series Forecasts\n",
    "Overall by party"
   ]
  },
  {
   "cell_type": "code",
   "execution_count": null,
   "metadata": {},
   "outputs": [],
   "source": [
    "rep_ts, dem_ts, ind_ts = party_splits(research, ['Too much',\n",
    "                                                    'About right',\n",
    "                                                    'Too little'])\n",
    "save('spending/research', split='overall')"
   ]
  },
  {
   "cell_type": "markdown",
   "metadata": {},
   "source": [
    "Within Party"
   ]
  },
  {
   "cell_type": "code",
   "execution_count": null,
   "metadata": {},
   "outputs": [],
   "source": [
    "(str_rep, mid_rep, ln_rep, \n",
    " str_dem, mid_dem, ln_dem, \n",
    " oth, ind) = party_splits(research, ['Too much',\n",
    "                                        'About right',\n",
    "                                        'Too little'], split='within party')\n",
    "save('spending/research', split='within')"
   ]
  },
  {
   "cell_type": "markdown",
   "metadata": {},
   "source": [
    "<hr style=\"border:2px solid gray\"> </hr>\n",
    "\n",
    "### Military, armaments, and defense\n",
    "#### EDA"
   ]
  },
  {
   "cell_type": "code",
   "execution_count": null,
   "metadata": {},
   "outputs": [],
   "source": [
    "military = spending[['year', 'military']]\n",
    "military_percentages = create_ts(military, ['Too much',\n",
    "                                                  'About right',\n",
    "                                                  'Too little'])\n",
    "military_percentages.set_index('year').plot();"
   ]
  },
  {
   "cell_type": "markdown",
   "metadata": {},
   "source": [
    "#### Time Series Forecasts\n",
    "Overall by party"
   ]
  },
  {
   "cell_type": "code",
   "execution_count": null,
   "metadata": {},
   "outputs": [],
   "source": [
    "rep_ts, dem_ts, ind_ts = party_splits(military, ['Too much',\n",
    "                                                    'About right',\n",
    "                                                    'Too little'])\n",
    "save('spending/military', split='overall')"
   ]
  },
  {
   "cell_type": "markdown",
   "metadata": {},
   "source": [
    "Within Party"
   ]
  },
  {
   "cell_type": "code",
   "execution_count": null,
   "metadata": {},
   "outputs": [],
   "source": [
    "(str_rep, mid_rep, ln_rep, \n",
    " str_dem, mid_dem, ln_dem, \n",
    " oth, ind) = party_splits(military, ['Too much',\n",
    "                                        'About right',\n",
    "                                        'Too little'], split='within party')\n",
    "save('spending/military', split='within')"
   ]
  },
  {
   "cell_type": "markdown",
   "metadata": {},
   "source": [
    "<hr style=\"border:2px solid gray\"> </hr>\n",
    "\n",
    "### Improving Racial Equality\n",
    "#### EDA"
   ]
  },
  {
   "cell_type": "code",
   "execution_count": null,
   "metadata": {},
   "outputs": [],
   "source": [
    "inequality = spending[['year', 'inequality']]\n",
    "inequality_percentages = create_ts(inequality, ['Too much',\n",
    "                                                  'About right',\n",
    "                                                  'Too little'])\n",
    "inequality_percentages.set_index('year').plot();"
   ]
  },
  {
   "cell_type": "markdown",
   "metadata": {},
   "source": [
    "#### Time Series Forecasts\n",
    "Overall by party"
   ]
  },
  {
   "cell_type": "code",
   "execution_count": null,
   "metadata": {},
   "outputs": [],
   "source": [
    "rep_ts, dem_ts, ind_ts = party_splits(inequality, ['Too much',\n",
    "                                                    'About right',\n",
    "                                                    'Too little'])\n",
    "save('spending/inequality', split='overall')"
   ]
  },
  {
   "cell_type": "markdown",
   "metadata": {},
   "source": [
    "Within Party"
   ]
  },
  {
   "cell_type": "code",
   "execution_count": null,
   "metadata": {},
   "outputs": [],
   "source": [
    "(str_rep, mid_rep, ln_rep, \n",
    " str_dem, mid_dem, ln_dem, \n",
    " oth, ind) = party_splits(inequality, ['Too much',\n",
    "                                        'About right',\n",
    "                                        'Too little'], split='within party')\n",
    "save('spending/inequality', split='within')"
   ]
  },
  {
   "cell_type": "markdown",
   "metadata": {},
   "source": [
    "<hr style=\"border:2px solid gray\"> </hr>\n",
    "\n",
    "### Space exploration program\n",
    "#### EDA"
   ]
  },
  {
   "cell_type": "code",
   "execution_count": null,
   "metadata": {},
   "outputs": [],
   "source": [
    "space_explore = spending[['year', 'space_explore']]\n",
    "space_explore_percentages = create_ts(space_explore, ['Too much',\n",
    "                                                  'About right',\n",
    "                                                  'Too little'])\n",
    "space_explore_percentages.set_index('year').plot();"
   ]
  },
  {
   "cell_type": "markdown",
   "metadata": {},
   "source": [
    "#### Time Series Forecasts\n",
    "Overall by party"
   ]
  },
  {
   "cell_type": "code",
   "execution_count": null,
   "metadata": {},
   "outputs": [],
   "source": [
    "rep_ts, dem_ts, ind_ts = party_splits(space_explore, ['Too much',\n",
    "                                                    'About right',\n",
    "                                                    'Too little'])\n",
    "save('spending/space_explore', split='overall')"
   ]
  },
  {
   "cell_type": "markdown",
   "metadata": {},
   "source": [
    "Within Party"
   ]
  },
  {
   "cell_type": "code",
   "execution_count": null,
   "metadata": {},
   "outputs": [],
   "source": [
    "(str_rep, mid_rep, ln_rep, \n",
    " str_dem, mid_dem, ln_dem, \n",
    " oth, ind) = party_splits(space_explore, ['Too much',\n",
    "                                        'About right',\n",
    "                                        'Too little'], split='within party')\n",
    "save('spending/space_explore', split='within')"
   ]
  },
  {
   "cell_type": "markdown",
   "metadata": {},
   "source": [
    "<hr style=\"border:2px solid gray\"> </hr>\n",
    "\n",
    "### Improving & protecting environment\n",
    "#### EDA"
   ]
  },
  {
   "cell_type": "code",
   "execution_count": null,
   "metadata": {},
   "outputs": [],
   "source": [
    "environment = spending[['year', 'environment']]\n",
    "environment_percentages = create_ts(environment, ['Too much',\n",
    "                                                  'About right',\n",
    "                                                  'Too little'])\n",
    "environment_percentages.set_index('year').plot();"
   ]
  },
  {
   "cell_type": "markdown",
   "metadata": {},
   "source": [
    "#### Time Series Forecasts\n",
    "Overall by party"
   ]
  },
  {
   "cell_type": "code",
   "execution_count": null,
   "metadata": {},
   "outputs": [],
   "source": [
    "rep_ts, dem_ts, ind_ts = party_splits(environment, ['Too much',\n",
    "                                                    'About right',\n",
    "                                                    'Too little'])\n",
    "save('spending/environment', split='overall')"
   ]
  },
  {
   "cell_type": "markdown",
   "metadata": {},
   "source": [
    "Within Party"
   ]
  },
  {
   "cell_type": "code",
   "execution_count": null,
   "metadata": {},
   "outputs": [],
   "source": [
    "(str_rep, mid_rep, ln_rep, \n",
    " str_dem, mid_dem, ln_dem, \n",
    " oth, ind) = party_splits(environment, ['Too much',\n",
    "                                        'About right',\n",
    "                                        'Too little'], split='within party')\n",
    "save('spending/environment', split='within')"
   ]
  },
  {
   "cell_type": "markdown",
   "metadata": {},
   "source": [
    "<hr style=\"border:2px solid gray\"> </hr>\n",
    "\n",
    "### Improving & protecting nations health\n",
    "#### EDA"
   ]
  },
  {
   "cell_type": "code",
   "execution_count": null,
   "metadata": {},
   "outputs": [],
   "source": [
    "healthcare = spending[['year', 'healthcare']]\n",
    "healthcare_percentages = create_ts(healthcare, ['Too much',\n",
    "                                                  'About right',\n",
    "                                                  'Too little'])\n",
    "healthcare_percentages.set_index('year').plot();"
   ]
  },
  {
   "cell_type": "markdown",
   "metadata": {},
   "source": [
    "#### Time Series Forecasts\n",
    "Overall by party"
   ]
  },
  {
   "cell_type": "code",
   "execution_count": null,
   "metadata": {},
   "outputs": [],
   "source": [
    "rep_ts, dem_ts, ind_ts = party_splits(healthcare, ['Too much',\n",
    "                                                    'About right',\n",
    "                                                    'Too little'])\n",
    "save('spending/healthcare', split='overall')"
   ]
  },
  {
   "cell_type": "markdown",
   "metadata": {},
   "source": [
    "Within Party"
   ]
  },
  {
   "cell_type": "code",
   "execution_count": null,
   "metadata": {},
   "outputs": [],
   "source": [
    "(str_rep, mid_rep, ln_rep, \n",
    " str_dem, mid_dem, ln_dem, \n",
    " oth, ind) = party_splits(healthcare, ['Too much',\n",
    "                                        'About right',\n",
    "                                        'Too little'], split='within party')\n",
    "save('spending/healthcare', split='within')"
   ]
  },
  {
   "cell_type": "markdown",
   "metadata": {},
   "source": [
    "<hr style=\"border:2px solid gray\"> </hr>\n",
    "\n",
    "### Solving problems of big cities\n",
    "#### EDA"
   ]
  },
  {
   "cell_type": "code",
   "execution_count": null,
   "metadata": {},
   "outputs": [],
   "source": [
    "urban = spending[['year', 'urban']]\n",
    "urban_percentages = create_ts(urban, ['Too much',\n",
    "                                                  'About right',\n",
    "                                                  'Too little'])\n",
    "urban_percentages.set_index('year').plot();"
   ]
  },
  {
   "cell_type": "markdown",
   "metadata": {},
   "source": [
    "#### Time Series Forecasts\n",
    "Overall by party"
   ]
  },
  {
   "cell_type": "code",
   "execution_count": null,
   "metadata": {},
   "outputs": [],
   "source": [
    "rep_ts, dem_ts, ind_ts = party_splits(urban, ['Too much',\n",
    "                                                    'About right',\n",
    "                                                    'Too little'])\n",
    "save('spending/urban', split='overall')"
   ]
  },
  {
   "cell_type": "markdown",
   "metadata": {},
   "source": [
    "Within Party"
   ]
  },
  {
   "cell_type": "code",
   "execution_count": null,
   "metadata": {},
   "outputs": [],
   "source": [
    "(str_rep, mid_rep, ln_rep, \n",
    " str_dem, mid_dem, ln_dem, \n",
    " oth, ind) = party_splits(urban, ['Too much',\n",
    "                                        'About right',\n",
    "                                        'Too little'], split='within party')\n",
    "save('spending/urban', split='within')"
   ]
  },
  {
   "cell_type": "markdown",
   "metadata": {},
   "source": [
    "<hr style=\"border:2px solid gray\"> </hr>\n",
    "\n",
    "### Halting rising crime rate\n",
    "#### EDA"
   ]
  },
  {
   "cell_type": "code",
   "execution_count": null,
   "metadata": {},
   "outputs": [],
   "source": [
    "crime = spending[['year', 'crime']]\n",
    "crime_percentages = create_ts(crime, ['Too much',\n",
    "                                                  'About right',\n",
    "                                                  'Too little'])\n",
    "crime_percentages.set_index('year').plot();"
   ]
  },
  {
   "cell_type": "markdown",
   "metadata": {},
   "source": [
    "#### Time Series Forecasts\n",
    "Overall by party"
   ]
  },
  {
   "cell_type": "code",
   "execution_count": null,
   "metadata": {},
   "outputs": [],
   "source": [
    "rep_ts, dem_ts, ind_ts = party_splits(crime, ['Too much',\n",
    "                                                    'About right',\n",
    "                                                    'Too little'])\n",
    "save('spending/crime', split='overall')"
   ]
  },
  {
   "cell_type": "markdown",
   "metadata": {},
   "source": [
    "Within Party"
   ]
  },
  {
   "cell_type": "code",
   "execution_count": null,
   "metadata": {},
   "outputs": [],
   "source": [
    "(str_rep, mid_rep, ln_rep, \n",
    " str_dem, mid_dem, ln_dem, \n",
    " oth, ind) = party_splits(crime, ['Too much',\n",
    "                                        'About right',\n",
    "                                        'Too little'], split='within party')\n",
    "save('spending/crime', split='within')"
   ]
  },
  {
   "cell_type": "markdown",
   "metadata": {},
   "source": [
    "<hr style=\"border:2px solid gray\"> </hr>\n",
    "\n",
    "### Dealing with drug addiction\n",
    "#### EDA"
   ]
  },
  {
   "cell_type": "code",
   "execution_count": null,
   "metadata": {},
   "outputs": [],
   "source": [
    "addiction = spending[['year', 'addiction']]\n",
    "addiction_percentages = create_ts(addiction, ['Too much',\n",
    "                                                  'About right',\n",
    "                                                  'Too little'])\n",
    "addiction_percentages.set_index('year').plot();"
   ]
  },
  {
   "cell_type": "markdown",
   "metadata": {},
   "source": [
    "#### Time Series Forecasts\n",
    "Overall by party"
   ]
  },
  {
   "cell_type": "code",
   "execution_count": null,
   "metadata": {},
   "outputs": [],
   "source": [
    "rep_ts, dem_ts, ind_ts = party_splits(addiction, ['Too much',\n",
    "                                                    'About right',\n",
    "                                                    'Too little'])\n",
    "save('spending/addiction', split='overall')"
   ]
  },
  {
   "cell_type": "markdown",
   "metadata": {},
   "source": [
    "Within Party"
   ]
  },
  {
   "cell_type": "code",
   "execution_count": null,
   "metadata": {},
   "outputs": [],
   "source": [
    "(str_rep, mid_rep, ln_rep, \n",
    " str_dem, mid_dem, ln_dem, \n",
    " oth, ind) = party_splits(addiction, ['Too much',\n",
    "                                        'About right',\n",
    "                                        'Too little'], split='within party')\n",
    "save('spending/addiction', split='within')"
   ]
  },
  {
   "cell_type": "markdown",
   "metadata": {},
   "source": [
    "<hr style=\"border:2px solid gray\"> </hr>\n",
    "\n",
    "### Improving nations education system\n",
    "#### EDA"
   ]
  },
  {
   "cell_type": "code",
   "execution_count": null,
   "metadata": {},
   "outputs": [],
   "source": [
    "education = spending[['year', 'education']]\n",
    "education_percentages = create_ts(education, ['Too much',\n",
    "                                                  'About right',\n",
    "                                                  'Too little'])\n",
    "education_percentages.set_index('year').plot();"
   ]
  },
  {
   "cell_type": "markdown",
   "metadata": {},
   "source": [
    "#### Time Series Forecasts\n",
    "Overall by party"
   ]
  },
  {
   "cell_type": "code",
   "execution_count": null,
   "metadata": {},
   "outputs": [],
   "source": [
    "rep_ts, dem_ts, ind_ts = party_splits(education, ['Too much',\n",
    "                                                    'About right',\n",
    "                                                    'Too little'])\n",
    "save('spending/education', split='overall')"
   ]
  },
  {
   "cell_type": "markdown",
   "metadata": {},
   "source": [
    "Within Party"
   ]
  },
  {
   "cell_type": "code",
   "execution_count": null,
   "metadata": {},
   "outputs": [],
   "source": [
    "(str_rep, mid_rep, ln_rep, \n",
    " str_dem, mid_dem, ln_dem, \n",
    " oth, ind) = party_splits(education, ['Too much',\n",
    "                                        'About right',\n",
    "                                        'Too little'], split='within party')\n",
    "save('spending/education', split='within')"
   ]
  },
  {
   "cell_type": "markdown",
   "metadata": {},
   "source": [
    "<hr style=\"border:2px solid gray\"> </hr>\n",
    "\n",
    "### Developing alternative energy sources\n",
    "#### EDA"
   ]
  },
  {
   "cell_type": "code",
   "execution_count": null,
   "metadata": {},
   "outputs": [],
   "source": [
    "alt_energy = spending[['year', 'alt_energy']]\n",
    "alt_energy_percentages = create_ts(alt_energy, ['Too much',\n",
    "                                                  'About right',\n",
    "                                                  'Too little'])\n",
    "alt_energy_percentages.set_index('year').plot();"
   ]
  },
  {
   "cell_type": "markdown",
   "metadata": {},
   "source": [
    "#### Time Series Forecasts\n",
    "Overall by party"
   ]
  },
  {
   "cell_type": "code",
   "execution_count": null,
   "metadata": {},
   "outputs": [],
   "source": [
    "rep_ts, dem_ts, ind_ts = party_splits(alt_energy, ['Too much',\n",
    "                                                    'About right',\n",
    "                                                    'Too little'])\n",
    "save('spending/alt_energy', split='overall')"
   ]
  },
  {
   "cell_type": "markdown",
   "metadata": {},
   "source": [
    "Within Party"
   ]
  },
  {
   "cell_type": "code",
   "execution_count": null,
   "metadata": {
    "scrolled": false
   },
   "outputs": [],
   "source": [
    "(str_rep, mid_rep, ln_rep, \n",
    " str_dem, mid_dem, ln_dem, \n",
    " oth, ind) = party_splits(alt_energy, ['Too much',\n",
    "                                        'About right',\n",
    "                                        'Too little'], split='within party')\n",
    "save('spending/alt_energy', split='within')"
   ]
  },
  {
   "cell_type": "markdown",
   "metadata": {},
   "source": [
    "# Demographics"
   ]
  },
  {
   "cell_type": "code",
   "execution_count": null,
   "metadata": {},
   "outputs": [],
   "source": [
    "pers_id = unzip('Identity')\n",
    "pers_id.columns"
   ]
  },
  {
   "cell_type": "code",
   "execution_count": null,
   "metadata": {
    "scrolled": true
   },
   "outputs": [],
   "source": [
    "for col in pers_id.columns:\n",
    "    print(pers_id[col].value_counts())\n",
    "    print('\\n')"
   ]
  },
  {
   "cell_type": "code",
   "execution_count": null,
   "metadata": {},
   "outputs": [],
   "source": [
    "pers_id.rename(columns={'Age of respondent':'age', \n",
    "                      'Respondents sex':'sex', \n",
    "                      'Race of respondent':'race',\n",
    "                      'Region of interview':'region'}, inplace = True)"
   ]
  },
  {
   "cell_type": "code",
   "execution_count": null,
   "metadata": {},
   "outputs": [],
   "source": [
    "pers_id = weight(pers_id)"
   ]
  },
  {
   "cell_type": "markdown",
   "metadata": {},
   "source": [
    "<hr style=\"border:2px solid gray\"> </hr>\n",
    "\n",
    "### Age\n",
    "#### EDA"
   ]
  },
  {
   "cell_type": "code",
   "execution_count": null,
   "metadata": {},
   "outputs": [],
   "source": [
    "age = pers_id[['year', 'age']]\n",
    "age = age[age['age']!=\"Don't know\"]\n",
    "age = age[age['age']!='No answer']\n",
    "age['party']= party['party']\n",
    "print(age['age'].min())\n",
    "print(age['age'].max())"
   ]
  },
  {
   "cell_type": "code",
   "execution_count": null,
   "metadata": {},
   "outputs": [],
   "source": [
    "age.head()"
   ]
  },
  {
   "cell_type": "code",
   "execution_count": null,
   "metadata": {
    "scrolled": true
   },
   "outputs": [],
   "source": [
    "age.loc[age['age']=='89 or older', 'age']= 89\n",
    "age.loc[age['age']=='75 or older', 'age']= 75\n",
    "age['age'] = age['age'].astype(int)\n",
    "age.loc[age['age']<25, 'age_group']= 'under 25'\n",
    "age.loc[(age['age']>=25) &\n",
    "    (age['age']<35), 'age_group']= '25 to 34'\n",
    "age.loc[(age['age']>=35) &\n",
    "    (age['age']<45), 'age_group']= '35 to 44'\n",
    "age.loc[(age['age']>=45) &\n",
    "    (age['age']<55), 'age_group']= '45 to 54'\n",
    "age.loc[(age['age']>=55) &\n",
    "    (age['age']<65), 'age_group']= '55 to 64'\n",
    "age.loc[(age['age']>=65) &\n",
    "    (age['age']<75), 'age_group']= '65 to 74'\n",
    "age.loc[(age['age']>=75), 'age_group'] = '75 or over'\n",
    "\n",
    "age['age_group'].value_counts()"
   ]
  },
  {
   "cell_type": "code",
   "execution_count": null,
   "metadata": {
    "scrolled": true
   },
   "outputs": [],
   "source": [
    "u_25 = age.loc[age['age_group']== 'under 25']\n",
    "u_25 = u_25[['year', 'party']]\n",
    "u_25_percentages = create_ts(u_25, parties)\n",
    "party_aff_ovr_u_25 = store_predictions(u_25_percentages)\n",
    "party_aff_ovr_u_25.to_excel('data/predictions/demographics/age/u_25.xlsx')"
   ]
  },
  {
   "cell_type": "code",
   "execution_count": null,
   "metadata": {},
   "outputs": [],
   "source": [
    "u_35 = age.loc[age['age_group']== '25 to 34']\n",
    "u_35 = u_35[['year', 'party']]\n",
    "u_35_percentages = create_ts(u_35, parties)\n",
    "party_aff_ovr_u_35 = store_predictions(u_35_percentages)\n",
    "party_aff_ovr_u_35.to_excel('data/predictions/demographics/age/u_35.xlsx')"
   ]
  },
  {
   "cell_type": "code",
   "execution_count": null,
   "metadata": {},
   "outputs": [],
   "source": [
    "u_45 = age.loc[age['age_group']== '35 to 44']\n",
    "u_45 = u_45[['year', 'party']]\n",
    "u_45_percentages = create_ts(u_45, parties)\n",
    "party_aff_ovr_u_45 = store_predictions(u_45_percentages)\n",
    "party_aff_ovr_u_45.to_excel('data/predictions/demographics/age/u_45.xlsx')"
   ]
  },
  {
   "cell_type": "code",
   "execution_count": null,
   "metadata": {},
   "outputs": [],
   "source": [
    "u_55 = age.loc[age['age_group']== '45 to 54']\n",
    "u_55 = u_55[['year', 'party']]\n",
    "u_55_percentages = create_ts(u_55, parties)\n",
    "party_aff_ovr_u_55 = store_predictions(u_55_percentages)\n",
    "party_aff_ovr_u_55.to_excel('data/predictions/demographics/age/u_55.xlsx')"
   ]
  },
  {
   "cell_type": "code",
   "execution_count": null,
   "metadata": {},
   "outputs": [],
   "source": [
    "u_65 = age.loc[age['age_group']== '55 to 64']\n",
    "u_65 = u_65[['year', 'party']]\n",
    "u_65_percentages = create_ts(u_65, parties)\n",
    "party_aff_ovr_u_65 = store_predictions(u_65_percentages)\n",
    "party_aff_ovr_u_65.to_excel('data/predictions/demographics/age/u_65.xlsx')"
   ]
  },
  {
   "cell_type": "code",
   "execution_count": null,
   "metadata": {},
   "outputs": [],
   "source": [
    "u_75 = age.loc[age['age_group']== '65 to 74']\n",
    "u_75 = u_75[['year', 'party']]\n",
    "u_75_percentages = create_ts(u_75, parties)\n",
    "party_aff_ovr_u_75 = store_predictions(u_75_percentages)\n",
    "party_aff_ovr_u_75.to_excel('data/predictions/demographics/age/u_75.xlsx')"
   ]
  },
  {
   "cell_type": "code",
   "execution_count": null,
   "metadata": {},
   "outputs": [],
   "source": [
    "ovr_75 = age.loc[age['age_group']== '75 or over']\n",
    "ovr_75 = ovr_75[['year', 'party']]\n",
    "ovr_75_percentages = create_ts(ovr_75, parties)\n",
    "party_aff_ovr_ovr_75 = store_predictions(ovr_75_percentages)\n",
    "party_aff_ovr_ovr_75.to_excel('data/predictions/demographics/age/ovr_75.xlsx')"
   ]
  },
  {
   "cell_type": "markdown",
   "metadata": {},
   "source": [
    "## Education"
   ]
  },
  {
   "cell_type": "code",
   "execution_count": null,
   "metadata": {},
   "outputs": [],
   "source": [
    "education = unzip('Education')\n",
    "education.columns"
   ]
  },
  {
   "cell_type": "code",
   "execution_count": null,
   "metadata": {},
   "outputs": [],
   "source": [
    "for col in education.columns:\n",
    "    print(education[col].value_counts())\n",
    "    print('\\n')"
   ]
  },
  {
   "cell_type": "markdown",
   "metadata": {},
   "source": [
    "With so many not applicable entries for the field of degree, it is more appropriate to remove them from the analysis. "
   ]
  },
  {
   "cell_type": "code",
   "execution_count": null,
   "metadata": {},
   "outputs": [],
   "source": [
    "education.drop(['The field of degree r earned'], axis=1, inplace=True)"
   ]
  },
  {
   "cell_type": "code",
   "execution_count": null,
   "metadata": {},
   "outputs": [],
   "source": [
    "education.rename(columns = {'Highest year of school completed':'school_years',\n",
    "                            'Highest year school completed, father':'school_years_dad', \n",
    "                            'Highest year school completed, mother':'school_years_mom',\n",
    "                            'Rs highest degree':'degree',\n",
    "                            'Fathers highest degree':'degree_dad',\n",
    "                            'Mothers highest degree': 'degree_mom'}, inplace=True)"
   ]
  },
  {
   "cell_type": "markdown",
   "metadata": {},
   "source": [
    "Encode nan information as a placeholder so that it can be easily removed later in the analysis. "
   ]
  },
  {
   "cell_type": "code",
   "execution_count": null,
   "metadata": {},
   "outputs": [],
   "source": [
    "education.loc[(education['school_years']=='No answer')|\n",
    "              (education['school_years']=='Not applicable')|\n",
    "              (education['school_years']== \"Don't know\"), 'school_years']= -9\n",
    "education.loc[(education['school_years_dad']=='No answer')|\n",
    "              (education['school_years_dad']=='Not applicable')|\n",
    "              (education['school_years_dad']== \"Don't know\"), 'school_years_dad']= -9\n",
    "education.loc[(education['school_years_mom']=='No answer')|\n",
    "              (education['school_years_mom']=='Not applicable')|\n",
    "              (education['school_years_mom']== \"Don't know\"), 'school_years_mom']= -9"
   ]
  },
  {
   "cell_type": "code",
   "execution_count": null,
   "metadata": {},
   "outputs": [],
   "source": [
    "education.head()"
   ]
  },
  {
   "cell_type": "code",
   "execution_count": null,
   "metadata": {},
   "outputs": [],
   "source": [
    "education = weight(education)"
   ]
  },
  {
   "cell_type": "markdown",
   "metadata": {},
   "source": [
    "## Employment"
   ]
  },
  {
   "cell_type": "code",
   "execution_count": null,
   "metadata": {
    "scrolled": true
   },
   "outputs": [],
   "source": [
    "employment = unzip('Employment')\n",
    "employment.columns"
   ]
  },
  {
   "cell_type": "code",
   "execution_count": null,
   "metadata": {},
   "outputs": [],
   "source": [
    "for col in employment.columns:\n",
    "    print(employment[col].value_counts())\n",
    "    print('\\n')"
   ]
  },
  {
   "cell_type": "code",
   "execution_count": null,
   "metadata": {},
   "outputs": [],
   "source": [
    "employment.drop(['Is r likely to lose job', 'Could r find equally good job', \n",
    "                 'Job or housework', 'If rich, continue or stop working', \n",
    "                 'Workers need strong unions'], axis=1, inplace = True)"
   ]
  },
  {
   "cell_type": "code",
   "execution_count": null,
   "metadata": {
    "scrolled": true
   },
   "outputs": [],
   "source": [
    "employment.rename(columns= {'Does r or spouse belong to union': 'union',\n",
    "                            'Number of hours usually work a week': 'wrk_hrs',\n",
    "                            'Labor force status': 'job_status',\n",
    "                            'Rs occupational prestige score using threshold method (2010)': 'prestige'}, \n",
    "                  inplace = True)"
   ]
  },
  {
   "cell_type": "code",
   "execution_count": null,
   "metadata": {},
   "outputs": [],
   "source": [
    "employment.loc[(employment['union']=='Neither belongs', 'union')]= 'non-member'\n",
    "employment.loc[(employment['union']=='R belongs')|\n",
    "               (employment['union']=='Spouse belongs')|\n",
    "               (employment['union']=='R and spouse belong'), 'union']= 'member'"
   ]
  },
  {
   "cell_type": "code",
   "execution_count": null,
   "metadata": {
    "scrolled": true
   },
   "outputs": [],
   "source": [
    "employment.head()"
   ]
  },
  {
   "cell_type": "code",
   "execution_count": null,
   "metadata": {},
   "outputs": [],
   "source": [
    "employment = weight(employment)"
   ]
  },
  {
   "cell_type": "markdown",
   "metadata": {},
   "source": [
    "## Family Values"
   ]
  },
  {
   "cell_type": "code",
   "execution_count": null,
   "metadata": {},
   "outputs": [],
   "source": [
    "fam_vals = unzip('Family_Values')\n",
    "fam_vals.columns"
   ]
  },
  {
   "cell_type": "code",
   "execution_count": null,
   "metadata": {},
   "outputs": [],
   "source": [
    "for col in fam_vals.columns:\n",
    "    print(fam_vals[col].value_counts())\n",
    "    print('\\n')"
   ]
  },
  {
   "cell_type": "code",
   "execution_count": null,
   "metadata": {},
   "outputs": [],
   "source": [
    "fam_vals.rename(columns= {'Better for man to work, woman tend home': 'trad_roles', \n",
    "                          'Preschool kids suffer if mother works': 'mom_wrk_kids_suffer', \n",
    "                          'Ideal number of children': 'bst_num_chld', \n",
    "                          'To help others': 'tch_to_help',\n",
    "                          'To work hard': 'tch_to_wrk', \n",
    "                          'To think for ones self': 'tch_ind', \n",
    "                          'To be well liked or popular': 'tch_pop',\n",
    "                          'To obey': 'tch_obey', \n",
    "                          'Number of children': 'num_chld',\n",
    "                          'Number of family generations in household': 'num_gen'}, inplace=True)"
   ]
  },
  {
   "cell_type": "code",
   "execution_count": null,
   "metadata": {},
   "outputs": [],
   "source": [
    "fam_vals.drop(['Rs kids living standard compared to r', 'Rs living standard compared to parents', \n",
    "               'Highest year school completed, mother', 'Highest year school completed, father', \n",
    "               'Number of brothers and sisters', 'Favor spanking to discipline child'], axis=1, inplace=True)"
   ]
  },
  {
   "cell_type": "code",
   "execution_count": null,
   "metadata": {},
   "outputs": [],
   "source": [
    "fam_vals.loc[fam_vals['num_gen']=='1 gen', 'num_gen']= 1\n",
    "fam_vals.loc[(fam_vals['num_gen']=='2 gens, children')|\n",
    "             (fam_vals['num_gen']=='2 gens, parents')|\n",
    "             (fam_vals['num_gen']=='2 gens, grandchldrn'), 'num_gen']= 2\n",
    "fam_vals.loc[(fam_vals['num_gen']=='3 gens, grandchldrn')|\n",
    "             (fam_vals['num_gen']=='3 gens, chld, par'), 'num_gen']= 3\n",
    "fam_vals.loc[fam_vals['num_gen']=='4 gens', 'num_gen']= 4"
   ]
  },
  {
   "cell_type": "code",
   "execution_count": null,
   "metadata": {},
   "outputs": [],
   "source": [
    "fam_vals.head()"
   ]
  },
  {
   "cell_type": "code",
   "execution_count": null,
   "metadata": {},
   "outputs": [],
   "source": [
    "fam_vals = weight(fam_vals)"
   ]
  },
  {
   "cell_type": "markdown",
   "metadata": {},
   "source": [
    "## Lifestyle"
   ]
  },
  {
   "cell_type": "code",
   "execution_count": null,
   "metadata": {
    "scrolled": true
   },
   "outputs": [],
   "source": [
    "lifestyle = unzip('Lifestyle')\n",
    "lifestyle.columns"
   ]
  },
  {
   "cell_type": "code",
   "execution_count": null,
   "metadata": {},
   "outputs": [],
   "source": [
    "for col in lifestyle.columns:\n",
    "    print(lifestyle[col].value_counts())\n",
    "    print('\\n')"
   ]
  },
  {
   "cell_type": "code",
   "execution_count": null,
   "metadata": {},
   "outputs": [],
   "source": [
    "lifestyle.rename(columns = {'Hours per day watching tv':'hrs_tv',\n",
    "                            'How often does r read newspaper':'paper',\n",
    "                            'Have gun in home':'gun',\n",
    "                            'Is life exciting or dull':'life',\n",
    "                            'General happiness':'happy',\n",
    "                            \"R's age when 1st child born\":'age_at_frst_chld',\n",
    "                            'Marital status':'married',\n",
    "                            'Does r own or rent home?':'rent_or_own'}, inplace = True)"
   ]
  },
  {
   "cell_type": "code",
   "execution_count": null,
   "metadata": {},
   "outputs": [],
   "source": [
    "lifestyle.drop(['Does r or spouse hunt', 'Spend evening at bar', \n",
    "                'Spend evening with friends', 'Spend evening with neighbor', \n",
    "                'Spend evening with relatives', 'Age of respondent', 'Number of children',\n",
    "                'Number of hours usually work a week'], axis=1, inplace=True)"
   ]
  },
  {
   "cell_type": "code",
   "execution_count": null,
   "metadata": {},
   "outputs": [],
   "source": [
    "lifestyle = weight(lifestyle)"
   ]
  },
  {
   "cell_type": "markdown",
   "metadata": {},
   "source": [
    "###### Religion"
   ]
  },
  {
   "cell_type": "code",
   "execution_count": null,
   "metadata": {},
   "outputs": [],
   "source": [
    "religion = unzip('Religion')\n",
    "religion.columns"
   ]
  },
  {
   "cell_type": "code",
   "execution_count": null,
   "metadata": {},
   "outputs": [],
   "source": [
    "for col in religion.columns:\n",
    "    print(religion[col].value_counts())\n",
    "    print('\\n')"
   ]
  },
  {
   "cell_type": "code",
   "execution_count": null,
   "metadata": {},
   "outputs": [],
   "source": [
    "religion.drop(['Bible prayer in public schools'], axis = 1, inplace = True)"
   ]
  },
  {
   "cell_type": "code",
   "execution_count": null,
   "metadata": {},
   "outputs": [],
   "source": [
    "religion = weight(religion)"
   ]
  },
  {
   "cell_type": "markdown",
   "metadata": {},
   "source": [
    "###### Socioeconomic Status"
   ]
  },
  {
   "cell_type": "code",
   "execution_count": null,
   "metadata": {
    "scrolled": true
   },
   "outputs": [],
   "source": [
    "ses = unzip('SES')\n",
    "ses.columns"
   ]
  },
  {
   "cell_type": "code",
   "execution_count": null,
   "metadata": {},
   "outputs": [],
   "source": [
    "for col in ses.columns:\n",
    "    print(ses[col].value_counts())\n",
    "    print('\\n')"
   ]
  },
  {
   "cell_type": "code",
   "execution_count": null,
   "metadata": {},
   "outputs": [],
   "source": [
    "ses.drop(['Rs income in constant $', 'Standard of living of r will improve', \n",
    "          'Rs kids living standard compared to r', 'Rs living standard compared to parents', \n",
    "          'Change in financial situation', 'Rs occupational prestige score using threshold method (2010)'], \n",
    "         axis = 1, inplace = True)"
   ]
  },
  {
   "cell_type": "code",
   "execution_count": null,
   "metadata": {},
   "outputs": [],
   "source": [
    "ses = weight(ses)"
   ]
  },
  {
   "cell_type": "markdown",
   "metadata": {},
   "source": [
    "#### Family/ SES Background"
   ]
  },
  {
   "cell_type": "code",
   "execution_count": null,
   "metadata": {},
   "outputs": [],
   "source": [
    "background = unzip('Background')"
   ]
  },
  {
   "cell_type": "code",
   "execution_count": null,
   "metadata": {},
   "outputs": [],
   "source": [
    "background.columns"
   ]
  },
  {
   "cell_type": "code",
   "execution_count": null,
   "metadata": {},
   "outputs": [],
   "source": [
    "for col in background.columns:\n",
    "    print(background[col].value_counts())\n",
    "    print('\\n')"
   ]
  },
  {
   "cell_type": "code",
   "execution_count": null,
   "metadata": {},
   "outputs": [],
   "source": [
    "background.rename(columns = {\"Father's occupational prestige score using threshold method (2010)\": 'father_prestige',\n",
    "                             \"Mother's occupational prestige score using threshold method (2010)\": 'mother_prestige',\n",
    "                             'Religion in which raised': 'raised_relig', \n",
    "                             'How many grandparents born outside u.s.': 'immigrant_gpar', \n",
    "                             'Were rs parents born in this country': 'immigrant_par', \n",
    "                             'Was r born in this country': 'immigrant'}, inplace=True)"
   ]
  },
  {
   "cell_type": "markdown",
   "metadata": {},
   "source": [
    "I will encode the immigration status of parents so that the number of grandparents and parents born outside of the country are counted. Parents born in the U.S will be coded as 0s. Because this data will likely not be used for modeling, I will keep not applicable values as they are. "
   ]
  },
  {
   "cell_type": "code",
   "execution_count": null,
   "metadata": {},
   "outputs": [],
   "source": [
    "background.loc[(background['raised_relig']=='Not applicable')|\n",
    "               (background['raised_relig']=='No answer')|\n",
    "               (background['raised_relig']==\"Don't know\"), 'raised_relig']= 'Other'\n",
    "background.loc[(background['immigrant_gpar']== 'All in u.s'), 'immigrant_gpar']= 0\n",
    "background.loc[(background['immigrant_par']=='Both in u.s')|\n",
    "               (background['immigrant_par']=='Mother; fa. dk')|\n",
    "               (background['immigrant_par']=='Father; mo.dk'), 'immigrant_par']= 0\n",
    "background.loc[(background['immigrant_par']=='Neither in u.s')|\n",
    "               (background['immigrant_par']=='Not mother;fa.dk')|\n",
    "               (background['immigrant_par']=='Not father;mo.dk'), 'immigrant_par']= 2\n",
    "background.loc[(background['immigrant_par']=='Mother only')|\n",
    "               (background['immigrant_par']=='Father only'), 'immigrant_par']= 1\n",
    "background.loc[(background['immigrant']=='Yes'), 'immigrant']= 'no'\n",
    "background.loc[(background['immigrant']=='No'), 'immigrant']= 'yes'\n",
    "background.loc[(background['immigrant']=='Not applicable')|\n",
    "               (background['immigrant']=='No answer')|\n",
    "               (background['immigrant']==\"Don't know\"), 'immigrant']= 'n/a'"
   ]
  },
  {
   "cell_type": "markdown",
   "metadata": {},
   "source": [
    "The 'Rs living standard compared to parents' is messy and highly incomplete, so I will drop it for this analysis. In addition, after consideration, parental education levels are more appropriately placed in the education table so they will also be dropped from this table.  "
   ]
  },
  {
   "cell_type": "code",
   "execution_count": null,
   "metadata": {},
   "outputs": [],
   "source": [
    "background.drop(['Rs living standard compared to parents', \n",
    "                 'Fathers highest degree', 'Mothers highest degree'], axis= 1, inplace= True)"
   ]
  },
  {
   "cell_type": "code",
   "execution_count": null,
   "metadata": {},
   "outputs": [],
   "source": [
    "background = weight(background)"
   ]
  },
  {
   "cell_type": "markdown",
   "metadata": {},
   "source": [
    "## Systems"
   ]
  },
  {
   "cell_type": "code",
   "execution_count": null,
   "metadata": {},
   "outputs": [],
   "source": [
    "systems = unzip('Systems')\n",
    "systems.columns"
   ]
  },
  {
   "cell_type": "code",
   "execution_count": null,
   "metadata": {},
   "outputs": [],
   "source": [
    "for col in systems.columns:\n",
    "    print(systems[col].value_counts())\n",
    "    print('\\n')"
   ]
  },
  {
   "cell_type": "code",
   "execution_count": null,
   "metadata": {},
   "outputs": [],
   "source": [
    "systems.drop(['Confidence in medicine'], axis = 1, inplace = True)"
   ]
  },
  {
   "cell_type": "code",
   "execution_count": null,
   "metadata": {},
   "outputs": [],
   "source": [
    "systems = weight(systems)"
   ]
  },
  {
   "cell_type": "code",
   "execution_count": null,
   "metadata": {},
   "outputs": [],
   "source": []
  },
  {
   "cell_type": "markdown",
   "metadata": {},
   "source": [
    "# Text Data\n",
    "### Political Platforms"
   ]
  },
  {
   "cell_type": "code",
   "execution_count": null,
   "metadata": {},
   "outputs": [],
   "source": [
    "years = ['1972', '1976', '1980', '1984', '1988', '1992', '1996', \n",
    "         '2000', '2008', '2012', '2016']\n",
    "platforms = scrape_platforms(years)\n",
    "platforms.head()"
   ]
  },
  {
   "cell_type": "markdown",
   "metadata": {},
   "source": [
    "### State of the Union Addresses"
   ]
  },
  {
   "cell_type": "code",
   "execution_count": null,
   "metadata": {
    "scrolled": true
   },
   "outputs": [],
   "source": [
    "speeches = scrape_SotU()"
   ]
  },
  {
   "cell_type": "markdown",
   "metadata": {},
   "source": [
    "### Debates"
   ]
  },
  {
   "cell_type": "code",
   "execution_count": null,
   "metadata": {},
   "outputs": [],
   "source": [
    "url = 'https://www.presidency.ucsb.edu/documents/presidential-debate-the-university-nevada-las-vegas'\n",
    "response = requests.get(url)\n",
    "soup = BeautifulSoup(response.text, 'lxml')\n",
    "debate = soup.find_all('p')\n",
    "for deb in debate:\n",
    "    print(deb.text)"
   ]
  }
 ],
 "metadata": {
  "kernelspec": {
   "display_name": "learn-env",
   "language": "python",
   "name": "learn-env"
  },
  "language_info": {
   "codemirror_mode": {
    "name": "ipython",
    "version": 3
   },
   "file_extension": ".py",
   "mimetype": "text/x-python",
   "name": "python",
   "nbconvert_exporter": "python",
   "pygments_lexer": "ipython3",
   "version": "3.7.4"
  }
 },
 "nbformat": 4,
 "nbformat_minor": 2
}
