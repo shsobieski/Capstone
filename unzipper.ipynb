{
 "cells": [
  {
   "cell_type": "markdown",
   "metadata": {},
   "source": [
    "# Data Collection and Formatting"
   ]
  },
  {
   "cell_type": "code",
   "execution_count": 37,
   "metadata": {},
   "outputs": [],
   "source": [
    "import pandas as pd\n",
    "import tarfile\n",
    "from bs4 import BeautifulSoup\n",
    "import requests\n",
    "import re\n",
    "import matplotlib.pyplot as plt\n",
    "import seaborn as sns\n",
    "\n",
    "%run -i \"functions/unzip.py\"\n",
    "%run -i \"functions/scrape_platforms.py\"\n",
    "%run -i \"functions/scrape_SotU.py\""
   ]
  },
  {
   "cell_type": "markdown",
   "metadata": {},
   "source": [
    "# Text Data\n",
    "### Political Platforms"
   ]
  },
  {
   "cell_type": "code",
   "execution_count": 2,
   "metadata": {},
   "outputs": [
    {
     "data": {
      "text/html": [
       "<div>\n",
       "<style scoped>\n",
       "    .dataframe tbody tr th:only-of-type {\n",
       "        vertical-align: middle;\n",
       "    }\n",
       "\n",
       "    .dataframe tbody tr th {\n",
       "        vertical-align: top;\n",
       "    }\n",
       "\n",
       "    .dataframe thead th {\n",
       "        text-align: right;\n",
       "    }\n",
       "</style>\n",
       "<table border=\"1\" class=\"dataframe\">\n",
       "  <thead>\n",
       "    <tr style=\"text-align: right;\">\n",
       "      <th></th>\n",
       "      <th>platform</th>\n",
       "      <th>party</th>\n",
       "      <th>year</th>\n",
       "    </tr>\n",
       "  </thead>\n",
       "  <tbody>\n",
       "    <tr>\n",
       "      <td>1972-Rep</td>\n",
       "      <td>\\nPreamble\\nThis year our Republican Party has...</td>\n",
       "      <td>Republican</td>\n",
       "      <td>1972</td>\n",
       "    </tr>\n",
       "    <tr>\n",
       "      <td>1972-Dem</td>\n",
       "      <td>\\nNew Directions: 1972-76\\nSkepticism and cyni...</td>\n",
       "      <td>Democratic</td>\n",
       "      <td>1972</td>\n",
       "    </tr>\n",
       "    <tr>\n",
       "      <td>1976-Rep</td>\n",
       "      <td>\\nAdopted by the Republican National Conventio...</td>\n",
       "      <td>Republican</td>\n",
       "      <td>1976</td>\n",
       "    </tr>\n",
       "    <tr>\n",
       "      <td>1976-Dem</td>\n",
       "      <td>\\nPreamble\\nWe meet to adopt a Democratic plat...</td>\n",
       "      <td>Democratic</td>\n",
       "      <td>1976</td>\n",
       "    </tr>\n",
       "    <tr>\n",
       "      <td>1980-Rep</td>\n",
       "      <td>\\nAdopted by the Republican National Conventio...</td>\n",
       "      <td>Republican</td>\n",
       "      <td>1980</td>\n",
       "    </tr>\n",
       "  </tbody>\n",
       "</table>\n",
       "</div>"
      ],
      "text/plain": [
       "                                                   platform       party  year\n",
       "1972-Rep  \\nPreamble\\nThis year our Republican Party has...  Republican  1972\n",
       "1972-Dem  \\nNew Directions: 1972-76\\nSkepticism and cyni...  Democratic  1972\n",
       "1976-Rep  \\nAdopted by the Republican National Conventio...  Republican  1976\n",
       "1976-Dem  \\nPreamble\\nWe meet to adopt a Democratic plat...  Democratic  1976\n",
       "1980-Rep  \\nAdopted by the Republican National Conventio...  Republican  1980"
      ]
     },
     "execution_count": 2,
     "metadata": {},
     "output_type": "execute_result"
    }
   ],
   "source": [
    "years = ['1972', '1976', '1980', '1984', '1988', '1992', '1996', \n",
    "         '2000', '2008', '2012', '2016']\n",
    "platforms = scrape_platforms(years)\n",
    "platforms.head()"
   ]
  },
  {
   "cell_type": "markdown",
   "metadata": {},
   "source": [
    "### State of the Union Addresses"
   ]
  },
  {
   "cell_type": "code",
   "execution_count": 15,
   "metadata": {
    "scrolled": true
   },
   "outputs": [
    {
     "data": {
      "text/html": [
       "<div>\n",
       "<style scoped>\n",
       "    .dataframe tbody tr th:only-of-type {\n",
       "        vertical-align: middle;\n",
       "    }\n",
       "\n",
       "    .dataframe tbody tr th {\n",
       "        vertical-align: top;\n",
       "    }\n",
       "\n",
       "    .dataframe thead th {\n",
       "        text-align: right;\n",
       "    }\n",
       "</style>\n",
       "<table border=\"1\" class=\"dataframe\">\n",
       "  <thead>\n",
       "    <tr style=\"text-align: right;\">\n",
       "      <th></th>\n",
       "      <th>president</th>\n",
       "      <th>year</th>\n",
       "      <th>party</th>\n",
       "      <th>speech</th>\n",
       "    </tr>\n",
       "  </thead>\n",
       "  <tbody>\n",
       "    <tr>\n",
       "      <td>Richard Nixon-1972</td>\n",
       "      <td>Richard Nixon</td>\n",
       "      <td>1972</td>\n",
       "      <td>Republican</td>\n",
       "      <td>\\nMr. Speaker, Mr. President, my colleagues in...</td>\n",
       "    </tr>\n",
       "    <tr>\n",
       "      <td>Richard Nixon-1974</td>\n",
       "      <td>Richard Nixon</td>\n",
       "      <td>1974</td>\n",
       "      <td>Republican</td>\n",
       "      <td>\\nMr. Speaker, Mr. President, my colleagues in...</td>\n",
       "    </tr>\n",
       "    <tr>\n",
       "      <td>Gerald R. Ford-1975</td>\n",
       "      <td>Gerald R. Ford</td>\n",
       "      <td>1975</td>\n",
       "      <td>Republican</td>\n",
       "      <td>\\nMr. Speaker, Mr. Vice President, Members of ...</td>\n",
       "    </tr>\n",
       "    <tr>\n",
       "      <td>Gerald R. Ford-1976</td>\n",
       "      <td>Gerald R. Ford</td>\n",
       "      <td>1976</td>\n",
       "      <td>Republican</td>\n",
       "      <td>\\nMr. Speaker, Mr. Vice President, Members of ...</td>\n",
       "    </tr>\n",
       "    <tr>\n",
       "      <td>Gerald R. Ford-1977</td>\n",
       "      <td>Gerald R. Ford</td>\n",
       "      <td>1977</td>\n",
       "      <td>Republican</td>\n",
       "      <td>\\nMr. Speaker, Mr. Vice President, Members of ...</td>\n",
       "    </tr>\n",
       "    <tr>\n",
       "      <td>Jimmy Carter-1978</td>\n",
       "      <td>Jimmy Carter</td>\n",
       "      <td>1978</td>\n",
       "      <td>Democratic</td>\n",
       "      <td>\\nMr. President, Mr. Speaker, Members of the 9...</td>\n",
       "    </tr>\n",
       "    <tr>\n",
       "      <td>Jimmy Carter-1979</td>\n",
       "      <td>Jimmy Carter</td>\n",
       "      <td>1979</td>\n",
       "      <td>Democratic</td>\n",
       "      <td>\\nMr. President, Mr. Speaker, Members of the 9...</td>\n",
       "    </tr>\n",
       "    <tr>\n",
       "      <td>Jimmy Carter-1980</td>\n",
       "      <td>Jimmy Carter</td>\n",
       "      <td>1980</td>\n",
       "      <td>Democratic</td>\n",
       "      <td>\\nMr. President, Mr. Speaker, Members of the 9...</td>\n",
       "    </tr>\n",
       "    <tr>\n",
       "      <td>Ronald Reagan-1982</td>\n",
       "      <td>Ronald Reagan</td>\n",
       "      <td>1982</td>\n",
       "      <td>Republican</td>\n",
       "      <td>\\nMr. Speaker, Mr. President, distinguished Me...</td>\n",
       "    </tr>\n",
       "    <tr>\n",
       "      <td>Ronald Reagan-1983</td>\n",
       "      <td>Ronald Reagan</td>\n",
       "      <td>1983</td>\n",
       "      <td>Republican</td>\n",
       "      <td>\\nMr. Speaker, Mr. President, distinguished Me...</td>\n",
       "    </tr>\n",
       "    <tr>\n",
       "      <td>Ronald Reagan-1984</td>\n",
       "      <td>Ronald Reagan</td>\n",
       "      <td>1984</td>\n",
       "      <td>Republican</td>\n",
       "      <td>\\nMr. Speaker, Mr. President, distinguished Me...</td>\n",
       "    </tr>\n",
       "    <tr>\n",
       "      <td>Ronald Reagan-1985</td>\n",
       "      <td>Ronald Reagan</td>\n",
       "      <td>1985</td>\n",
       "      <td>Republican</td>\n",
       "      <td>\\nMr. Speaker, Mr. President, distinguished Me...</td>\n",
       "    </tr>\n",
       "    <tr>\n",
       "      <td>Ronald Reagan-1986</td>\n",
       "      <td>Ronald Reagan</td>\n",
       "      <td>1986</td>\n",
       "      <td>Republican</td>\n",
       "      <td>\\nMr. Speaker, Mr. President, distinguished Me...</td>\n",
       "    </tr>\n",
       "    <tr>\n",
       "      <td>Ronald Reagan-1987</td>\n",
       "      <td>Ronald Reagan</td>\n",
       "      <td>1987</td>\n",
       "      <td>Republican</td>\n",
       "      <td>\\nMr. Speaker, Mr. President, distinguished Me...</td>\n",
       "    </tr>\n",
       "    <tr>\n",
       "      <td>Ronald Reagan-1988</td>\n",
       "      <td>Ronald Reagan</td>\n",
       "      <td>1988</td>\n",
       "      <td>Republican</td>\n",
       "      <td>\\nMr. Speaker, Mr. President, and distinguishe...</td>\n",
       "    </tr>\n",
       "    <tr>\n",
       "      <td>George Bush-1990</td>\n",
       "      <td>George Bush</td>\n",
       "      <td>1990</td>\n",
       "      <td>Republican</td>\n",
       "      <td>\\nMr. President, Mr. Speaker, Members of the U...</td>\n",
       "    </tr>\n",
       "    <tr>\n",
       "      <td>George Bush-1991</td>\n",
       "      <td>George Bush</td>\n",
       "      <td>1991</td>\n",
       "      <td>Republican</td>\n",
       "      <td>\\nMr. President and Mr. Speaker and Members of...</td>\n",
       "    </tr>\n",
       "    <tr>\n",
       "      <td>George Bush-1992</td>\n",
       "      <td>George Bush</td>\n",
       "      <td>1992</td>\n",
       "      <td>Republican</td>\n",
       "      <td>\\nMr. Speaker and Mr. President, distinguished...</td>\n",
       "    </tr>\n",
       "    <tr>\n",
       "      <td>William J. Clinton-1994</td>\n",
       "      <td>William J. Clinton</td>\n",
       "      <td>1994</td>\n",
       "      <td>Democratic</td>\n",
       "      <td>\\nThank you very much. Mr. Speaker, Mr. Presid...</td>\n",
       "    </tr>\n",
       "    <tr>\n",
       "      <td>William J. Clinton-1995</td>\n",
       "      <td>William J. Clinton</td>\n",
       "      <td>1995</td>\n",
       "      <td>Democratic</td>\n",
       "      <td>\\nMr. President, Mr. Speaker, Members of the 1...</td>\n",
       "    </tr>\n",
       "    <tr>\n",
       "      <td>William J. Clinton-1996</td>\n",
       "      <td>William J. Clinton</td>\n",
       "      <td>1996</td>\n",
       "      <td>Democratic</td>\n",
       "      <td>\\nThank you very much. Mr. Speaker, Mr. Vice P...</td>\n",
       "    </tr>\n",
       "    <tr>\n",
       "      <td>William J. Clinton-1997</td>\n",
       "      <td>William J. Clinton</td>\n",
       "      <td>1997</td>\n",
       "      <td>Democratic</td>\n",
       "      <td>\\nMr. Speaker, Mr. Vice President, Members of ...</td>\n",
       "    </tr>\n",
       "    <tr>\n",
       "      <td>William J. Clinton-1998</td>\n",
       "      <td>William J. Clinton</td>\n",
       "      <td>1998</td>\n",
       "      <td>Democratic</td>\n",
       "      <td>\\nThe President. Mr. Speaker, Mr. Vice Preside...</td>\n",
       "    </tr>\n",
       "    <tr>\n",
       "      <td>William J. Clinton-1999</td>\n",
       "      <td>William J. Clinton</td>\n",
       "      <td>1999</td>\n",
       "      <td>Democratic</td>\n",
       "      <td>\\nMr. Speaker, Mr. Vice President, Members of ...</td>\n",
       "    </tr>\n",
       "    <tr>\n",
       "      <td>William J. Clinton-2000</td>\n",
       "      <td>William J. Clinton</td>\n",
       "      <td>2000</td>\n",
       "      <td>Democratic</td>\n",
       "      <td>\\nMr. Speaker, Mr. Vice President, Members of ...</td>\n",
       "    </tr>\n",
       "    <tr>\n",
       "      <td>George W. Bush-2002</td>\n",
       "      <td>George W. Bush</td>\n",
       "      <td>2002</td>\n",
       "      <td>Republican</td>\n",
       "      <td>\\nThank you very much. Mr. Speaker, Vice Presi...</td>\n",
       "    </tr>\n",
       "    <tr>\n",
       "      <td>George W. Bush-2003</td>\n",
       "      <td>George W. Bush</td>\n",
       "      <td>2003</td>\n",
       "      <td>Republican</td>\n",
       "      <td>\\nMr. Speaker, Vice President Cheney, Members ...</td>\n",
       "    </tr>\n",
       "    <tr>\n",
       "      <td>George W. Bush-2004</td>\n",
       "      <td>George W. Bush</td>\n",
       "      <td>2004</td>\n",
       "      <td>Republican</td>\n",
       "      <td>\\nMr. Speaker, Vice President Cheney, Members ...</td>\n",
       "    </tr>\n",
       "    <tr>\n",
       "      <td>George W. Bush-2005</td>\n",
       "      <td>George W. Bush</td>\n",
       "      <td>2005</td>\n",
       "      <td>Republican</td>\n",
       "      <td>\\nMr. Speaker, Vice President Cheney, Members ...</td>\n",
       "    </tr>\n",
       "    <tr>\n",
       "      <td>George W. Bush-2006</td>\n",
       "      <td>George W. Bush</td>\n",
       "      <td>2006</td>\n",
       "      <td>Republican</td>\n",
       "      <td>\\nThank you all. Mr. Speaker, Vice President C...</td>\n",
       "    </tr>\n",
       "    <tr>\n",
       "      <td>George W. Bush-2007</td>\n",
       "      <td>George W. Bush</td>\n",
       "      <td>2007</td>\n",
       "      <td>Republican</td>\n",
       "      <td>\\nThank you very much. And tonight I have the ...</td>\n",
       "    </tr>\n",
       "    <tr>\n",
       "      <td>George W. Bush-2008</td>\n",
       "      <td>George W. Bush</td>\n",
       "      <td>2008</td>\n",
       "      <td>Republican</td>\n",
       "      <td>\\nThank you all. Madam Speaker, Vice President...</td>\n",
       "    </tr>\n",
       "    <tr>\n",
       "      <td>Barack Obama-2010</td>\n",
       "      <td>Barack Obama</td>\n",
       "      <td>2010</td>\n",
       "      <td>Democratic</td>\n",
       "      <td>\\nMadam Speaker, Vice President Biden, Members...</td>\n",
       "    </tr>\n",
       "    <tr>\n",
       "      <td>Barack Obama-2011</td>\n",
       "      <td>Barack Obama</td>\n",
       "      <td>2011</td>\n",
       "      <td>Democratic</td>\n",
       "      <td>\\nMr. Speaker, Mr. Vice President, Members of ...</td>\n",
       "    </tr>\n",
       "    <tr>\n",
       "      <td>Barack Obama-2012</td>\n",
       "      <td>Barack Obama</td>\n",
       "      <td>2012</td>\n",
       "      <td>Democratic</td>\n",
       "      <td>\\nMr. Speaker, Mr. Vice President, Members of ...</td>\n",
       "    </tr>\n",
       "    <tr>\n",
       "      <td>Barack Obama-2013</td>\n",
       "      <td>Barack Obama</td>\n",
       "      <td>2013</td>\n",
       "      <td>Democratic</td>\n",
       "      <td>\\nPlease, everybody, have a seat. Mr. Speaker,...</td>\n",
       "    </tr>\n",
       "    <tr>\n",
       "      <td>Barack Obama-2014</td>\n",
       "      <td>Barack Obama</td>\n",
       "      <td>2014</td>\n",
       "      <td>Democratic</td>\n",
       "      <td>\\nThe President. Mr. Speaker, Mr. Vice Preside...</td>\n",
       "    </tr>\n",
       "    <tr>\n",
       "      <td>Barack Obama-2015</td>\n",
       "      <td>Barack Obama</td>\n",
       "      <td>2015</td>\n",
       "      <td>Democratic</td>\n",
       "      <td>\\nThe President. Mr. Speaker, Mr. Vice Preside...</td>\n",
       "    </tr>\n",
       "    <tr>\n",
       "      <td>Barack Obama-2016</td>\n",
       "      <td>Barack Obama</td>\n",
       "      <td>2016</td>\n",
       "      <td>Democratic</td>\n",
       "      <td>\\nThank you. Mr. Speaker, Mr. Vice President, ...</td>\n",
       "    </tr>\n",
       "    <tr>\n",
       "      <td>Donald J. Trump-2018</td>\n",
       "      <td>Donald J. Trump</td>\n",
       "      <td>2018</td>\n",
       "      <td>Republican</td>\n",
       "      <td>\\nThe President. Mr. Speaker, Mr. Vice Preside...</td>\n",
       "    </tr>\n",
       "    <tr>\n",
       "      <td>Donald J. Trump-2019</td>\n",
       "      <td>Donald J. Trump</td>\n",
       "      <td>2019</td>\n",
       "      <td>Republican</td>\n",
       "      <td>\\nMadam Speaker, Mr. Vice President, Members o...</td>\n",
       "    </tr>\n",
       "    <tr>\n",
       "      <td>Donald J. Trump-2020</td>\n",
       "      <td>Donald J. Trump</td>\n",
       "      <td>2020</td>\n",
       "      <td>Republican</td>\n",
       "      <td>\\nThe President. Thank you very much. Thank yo...</td>\n",
       "    </tr>\n",
       "  </tbody>\n",
       "</table>\n",
       "</div>"
      ],
      "text/plain": [
       "                                  president  year       party  \\\n",
       "Richard Nixon-1972            Richard Nixon  1972  Republican   \n",
       "Richard Nixon-1974            Richard Nixon  1974  Republican   \n",
       "Gerald R. Ford-1975          Gerald R. Ford  1975  Republican   \n",
       "Gerald R. Ford-1976          Gerald R. Ford  1976  Republican   \n",
       "Gerald R. Ford-1977          Gerald R. Ford  1977  Republican   \n",
       "Jimmy Carter-1978              Jimmy Carter  1978  Democratic   \n",
       "Jimmy Carter-1979              Jimmy Carter  1979  Democratic   \n",
       "Jimmy Carter-1980              Jimmy Carter  1980  Democratic   \n",
       "Ronald Reagan-1982            Ronald Reagan  1982  Republican   \n",
       "Ronald Reagan-1983            Ronald Reagan  1983  Republican   \n",
       "Ronald Reagan-1984            Ronald Reagan  1984  Republican   \n",
       "Ronald Reagan-1985            Ronald Reagan  1985  Republican   \n",
       "Ronald Reagan-1986            Ronald Reagan  1986  Republican   \n",
       "Ronald Reagan-1987            Ronald Reagan  1987  Republican   \n",
       "Ronald Reagan-1988            Ronald Reagan  1988  Republican   \n",
       "George Bush-1990                George Bush  1990  Republican   \n",
       "George Bush-1991                George Bush  1991  Republican   \n",
       "George Bush-1992                George Bush  1992  Republican   \n",
       "William J. Clinton-1994  William J. Clinton  1994  Democratic   \n",
       "William J. Clinton-1995  William J. Clinton  1995  Democratic   \n",
       "William J. Clinton-1996  William J. Clinton  1996  Democratic   \n",
       "William J. Clinton-1997  William J. Clinton  1997  Democratic   \n",
       "William J. Clinton-1998  William J. Clinton  1998  Democratic   \n",
       "William J. Clinton-1999  William J. Clinton  1999  Democratic   \n",
       "William J. Clinton-2000  William J. Clinton  2000  Democratic   \n",
       "George W. Bush-2002          George W. Bush  2002  Republican   \n",
       "George W. Bush-2003          George W. Bush  2003  Republican   \n",
       "George W. Bush-2004          George W. Bush  2004  Republican   \n",
       "George W. Bush-2005          George W. Bush  2005  Republican   \n",
       "George W. Bush-2006          George W. Bush  2006  Republican   \n",
       "George W. Bush-2007          George W. Bush  2007  Republican   \n",
       "George W. Bush-2008          George W. Bush  2008  Republican   \n",
       "Barack Obama-2010              Barack Obama  2010  Democratic   \n",
       "Barack Obama-2011              Barack Obama  2011  Democratic   \n",
       "Barack Obama-2012              Barack Obama  2012  Democratic   \n",
       "Barack Obama-2013              Barack Obama  2013  Democratic   \n",
       "Barack Obama-2014              Barack Obama  2014  Democratic   \n",
       "Barack Obama-2015              Barack Obama  2015  Democratic   \n",
       "Barack Obama-2016              Barack Obama  2016  Democratic   \n",
       "Donald J. Trump-2018        Donald J. Trump  2018  Republican   \n",
       "Donald J. Trump-2019        Donald J. Trump  2019  Republican   \n",
       "Donald J. Trump-2020        Donald J. Trump  2020  Republican   \n",
       "\n",
       "                                                                    speech  \n",
       "Richard Nixon-1972       \\nMr. Speaker, Mr. President, my colleagues in...  \n",
       "Richard Nixon-1974       \\nMr. Speaker, Mr. President, my colleagues in...  \n",
       "Gerald R. Ford-1975      \\nMr. Speaker, Mr. Vice President, Members of ...  \n",
       "Gerald R. Ford-1976      \\nMr. Speaker, Mr. Vice President, Members of ...  \n",
       "Gerald R. Ford-1977      \\nMr. Speaker, Mr. Vice President, Members of ...  \n",
       "Jimmy Carter-1978        \\nMr. President, Mr. Speaker, Members of the 9...  \n",
       "Jimmy Carter-1979        \\nMr. President, Mr. Speaker, Members of the 9...  \n",
       "Jimmy Carter-1980        \\nMr. President, Mr. Speaker, Members of the 9...  \n",
       "Ronald Reagan-1982       \\nMr. Speaker, Mr. President, distinguished Me...  \n",
       "Ronald Reagan-1983       \\nMr. Speaker, Mr. President, distinguished Me...  \n",
       "Ronald Reagan-1984       \\nMr. Speaker, Mr. President, distinguished Me...  \n",
       "Ronald Reagan-1985       \\nMr. Speaker, Mr. President, distinguished Me...  \n",
       "Ronald Reagan-1986       \\nMr. Speaker, Mr. President, distinguished Me...  \n",
       "Ronald Reagan-1987       \\nMr. Speaker, Mr. President, distinguished Me...  \n",
       "Ronald Reagan-1988       \\nMr. Speaker, Mr. President, and distinguishe...  \n",
       "George Bush-1990         \\nMr. President, Mr. Speaker, Members of the U...  \n",
       "George Bush-1991         \\nMr. President and Mr. Speaker and Members of...  \n",
       "George Bush-1992         \\nMr. Speaker and Mr. President, distinguished...  \n",
       "William J. Clinton-1994  \\nThank you very much. Mr. Speaker, Mr. Presid...  \n",
       "William J. Clinton-1995  \\nMr. President, Mr. Speaker, Members of the 1...  \n",
       "William J. Clinton-1996  \\nThank you very much. Mr. Speaker, Mr. Vice P...  \n",
       "William J. Clinton-1997  \\nMr. Speaker, Mr. Vice President, Members of ...  \n",
       "William J. Clinton-1998  \\nThe President. Mr. Speaker, Mr. Vice Preside...  \n",
       "William J. Clinton-1999  \\nMr. Speaker, Mr. Vice President, Members of ...  \n",
       "William J. Clinton-2000  \\nMr. Speaker, Mr. Vice President, Members of ...  \n",
       "George W. Bush-2002      \\nThank you very much. Mr. Speaker, Vice Presi...  \n",
       "George W. Bush-2003      \\nMr. Speaker, Vice President Cheney, Members ...  \n",
       "George W. Bush-2004      \\nMr. Speaker, Vice President Cheney, Members ...  \n",
       "George W. Bush-2005      \\nMr. Speaker, Vice President Cheney, Members ...  \n",
       "George W. Bush-2006      \\nThank you all. Mr. Speaker, Vice President C...  \n",
       "George W. Bush-2007      \\nThank you very much. And tonight I have the ...  \n",
       "George W. Bush-2008      \\nThank you all. Madam Speaker, Vice President...  \n",
       "Barack Obama-2010        \\nMadam Speaker, Vice President Biden, Members...  \n",
       "Barack Obama-2011        \\nMr. Speaker, Mr. Vice President, Members of ...  \n",
       "Barack Obama-2012        \\nMr. Speaker, Mr. Vice President, Members of ...  \n",
       "Barack Obama-2013        \\nPlease, everybody, have a seat. Mr. Speaker,...  \n",
       "Barack Obama-2014        \\nThe President. Mr. Speaker, Mr. Vice Preside...  \n",
       "Barack Obama-2015        \\nThe President. Mr. Speaker, Mr. Vice Preside...  \n",
       "Barack Obama-2016        \\nThank you. Mr. Speaker, Mr. Vice President, ...  \n",
       "Donald J. Trump-2018     \\nThe President. Mr. Speaker, Mr. Vice Preside...  \n",
       "Donald J. Trump-2019     \\nMadam Speaker, Mr. Vice President, Members o...  \n",
       "Donald J. Trump-2020     \\nThe President. Thank you very much. Thank yo...  "
      ]
     },
     "execution_count": 15,
     "metadata": {},
     "output_type": "execute_result"
    }
   ],
   "source": [
    "scrape_SotU()"
   ]
  },
  {
   "cell_type": "markdown",
   "metadata": {},
   "source": [
    "### Debates"
   ]
  },
  {
   "cell_type": "code",
   "execution_count": null,
   "metadata": {},
   "outputs": [],
   "source": []
  },
  {
   "cell_type": "markdown",
   "metadata": {},
   "source": [
    "# Survey Data\n",
    "### Convert Data to Dataframes\n",
    "###### Weights\n",
    "Based on the sample weights provided by the General Social Survey, it appears that some samples were significantly over and underrepresented. In order to account for this weights will be applied to this analysis. "
   ]
  },
  {
   "cell_type": "code",
   "execution_count": 45,
   "metadata": {},
   "outputs": [],
   "source": [
    "weights = unzip('Weights')"
   ]
  },
  {
   "cell_type": "code",
   "execution_count": 46,
   "metadata": {},
   "outputs": [
    {
     "data": {
      "text/html": [
       "<div>\n",
       "<style scoped>\n",
       "    .dataframe tbody tr th:only-of-type {\n",
       "        vertical-align: middle;\n",
       "    }\n",
       "\n",
       "    .dataframe tbody tr th {\n",
       "        vertical-align: top;\n",
       "    }\n",
       "\n",
       "    .dataframe thead th {\n",
       "        text-align: right;\n",
       "    }\n",
       "</style>\n",
       "<table border=\"1\" class=\"dataframe\">\n",
       "  <thead>\n",
       "    <tr style=\"text-align: right;\">\n",
       "      <th></th>\n",
       "      <th>year</th>\n",
       "      <th>id</th>\n",
       "      <th>Weight variable</th>\n",
       "    </tr>\n",
       "  </thead>\n",
       "  <tbody>\n",
       "    <tr>\n",
       "      <td>0</td>\n",
       "      <td>1972</td>\n",
       "      <td>0</td>\n",
       "      <td>0.4446</td>\n",
       "    </tr>\n",
       "    <tr>\n",
       "      <td>1</td>\n",
       "      <td>1972</td>\n",
       "      <td>1</td>\n",
       "      <td>0.8893</td>\n",
       "    </tr>\n",
       "    <tr>\n",
       "      <td>2</td>\n",
       "      <td>1972</td>\n",
       "      <td>2</td>\n",
       "      <td>0.8893</td>\n",
       "    </tr>\n",
       "    <tr>\n",
       "      <td>3</td>\n",
       "      <td>1972</td>\n",
       "      <td>3</td>\n",
       "      <td>0.8893</td>\n",
       "    </tr>\n",
       "    <tr>\n",
       "      <td>4</td>\n",
       "      <td>1972</td>\n",
       "      <td>4</td>\n",
       "      <td>0.8893</td>\n",
       "    </tr>\n",
       "  </tbody>\n",
       "</table>\n",
       "</div>"
      ],
      "text/plain": [
       "   year  id  Weight variable\n",
       "0  1972   0           0.4446\n",
       "1  1972   1           0.8893\n",
       "2  1972   2           0.8893\n",
       "3  1972   3           0.8893\n",
       "4  1972   4           0.8893"
      ]
     },
     "execution_count": 46,
     "metadata": {},
     "output_type": "execute_result"
    }
   ],
   "source": [
    "weights.head()"
   ]
  },
  {
   "cell_type": "code",
   "execution_count": 48,
   "metadata": {
    "scrolled": false
   },
   "outputs": [
    {
     "data": {
      "text/plain": [
       "count    64814.000000\n",
       "mean         1.000015\n",
       "std          0.468172\n",
       "min          0.391825\n",
       "25%          0.550100\n",
       "50%          0.970900\n",
       "75%          1.098500\n",
       "max          8.739876\n",
       "Name: Weight variable, dtype: float64"
      ]
     },
     "execution_count": 48,
     "metadata": {},
     "output_type": "execute_result"
    }
   ],
   "source": [
    "weights['Weight variable'].describe()"
   ]
  },
  {
   "cell_type": "code",
   "execution_count": 54,
   "metadata": {},
   "outputs": [
    {
     "data": {
      "text/plain": [
       "47.0"
      ]
     },
     "execution_count": 54,
     "metadata": {},
     "output_type": "execute_result"
    }
   ],
   "source": [
    "round(.468172 * 100, 0)"
   ]
  },
  {
   "cell_type": "code",
   "execution_count": 57,
   "metadata": {},
   "outputs": [
    {
     "data": {
      "text/plain": [
       "0.4446"
      ]
     },
     "execution_count": 57,
     "metadata": {},
     "output_type": "execute_result"
    }
   ],
   "source": [
    "weights['Weight variable'].iloc[0]"
   ]
  },
  {
   "cell_type": "markdown",
   "metadata": {},
   "source": [
    "###### Abortion Opinions"
   ]
  },
  {
   "cell_type": "code",
   "execution_count": 38,
   "metadata": {},
   "outputs": [],
   "source": [
    "abortion = unzip('Abortion')"
   ]
  },
  {
   "cell_type": "code",
   "execution_count": 15,
   "metadata": {},
   "outputs": [
    {
     "data": {
      "image/png": "[encoded data removed]",
      "text/plain": [
       "<Figure size 432x288 with 1 Axes>"
      ]
     },
     "metadata": {
      "needs_background": "light"
     },
     "output_type": "display_data"
    }
   ],
   "source": [
    "sns.countplot(x= 'Strong chance of serious defect', data= abortion);"
   ]
  },
  {
   "cell_type": "code",
   "execution_count": 59,
   "metadata": {},
   "outputs": [
    {
     "data": {
      "text/plain": [
       "year                                                              3944\n",
       "id                                                                   0\n",
       "Strong chance of serious defect                                 YesYes\n",
       "Married--wants no more children                                 YesYes\n",
       "Woman's health seriously endangered                             YesYes\n",
       "Low income--cant afford more children                           YesYes\n",
       "Pregnant as result of rape                                      YesYes\n",
       "Not married                                                     YesYes\n",
       "Abortion if woman wants for any reason    Not applicableNot applicable\n",
       "Name: 0, dtype: object"
      ]
     },
     "execution_count": 59,
     "metadata": {},
     "output_type": "execute_result"
    }
   ],
   "source": [
    "new_df = abortion.iloc[0]*2\n",
    "new_df"
   ]
  },
  {
   "cell_type": "markdown",
   "metadata": {},
   "source": [
    "###### Family/ SES Background"
   ]
  },
  {
   "cell_type": "code",
   "execution_count": 16,
   "metadata": {},
   "outputs": [],
   "source": [
    "background = unzip('Background')"
   ]
  },
  {
   "cell_type": "code",
   "execution_count": 17,
   "metadata": {},
   "outputs": [
    {
     "data": {
      "text/plain": [
       "Index(['Gss year for this respondent                       ',\n",
       "       'Father's occupational prestige score using threshold method (2010)',\n",
       "       'Rs living standard compared to parents', 'Religion in which raised',\n",
       "       'How many grandparents born outside u.s.',\n",
       "       'Were rs parents born in this country', 'Was r born in this country',\n",
       "       'Mothers highest degree', 'Fathers highest degree',\n",
       "       'Respondent id number',\n",
       "       'Mother's occupational prestige score using threshold method (2010)'],\n",
       "      dtype='object')"
      ]
     },
     "execution_count": 17,
     "metadata": {},
     "output_type": "execute_result"
    }
   ],
   "source": [
    "background.columns"
   ]
  },
  {
   "cell_type": "code",
   "execution_count": 18,
   "metadata": {},
   "outputs": [],
   "source": [
    "background.rename(columns = {'Gss year for this respondent                       ' : 'year'}, inplace = True)"
   ]
  },
  {
   "cell_type": "code",
   "execution_count": 20,
   "metadata": {},
   "outputs": [
    {
     "data": {
      "image/png": "[encoded data removed]",
      "text/plain": [
       "<Figure size 432x288 with 1 Axes>"
      ]
     },
     "metadata": {
      "needs_background": "light"
     },
     "output_type": "display_data"
    }
   ],
   "source": [
    "sns.countplot(y= 'Religion in which raised', data= background);"
   ]
  },
  {
   "cell_type": "markdown",
   "metadata": {},
   "source": [
    "##### Criminal Justice Attitudes"
   ]
  },
  {
   "cell_type": "code",
   "execution_count": 21,
   "metadata": {},
   "outputs": [],
   "source": [
    "crim_justice = unzip('Criminal_Justice')"
   ]
  },
  {
   "cell_type": "code",
   "execution_count": 23,
   "metadata": {},
   "outputs": [],
   "source": [
    "crim_justice.rename(columns = {'Gss year for this respondent                       ' : 'year'}, inplace = True)"
   ]
  },
  {
   "cell_type": "code",
   "execution_count": 26,
   "metadata": {
    "scrolled": true
   },
   "outputs": [
    {
     "data": {
      "text/plain": [
       "Index(['year', 'Citizen attacking policeman with fists',\n",
       "       'Citizen attempting to escape custody',\n",
       "       'Citizen questioned as murder suspect',\n",
       "       'Citizen said vulgar or obscene things',\n",
       "       'Ever approve of police striking citizen',\n",
       "       'Should marijuana be made legal', 'Courts dealing with criminals',\n",
       "       'Favor or oppose death penalty for murder', 'Respondent id number',\n",
       "       'Afraid to walk at night in neighborhood'],\n",
       "      dtype='object')"
      ]
     },
     "execution_count": 26,
     "metadata": {},
     "output_type": "execute_result"
    }
   ],
   "source": [
    "crim_justice.columns"
   ]
  },
  {
   "cell_type": "code",
   "execution_count": 27,
   "metadata": {},
   "outputs": [
    {
     "data": {
      "image/png": "[encoded data removed]",
      "text/plain": [
       "<Figure size 432x288 with 1 Axes>"
      ]
     },
     "metadata": {
      "needs_background": "light"
     },
     "output_type": "display_data"
    }
   ],
   "source": [
    "sns.countplot(y= 'Favor or oppose death penalty for murder', data= crim_justice);"
   ]
  },
  {
   "cell_type": "markdown",
   "metadata": {},
   "source": [
    "##### Education"
   ]
  },
  {
   "cell_type": "code",
   "execution_count": null,
   "metadata": {},
   "outputs": [],
   "source": [
    "education = unzip('Education')"
   ]
  },
  {
   "cell_type": "markdown",
   "metadata": {},
   "source": [
    "##### Employment"
   ]
  },
  {
   "cell_type": "code",
   "execution_count": null,
   "metadata": {},
   "outputs": [],
   "source": [
    "employment = unzip('Employment')"
   ]
  },
  {
   "cell_type": "markdown",
   "metadata": {},
   "source": [
    "###### Family Values"
   ]
  },
  {
   "cell_type": "code",
   "execution_count": null,
   "metadata": {},
   "outputs": [],
   "source": [
    "fam_vals = unzip('Family_Values')"
   ]
  },
  {
   "cell_type": "markdown",
   "metadata": {},
   "source": [
    "###### Gender and Sexuality"
   ]
  },
  {
   "cell_type": "code",
   "execution_count": null,
   "metadata": {},
   "outputs": [],
   "source": [
    "gender = unzip('Gender_and_Sexuality')"
   ]
  },
  {
   "cell_type": "markdown",
   "metadata": {},
   "source": [
    "###### Identity"
   ]
  },
  {
   "cell_type": "code",
   "execution_count": null,
   "metadata": {},
   "outputs": [],
   "source": [
    "idend = unzip('Identity')"
   ]
  },
  {
   "cell_type": "markdown",
   "metadata": {},
   "source": [
    "###### Interests"
   ]
  },
  {
   "cell_type": "code",
   "execution_count": null,
   "metadata": {},
   "outputs": [],
   "source": [
    "interests = unzip('Interests')"
   ]
  },
  {
   "cell_type": "markdown",
   "metadata": {},
   "source": [
    "###### Lifestyle"
   ]
  },
  {
   "cell_type": "code",
   "execution_count": null,
   "metadata": {
    "scrolled": true
   },
   "outputs": [],
   "source": [
    "lifestyle = unzip('Lifestyle')"
   ]
  },
  {
   "cell_type": "markdown",
   "metadata": {},
   "source": [
    "###### Opinions"
   ]
  },
  {
   "cell_type": "code",
   "execution_count": null,
   "metadata": {},
   "outputs": [],
   "source": [
    "opinions = unzip('Opinions')"
   ]
  },
  {
   "cell_type": "markdown",
   "metadata": {},
   "source": [
    "###### Race Relations"
   ]
  },
  {
   "cell_type": "code",
   "execution_count": null,
   "metadata": {},
   "outputs": [],
   "source": [
    "race = unzip('Race_Relations')"
   ]
  },
  {
   "cell_type": "markdown",
   "metadata": {},
   "source": [
    "###### Religion"
   ]
  },
  {
   "cell_type": "code",
   "execution_count": null,
   "metadata": {},
   "outputs": [],
   "source": [
    "religion = unzip('Religion')"
   ]
  },
  {
   "cell_type": "markdown",
   "metadata": {},
   "source": [
    "###### Socioeconomic Status"
   ]
  },
  {
   "cell_type": "code",
   "execution_count": null,
   "metadata": {},
   "outputs": [],
   "source": [
    "ses = unzip('SES')"
   ]
  },
  {
   "cell_type": "markdown",
   "metadata": {},
   "source": [
    "###### Systems"
   ]
  },
  {
   "cell_type": "code",
   "execution_count": null,
   "metadata": {},
   "outputs": [],
   "source": [
    "systems = unzip('Systems')"
   ]
  },
  {
   "cell_type": "markdown",
   "metadata": {},
   "source": [
    "###### Voter Identity"
   ]
  },
  {
   "cell_type": "code",
   "execution_count": null,
   "metadata": {},
   "outputs": [],
   "source": [
    "vote_id = unzip('Voter_Identity')"
   ]
  }
 ],
 "metadata": {
  "kernelspec": {
   "display_name": "learn-env",
   "language": "python",
   "name": "learn-env"
  },
  "language_info": {
   "codemirror_mode": {
    "name": "ipython",
    "version": 3
   },
   "file_extension": ".py",
   "mimetype": "text/x-python",
   "name": "python",
   "nbconvert_exporter": "python",
   "pygments_lexer": "ipython3",
   "version": "3.7.4"
  }
 },
 "nbformat": 4,
 "nbformat_minor": 2
}
